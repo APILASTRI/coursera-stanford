{
 "cells": [
  {
   "cell_type": "markdown",
   "metadata": {
    "toc": true
   },
   "source": [
    "<h1>Table of Contents<span class=\"tocSkip\"></span></h1>\n",
    "<div class=\"toc\"><ul class=\"toc-item\"><li><span><a href=\"#Regressão-Linear\" data-toc-modified-id=\"Regressão-Linear-1\"><span class=\"toc-item-num\">1&nbsp;&nbsp;</span>Regressão Linear</a></span><ul class=\"toc-item\"><li><span><a href=\"#Lendo-os-Dados\" data-toc-modified-id=\"Lendo-os-Dados-1.1\"><span class=\"toc-item-num\">1.1&nbsp;&nbsp;</span>Lendo os Dados</a></span></li><li><span><a href=\"#Função-Custo-Regularizada\" data-toc-modified-id=\"Função-Custo-Regularizada-1.2\"><span class=\"toc-item-num\">1.2&nbsp;&nbsp;</span>Função Custo Regularizada</a></span><ul class=\"toc-item\"><li><span><a href=\"#Hypothesis\" data-toc-modified-id=\"Hypothesis-1.2.1\"><span class=\"toc-item-num\">1.2.1&nbsp;&nbsp;</span>Hypothesis</a></span></li><li><span><a href=\"#Custo-e-Regularização\" data-toc-modified-id=\"Custo-e-Regularização-1.2.2\"><span class=\"toc-item-num\">1.2.2&nbsp;&nbsp;</span>Custo e Regularização</a></span></li><li><span><a href=\"#Gradiente-e-Regularização\" data-toc-modified-id=\"Gradiente-e-Regularização-1.2.3\"><span class=\"toc-item-num\">1.2.3&nbsp;&nbsp;</span>Gradiente e Regularização</a></span></li><li><span><a href=\"#Treinando-Modelo\" data-toc-modified-id=\"Treinando-Modelo-1.2.4\"><span class=\"toc-item-num\">1.2.4&nbsp;&nbsp;</span>Treinando Modelo</a></span></li><li><span><a href=\"#Visualizando-Treinamento\" data-toc-modified-id=\"Visualizando-Treinamento-1.2.5\"><span class=\"toc-item-num\">1.2.5&nbsp;&nbsp;</span>Visualizando Treinamento</a></span></li></ul></li><li><span><a href=\"#Curvas-de-Aprendizado\" data-toc-modified-id=\"Curvas-de-Aprendizado-1.3\"><span class=\"toc-item-num\">1.3&nbsp;&nbsp;</span>Curvas de Aprendizado</a></span></li></ul></li><li><span><a href=\"#Regressão-Polinomial\" data-toc-modified-id=\"Regressão-Polinomial-2\"><span class=\"toc-item-num\">2&nbsp;&nbsp;</span>Regressão Polinomial</a></span><ul class=\"toc-item\"><li><span><a href=\"#Normalização\" data-toc-modified-id=\"Normalização-2.1\"><span class=\"toc-item-num\">2.1&nbsp;&nbsp;</span>Normalização</a></span></li><li><span><a href=\"#Treinando-Modelo\" data-toc-modified-id=\"Treinando-Modelo-2.2\"><span class=\"toc-item-num\">2.2&nbsp;&nbsp;</span>Treinando Modelo</a></span></li><li><span><a href=\"#Curva-de-Aprendizado\" data-toc-modified-id=\"Curva-de-Aprendizado-2.3\"><span class=\"toc-item-num\">2.3&nbsp;&nbsp;</span>Curva de Aprendizado</a></span></li><li><span><a href=\"#Alterando-Lambda\" data-toc-modified-id=\"Alterando-Lambda-2.4\"><span class=\"toc-item-num\">2.4&nbsp;&nbsp;</span>Alterando Lambda</a></span><ul class=\"toc-item\"><li><span><a href=\"#Lambda-=-1\" data-toc-modified-id=\"Lambda-=-1-2.4.1\"><span class=\"toc-item-num\">2.4.1&nbsp;&nbsp;</span>Lambda = 1</a></span></li><li><span><a href=\"#Lambda-=-100\" data-toc-modified-id=\"Lambda-=-100-2.4.2\"><span class=\"toc-item-num\">2.4.2&nbsp;&nbsp;</span>Lambda = 100</a></span></li><li><span><a href=\"#Melhor-Lambda\" data-toc-modified-id=\"Melhor-Lambda-2.4.3\"><span class=\"toc-item-num\">2.4.3&nbsp;&nbsp;</span>Melhor Lambda</a></span></li></ul></li></ul></li></ul></div>"
   ]
  },
  {
   "cell_type": "markdown",
   "metadata": {},
   "source": [
    "Este notebook tem por objetivo a implementação de um modelo de ```Regressão Linear Regularizada``` para estudar os efeitos das propriedades ```viés-variância``` nos algoritmos. Na primeira metade do exercício, será proposto o desenvolvimento de um modelo para predição da vazão de água através de uma torneira de acordo com o nível de água presente em um reservatório. Já na segunda metade, vamos avaliar alguns diagnósticos e examinar os efeitos de viés-variância no modelo."
   ]
  },
  {
   "cell_type": "markdown",
   "metadata": {},
   "source": [
    "## Regressão Linear"
   ]
  },
  {
   "cell_type": "markdown",
   "metadata": {},
   "source": [
    "### Lendo os Dados"
   ]
  },
  {
   "cell_type": "code",
   "execution_count": 1,
   "metadata": {
    "ExecuteTime": {
     "end_time": "2019-04-21T05:09:20.669747Z",
     "start_time": "2019-04-21T05:09:19.984973Z"
    }
   },
   "outputs": [],
   "source": [
    "# Importando bibliotecas\n",
    "import numpy as np\n",
    "import scipy.io as sio"
   ]
  },
  {
   "cell_type": "markdown",
   "metadata": {},
   "source": [
    "A partir da leitura do arquivo contendo os dados, é esperado receber:\n",
    "\n",
    "    - Um set de treino (X, y);\n",
    "    - Um set de validação cruzada (X_val, y_val);\n",
    "    - Um set treino (X_test, y_test)."
   ]
  },
  {
   "cell_type": "code",
   "execution_count": 2,
   "metadata": {
    "ExecuteTime": {
     "end_time": "2019-04-21T05:09:20.677724Z",
     "start_time": "2019-04-21T05:09:20.672737Z"
    }
   },
   "outputs": [],
   "source": [
    "# Lendo os dados\n",
    "data = sio.loadmat('ex5data1.mat')"
   ]
  },
  {
   "cell_type": "code",
   "execution_count": 3,
   "metadata": {
    "ExecuteTime": {
     "end_time": "2019-04-21T05:09:20.944027Z",
     "start_time": "2019-04-21T05:09:20.680718Z"
    }
   },
   "outputs": [
    {
     "data": {
      "text/plain": [
       "{'X': array([[-15.93675813],\n",
       "        [-29.15297922],\n",
       "        [ 36.18954863],\n",
       "        [ 37.49218733],\n",
       "        [-48.05882945],\n",
       "        [ -8.94145794],\n",
       "        [ 15.30779289],\n",
       "        [-34.70626581],\n",
       "        [  1.38915437],\n",
       "        [-44.38375985],\n",
       "        [  7.01350208],\n",
       "        [ 22.76274892]]), 'Xtest': array([[-33.31800399],\n",
       "        [-37.91216403],\n",
       "        [-51.20693795],\n",
       "        [ -6.13259585],\n",
       "        [ 21.26118327],\n",
       "        [-40.31952949],\n",
       "        [-14.54153167],\n",
       "        [ 32.55976024],\n",
       "        [ 13.39343255],\n",
       "        [ 44.20988595],\n",
       "        [ -1.14267768],\n",
       "        [-12.76686065],\n",
       "        [ 34.05450539],\n",
       "        [ 39.22350028],\n",
       "        [  1.97449674],\n",
       "        [ 29.6217551 ],\n",
       "        [-23.66962971],\n",
       "        [ -9.01180139],\n",
       "        [-55.94057091],\n",
       "        [-35.70859752],\n",
       "        [  9.51020533]]), 'Xval': array([[-16.74653578],\n",
       "        [-14.57747075],\n",
       "        [ 34.51575866],\n",
       "        [-47.01007574],\n",
       "        [ 36.97511905],\n",
       "        [-40.68611002],\n",
       "        [ -4.47201098],\n",
       "        [ 26.53363489],\n",
       "        [-42.7976831 ],\n",
       "        [ 25.37409938],\n",
       "        [-31.10955398],\n",
       "        [ 27.31176864],\n",
       "        [ -3.26386201],\n",
       "        [ -1.81827649],\n",
       "        [-40.7196624 ],\n",
       "        [-50.01324365],\n",
       "        [-17.41177155],\n",
       "        [  3.5881937 ],\n",
       "        [  7.08548026],\n",
       "        [ 46.28236902],\n",
       "        [ 14.61228909]]), '__globals__': [], '__header__': b'MATLAB 5.0 MAT-file, Platform: GLNXA64, Created on: Fri Nov  4 22:27:26 2011', '__version__': '1.0', 'y': array([[ 2.13431051],\n",
       "        [ 1.17325668],\n",
       "        [34.35910918],\n",
       "        [36.83795516],\n",
       "        [ 2.80896507],\n",
       "        [ 2.12107248],\n",
       "        [14.71026831],\n",
       "        [ 2.61418439],\n",
       "        [ 3.74017167],\n",
       "        [ 3.73169131],\n",
       "        [ 7.62765885],\n",
       "        [22.7524283 ]]), 'ytest': array([[ 3.31688953],\n",
       "        [ 5.39768952],\n",
       "        [ 0.13042984],\n",
       "        [ 6.1925982 ],\n",
       "        [17.08848712],\n",
       "        [ 0.79950805],\n",
       "        [ 2.82479183],\n",
       "        [28.62123334],\n",
       "        [17.04639081],\n",
       "        [55.38437334],\n",
       "        [ 4.07936733],\n",
       "        [ 8.27039793],\n",
       "        [31.32355102],\n",
       "        [39.15906103],\n",
       "        [ 8.08727989],\n",
       "        [24.11134389],\n",
       "        [ 2.4773548 ],\n",
       "        [ 6.56606472],\n",
       "        [ 6.0380888 ],\n",
       "        [ 4.69273956],\n",
       "        [10.83004606]]), 'yval': array([[ 4.17020201e+00],\n",
       "        [ 4.06726280e+00],\n",
       "        [ 3.18730676e+01],\n",
       "        [ 1.06236562e+01],\n",
       "        [ 3.18360213e+01],\n",
       "        [ 4.95936972e+00],\n",
       "        [ 4.45159880e+00],\n",
       "        [ 2.22763185e+01],\n",
       "        [-4.38738274e-05],\n",
       "        [ 2.05038016e+01],\n",
       "        [ 3.85834476e+00],\n",
       "        [ 1.93650529e+01],\n",
       "        [ 4.88376281e+00],\n",
       "        [ 1.10971588e+01],\n",
       "        [ 7.46170827e+00],\n",
       "        [ 1.47693464e+00],\n",
       "        [ 2.71916388e+00],\n",
       "        [ 1.09269007e+01],\n",
       "        [ 8.34871235e+00],\n",
       "        [ 5.27819280e+01],\n",
       "        [ 1.33573396e+01]])}"
      ]
     },
     "execution_count": 3,
     "metadata": {},
     "output_type": "execute_result"
    }
   ],
   "source": [
    "# Visualizando o conteúdo importado\n",
    "data"
   ]
  },
  {
   "cell_type": "code",
   "execution_count": 4,
   "metadata": {
    "ExecuteTime": {
     "end_time": "2019-04-21T05:09:21.464740Z",
     "start_time": "2019-04-21T05:09:20.949015Z"
    }
   },
   "outputs": [
    {
     "name": "stdout",
     "output_type": "stream",
     "text": [
      "Chaves do arquivo importado: ['X', 'y', 'Xtest', 'ytest', 'Xval', 'yval']\n"
     ]
    }
   ],
   "source": [
    "# Visualizando de forma mais dinâmica\n",
    "print(f'Chaves do arquivo importado: {list(data.keys())[3:]}')"
   ]
  },
  {
   "cell_type": "code",
   "execution_count": 5,
   "metadata": {
    "ExecuteTime": {
     "end_time": "2019-04-21T05:09:21.781043Z",
     "start_time": "2019-04-21T05:09:21.466734Z"
    }
   },
   "outputs": [],
   "source": [
    "# Separando conjuntos de Treino\n",
    "X_train = data['X']\n",
    "y_train = data['y']\n",
    "\n",
    "# Separando conjuntos de Validação\n",
    "X_val = data['Xval']\n",
    "y_val = data['yval']\n",
    "\n",
    "# Separando conjuntos de Teste\n",
    "X_test = data['Xtest']\n",
    "y_test = data['ytest']"
   ]
  },
  {
   "cell_type": "code",
   "execution_count": 6,
   "metadata": {
    "ExecuteTime": {
     "end_time": "2019-04-21T05:09:22.167043Z",
     "start_time": "2019-04-21T05:09:21.783038Z"
    }
   },
   "outputs": [
    {
     "name": "stdout",
     "output_type": "stream",
     "text": [
      "Dimensões de X_train: (12, 1)\n",
      "Dimensões de X_val: (21, 1)\n",
      "Dimensões de X_test: (21, 1)\n"
     ]
    }
   ],
   "source": [
    "# Verificando dimensões\n",
    "print(f'Dimensões de X_train: {X_train.shape}')\n",
    "print(f'Dimensões de X_val: {X_val.shape}')\n",
    "print(f'Dimensões de X_test: {X_test.shape}')"
   ]
  },
  {
   "cell_type": "markdown",
   "metadata": {},
   "source": [
    "Temos em mãos um conjunto de dados com pouquíssimos dados. Acredito que não será possível aplicar com eficiência treinamentos a partir do Scikit-Learn. Será apenas um desenvolvimento didático."
   ]
  },
  {
   "cell_type": "markdown",
   "metadata": {},
   "source": [
    "Um outro ponto a ser destacado é que, de certa forma, não faz nenhum sentido o conjunto de treino possuir praticamente a metade da quantidade de dados dos conjuntos de validação e de teste. Isto não é, nem de longe, aplicável em problemas reais."
   ]
  },
  {
   "cell_type": "code",
   "execution_count": 7,
   "metadata": {
    "ExecuteTime": {
     "end_time": "2019-04-21T05:09:22.515113Z",
     "start_time": "2019-04-21T05:09:22.169038Z"
    }
   },
   "outputs": [
    {
     "data": {
      "text/plain": [
       "array([[-15.93675813],\n",
       "       [-29.15297922],\n",
       "       [ 36.18954863],\n",
       "       [ 37.49218733],\n",
       "       [-48.05882945]])"
      ]
     },
     "execution_count": 7,
     "metadata": {},
     "output_type": "execute_result"
    }
   ],
   "source": [
    "# Vamos verificar as primeiras linhas dos dados de treino\n",
    "X_train[:5]"
   ]
  },
  {
   "cell_type": "markdown",
   "metadata": {},
   "source": [
    "Lembrando que:\n",
    "    - Eixo x (feature): mudança no nível de água no reservatório\n",
    "    - Eixo y (label): fluxo de água saindo da torneira"
   ]
  },
  {
   "cell_type": "code",
   "execution_count": 8,
   "metadata": {
    "ExecuteTime": {
     "end_time": "2019-04-21T05:09:22.807387Z",
     "start_time": "2019-04-21T05:09:22.518105Z"
    }
   },
   "outputs": [
    {
     "data": {
      "text/plain": [
       "array([[ 2.13431051],\n",
       "       [ 1.17325668],\n",
       "       [34.35910918],\n",
       "       [36.83795516],\n",
       "       [ 2.80896507]])"
      ]
     },
     "execution_count": 8,
     "metadata": {},
     "output_type": "execute_result"
    }
   ],
   "source": [
    "# Vejamos o label\n",
    "y_train[:5]"
   ]
  },
  {
   "cell_type": "code",
   "execution_count": 9,
   "metadata": {
    "ExecuteTime": {
     "end_time": "2019-04-21T05:09:23.038791Z",
     "start_time": "2019-04-21T05:09:22.813379Z"
    }
   },
   "outputs": [
    {
     "name": "stdout",
     "output_type": "stream",
     "text": [
      "Dimensões de y_train antes do reshape: (12, 1)\n",
      "Dimensões de y_train após o reshape: (12,)\n",
      "\n",
      "Primeiras linhas de y_train: \n",
      "[ 2.13431051  1.17325668 34.35910918 36.83795516  2.80896507]\n"
     ]
    }
   ],
   "source": [
    "# Vamos alterar o label y para critérios de otimização futuros\n",
    "print(f'Dimensões de y_train antes do reshape: {y_train.shape}')\n",
    "y_train = y_train.reshape(-1)\n",
    "\n",
    "print(f'Dimensões de y_train após o reshape: {y_train.shape}')\n",
    "print(f'\\nPrimeiras linhas de y_train: \\n{y_train[:5]}')"
   ]
  },
  {
   "cell_type": "code",
   "execution_count": 10,
   "metadata": {
    "ExecuteTime": {
     "end_time": "2019-04-21T05:09:24.448153Z",
     "start_time": "2019-04-21T05:09:23.040785Z"
    }
   },
   "outputs": [
    {
     "data": {
      "image/png": "[encoded data removed]",
      "text/plain": [
       "<matplotlib.figure.Figure at 0x289ac4729b0>"
      ]
     },
     "metadata": {
      "needs_background": "light"
     },
     "output_type": "display_data"
    }
   ],
   "source": [
    "# Vamos plotar os dados\n",
    "import matplotlib.pyplot as plt\n",
    "%matplotlib inline\n",
    "\n",
    "# Criando figure e eixo\n",
    "fig, ax = plt.subplots(figsize=(8, 5))\n",
    "ax.scatter(X_train, y_train, marker='x', color='r')\n",
    "ax.set_title('Vazão de Água por Nível do Reservatório', size=15)\n",
    "ax.set_xlabel('Mudança no nível nível de água', size=10, labelpad=10)\n",
    "ax.set_ylabel('Fluxo de saída de água', size=10, labelpad=10)\n",
    "plt.show()"
   ]
  },
  {
   "cell_type": "markdown",
   "metadata": {},
   "source": [
    "Através da plotagem, é possível perceber que o comportamento do modelo não pode ser linear, visto que os dados possem um comportamento exponencial (ou de graus polinomiais maiores) a medida que o mudança no nível de água do reservatório aumenta.\n",
    "\n",
    "Para dar início ao desenvolvimento, vamos calcular a função custo considerando um modelo linear simples!"
   ]
  },
  {
   "cell_type": "markdown",
   "metadata": {},
   "source": [
    "### Função Custo Regularizada"
   ]
  },
  {
   "cell_type": "markdown",
   "metadata": {},
   "source": [
    "Em um primeiro momento, vamos considerar um modelo totalmente linear (grau polinomial = 1) apenas para definir uma função custo para os testes posteriores."
   ]
  },
  {
   "cell_type": "markdown",
   "metadata": {},
   "source": [
    "Fórmula:\n",
    "\n",
    "\\begin{equation*}\n",
    "    J(\\theta)=\\frac{1}{2m}\\left(\\sum_{i=1}^{m}\\left(h_\\theta(x^{(i)})-y^{(i)}\\right)^2\\right)+\n",
    "              \\frac{\\lambda}{2m}\\left(\\sum_{j=1}^{n}\\theta_j^2\\right)\n",
    "\\end{equation*}"
   ]
  },
  {
   "cell_type": "markdown",
   "metadata": {},
   "source": [
    "Considerações:\n",
    "    - lambda ALTO = tendência a UNDERFITTING\n",
    "    - lambda BAIXO = tendência a OVERFITTING"
   ]
  },
  {
   "cell_type": "markdown",
   "metadata": {},
   "source": [
    "#### Hypothesis"
   ]
  },
  {
   "cell_type": "code",
   "execution_count": 11,
   "metadata": {
    "ExecuteTime": {
     "end_time": "2019-04-21T05:09:24.457130Z",
     "start_time": "2019-04-21T05:09:24.450151Z"
    }
   },
   "outputs": [
    {
     "data": {
      "text/plain": [
       "array([[1],\n",
       "       [1]])"
      ]
     },
     "execution_count": 11,
     "metadata": {},
     "output_type": "execute_result"
    }
   ],
   "source": [
    "# Inicializando parâmetros de teste\n",
    "theta_inicial = np.array((1, 1)).reshape(2, 1)\n",
    "theta_inicial"
   ]
  },
  {
   "cell_type": "markdown",
   "metadata": {},
   "source": [
    "Para iniciarmos os cálculos da função custo, precisamos, primeiro calcular a função ```hypothesis``` para Regressão Linear"
   ]
  },
  {
   "cell_type": "markdown",
   "metadata": {},
   "source": [
    "\\begin{equation*}\n",
    "    h_\\theta(x)=\\theta^Tx=\\theta_0+\\theta_1x_1+\\theta_2x_2+...+\\theta_nx_n\n",
    "\\end{equation*}"
   ]
  },
  {
   "cell_type": "code",
   "execution_count": 12,
   "metadata": {
    "ExecuteTime": {
     "end_time": "2019-04-21T05:09:24.758845Z",
     "start_time": "2019-04-21T05:09:24.459124Z"
    }
   },
   "outputs": [
    {
     "name": "stdout",
     "output_type": "stream",
     "text": [
      "Dimensões de X_train: (12, 2)\n",
      "\n",
      "Primeiras linhas de X_train: \n",
      "[[  1.         -15.93675813]\n",
      " [  1.         -29.15297922]\n",
      " [  1.          36.18954863]\n",
      " [  1.          37.49218733]\n",
      " [  1.         -48.05882945]]\n"
     ]
    }
   ],
   "source": [
    "# Adicionando termo de bias em X\n",
    "m = X_train.shape[0]\n",
    "X_train = np.c_[(np.ones((m, 1)), X_train)]\n",
    "\n",
    "# Verificnado\n",
    "print(f'Dimensões de X_train: {X_train.shape}')\n",
    "print(f'\\nPrimeiras linhas de X_train: \\n{X_train[:5]}')"
   ]
  },
  {
   "cell_type": "code",
   "execution_count": 13,
   "metadata": {
    "ExecuteTime": {
     "end_time": "2019-04-21T05:09:24.972798Z",
     "start_time": "2019-04-21T05:09:24.760841Z"
    }
   },
   "outputs": [
    {
     "data": {
      "text/plain": [
       "(2, 1)"
      ]
     },
     "execution_count": 13,
     "metadata": {},
     "output_type": "execute_result"
    }
   ],
   "source": [
    "# Verificando dimensão dos parâmetros\n",
    "theta_inicial.shape"
   ]
  },
  {
   "cell_type": "markdown",
   "metadata": {},
   "source": [
    "Uma multiplicação de matriz com dimensões 12x2 por 2x1 resultará em h = 12x1, que é o que queremos!"
   ]
  },
  {
   "cell_type": "code",
   "execution_count": 14,
   "metadata": {
    "ExecuteTime": {
     "end_time": "2019-04-21T05:09:25.250583Z",
     "start_time": "2019-04-21T05:09:24.979780Z"
    }
   },
   "outputs": [
    {
     "name": "stdout",
     "output_type": "stream",
     "text": [
      "Primeiras linhas de h: \n",
      "[[-14.93675813]\n",
      " [-28.15297922]\n",
      " [ 37.18954863]\n",
      " [ 38.49218733]\n",
      " [-47.05882945]]\n"
     ]
    }
   ],
   "source": [
    "# Calculando hypothesis\n",
    "h = X_train.dot(theta_inicial)\n",
    "\n",
    "# Verificando primeiras linhas\n",
    "print(f'Primeiras linhas de h: \\n{h[:5]}')"
   ]
  },
  {
   "cell_type": "code",
   "execution_count": 15,
   "metadata": {
    "ExecuteTime": {
     "end_time": "2019-04-21T05:09:25.525875Z",
     "start_time": "2019-04-21T05:09:25.252577Z"
    }
   },
   "outputs": [
    {
     "name": "stdout",
     "output_type": "stream",
     "text": [
      "Primeiras linhas de y_train: \n",
      "[ 2.13431051  1.17325668 34.35910918 36.83795516  2.80896507]\n"
     ]
    }
   ],
   "source": [
    "# Comparando com y (target)\n",
    "print(f'Primeiras linhas de y_train: \\n{y_train[:5]}')"
   ]
  },
  {
   "cell_type": "code",
   "execution_count": 16,
   "metadata": {
    "ExecuteTime": {
     "end_time": "2019-04-21T05:09:25.786689Z",
     "start_time": "2019-04-21T05:09:25.528867Z"
    }
   },
   "outputs": [],
   "source": [
    "# Definindo função para cálculo da função hypothesis\n",
    "def hypothesis(theta, X):\n",
    "    \"\"\" Função responsável por cálcular a função hypothesis do modelo (predições)\n",
    "    Input:\n",
    "        theta: parâmetros do modelo;\n",
    "        X: features do modelo;\n",
    "    Output:\n",
    "        h: função hypothesis (predições)\"\"\"\n",
    "    \n",
    "    h = X.dot(theta)\n",
    "    return h   "
   ]
  },
  {
   "cell_type": "code",
   "execution_count": 17,
   "metadata": {
    "ExecuteTime": {
     "end_time": "2019-04-21T05:09:26.068955Z",
     "start_time": "2019-04-21T05:09:25.788685Z"
    }
   },
   "outputs": [
    {
     "data": {
      "text/plain": [
       "array([[-14.93675813],\n",
       "       [-28.15297922],\n",
       "       [ 37.18954863],\n",
       "       [ 38.49218733],\n",
       "       [-47.05882945]])"
      ]
     },
     "execution_count": 17,
     "metadata": {},
     "output_type": "execute_result"
    }
   ],
   "source": [
    "# Testando mais uma vez\n",
    "h = hypothesis(theta_inicial, X_train)\n",
    "h[:5]"
   ]
  },
  {
   "cell_type": "markdown",
   "metadata": {},
   "source": [
    "Obviamente temos uma grande diferença. Primeiro, porque os parâmetros foram iniciados em [1; 1] e, fatalmente esta está longe da combinação perfeita de parâmetros. Segundo, porque já vimos que o modelo linear (grau = 1) não se encaixa nos dados. Matematicamente, podemos provar esse \"erro\" através da função custo (esperamos obter um valor elevado pro custo)."
   ]
  },
  {
   "cell_type": "markdown",
   "metadata": {},
   "source": [
    "#### Custo e Regularização"
   ]
  },
  {
   "cell_type": "markdown",
   "metadata": {},
   "source": [
    "\\begin{equation*}\n",
    "    J(\\theta)=\\frac{1}{2m}\\left(\\sum_{i=1}^{m}\\left(h_\\theta(x^{(i)})-y^{(i)}\\right)^2\\right)+\n",
    "              \\frac{\\lambda}{2m}\\left(\\sum_{j=1}^{n}\\theta_j^2\\right)\n",
    "\\end{equation*}"
   ]
  },
  {
   "cell_type": "code",
   "execution_count": 18,
   "metadata": {
    "ExecuteTime": {
     "end_time": "2019-04-21T05:09:26.368662Z",
     "start_time": "2019-04-21T05:09:26.070951Z"
    }
   },
   "outputs": [
    {
     "data": {
      "text/plain": [
       "array([[-17.07106864],\n",
       "       [-29.3262359 ],\n",
       "       [  2.83043945],\n",
       "       [  1.65423217],\n",
       "       [-49.86779453],\n",
       "       [-10.06253041],\n",
       "       [  1.59752458],\n",
       "       [-36.3204502 ],\n",
       "       [ -1.3510173 ],\n",
       "       [-47.11545116],\n",
       "       [  0.38584323],\n",
       "       [  1.01032062]])"
      ]
     },
     "execution_count": 18,
     "metadata": {},
     "output_type": "execute_result"
    }
   ],
   "source": [
    "# Subtração\n",
    "y_reshaped = y_train.reshape(-1, 1)\n",
    "h - y_reshaped"
   ]
  },
  {
   "cell_type": "code",
   "execution_count": 19,
   "metadata": {
    "ExecuteTime": {
     "end_time": "2019-04-21T05:09:26.608022Z",
     "start_time": "2019-04-21T05:09:26.370658Z"
    }
   },
   "outputs": [
    {
     "data": {
      "text/plain": [
       "array([[2.91421385e+02],\n",
       "       [8.60028112e+02],\n",
       "       [8.01138746e+00],\n",
       "       [2.73648407e+00],\n",
       "       [2.48679693e+03],\n",
       "       [1.01254518e+02],\n",
       "       [2.55208479e+00],\n",
       "       [1.31917510e+03],\n",
       "       [1.82524774e+00],\n",
       "       [2.21986574e+03],\n",
       "       [1.48874998e-01],\n",
       "       [1.02074775e+00]])"
      ]
     },
     "execution_count": 19,
     "metadata": {},
     "output_type": "execute_result"
    }
   ],
   "source": [
    "# Elevando ao quadrado\n",
    "(h - y_reshaped) ** 2"
   ]
  },
  {
   "cell_type": "code",
   "execution_count": 20,
   "metadata": {
    "ExecuteTime": {
     "end_time": "2019-04-21T05:09:26.926204Z",
     "start_time": "2019-04-21T05:09:26.612013Z"
    }
   },
   "outputs": [
    {
     "data": {
      "text/plain": [
       "array([7294.83661329])"
      ]
     },
     "execution_count": 20,
     "metadata": {},
     "output_type": "execute_result"
    }
   ],
   "source": [
    "# Somando\n",
    "sum((h - y_reshaped) ** 2)"
   ]
  },
  {
   "cell_type": "code",
   "execution_count": 21,
   "metadata": {
    "ExecuteTime": {
     "end_time": "2019-04-21T05:09:27.189517Z",
     "start_time": "2019-04-21T05:09:26.929188Z"
    }
   },
   "outputs": [
    {
     "data": {
      "text/plain": [
       "array([303.95152555])"
      ]
     },
     "execution_count": 21,
     "metadata": {},
     "output_type": "execute_result"
    }
   ],
   "source": [
    "# Dividindo por 2m\n",
    "sum((h - y_reshaped) ** 2) / (2*m)"
   ]
  },
  {
   "cell_type": "code",
   "execution_count": 22,
   "metadata": {
    "ExecuteTime": {
     "end_time": "2019-04-21T05:09:27.471763Z",
     "start_time": "2019-04-21T05:09:27.191513Z"
    }
   },
   "outputs": [
    {
     "data": {
      "text/plain": [
       "array([[0.08333333]])"
      ]
     },
     "execution_count": 22,
     "metadata": {},
     "output_type": "execute_result"
    }
   ],
   "source": [
    "# Regularização\n",
    "lamda = 1\n",
    "(lamda / (2 * m)) * theta_inicial.T.dot(theta_inicial)"
   ]
  },
  {
   "cell_type": "code",
   "execution_count": 23,
   "metadata": {
    "ExecuteTime": {
     "end_time": "2019-04-21T05:09:27.737088Z",
     "start_time": "2019-04-21T05:09:27.479743Z"
    }
   },
   "outputs": [],
   "source": [
    "# Definindo função custo\n",
    "def linRegCostFunction(theta, X, y, lamda):\n",
    "    \"\"\" Função responsável por calcular a Função Custo de um problema de Regressão Linear\n",
    "    Input:\n",
    "        theta: parâmetros do modelo;\n",
    "        X: features do modelo;\n",
    "        y: labels do modelo;\n",
    "        lamda: fator de regularização\"\"\"\n",
    "    \n",
    "    # Preparando cálculo\n",
    "    theta = theta.reshape(X.shape[1], 1)\n",
    "    m = X.shape[0]\n",
    "    y_reshaped = y.reshape(-1, 1)\n",
    "    \n",
    "    # Calculando J sem regularização\n",
    "    term1 = X.dot(theta) - y_reshaped\n",
    "    unreg = term1.T.dot(term1) / (2 * m)\n",
    "    \n",
    "    # Calculando fator de regularização\n",
    "    reg = (lamda / (2 * m)) * theta[1:].T.dot(theta[1:])\n",
    "    \n",
    "    # Unindo termos\n",
    "    J = (unreg + reg).flatten()[0]\n",
    "    \n",
    "    return J"
   ]
  },
  {
   "cell_type": "code",
   "execution_count": 24,
   "metadata": {
    "ExecuteTime": {
     "end_time": "2019-04-21T05:09:28.289774Z",
     "start_time": "2019-04-21T05:09:27.743073Z"
    }
   },
   "outputs": [
    {
     "name": "stdout",
     "output_type": "stream",
     "text": [
      "Custo da função com lambda = 0: 303.9515255535976\n"
     ]
    }
   ],
   "source": [
    "# Testando sem regularização (resultado esperado = 303.95)\n",
    "J = linRegCostFunction(theta_inicial, X_train, y_train, 0)\n",
    "print(f'Custo da função com lambda = 0: {J}')"
   ]
  },
  {
   "cell_type": "markdown",
   "metadata": {},
   "source": [
    "#### Gradiente e Regularização"
   ]
  },
  {
   "cell_type": "markdown",
   "metadata": {},
   "source": [
    "\\begin{equation*}\n",
    "    \\frac{\\partial J(\\theta)}{\\partial\\theta_j} = \n",
    "        \\begin{cases} \n",
    "            \\left(\\frac{1}{m}\\sum_{i=1}^m(h_\\theta(x^{(i)})-y^{(i)})x_j^{(i)}\\right)\n",
    "                & \\mbox{para } j\\mbox{ = 0} \\\\\n",
    "            \\left(\\frac{1}{m}\\sum_{i=1}^m(h_\\theta(x^{(i)})-y^{(i)})x_j^{(i)}\\right) +\n",
    "            \\frac{\\lambda}{m}\\theta_j &\\mbox{para } j\\mbox{ >= 1}\n",
    "        \\end{cases}\n",
    "\\end{equation*}  "
   ]
  },
  {
   "cell_type": "markdown",
   "metadata": {},
   "source": [
    "Como podemos ver, o termo 0 dos parâmetros theta ```não é regularizado!``` Dessa forma, vamos calcular o gradiente geral sem o fator de regularização e, posteriormente, vamos indexar nosso vetor de gradiente para aplicar o termo de regularização em todos os registros, exceto o primeiro."
   ]
  },
  {
   "cell_type": "code",
   "execution_count": 25,
   "metadata": {
    "ExecuteTime": {
     "end_time": "2019-04-21T05:09:28.675808Z",
     "start_time": "2019-04-21T05:09:28.293762Z"
    }
   },
   "outputs": [
    {
     "data": {
      "text/plain": [
       "array([[-15.30301567],\n",
       "       [598.16741084]])"
      ]
     },
     "execution_count": 25,
     "metadata": {},
     "output_type": "execute_result"
    }
   ],
   "source": [
    "# Testando grad\n",
    "h = hypothesis(theta_inicial, X_train)\n",
    "m = X_train.shape[0]\n",
    "grad = X_train.T.dot((h - y_reshaped)) / m\n",
    "\n",
    "# Verificando\n",
    "grad"
   ]
  },
  {
   "cell_type": "markdown",
   "metadata": {},
   "source": [
    "Bom, pelo menos as dimensões obtidas foram de acordo com o esperado. Temos duas features em nosso modelo (bias e x1) e, por consequência, precisamos de uma parametrização theta de 2 colunas (theta0 e theta1). O gradiente descendente, por sua vez, é uma medida que reflete a magnitude da correção em nossos parâmetros theta e, por tanto, também deve possuir dimensões semelhantes à da matriz theta."
   ]
  },
  {
   "cell_type": "code",
   "execution_count": 26,
   "metadata": {
    "ExecuteTime": {
     "end_time": "2019-04-21T05:09:28.941668Z",
     "start_time": "2019-04-21T05:09:28.678800Z"
    }
   },
   "outputs": [
    {
     "data": {
      "text/plain": [
       "array([[-15.30301567],\n",
       "       [598.16741084]])"
      ]
     },
     "execution_count": 26,
     "metadata": {},
     "output_type": "execute_result"
    }
   ],
   "source": [
    "# Aplicando regularização\n",
    "lamda = 0\n",
    "grad[1:] = grad[1:] + (lamda/m) * theta_inicial[1:]\n",
    "\n",
    "# Verificando\n",
    "grad"
   ]
  },
  {
   "cell_type": "markdown",
   "metadata": {},
   "source": [
    "Claro que não houve alteração pelo fato de termos testado com lamda = 0"
   ]
  },
  {
   "cell_type": "code",
   "execution_count": 27,
   "metadata": {
    "ExecuteTime": {
     "end_time": "2019-04-21T05:09:29.379098Z",
     "start_time": "2019-04-21T05:09:28.944660Z"
    }
   },
   "outputs": [
    {
     "data": {
      "text/plain": [
       "array([[-15.30301567],\n",
       "       [598.25074417]])"
      ]
     },
     "execution_count": 27,
     "metadata": {},
     "output_type": "execute_result"
    }
   ],
   "source": [
    "# Testando para lamda = 1\n",
    "lamda = 1\n",
    "grad[1:] = grad[1:] + (lamda/m) * theta_inicial[1:]\n",
    "\n",
    "# Verificando\n",
    "grad"
   ]
  },
  {
   "cell_type": "markdown",
   "metadata": {},
   "source": [
    "Houve uma mudança de magnitude decimal."
   ]
  },
  {
   "cell_type": "code",
   "execution_count": 28,
   "metadata": {
    "ExecuteTime": {
     "end_time": "2019-04-21T05:09:29.655967Z",
     "start_time": "2019-04-21T05:09:29.381091Z"
    }
   },
   "outputs": [],
   "source": [
    "# Definindo função\n",
    "def gradientDescent(theta, X, y, lamda):\n",
    "    \"\"\" Função responsável pelo cálculo do vetor de gradiente relacionado aos parâmetros theta\n",
    "    Input:\n",
    "        theta: parâmetros do modelo;\n",
    "        X: features do modelo;\n",
    "        y: label do modelo;\n",
    "        lamda: fator de regularização\n",
    "    Output:\n",
    "        grad: vetor de gradiente\"\"\"\n",
    "    \n",
    "    # Preparando cálculo\n",
    "    theta = theta.reshape(X.shape[1], 1)\n",
    "    m = X.shape[0]\n",
    "    y_reshaped = y.reshape(-1, 1)\n",
    "    \n",
    "    # Gradiente sem regularização\n",
    "    term1 = X.dot(theta) - y_reshaped\n",
    "    grad = X.T.dot(term1) / m\n",
    "    \n",
    "    # Aplicando regularização\n",
    "    grad[1:] = grad[1:] + (lamda / m) * theta[1:]\n",
    "    \n",
    "    return grad.flatten()"
   ]
  },
  {
   "cell_type": "code",
   "execution_count": 29,
   "metadata": {
    "ExecuteTime": {
     "end_time": "2019-04-21T05:09:30.038471Z",
     "start_time": "2019-04-21T05:09:29.661950Z"
    }
   },
   "outputs": [
    {
     "name": "stdout",
     "output_type": "stream",
     "text": [
      "Vetor de gradiente: \n",
      "[-15.30301567 598.16741084]\n"
     ]
    }
   ],
   "source": [
    "# Executando\n",
    "grad = gradientDescent(theta_inicial, X_train, y_train, 0)\n",
    "print(f'Vetor de gradiente: \\n{grad}')"
   ]
  },
  {
   "cell_type": "markdown",
   "metadata": {},
   "source": [
    "Os valores obtidos foram de acordo com o esperado."
   ]
  },
  {
   "cell_type": "markdown",
   "metadata": {},
   "source": [
    "#### Treinando Modelo"
   ]
  },
  {
   "cell_type": "markdown",
   "metadata": {},
   "source": [
    "Para realizar o treinamento do modelo, vamos seguir de acordo com o que já foi realizado até o momento, em outros exercício: minimização da função custo através de módulos específicos do scipy (optimize.fmin_cg)."
   ]
  },
  {
   "cell_type": "code",
   "execution_count": 30,
   "metadata": {
    "ExecuteTime": {
     "end_time": "2019-04-21T05:09:30.489791Z",
     "start_time": "2019-04-21T05:09:30.041463Z"
    }
   },
   "outputs": [],
   "source": [
    "# Importando módulos\n",
    "import scipy.optimize"
   ]
  },
  {
   "cell_type": "code",
   "execution_count": 31,
   "metadata": {
    "ExecuteTime": {
     "end_time": "2019-04-21T05:09:30.768047Z",
     "start_time": "2019-04-21T05:09:30.493780Z"
    }
   },
   "outputs": [
    {
     "name": "stdout",
     "output_type": "stream",
     "text": [
      "Help on function fmin_cg in module scipy.optimize.optimize:\n",
      "\n",
      "fmin_cg(f, x0, fprime=None, args=(), gtol=1e-05, norm=inf, epsilon=1.4901161193847656e-08, maxiter=None, full_output=0, disp=1, retall=0, callback=None)\n",
      "    Minimize a function using a nonlinear conjugate gradient algorithm.\n",
      "    \n",
      "    Parameters\n",
      "    ----------\n",
      "    f : callable, ``f(x, *args)``\n",
      "        Objective function to be minimized.  Here `x` must be a 1-D array of\n",
      "        the variables that are to be changed in the search for a minimum, and\n",
      "        `args` are the other (fixed) parameters of `f`.\n",
      "    x0 : ndarray\n",
      "        A user-supplied initial estimate of `xopt`, the optimal value of `x`.\n",
      "        It must be a 1-D array of values.\n",
      "    fprime : callable, ``fprime(x, *args)``, optional\n",
      "        A function that returns the gradient of `f` at `x`. Here `x` and `args`\n",
      "        are as described above for `f`. The returned value must be a 1-D array.\n",
      "        Defaults to None, in which case the gradient is approximated\n",
      "        numerically (see `epsilon`, below).\n",
      "    args : tuple, optional\n",
      "        Parameter values passed to `f` and `fprime`. Must be supplied whenever\n",
      "        additional fixed parameters are needed to completely specify the\n",
      "        functions `f` and `fprime`.\n",
      "    gtol : float, optional\n",
      "        Stop when the norm of the gradient is less than `gtol`.\n",
      "    norm : float, optional\n",
      "        Order to use for the norm of the gradient\n",
      "        (``-np.Inf`` is min, ``np.Inf`` is max).\n",
      "    epsilon : float or ndarray, optional\n",
      "        Step size(s) to use when `fprime` is approximated numerically. Can be a\n",
      "        scalar or a 1-D array.  Defaults to ``sqrt(eps)``, with eps the\n",
      "        floating point machine precision.  Usually ``sqrt(eps)`` is about\n",
      "        1.5e-8.\n",
      "    maxiter : int, optional\n",
      "        Maximum number of iterations to perform. Default is ``200 * len(x0)``.\n",
      "    full_output : bool, optional\n",
      "        If True, return `fopt`, `func_calls`, `grad_calls`, and `warnflag` in\n",
      "        addition to `xopt`.  See the Returns section below for additional\n",
      "        information on optional return values.\n",
      "    disp : bool, optional\n",
      "        If True, return a convergence message, followed by `xopt`.\n",
      "    retall : bool, optional\n",
      "        If True, add to the returned values the results of each iteration.\n",
      "    callback : callable, optional\n",
      "        An optional user-supplied function, called after each iteration.\n",
      "        Called as ``callback(xk)``, where ``xk`` is the current value of `x0`.\n",
      "    \n",
      "    Returns\n",
      "    -------\n",
      "    xopt : ndarray\n",
      "        Parameters which minimize f, i.e. ``f(xopt) == fopt``.\n",
      "    fopt : float, optional\n",
      "        Minimum value found, f(xopt).  Only returned if `full_output` is True.\n",
      "    func_calls : int, optional\n",
      "        The number of function_calls made.  Only returned if `full_output`\n",
      "        is True.\n",
      "    grad_calls : int, optional\n",
      "        The number of gradient calls made. Only returned if `full_output` is\n",
      "        True.\n",
      "    warnflag : int, optional\n",
      "        Integer value with warning status, only returned if `full_output` is\n",
      "        True.\n",
      "    \n",
      "        0 : Success.\n",
      "    \n",
      "        1 : The maximum number of iterations was exceeded.\n",
      "    \n",
      "        2 : Gradient and/or function calls were not changing.  May indicate\n",
      "            that precision was lost, i.e., the routine did not converge.\n",
      "    \n",
      "    allvecs : list of ndarray, optional\n",
      "        List of arrays, containing the results at each iteration.\n",
      "        Only returned if `retall` is True.\n",
      "    \n",
      "    See Also\n",
      "    --------\n",
      "    minimize : common interface to all `scipy.optimize` algorithms for\n",
      "               unconstrained and constrained minimization of multivariate\n",
      "               functions.  It provides an alternative way to call\n",
      "               ``fmin_cg``, by specifying ``method='CG'``.\n",
      "    \n",
      "    Notes\n",
      "    -----\n",
      "    This conjugate gradient algorithm is based on that of Polak and Ribiere\n",
      "    [1]_.\n",
      "    \n",
      "    Conjugate gradient methods tend to work better when:\n",
      "    \n",
      "    1. `f` has a unique global minimizing point, and no local minima or\n",
      "       other stationary points,\n",
      "    2. `f` is, at least locally, reasonably well approximated by a\n",
      "       quadratic function of the variables,\n",
      "    3. `f` is continuous and has a continuous gradient,\n",
      "    4. `fprime` is not too large, e.g., has a norm less than 1000,\n",
      "    5. The initial guess, `x0`, is reasonably close to `f` 's global\n",
      "       minimizing point, `xopt`.\n",
      "    \n",
      "    References\n",
      "    ----------\n",
      "    .. [1] Wright & Nocedal, \"Numerical Optimization\", 1999, pp. 120-122.\n",
      "    \n",
      "    Examples\n",
      "    --------\n",
      "    Example 1: seek the minimum value of the expression\n",
      "    ``a*u**2 + b*u*v + c*v**2 + d*u + e*v + f`` for given values\n",
      "    of the parameters and an initial guess ``(u, v) = (0, 0)``.\n",
      "    \n",
      "    >>> args = (2, 3, 7, 8, 9, 10)  # parameter values\n",
      "    >>> def f(x, *args):\n",
      "    ...     u, v = x\n",
      "    ...     a, b, c, d, e, f = args\n",
      "    ...     return a*u**2 + b*u*v + c*v**2 + d*u + e*v + f\n",
      "    >>> def gradf(x, *args):\n",
      "    ...     u, v = x\n",
      "    ...     a, b, c, d, e, f = args\n",
      "    ...     gu = 2*a*u + b*v + d     # u-component of the gradient\n",
      "    ...     gv = b*u + 2*c*v + e     # v-component of the gradient\n",
      "    ...     return np.asarray((gu, gv))\n",
      "    >>> x0 = np.asarray((0, 0))  # Initial guess.\n",
      "    >>> from scipy import optimize\n",
      "    >>> res1 = optimize.fmin_cg(f, x0, fprime=gradf, args=args)\n",
      "    Optimization terminated successfully.\n",
      "             Current function value: 1.617021\n",
      "             Iterations: 4\n",
      "             Function evaluations: 8\n",
      "             Gradient evaluations: 8\n",
      "    >>> res1\n",
      "    array([-1.80851064, -0.25531915])\n",
      "    \n",
      "    Example 2: solve the same problem using the `minimize` function.\n",
      "    (This `myopts` dictionary shows all of the available options,\n",
      "    although in practice only non-default values would be needed.\n",
      "    The returned value will be a dictionary.)\n",
      "    \n",
      "    >>> opts = {'maxiter' : None,    # default value.\n",
      "    ...         'disp' : True,    # non-default value.\n",
      "    ...         'gtol' : 1e-5,    # default value.\n",
      "    ...         'norm' : np.inf,  # default value.\n",
      "    ...         'eps' : 1.4901161193847656e-08}  # default value.\n",
      "    >>> res2 = optimize.minimize(f, x0, jac=gradf, args=args,\n",
      "    ...                          method='CG', options=opts)\n",
      "    Optimization terminated successfully.\n",
      "            Current function value: 1.617021\n",
      "            Iterations: 4\n",
      "            Function evaluations: 8\n",
      "            Gradient evaluations: 8\n",
      "    >>> res2.x  # minimum found\n",
      "    array([-1.80851064, -0.25531915])\n",
      "\n"
     ]
    }
   ],
   "source": [
    "# Verificando\n",
    "help(scipy.optimize.fmin_cg)"
   ]
  },
  {
   "cell_type": "code",
   "execution_count": 32,
   "metadata": {
    "ExecuteTime": {
     "end_time": "2019-04-21T05:09:31.123626Z",
     "start_time": "2019-04-21T05:09:30.771039Z"
    }
   },
   "outputs": [
    {
     "name": "stdout",
     "output_type": "stream",
     "text": [
      "Optimization terminated successfully.\n",
      "         Current function value: 22.373906\n",
      "         Iterations: 18\n",
      "         Function evaluations: 28\n",
      "         Gradient evaluations: 28\n"
     ]
    }
   ],
   "source": [
    "# Minimizando função custo\n",
    "lamda = 0\n",
    "result = scipy.optimize.fmin_cg(linRegCostFunction, fprime=gradientDescent, \n",
    "                                x0=theta_inicial, args=(X_train, y_train, lamda), \n",
    "                                maxiter=200, disp=True, full_output=True)"
   ]
  },
  {
   "cell_type": "code",
   "execution_count": 33,
   "metadata": {
    "ExecuteTime": {
     "end_time": "2019-04-21T05:09:31.368481Z",
     "start_time": "2019-04-21T05:09:31.128614Z"
    }
   },
   "outputs": [
    {
     "data": {
      "text/plain": [
       "(array([13.08790734,  0.36777925]), 22.37390649511602, 28, 28, 0)"
      ]
     },
     "execution_count": 33,
     "metadata": {},
     "output_type": "execute_result"
    }
   ],
   "source": [
    "# Verificando vetor de resultados\n",
    "result"
   ]
  },
  {
   "cell_type": "code",
   "execution_count": 34,
   "metadata": {
    "ExecuteTime": {
     "end_time": "2019-04-21T05:09:31.598374Z",
     "start_time": "2019-04-21T05:09:31.371473Z"
    }
   },
   "outputs": [
    {
     "name": "stdout",
     "output_type": "stream",
     "text": [
      "Melhores parâmetros para o modelo: [13.08790734  0.36777925]\n",
      "Menor custo para o modelo: 22.374\n"
     ]
    }
   ],
   "source": [
    "# Parâmetros\n",
    "best_theta = result[0]\n",
    "print(f'Melhores parâmetros para o modelo: {best_theta}')\n",
    "\n",
    "# Custo\n",
    "J_min = result[1]\n",
    "print(f'Menor custo para o modelo: {J_min:.3f}')"
   ]
  },
  {
   "cell_type": "markdown",
   "metadata": {},
   "source": [
    "O valor mínimo para o custo foi obtido de acordo com o esperado para este exerício."
   ]
  },
  {
   "cell_type": "code",
   "execution_count": 35,
   "metadata": {
    "ExecuteTime": {
     "end_time": "2019-04-21T05:09:32.106056Z",
     "start_time": "2019-04-21T05:09:31.600370Z"
    }
   },
   "outputs": [],
   "source": [
    "# Definindo função para o treinamento\n",
    "def trainLinReg(theta_inicial, X, y, lamda):\n",
    "    \"\"\" Função responsável por realizar o treinamento do modelo de Regressão Linear através\n",
    "    da minimização da função custo já definida\n",
    "    Input:\n",
    "        theta_inicial: parâmetros de entrada do modelo;\n",
    "        X: features do modelo;\n",
    "        y: label do modelo;\n",
    "        lamda: fator de regularização\n",
    "    Output:\n",
    "        best_theta: melhores parâmetro aprendidos\n",
    "        J_min: menor custo para o modelo\"\"\"\n",
    "    \n",
    "    result = scipy.optimize.fmin_cg(linRegCostFunction, fprime=gradientDescent, \n",
    "                                x0=theta_inicial, args=(X, y, lamda), \n",
    "                                maxiter=1000, disp=True, full_output=True)\n",
    "    best_theta = result[0]\n",
    "    J_min = result[1]\n",
    "    \n",
    "    return best_theta, J_min"
   ]
  },
  {
   "cell_type": "code",
   "execution_count": 36,
   "metadata": {
    "ExecuteTime": {
     "end_time": "2019-04-21T05:09:32.671077Z",
     "start_time": "2019-04-21T05:09:32.111045Z"
    }
   },
   "outputs": [
    {
     "name": "stdout",
     "output_type": "stream",
     "text": [
      "Optimization terminated successfully.\n",
      "         Current function value: 22.373906\n",
      "         Iterations: 18\n",
      "         Function evaluations: 28\n",
      "         Gradient evaluations: 28\n",
      "\n",
      "Melhores parâmetros para o modelo: [13.08790734  0.36777925]\n",
      "Menor custo para o modelo: 22.374\n"
     ]
    }
   ],
   "source": [
    "# Verificando (dados de treino)\n",
    "best_theta, J_min = trainLinReg(theta_inicial, X_train, y_train, 0)\n",
    "print(f'\\nMelhores parâmetros para o modelo: {best_theta}')\n",
    "print(f'Menor custo para o modelo: {J_min:.3f}')"
   ]
  },
  {
   "cell_type": "markdown",
   "metadata": {},
   "source": [
    "#### Visualizando Treinamento"
   ]
  },
  {
   "cell_type": "markdown",
   "metadata": {},
   "source": [
    "Bom, já sabemos que uma reta não irá descrever bem os nossos dados. Mas, apenas para transpor essa afirmação em um caráter gráfico, vamos plotar a melhor reta obtida com a minimização da função custo dentro dos nossos dados já plotados."
   ]
  },
  {
   "cell_type": "code",
   "execution_count": 37,
   "metadata": {
    "ExecuteTime": {
     "end_time": "2019-04-21T05:09:33.491674Z",
     "start_time": "2019-04-21T05:09:32.678059Z"
    }
   },
   "outputs": [
    {
     "data": {
      "image/png": "[encoded data removed]",
      "text/plain": [
       "<matplotlib.figure.Figure at 0x289ac4726a0>"
      ]
     },
     "metadata": {
      "needs_background": "light"
     },
     "output_type": "display_data"
    }
   ],
   "source": [
    "# Criando figure e eixo\n",
    "fig, ax = plt.subplots(figsize=(8, 5))\n",
    "\n",
    "# Configurando plotagem dos dados\n",
    "ax.scatter(X_train[:, 1:], y_train, marker='x', color='r')\n",
    "ax.set_title('Vazão de Água por Nível do Reservatório', size=15)\n",
    "ax.set_xlabel('Mudança no nível nível de água', size=10, labelpad=10)\n",
    "ax.set_ylabel('Fluxo de saída de água', size=10, labelpad=10)\n",
    "\n",
    "# Configurando plotagem da curva aprendida\n",
    "ax.plot(X_train[:, 1:], X_train.dot(best_theta), label='Reta aprendida')\n",
    "\n",
    "plt.legend()\n",
    "plt.show()"
   ]
  },
  {
   "cell_type": "markdown",
   "metadata": {},
   "source": [
    "Conclusão: *o modelo sofre de **bias (viés)** alto!*"
   ]
  },
  {
   "cell_type": "markdown",
   "metadata": {},
   "source": [
    "### Curvas de Aprendizado"
   ]
  },
  {
   "cell_type": "markdown",
   "metadata": {},
   "source": [
    "Um conceito muito importante para a avaliação de modelos é a relação ```viés-variância```. Se por um lado, um modelo com alto ```viés``` tende a sofrer de ```underfitting```, por outro, um modelo com alta ```variância``` está sujeito a ```overfitting```.\n",
    "\n",
    "Para analisar essa relação, é possível plotar curvas de aprendizado para mostrar as consequências do treinamento de acordo com a ```quantidade``` dos dados utilizados."
   ]
  },
  {
   "cell_type": "code",
   "execution_count": 38,
   "metadata": {
    "ExecuteTime": {
     "end_time": "2019-04-21T05:09:33.565983Z",
     "start_time": "2019-04-21T05:09:33.493668Z"
    }
   },
   "outputs": [],
   "source": [
    "# Levantando dados\n",
    "error_train = []\n",
    "error_cv = []\n",
    "lamda = 0\n",
    "m = X_train.shape[0]\n",
    "\n",
    "# Adicionando bias em X_val\n",
    "mval = X_val.shape[0]\n",
    "X_val = np.c_[(np.ones((mval, 1)), X_val)]\n",
    "\n",
    "# Redimensionando y_val e y_train\n",
    "y_val = y_val.reshape(-1, 1)"
   ]
  },
  {
   "cell_type": "code",
   "execution_count": 39,
   "metadata": {
    "ExecuteTime": {
     "end_time": "2019-04-21T05:09:33.969418Z",
     "start_time": "2019-04-21T05:09:33.568975Z"
    }
   },
   "outputs": [
    {
     "name": "stdout",
     "output_type": "stream",
     "text": [
      "Optimization terminated successfully.\n",
      "         Current function value: 0.000000\n",
      "         Iterations: 2\n",
      "         Function evaluations: 4\n",
      "         Gradient evaluations: 4\n",
      "Optimization terminated successfully.\n",
      "         Current function value: 0.000000\n",
      "         Iterations: 3\n",
      "         Function evaluations: 7\n",
      "         Gradient evaluations: 7\n",
      "Optimization terminated successfully.\n",
      "         Current function value: 3.286595\n",
      "         Iterations: 4\n",
      "         Function evaluations: 9\n",
      "         Gradient evaluations: 9\n",
      "Optimization terminated successfully.\n",
      "         Current function value: 2.842678\n",
      "         Iterations: 25\n",
      "         Function evaluations: 39\n",
      "         Gradient evaluations: 39\n",
      "Optimization terminated successfully.\n",
      "         Current function value: 13.154049\n",
      "         Iterations: 4\n",
      "         Function evaluations: 8\n",
      "         Gradient evaluations: 8\n",
      "Optimization terminated successfully.\n",
      "         Current function value: 19.443963\n",
      "         Iterations: 4\n",
      "         Function evaluations: 8\n",
      "         Gradient evaluations: 8\n",
      "Optimization terminated successfully.\n",
      "         Current function value: 20.098522\n",
      "         Iterations: 4\n",
      "         Function evaluations: 8\n",
      "         Gradient evaluations: 8\n",
      "Optimization terminated successfully.\n",
      "         Current function value: 18.172859\n",
      "         Iterations: 8\n",
      "         Function evaluations: 15\n",
      "         Gradient evaluations: 15\n",
      "Optimization terminated successfully.\n",
      "         Current function value: 22.609405\n",
      "         Iterations: 10\n",
      "         Function evaluations: 16\n",
      "         Gradient evaluations: 16\n",
      "Optimization terminated successfully.\n",
      "         Current function value: 23.261462\n",
      "         Iterations: 6\n",
      "         Function evaluations: 12\n",
      "         Gradient evaluations: 12\n",
      "Optimization terminated successfully.\n",
      "         Current function value: 24.317250\n",
      "         Iterations: 6\n",
      "         Function evaluations: 12\n",
      "         Gradient evaluations: 12\n",
      "Optimization terminated successfully.\n",
      "         Current function value: 22.373906\n",
      "         Iterations: 18\n",
      "         Function evaluations: 28\n",
      "         Gradient evaluations: 28\n"
     ]
    }
   ],
   "source": [
    "# Laço para montar curvas\n",
    "error_train = []\n",
    "error_cv = []\n",
    "for i in range(1, m+1):\n",
    "    # Retornando os melhores parâmetros de acordo com m\n",
    "    y_train_reshaped = y_train.reshape(-1)\n",
    "    theta_learned, J_min_train = trainLinReg(theta_inicial, \n",
    "                                                   X_train[:i], y_train_reshaped[:i], lamda)\n",
    "    \n",
    "    # Retornando o custo com os parâmetros aprendidos\n",
    "    J_val = linRegCostFunction(theta_learned.reshape(2, 1), X_val, \n",
    "                               y_val, lamda)\n",
    "    error_train.append(J_min_train)\n",
    "    error_cv.append(J_val)"
   ]
  },
  {
   "cell_type": "code",
   "execution_count": 40,
   "metadata": {
    "ExecuteTime": {
     "end_time": "2019-04-21T05:09:35.213113Z",
     "start_time": "2019-04-21T05:09:34.083114Z"
    }
   },
   "outputs": [
    {
     "data": {
      "image/png": "[encoded data removed]",
      "text/plain": [
       "<matplotlib.figure.Figure at 0x289b060b5f8>"
      ]
     },
     "metadata": {
      "needs_background": "light"
     },
     "output_type": "display_data"
    }
   ],
   "source": [
    "# Plotando dados\n",
    "fig, ax = plt.subplots(figsize=(8, 5))\n",
    "ax.plot(np.arange(m)+1, error_train, label='Erro no Treino')\n",
    "ax.plot(np.arange(m)+1, error_cv, label='Erro Cross Val')\n",
    "ax.set_title('Curva de Aprendizado', size=15)\n",
    "ax.set_xlabel('Número de exemplos de treinamento', size=10, labelpad=10)\n",
    "ax.set_ylabel('Erro', size=10, labelpad=10)\n",
    "plt.legend()\n",
    "plt.show()"
   ]
  },
  {
   "cell_type": "markdown",
   "metadata": {},
   "source": [
    "**Análise do Gráfico**\n",
    "\n",
    "Com o aumento do número ```m``` de exemplos utilizados no cálculo dos erros, é possível perceber que tanto o custo de treinamento quanto o custo de validação ficam com valores próximos um do outro. Isto indica que o modelo sofre de um **ALTO VIÉS** e que o aumento do número ```m``` de exemplo **NÃO** resolve a situação, mas sim:\n",
    "    - Considerar mais features para o modelo;\n",
    "    - Aumentar o grau polinomial do modelo;\n",
    "    - Diminuir o parâmetro de regularização."
   ]
  },
  {
   "cell_type": "code",
   "execution_count": 89,
   "metadata": {
    "ExecuteTime": {
     "end_time": "2019-04-21T05:36:24.624604Z",
     "start_time": "2019-04-21T05:36:24.567239Z"
    }
   },
   "outputs": [],
   "source": [
    "# Definindo função para plotar curva de aprendizado\n",
    "def plotLearningCurve(X_train, y_train, X_val, y_val, lamda):\n",
    "    \n",
    "    # Inicializando variáveis\n",
    "    error_train = []\n",
    "    error_cv = []\n",
    "    m, n = X_train.shape\n",
    "    theta_inicial = np.ones((n, 1))\n",
    "    \n",
    "    # Laço para montar curvas\n",
    "    for i in range(1, m+1):\n",
    "        # Retornando os melhores parâmetros de acordo com m\n",
    "        theta_learned, J_min_train = trainLinReg(theta_inicial, \n",
    "                                                       X_train[:i], y_train[:i], lamda)\n",
    "\n",
    "        # Retornando o custo com os parâmetros aprendidos\n",
    "        J_train = linRegCostFunction(theta_learned.reshape(n, 1), X_train[:i], \n",
    "                                    y_train[:i], 0)\n",
    "        J_val = linRegCostFunction(theta_learned.reshape(n, 1), X_val, \n",
    "                                   y_val, 0)\n",
    "        error_train.append(J_train)\n",
    "        error_cv.append(J_val)\n",
    "    \n",
    "    # Plotando dados\n",
    "    fig, ax = plt.subplots(figsize=(8, 5))\n",
    "    ax.plot(np.arange(m)+1, error_train, label='Erro no Treino')\n",
    "    ax.plot(np.arange(m)+1, error_cv, label='Erro Cross Val')\n",
    "    ax.set_title('Curva de Aprendizado', size=15)\n",
    "    ax.set_xlabel('Número de exemplos de treinamento', size=10, labelpad=10)\n",
    "    ax.set_ylabel('Erro', size=10, labelpad=10)\n",
    "    plt.legend()\n",
    "    plt.show()\n",
    "    \n",
    "    return error_train, error_cv"
   ]
  },
  {
   "cell_type": "code",
   "execution_count": 90,
   "metadata": {
    "ExecuteTime": {
     "end_time": "2019-04-21T05:36:25.817895Z",
     "start_time": "2019-04-21T05:36:25.534653Z"
    }
   },
   "outputs": [
    {
     "name": "stdout",
     "output_type": "stream",
     "text": [
      "Optimization terminated successfully.\n",
      "         Current function value: 0.000000\n",
      "         Iterations: 2\n",
      "         Function evaluations: 4\n",
      "         Gradient evaluations: 4\n",
      "Optimization terminated successfully.\n",
      "         Current function value: 0.000000\n",
      "         Iterations: 3\n",
      "         Function evaluations: 7\n",
      "         Gradient evaluations: 7\n",
      "Optimization terminated successfully.\n",
      "         Current function value: 3.286595\n",
      "         Iterations: 4\n",
      "         Function evaluations: 9\n",
      "         Gradient evaluations: 9\n",
      "Optimization terminated successfully.\n",
      "         Current function value: 2.842678\n",
      "         Iterations: 25\n",
      "         Function evaluations: 39\n",
      "         Gradient evaluations: 39\n",
      "Optimization terminated successfully.\n",
      "         Current function value: 13.154049\n",
      "         Iterations: 4\n",
      "         Function evaluations: 8\n",
      "         Gradient evaluations: 8\n",
      "Optimization terminated successfully.\n",
      "         Current function value: 19.443963\n",
      "         Iterations: 4\n",
      "         Function evaluations: 8\n",
      "         Gradient evaluations: 8\n",
      "Optimization terminated successfully.\n",
      "         Current function value: 20.098522\n",
      "         Iterations: 4\n",
      "         Function evaluations: 8\n",
      "         Gradient evaluations: 8\n",
      "Optimization terminated successfully.\n",
      "         Current function value: 18.172859\n",
      "         Iterations: 8\n",
      "         Function evaluations: 15\n",
      "         Gradient evaluations: 15\n",
      "Optimization terminated successfully.\n",
      "         Current function value: 22.609405\n",
      "         Iterations: 10\n",
      "         Function evaluations: 16\n",
      "         Gradient evaluations: 16\n",
      "Optimization terminated successfully.\n",
      "         Current function value: 23.261462\n",
      "         Iterations: 6\n",
      "         Function evaluations: 12\n",
      "         Gradient evaluations: 12\n",
      "Optimization terminated successfully.\n",
      "         Current function value: 24.317250\n",
      "         Iterations: 6\n",
      "         Function evaluations: 12\n",
      "         Gradient evaluations: 12\n",
      "Optimization terminated successfully.\n",
      "         Current function value: 22.373906\n",
      "         Iterations: 18\n",
      "         Function evaluations: 28\n",
      "         Gradient evaluations: 28\n"
     ]
    },
    {
     "data": {
      "image/png": "[encoded data removed]",
      "text/plain": [
       "<matplotlib.figure.Figure at 0x289b026c2b0>"
      ]
     },
     "metadata": {
      "needs_background": "light"
     },
     "output_type": "display_data"
    }
   ],
   "source": [
    "# Testando\n",
    "error_train, error_cv = plotLearningCurve(X_train, y_train, X_val, y_val, 0)"
   ]
  },
  {
   "cell_type": "markdown",
   "metadata": {},
   "source": [
    "## Regressão Polinomial"
   ]
  },
  {
   "cell_type": "markdown",
   "metadata": {},
   "source": [
    "De acordo com as conclusões tiradas através da Curva de Aprendizado do modelo de Regressão Linear, vamos aplicar um método difente para a resolução do problema de vazão de água através do nível do reservatório."
   ]
  },
  {
   "cell_type": "markdown",
   "metadata": {},
   "source": [
    "Vamos mepear as features e elevar o grau polinomial do modelo até ```8```!"
   ]
  },
  {
   "cell_type": "code",
   "execution_count": 43,
   "metadata": {
    "ExecuteTime": {
     "end_time": "2019-04-21T05:09:37.561120Z",
     "start_time": "2019-04-21T05:09:36.751691Z"
    }
   },
   "outputs": [
    {
     "data": {
      "text/plain": [
       "(12, 45)"
      ]
     },
     "execution_count": 43,
     "metadata": {},
     "output_type": "execute_result"
    }
   ],
   "source": [
    "# Importando biblioteca e mapeando features\n",
    "from sklearn.preprocessing import PolynomialFeatures\n",
    "\n",
    "# Expandindo até a oitava potência\n",
    "poly = PolynomialFeatures(8)\n",
    "X_poly = poly.fit_transform(X_train)\n",
    "\n",
    "# Verificando dimensões\n",
    "X_poly.shape"
   ]
  },
  {
   "cell_type": "code",
   "execution_count": 44,
   "metadata": {
    "ExecuteTime": {
     "end_time": "2019-04-21T05:09:37.571094Z",
     "start_time": "2019-04-21T05:09:37.563115Z"
    }
   },
   "outputs": [
    {
     "data": {
      "text/plain": [
       "array([ 1.00000000e+00,  1.00000000e+00, -1.59367581e+01,  1.00000000e+00,\n",
       "       -1.59367581e+01,  2.53980260e+02,  1.00000000e+00, -1.59367581e+01,\n",
       "        2.53980260e+02, -4.04762197e+03,  1.00000000e+00, -1.59367581e+01,\n",
       "        2.53980260e+02, -4.04762197e+03,  6.45059724e+04,  1.00000000e+00,\n",
       "       -1.59367581e+01,  2.53980260e+02, -4.04762197e+03,  6.45059724e+04,\n",
       "       -1.02801608e+06,  1.00000000e+00, -1.59367581e+01,  2.53980260e+02,\n",
       "       -4.04762197e+03,  6.45059724e+04, -1.02801608e+06,  1.63832436e+07,\n",
       "        1.00000000e+00, -1.59367581e+01,  2.53980260e+02, -4.04762197e+03,\n",
       "        6.45059724e+04, -1.02801608e+06,  1.63832436e+07, -2.61095791e+08,\n",
       "        1.00000000e+00, -1.59367581e+01,  2.53980260e+02, -4.04762197e+03,\n",
       "        6.45059724e+04, -1.02801608e+06,  1.63832436e+07, -2.61095791e+08,\n",
       "        4.16102047e+09])"
      ]
     },
     "execution_count": 44,
     "metadata": {},
     "output_type": "execute_result"
    }
   ],
   "source": [
    "# Exemplo de registro\n",
    "X_poly[0]"
   ]
  },
  {
   "cell_type": "markdown",
   "metadata": {},
   "source": [
    "Uma observação importante: não seria mais adequado realizar o mapeamento das features em um dataset sem a coluna de bias? Digo isso pelo fato de terem surgido colunas de \"ums\" adicionais. Vamos testar."
   ]
  },
  {
   "cell_type": "code",
   "execution_count": 45,
   "metadata": {
    "ExecuteTime": {
     "end_time": "2019-04-21T05:09:37.913239Z",
     "start_time": "2019-04-21T05:09:37.574086Z"
    }
   },
   "outputs": [
    {
     "name": "stdout",
     "output_type": "stream",
     "text": [
      "Dimensões de X_poly: (12, 9)\n",
      "\n",
      "Primeira linha de X_poly: \n",
      "[ 1.00000000e+00 -1.59367581e+01  2.53980260e+02 -4.04762197e+03\n",
      "  6.45059724e+04 -1.02801608e+06  1.63832436e+07 -2.61095791e+08\n",
      "  4.16102047e+09]\n"
     ]
    }
   ],
   "source": [
    "# Testando novo mapeamento\n",
    "X_sem_bias = X_train[:, 1:]\n",
    "\n",
    "# Novo mapeamento\n",
    "X_poly = poly.fit_transform(X_sem_bias)\n",
    "\n",
    "# Verificando dimensões\n",
    "print(f'Dimensões de X_poly: {X_poly.shape}')\n",
    "print(f'\\nPrimeira linha de X_poly: \\n{X_poly[0]}')"
   ]
  },
  {
   "cell_type": "markdown",
   "metadata": {
    "ExecuteTime": {
     "end_time": "2019-04-20T13:26:20.827644Z",
     "start_time": "2019-04-20T13:26:20.819497Z"
    }
   },
   "source": [
    "Perfeito! Vamos agora verificar o custo do modelo com esse novo set de features!"
   ]
  },
  {
   "cell_type": "code",
   "execution_count": 46,
   "metadata": {
    "ExecuteTime": {
     "end_time": "2019-04-21T05:09:38.180524Z",
     "start_time": "2019-04-21T05:09:37.917229Z"
    }
   },
   "outputs": [
    {
     "name": "stdout",
     "output_type": "stream",
     "text": [
      "Custo com inicialização padrão de parâmetro e features polinomiais: 4.265369400507468e+25\n"
     ]
    }
   ],
   "source": [
    "# Inicializando parâmetros\n",
    "m, n = X_poly.shape\n",
    "theta_inicial_poly = np.ones((n, 1))\n",
    "\n",
    "# Verificando custo\n",
    "J = linRegCostFunction(theta_inicial_poly, X_poly, y_train.reshape(-1, 1), lamda)\n",
    "\n",
    "# Verificando\n",
    "print(f'Custo com inicialização padrão de parâmetro e features polinomiais: {J}')"
   ]
  },
  {
   "cell_type": "markdown",
   "metadata": {
    "ExecuteTime": {
     "end_time": "2019-04-20T13:31:44.242089Z",
     "start_time": "2019-04-20T13:31:44.235734Z"
    }
   },
   "source": [
    "Um custo absurdo!"
   ]
  },
  {
   "cell_type": "markdown",
   "metadata": {},
   "source": [
    "A primeira ação a ser tomada leva em consideração a escala das features mapeadas. Como fizemos um processo artificial de aumento de grau polinomial, temos features com uma magnitude baixa e features com magnitudes elevadas. Vejamos:"
   ]
  },
  {
   "cell_type": "code",
   "execution_count": 47,
   "metadata": {
    "ExecuteTime": {
     "end_time": "2019-04-21T05:09:38.692191Z",
     "start_time": "2019-04-21T05:09:38.182519Z"
    }
   },
   "outputs": [
    {
     "name": "stdout",
     "output_type": "stream",
     "text": [
      "Feature x1: -15.93675813378541\n",
      "Feature x8: 4161020472.1191983\n"
     ]
    }
   ],
   "source": [
    "# Diferença\n",
    "print(f'Feature x1: {X_poly[0][1]}')\n",
    "print(f'Feature x8: {X_poly[0][8]}')"
   ]
  },
  {
   "cell_type": "markdown",
   "metadata": {},
   "source": [
    "Para evitar esse tipo de situação, vamos aplicar o processo de normalização!"
   ]
  },
  {
   "cell_type": "markdown",
   "metadata": {},
   "source": [
    "### Normalização"
   ]
  },
  {
   "cell_type": "code",
   "execution_count": 48,
   "metadata": {
    "ExecuteTime": {
     "end_time": "2019-04-21T05:09:38.706152Z",
     "start_time": "2019-04-21T05:09:38.695180Z"
    }
   },
   "outputs": [
    {
     "name": "stdout",
     "output_type": "stream",
     "text": [
      "Vetor de médias: \n",
      "[-5.08542635e+00  8.48904834e+02 -1.28290173e+04  1.28967789e+06\n",
      " -2.98314592e+07  2.29330301e+09 -6.84527284e+10  4.42233759e+12]\n",
      "\n",
      "Vetor de desvios: \n",
      "[2.86887308e+01 7.54346385e+02 4.61380464e+04 1.66104441e+06\n",
      " 8.99399404e+07 3.68940106e+09 1.89508052e+11 8.31905350e+12]\n"
     ]
    }
   ],
   "source": [
    "# Modificando matriz para normaliza\n",
    "X_poly = X_poly[:, 1:]\n",
    "mu = np.mean(X_poly, axis=0)\n",
    "sigma = np.std(X_poly, axis=0)\n",
    "\n",
    "print(f'Vetor de médias: \\n{mu}')\n",
    "print(f'\\nVetor de desvios: \\n{sigma}')"
   ]
  },
  {
   "cell_type": "code",
   "execution_count": 49,
   "metadata": {
    "ExecuteTime": {
     "end_time": "2019-04-21T05:09:38.717120Z",
     "start_time": "2019-04-21T05:09:38.709142Z"
    }
   },
   "outputs": [
    {
     "data": {
      "text/plain": [
       "array([-0.3782437 , -0.78866232,  0.19032872, -0.7375913 ,  0.32025197,\n",
       "       -0.6171516 ,  0.35983501, -0.53109126])"
      ]
     },
     "execution_count": 49,
     "metadata": {},
     "output_type": "execute_result"
    }
   ],
   "source": [
    "# Aplicando normalização\n",
    "X_poly_normalized = (X_poly - mu) / sigma\n",
    "\n",
    "# Verificando\n",
    "X_poly_normalized[0]"
   ]
  },
  {
   "cell_type": "code",
   "execution_count": 50,
   "metadata": {
    "ExecuteTime": {
     "end_time": "2019-04-21T05:09:38.732080Z",
     "start_time": "2019-04-21T05:09:38.724102Z"
    }
   },
   "outputs": [
    {
     "name": "stdout",
     "output_type": "stream",
     "text": [
      "Dimensões: (12, 9)\n"
     ]
    }
   ],
   "source": [
    "# Adicionando termo bias\n",
    "m, n = X_poly_normalized.shape\n",
    "X_poly_normalized = np.c_[(np.ones((m, 1)), X_poly_normalized)]\n",
    "\n",
    "# Verificando\n",
    "print(f'Dimensões: {X_poly_normalized.shape}')"
   ]
  },
  {
   "cell_type": "code",
   "execution_count": 51,
   "metadata": {
    "ExecuteTime": {
     "end_time": "2019-04-21T05:09:40.438025Z",
     "start_time": "2019-04-21T05:09:38.735073Z"
    }
   },
   "outputs": [
    {
     "data": {
      "text/plain": [
       "array([ 1.        , -0.3782437 , -0.78866232,  0.19032872, -0.7375913 ,\n",
       "        0.32025197, -0.6171516 ,  0.35983501, -0.53109126])"
      ]
     },
     "execution_count": 51,
     "metadata": {},
     "output_type": "execute_result"
    }
   ],
   "source": [
    "# Exemplo\n",
    "X_poly_normalized[0]"
   ]
  },
  {
   "cell_type": "code",
   "execution_count": 52,
   "metadata": {
    "ExecuteTime": {
     "end_time": "2019-04-21T05:09:40.827377Z",
     "start_time": "2019-04-21T05:09:40.442309Z"
    }
   },
   "outputs": [],
   "source": [
    "# Definindo função para feature mapping\n",
    "def featureMapping(X, grau):\n",
    "    \"\"\" Função responsável por receber um conjunto de dados X e realizar o procedimento de\n",
    "    feature mapping, mepeando as features de acordo com um grau polinomial parametrizado\n",
    "    Input:\n",
    "        X: conjunto de dados (features)\n",
    "        grau: grau polinomial\n",
    "    Output:\n",
    "        X_poly: novo conjunto de dados após procedimento\"\"\"\n",
    "    \n",
    "    poly = PolynomialFeatures(grau)\n",
    "    return poly.fit_transform(X)"
   ]
  },
  {
   "cell_type": "code",
   "execution_count": 53,
   "metadata": {
    "ExecuteTime": {
     "end_time": "2019-04-21T05:09:41.304132Z",
     "start_time": "2019-04-21T05:09:40.830364Z"
    }
   },
   "outputs": [],
   "source": [
    "# Definindo função para normalização\n",
    "def featureNormalize(X):\n",
    "    \"\"\" Função responsável por aplicar o procedimento de normalização no conjunto de dados\n",
    "    Input:\n",
    "        X: conjunto de dados (features)\n",
    "    Output:\n",
    "        X_normalized: conjunto de dados normalizado\"\"\"\n",
    "    \n",
    "    # Realizando cálculos\n",
    "    mu = np.mean(X, axis=0)\n",
    "    sigma = np.std(X, axis=0)\n",
    "    \n",
    "    return (X - mu) / sigma"
   ]
  },
  {
   "cell_type": "code",
   "execution_count": 54,
   "metadata": {
    "ExecuteTime": {
     "end_time": "2019-04-21T05:09:41.566950Z",
     "start_time": "2019-04-21T05:09:41.307125Z"
    }
   },
   "outputs": [
    {
     "data": {
      "text/plain": [
       "array([[-15.93675813],\n",
       "       [-29.15297922],\n",
       "       [ 36.18954863],\n",
       "       [ 37.49218733],\n",
       "       [-48.05882945]])"
      ]
     },
     "execution_count": 54,
     "metadata": {},
     "output_type": "execute_result"
    }
   ],
   "source": [
    "# Testando desde o início\n",
    "X_sem_bias = X_train[:, 1:]\n",
    "X_sem_bias[:5]"
   ]
  },
  {
   "cell_type": "code",
   "execution_count": 55,
   "metadata": {
    "ExecuteTime": {
     "end_time": "2019-04-21T05:09:41.868155Z",
     "start_time": "2019-04-21T05:09:41.574928Z"
    }
   },
   "outputs": [],
   "source": [
    "# Mapeando features e normalizando\n",
    "X_poly = featureMapping(X_sem_bias, 8)[:, 1:]\n",
    "X_poly_normalized = featureNormalize(X_poly)\n",
    "\n",
    "# Adicionando bias\n",
    "m = X_poly_normalized.shape[0]\n",
    "X_poly_normalized = np.c_[(np.ones((m, 1)), X_poly_normalized)]"
   ]
  },
  {
   "cell_type": "code",
   "execution_count": 56,
   "metadata": {
    "ExecuteTime": {
     "end_time": "2019-04-21T05:09:41.881115Z",
     "start_time": "2019-04-21T05:09:41.875125Z"
    }
   },
   "outputs": [
    {
     "name": "stdout",
     "output_type": "stream",
     "text": [
      "Dimensões: (12, 9)\n",
      "\n",
      "Exemplo: \n",
      "[ 1.         -0.3782437  -0.78866232  0.19032872 -0.7375913   0.32025197\n",
      " -0.6171516   0.35983501 -0.53109126]\n"
     ]
    }
   ],
   "source": [
    "# Verificnado\n",
    "print(f'Dimensões: {X_poly_normalized.shape}')\n",
    "print(f'\\nExemplo: \\n{X_poly_normalized[0]}')"
   ]
  },
  {
   "cell_type": "markdown",
   "metadata": {},
   "source": [
    "### Treinando Modelo"
   ]
  },
  {
   "cell_type": "code",
   "execution_count": 57,
   "metadata": {
    "ExecuteTime": {
     "end_time": "2019-04-21T05:09:42.224218Z",
     "start_time": "2019-04-21T05:09:41.886096Z"
    }
   },
   "outputs": [
    {
     "name": "stdout",
     "output_type": "stream",
     "text": [
      "Warning: Maximum number of iterations has been exceeded.\n",
      "         Current function value: 0.028892\n",
      "         Iterations: 1000\n",
      "         Function evaluations: 1931\n",
      "         Gradient evaluations: 1931\n"
     ]
    }
   ],
   "source": [
    "# Inicializando parâmetros\n",
    "m, n = X_poly_normalized.shape\n",
    "theta_inicial_poly = np.ones((n, 1))\n",
    "lamda = 0\n",
    "\n",
    "best_theta_poly, J_min_poly = trainLinReg(theta_inicial_poly, \n",
    "                                          X_poly_normalized, y_train, lamda)"
   ]
  },
  {
   "cell_type": "code",
   "execution_count": 58,
   "metadata": {
    "ExecuteTime": {
     "end_time": "2019-04-21T05:09:42.243170Z",
     "start_time": "2019-04-21T05:09:42.226213Z"
    }
   },
   "outputs": [
    {
     "name": "stdout",
     "output_type": "stream",
     "text": [
      "Dimensões: (12, 9)\n",
      "\n",
      "Primeira linha: \n",
      "[ 1.         -0.3782437  -0.78866232  0.19032872 -0.7375913   0.32025197\n",
      " -0.6171516   0.35983501 -0.53109126]\n",
      "\n",
      "Parâmetros: [[1.]\n",
      " [1.]\n",
      " [1.]\n",
      " [1.]\n",
      " [1.]\n",
      " [1.]\n",
      " [1.]\n",
      " [1.]\n",
      " [1.]]\n",
      "\n",
      "Label: \n",
      "[ 2.13431051  1.17325668 34.35910918 36.83795516  2.80896507  2.12107248\n",
      " 14.71026831  2.61418439  3.74017167  3.73169131  7.62765885 22.7524283 ]\n"
     ]
    }
   ],
   "source": [
    "# Verificando dados utilizados\n",
    "print(f'Dimensões: {X_poly_normalized.shape}')\n",
    "print(f'\\nPrimeira linha: \\n{X_poly_normalized[0]}')\n",
    "\n",
    "print(f'\\nParâmetros: {theta_inicial_poly}')\n",
    "\n",
    "print(f'\\nLabel: \\n{y_train}')"
   ]
  },
  {
   "cell_type": "code",
   "execution_count": 59,
   "metadata": {
    "ExecuteTime": {
     "end_time": "2019-04-21T05:09:42.932468Z",
     "start_time": "2019-04-21T05:09:42.246160Z"
    }
   },
   "outputs": [
    {
     "data": {
      "image/png": "[encoded data removed]",
      "text/plain": [
       "<matplotlib.figure.Figure at 0x289b19ad198>"
      ]
     },
     "metadata": {
      "needs_background": "light"
     },
     "output_type": "display_data"
    }
   ],
   "source": [
    "# Plotando dados\n",
    "fig, ax = plt.subplots(figsize=(8, 5))\n",
    "\n",
    "# Plotando dataset original\n",
    "ax.scatter(X_train[:, 1:], y_train, marker='x', color='r', label='Dados Originais')\n",
    "\n",
    "# Plotando dados obtidos (scatter)\n",
    "ax.plot(X_train[:, 1:], X_poly_normalized.dot(best_theta_poly), 'o', label='Dados Obtidos')\n",
    "\n",
    "# Configurando plotagem\n",
    "ax.set_title('Vazão de Água por Nível do Reservatório', size=15)\n",
    "ax.set_xlabel('Mudança no nível nível de água', size=10, labelpad=10)\n",
    "ax.set_ylabel('Fluxo de saída de água', size=10, labelpad=10)\n",
    "plt.legend()\n",
    "plt.show()"
   ]
  },
  {
   "cell_type": "code",
   "execution_count": 60,
   "metadata": {
    "ExecuteTime": {
     "end_time": "2019-04-21T05:09:42.959396Z",
     "start_time": "2019-04-21T05:09:42.945434Z"
    }
   },
   "outputs": [
    {
     "data": {
      "text/plain": [
       "array([[ 1.86987202],\n",
       "       [ 1.55764611],\n",
       "       [34.33984108],\n",
       "       [36.85366585],\n",
       "       [ 2.76589854],\n",
       "       [ 2.18915164],\n",
       "       [14.8761716 ],\n",
       "       [ 2.29035126],\n",
       "       [ 4.10457823],\n",
       "       [ 3.84448885],\n",
       "       [ 7.1916425 ],\n",
       "       [22.72771036]])"
      ]
     },
     "execution_count": 60,
     "metadata": {},
     "output_type": "execute_result"
    }
   ],
   "source": [
    "# Preparando plot com linhas ao invés de pontos\n",
    "y = X_poly_normalized.dot(best_theta_poly).reshape(-1, 1)\n",
    "y"
   ]
  },
  {
   "cell_type": "code",
   "execution_count": 61,
   "metadata": {
    "ExecuteTime": {
     "end_time": "2019-04-21T05:09:43.230206Z",
     "start_time": "2019-04-21T05:09:42.961400Z"
    }
   },
   "outputs": [
    {
     "data": {
      "text/plain": [
       "array([[-15.93675813],\n",
       "       [-29.15297922],\n",
       "       [ 36.18954863],\n",
       "       [ 37.49218733],\n",
       "       [-48.05882945],\n",
       "       [ -8.94145794],\n",
       "       [ 15.30779289],\n",
       "       [-34.70626581],\n",
       "       [  1.38915437],\n",
       "       [-44.38375985],\n",
       "       [  7.01350208],\n",
       "       [ 22.76274892]])"
      ]
     },
     "execution_count": 61,
     "metadata": {},
     "output_type": "execute_result"
    }
   ],
   "source": [
    "# Preparando eixo x\n",
    "x = X_train[:, 1:]\n",
    "x"
   ]
  },
  {
   "cell_type": "code",
   "execution_count": 62,
   "metadata": {
    "ExecuteTime": {
     "end_time": "2019-04-21T05:09:43.450154Z",
     "start_time": "2019-04-21T05:09:43.240181Z"
    }
   },
   "outputs": [
    {
     "data": {
      "text/plain": [
       "array([[-15.93675813,   1.86987202],\n",
       "       [-29.15297922,   1.55764611],\n",
       "       [ 36.18954863,  34.33984108],\n",
       "       [ 37.49218733,  36.85366585],\n",
       "       [-48.05882945,   2.76589854],\n",
       "       [ -8.94145794,   2.18915164],\n",
       "       [ 15.30779289,  14.8761716 ],\n",
       "       [-34.70626581,   2.29035126],\n",
       "       [  1.38915437,   4.10457823],\n",
       "       [-44.38375985,   3.84448885],\n",
       "       [  7.01350208,   7.1916425 ],\n",
       "       [ 22.76274892,  22.72771036]])"
      ]
     },
     "execution_count": 62,
     "metadata": {},
     "output_type": "execute_result"
    }
   ],
   "source": [
    "# Juntando eixos\n",
    "xy = np.c_[(x, y)]\n",
    "xy"
   ]
  },
  {
   "cell_type": "code",
   "execution_count": 63,
   "metadata": {
    "ExecuteTime": {
     "end_time": "2019-04-21T05:09:43.702482Z",
     "start_time": "2019-04-21T05:09:43.455138Z"
    }
   },
   "outputs": [
    {
     "data": {
      "text/plain": [
       "array([[-48.05882945,   2.76589854],\n",
       "       [-44.38375985,   3.84448885],\n",
       "       [-34.70626581,   2.29035126],\n",
       "       [-29.15297922,   1.55764611],\n",
       "       [-15.93675813,   1.86987202],\n",
       "       [ -8.94145794,   2.18915164],\n",
       "       [  1.38915437,   4.10457823],\n",
       "       [  7.01350208,   7.1916425 ],\n",
       "       [ 15.30779289,  14.8761716 ],\n",
       "       [ 22.76274892,  22.72771036],\n",
       "       [ 36.18954863,  34.33984108],\n",
       "       [ 37.49218733,  36.85366585]])"
      ]
     },
     "execution_count": 63,
     "metadata": {},
     "output_type": "execute_result"
    }
   ],
   "source": [
    "# Ordenando pelo eixo x\n",
    "xy_sorted = xy[xy[:, 0].argsort()]\n",
    "xy_sorted"
   ]
  },
  {
   "cell_type": "code",
   "execution_count": 64,
   "metadata": {
    "ExecuteTime": {
     "end_time": "2019-04-21T05:09:43.739379Z",
     "start_time": "2019-04-21T05:09:43.726412Z"
    }
   },
   "outputs": [
    {
     "name": "stdout",
     "output_type": "stream",
     "text": [
      "Verificando X_sorted: \n",
      "[-48.05882945 -44.38375985 -34.70626581 -29.15297922 -15.93675813\n",
      "  -8.94145794   1.38915437   7.01350208  15.30779289  22.76274892\n",
      "  36.18954863  37.49218733]\n",
      "\n",
      "Verificando y_pred: \n",
      "[ 2.76589854  3.84448885  2.29035126  1.55764611  1.86987202  2.18915164\n",
      "  4.10457823  7.1916425  14.8761716  22.72771036 34.33984108 36.85366585]\n"
     ]
    }
   ],
   "source": [
    "# Separando\n",
    "X_sorted = xy_sorted[:, 0]\n",
    "y_pred = xy_sorted[:, 1]\n",
    "\n",
    "print(f'Verificando X_sorted: \\n{X_sorted}')\n",
    "\n",
    "print(f'\\nVerificando y_pred: \\n{y_pred}')"
   ]
  },
  {
   "cell_type": "code",
   "execution_count": 65,
   "metadata": {
    "ExecuteTime": {
     "end_time": "2019-04-21T05:09:45.023735Z",
     "start_time": "2019-04-21T05:09:43.742369Z"
    }
   },
   "outputs": [
    {
     "data": {
      "image/png": "[encoded data removed]",
      "text/plain": [
       "<matplotlib.figure.Figure at 0x289b19f3d68>"
      ]
     },
     "metadata": {
      "needs_background": "light"
     },
     "output_type": "display_data"
    }
   ],
   "source": [
    "# Plotando dados\n",
    "fig, ax = plt.subplots(figsize=(8, 5))\n",
    "\n",
    "# Plotando dataset original\n",
    "ax.scatter(X_train[:, 1:], y_train, marker='x', color='r', label='Dados Originais')\n",
    "\n",
    "# Plotando dados obtidos (scatter)\n",
    "ax.plot(X_sorted, y_pred, label='Curva Obtida')\n",
    "\n",
    "# Configurando plotagem\n",
    "ax.set_title('Vazão de Água por Nível do Reservatório', size=15)\n",
    "ax.set_xlabel('Mudança no nível nível de água', size=10, labelpad=10)\n",
    "ax.set_ylabel('Fluxo de saída de água', size=10, labelpad=10)\n",
    "plt.legend()\n",
    "plt.show()"
   ]
  },
  {
   "cell_type": "markdown",
   "metadata": {},
   "source": [
    "Após a análise do gráfico acima, é possível concluir, em um primeiro um momento, que o mapeamento das features e a elevação do grau polinomial do modelo atuaram diretamente na performance do mesmo nos dados de teste. Percebe-se que a curva definida pelo modelo, definida por uma função de oitavo grau polinomial, está disposta bem próxima dos pontos originais descritos pelos dados de treino.\n",
    "\n",
    "Entretanto, não é possível propor uma plena satisfação com este resultado, visto que, essa semelhança entre os dados preditos e os dados de treino pode indicar um problema de overfitting no modelo. Em outras palavras, como foram obtidos resultados muito próximos do que se tem por treinamento, é possível afirmar que o modelo não possui um alto grau de generalização, apresentando possíveis falhas ao ser contraposto a dados não presentes nos dados de treino. Para avaliar melhor tal situação, é apresentada a curva de aprendizado do modelo, indicando o erro progressivo do mesmo no conjunto de treino e no conjunto de validação."
   ]
  },
  {
   "cell_type": "code",
   "execution_count": 66,
   "metadata": {
    "ExecuteTime": {
     "end_time": "2019-04-21T05:09:45.215791Z",
     "start_time": "2019-04-21T05:09:45.026726Z"
    }
   },
   "outputs": [],
   "source": [
    "# Definindo função para plotagem da curva\n",
    "def plotCurve(theta, X_train, y_train, X=X_train):\n",
    "    \"\"\" Função responsável pela plotagem da curva aprendida pelo modelo\n",
    "    Input:\n",
    "        theta: parâmetros aprendidos pelo modelo\n",
    "        X_train: dados de treinamento (features)\n",
    "        y_train: label\"\"\"\n",
    "    \n",
    "    # Calculando eixo y e retirando termo bias de X\n",
    "    y = X.dot(theta).reshape(-1, 1)\n",
    "    x = X_train[:, 1:]\n",
    "    \n",
    "    # Juntando eixos\n",
    "    xy = np.c_[(x, y)]\n",
    "    \n",
    "    # Ordenando pelo eixo x\n",
    "    xy_sorted = xy[xy[:, 0].argsort()]\n",
    "    \n",
    "    # Separando\n",
    "    X_sorted = xy_sorted[:, 0]\n",
    "    y_pred = xy_sorted[:, 1]\n",
    "    \n",
    "    # Plotando dados\n",
    "    fig, ax = plt.subplots(figsize=(8, 5))\n",
    "\n",
    "    # Plotando dataset original\n",
    "    ax.scatter(X_train[:, 1:], y_train, marker='x', color='r', label='Dados Originais')\n",
    "\n",
    "    # Plotando dados obtidos (scatter)\n",
    "    ax.plot(X_sorted, y_pred, label='Curva Obtida')\n",
    "\n",
    "    # Configurando plotagem\n",
    "    ax.set_title('Vazão de Água por Nível do Reservatório', size=15)\n",
    "    ax.set_xlabel('Mudança no nível nível de água', size=10, labelpad=10)\n",
    "    ax.set_ylabel('Fluxo de saída de água', size=10, labelpad=10)\n",
    "    plt.legend()\n",
    "    plt.show()"
   ]
  },
  {
   "cell_type": "code",
   "execution_count": 67,
   "metadata": {
    "ExecuteTime": {
     "end_time": "2019-04-21T05:09:45.741470Z",
     "start_time": "2019-04-21T05:09:45.217785Z"
    }
   },
   "outputs": [
    {
     "data": {
      "image/png": "[encoded data removed]",
      "text/plain": [
       "<matplotlib.figure.Figure at 0x289b1a8c400>"
      ]
     },
     "metadata": {
      "needs_background": "light"
     },
     "output_type": "display_data"
    }
   ],
   "source": [
    "# Testando para grau = 1\n",
    "plotCurve(best_theta, X_train, y_train)"
   ]
  },
  {
   "cell_type": "code",
   "execution_count": 68,
   "metadata": {
    "ExecuteTime": {
     "end_time": "2019-04-21T05:09:46.303525Z",
     "start_time": "2019-04-21T05:09:45.791338Z"
    }
   },
   "outputs": [
    {
     "data": {
      "image/png": "[encoded data removed]",
      "text/plain": [
       "<matplotlib.figure.Figure at 0x289b1a96080>"
      ]
     },
     "metadata": {
      "needs_background": "light"
     },
     "output_type": "display_data"
    }
   ],
   "source": [
    "# Testando para grau = 8\n",
    "plotCurve(best_theta_poly, X_train, y_train, X=X_poly_normalized)"
   ]
  },
  {
   "cell_type": "markdown",
   "metadata": {},
   "source": [
    "### Curva de Aprendizado"
   ]
  },
  {
   "cell_type": "markdown",
   "metadata": {},
   "source": [
    "Antes de plotarmos a curva de aprendizado, precisamos realizar o mesmo procedimento feito em ```X_train``` para aumento de grau polinomial e normalização, em ```X_val```."
   ]
  },
  {
   "cell_type": "code",
   "execution_count": 69,
   "metadata": {
    "ExecuteTime": {
     "end_time": "2019-04-21T05:09:46.312501Z",
     "start_time": "2019-04-21T05:09:46.307514Z"
    }
   },
   "outputs": [
    {
     "name": "stdout",
     "output_type": "stream",
     "text": [
      "Help on function featureMapping in module __main__:\n",
      "\n",
      "featureMapping(X, grau)\n",
      "    Função responsável por receber um conjunto de dados X e realizar o procedimento de\n",
      "    feature mapping, mepeando as features de acordo com um grau polinomial parametrizado\n",
      "    Input:\n",
      "        X: conjunto de dados (features)\n",
      "        grau: grau polinomial\n",
      "    Output:\n",
      "        X_poly: novo conjunto de dados após procedimento\n",
      "\n"
     ]
    }
   ],
   "source": [
    "help(featureMapping)"
   ]
  },
  {
   "cell_type": "code",
   "execution_count": 70,
   "metadata": {
    "ExecuteTime": {
     "end_time": "2019-04-21T05:09:46.554853Z",
     "start_time": "2019-04-21T05:09:46.314496Z"
    }
   },
   "outputs": [
    {
     "name": "stdout",
     "output_type": "stream",
     "text": [
      "Help on function featureNormalize in module __main__:\n",
      "\n",
      "featureNormalize(X)\n",
      "    Função responsável por aplicar o procedimento de normalização no conjunto de dados\n",
      "    Input:\n",
      "        X: conjunto de dados (features)\n",
      "    Output:\n",
      "        X_normalized: conjunto de dados normalizado\n",
      "\n"
     ]
    }
   ],
   "source": [
    "help(featureNormalize)"
   ]
  },
  {
   "cell_type": "code",
   "execution_count": 71,
   "metadata": {
    "ExecuteTime": {
     "end_time": "2019-04-21T05:09:46.923410Z",
     "start_time": "2019-04-21T05:09:46.556848Z"
    }
   },
   "outputs": [
    {
     "name": "stdout",
     "output_type": "stream",
     "text": [
      "Dimensões: (12, 9)\n",
      "\n",
      "Primeira linha: \n",
      "[ 1.         -0.3782437  -0.78866232  0.19032872 -0.7375913   0.32025197\n",
      " -0.6171516   0.35983501 -0.53109126]\n"
     ]
    }
   ],
   "source": [
    "# Aplicando para dados de treino\n",
    "X_train_poly = featureMapping(X_train[:, 1:], 8)[:, 1:]\n",
    "X_train_poly = featureNormalize(X_train_poly)\n",
    "m_train = X_train_poly.shape[0]\n",
    "X_train_poly = np.c_[(np.ones((m, 1)), X_train_poly)]\n",
    "\n",
    "print(f'Dimensões: {X_train_poly.shape}')\n",
    "print(f'\\nPrimeira linha: \\n{X_train_poly[0]}')"
   ]
  },
  {
   "cell_type": "code",
   "execution_count": 72,
   "metadata": {
    "ExecuteTime": {
     "end_time": "2019-04-21T05:09:47.196703Z",
     "start_time": "2019-04-21T05:09:46.925405Z"
    }
   },
   "outputs": [
    {
     "name": "stdout",
     "output_type": "stream",
     "text": [
      "Dimensões: (21, 9)\n",
      "\n",
      "Primeira linha: \n",
      "[ 1.         -0.42416069 -0.75311565  0.12753599 -0.7369401   0.24552665\n",
      " -0.63413413  0.26698715 -0.55310478]\n"
     ]
    }
   ],
   "source": [
    "# Aplicando para dados de validação\n",
    "X_val_poly = featureMapping(X_val[:, 1:], 8)[:, 1:]\n",
    "X_val_poly = featureNormalize(X_val_poly)\n",
    "m_val = X_val_poly.shape[0]\n",
    "X_val_poly = np.c_[(np.ones((m_val, 1)), X_val_poly)]\n",
    "\n",
    "print(f'Dimensões: {X_val_poly.shape}')\n",
    "print(f'\\nPrimeira linha: \\n{X_val_poly[0]}')"
   ]
  },
  {
   "cell_type": "code",
   "execution_count": 91,
   "metadata": {
    "ExecuteTime": {
     "end_time": "2019-04-21T05:36:46.399882Z",
     "start_time": "2019-04-21T05:36:45.309796Z"
    }
   },
   "outputs": [
    {
     "name": "stdout",
     "output_type": "stream",
     "text": [
      "Optimization terminated successfully.\n",
      "         Current function value: 0.000000\n",
      "         Iterations: 1\n",
      "         Function evaluations: 3\n",
      "         Gradient evaluations: 3\n",
      "Optimization terminated successfully.\n",
      "         Current function value: 0.000000\n",
      "         Iterations: 2\n",
      "         Function evaluations: 5\n",
      "         Gradient evaluations: 5\n",
      "Optimization terminated successfully.\n",
      "         Current function value: 0.000000\n",
      "         Iterations: 7\n",
      "         Function evaluations: 17\n",
      "         Gradient evaluations: 17\n",
      "Optimization terminated successfully.\n",
      "         Current function value: 0.000000\n",
      "         Iterations: 57\n",
      "         Function evaluations: 102\n",
      "         Gradient evaluations: 102\n",
      "Optimization terminated successfully.\n",
      "         Current function value: 0.000000\n",
      "         Iterations: 10\n",
      "         Function evaluations: 24\n",
      "         Gradient evaluations: 24\n",
      "Optimization terminated successfully.\n",
      "         Current function value: 0.000000\n",
      "         Iterations: 92\n",
      "         Function evaluations: 171\n",
      "         Gradient evaluations: 171\n",
      "Optimization terminated successfully.\n",
      "         Current function value: 0.000000\n",
      "         Iterations: 22\n",
      "         Function evaluations: 53\n",
      "         Gradient evaluations: 53\n",
      "Warning: Maximum number of iterations has been exceeded.\n",
      "         Current function value: 0.000007\n",
      "         Iterations: 1000\n",
      "         Function evaluations: 1809\n",
      "         Gradient evaluations: 1809\n",
      "Optimization terminated successfully.\n",
      "         Current function value: 0.000014\n",
      "         Iterations: 778\n",
      "         Function evaluations: 1485\n",
      "         Gradient evaluations: 1485\n",
      "Optimization terminated successfully.\n",
      "         Current function value: 0.010818\n",
      "         Iterations: 700\n",
      "         Function evaluations: 1397\n",
      "         Gradient evaluations: 1397\n",
      "Optimization terminated successfully.\n",
      "         Current function value: 0.031220\n",
      "         Iterations: 742\n",
      "         Function evaluations: 1432\n",
      "         Gradient evaluations: 1432\n",
      "Warning: Maximum number of iterations has been exceeded.\n",
      "         Current function value: 0.028892\n",
      "         Iterations: 1000\n",
      "         Function evaluations: 1931\n",
      "         Gradient evaluations: 1931\n"
     ]
    },
    {
     "data": {
      "image/png": "[encoded data removed]",
      "text/plain": [
       "<matplotlib.figure.Figure at 0x289b161e1d0>"
      ]
     },
     "metadata": {
      "needs_background": "light"
     },
     "output_type": "display_data"
    }
   ],
   "source": [
    "# Plotando curva de aprendizado\n",
    "error_train, error_cv = plotLearningCurve(X_train_poly, y_train, X_val_poly, y_val, 0)"
   ]
  },
  {
   "cell_type": "markdown",
   "metadata": {},
   "source": [
    "**Análise do Gráfico**\n",
    "\n",
    "Com o aumento do número ```m``` de exemplos utilizados no cálculo dos erros, é possível perceber que tanto o custo de treinamento quanto o custo de validação ficam com um **GAP** entre si e que, além disso, o custo obtido para os dados de treinamento está sempre em níveis inferiores. Isto indica que o modelo sofre de um **ALTA VARIÂNCIA** e que as ações abaixo poderiam auxiliar a contornar este problema:\n",
    "    - Coletar mais dados para o treinamento;\n",
    "    - Diminuir o set de features do modelo;\n",
    "    - Aumentar o termo de regularização lambda."
   ]
  },
  {
   "cell_type": "markdown",
   "metadata": {},
   "source": [
    "A próxima investigação a ser realizada gira em torno da variação do parâmetro ```lambda``` para verificar como o modelo se comporta."
   ]
  },
  {
   "cell_type": "markdown",
   "metadata": {},
   "source": [
    "### Alterando Lambda"
   ]
  },
  {
   "cell_type": "markdown",
   "metadata": {
    "ExecuteTime": {
     "end_time": "2019-04-21T02:36:08.539473Z",
     "start_time": "2019-04-21T02:36:08.533592Z"
    }
   },
   "source": [
    "#### Lambda = 1"
   ]
  },
  {
   "cell_type": "code",
   "execution_count": 74,
   "metadata": {
    "ExecuteTime": {
     "end_time": "2019-04-21T05:09:50.485850Z",
     "start_time": "2019-04-21T05:09:50.074410Z"
    }
   },
   "outputs": [
    {
     "name": "stdout",
     "output_type": "stream",
     "text": [
      "Optimization terminated successfully.\n",
      "         Current function value: 6.830463\n",
      "         Iterations: 25\n",
      "         Function evaluations: 43\n",
      "         Gradient evaluations: 43\n"
     ]
    },
    {
     "data": {
      "image/png": "[encoded data removed]",
      "text/plain": [
       "<matplotlib.figure.Figure at 0x289b1b4e978>"
      ]
     },
     "metadata": {
      "needs_background": "light"
     },
     "output_type": "display_data"
    }
   ],
   "source": [
    "# Antes de iterar a fim de ver o melhor valor de lambda, vamos visualizar dois extremos\n",
    "lamda = 1\n",
    "m, n = X_train_poly.shape\n",
    "theta_inicial = np.ones((n, 1))\n",
    "\n",
    "# Treinando o modelo\n",
    "best_theta_lamda1, J_min_lamda1 = trainLinReg(theta_inicial, X_train_poly, y_train, lamda)\n",
    "\n",
    "# Plotando equação do modelo\n",
    "plotCurve(best_theta_lamda1, X_train, y_train, X=X_train_poly)"
   ]
  },
  {
   "cell_type": "code",
   "execution_count": 92,
   "metadata": {
    "ExecuteTime": {
     "end_time": "2019-04-21T05:36:52.993259Z",
     "start_time": "2019-04-21T05:36:52.695079Z"
    }
   },
   "outputs": [
    {
     "name": "stdout",
     "output_type": "stream",
     "text": [
      "Optimization terminated successfully.\n",
      "         Current function value: 0.000000\n",
      "         Iterations: 8\n",
      "         Function evaluations: 15\n",
      "         Gradient evaluations: 15\n",
      "Optimization terminated successfully.\n",
      "         Current function value: 0.108491\n",
      "         Iterations: 9\n",
      "         Function evaluations: 17\n",
      "         Gradient evaluations: 17\n",
      "Optimization terminated successfully.\n",
      "         Current function value: 74.611380\n",
      "         Iterations: 15\n",
      "         Function evaluations: 29\n",
      "         Gradient evaluations: 29\n",
      "Optimization terminated successfully.\n",
      "         Current function value: 73.166196\n",
      "         Iterations: 19\n",
      "         Function evaluations: 38\n",
      "         Gradient evaluations: 38\n",
      "Optimization terminated successfully.\n",
      "         Current function value: 59.147974\n",
      "         Iterations: 13\n",
      "         Function evaluations: 25\n",
      "         Gradient evaluations: 25\n",
      "Optimization terminated successfully.\n",
      "         Current function value: 54.236533\n",
      "         Iterations: 6\n",
      "         Function evaluations: 14\n",
      "         Gradient evaluations: 14\n",
      "Optimization terminated successfully.\n",
      "         Current function value: 46.742359\n",
      "         Iterations: 6\n",
      "         Function evaluations: 13\n",
      "         Gradient evaluations: 13\n",
      "Optimization terminated successfully.\n",
      "         Current function value: 41.751426\n",
      "         Iterations: 6\n",
      "         Function evaluations: 15\n",
      "         Gradient evaluations: 15\n",
      "Optimization terminated successfully.\n",
      "         Current function value: 38.785990\n",
      "         Iterations: 18\n",
      "         Function evaluations: 36\n",
      "         Gradient evaluations: 36\n",
      "Optimization terminated successfully.\n",
      "         Current function value: 34.910274\n",
      "         Iterations: 16\n",
      "         Function evaluations: 33\n",
      "         Gradient evaluations: 33\n",
      "Optimization terminated successfully.\n",
      "         Current function value: 31.891494\n",
      "         Iterations: 17\n",
      "         Function evaluations: 32\n",
      "         Gradient evaluations: 32\n",
      "Optimization terminated successfully.\n",
      "         Current function value: 31.878154\n",
      "         Iterations: 11\n",
      "         Function evaluations: 20\n",
      "         Gradient evaluations: 20\n"
     ]
    },
    {
     "data": {
      "image/png": "[encoded data removed]",
      "text/plain": [
       "<matplotlib.figure.Figure at 0x289b19ad390>"
      ]
     },
     "metadata": {
      "needs_background": "light"
     },
     "output_type": "display_data"
    }
   ],
   "source": [
    "# Plotando curva de aprendizado\n",
    "error_train_lambda1, error_cv_lambda1 = plotLearningCurve(X_train_poly, y_train, \n",
    "                                                          X_val_poly, y_val, lamda)"
   ]
  },
  {
   "cell_type": "markdown",
   "metadata": {},
   "source": [
    "#### Lambda = 100"
   ]
  },
  {
   "cell_type": "code",
   "execution_count": 76,
   "metadata": {
    "ExecuteTime": {
     "end_time": "2019-04-21T05:09:51.601089Z",
     "start_time": "2019-04-21T05:09:51.167626Z"
    }
   },
   "outputs": [
    {
     "name": "stdout",
     "output_type": "stream",
     "text": [
      "Optimization terminated successfully.\n",
      "         Current function value: 65.950955\n",
      "         Iterations: 9\n",
      "         Function evaluations: 18\n",
      "         Gradient evaluations: 18\n"
     ]
    },
    {
     "data": {
      "image/png": "[encoded data removed]",
      "text/plain": [
       "<matplotlib.figure.Figure at 0x289b1c55278>"
      ]
     },
     "metadata": {
      "needs_background": "light"
     },
     "output_type": "display_data"
    }
   ],
   "source": [
    "# Antes de iterar a fim de ver o melhor valor de lambda, vamos visualizar dois extremos\n",
    "lamda = 100\n",
    "m, n = X_train_poly.shape\n",
    "theta_inicial = np.ones((n, 1))\n",
    "\n",
    "# Treinando o modelo\n",
    "best_theta_lamda100, J_min_lamda100 = trainLinReg(theta_inicial, X_train_poly, \n",
    "                                                  y_train, lamda)\n",
    "\n",
    "# Plotando equação do modelo\n",
    "plotCurve(best_theta_lamda100, X_train, y_train, X=X_train_poly)"
   ]
  },
  {
   "cell_type": "code",
   "execution_count": 77,
   "metadata": {
    "ExecuteTime": {
     "end_time": "2019-04-21T05:09:52.160204Z",
     "start_time": "2019-04-21T05:09:51.604091Z"
    }
   },
   "outputs": [
    {
     "name": "stdout",
     "output_type": "stream",
     "text": [
      "Optimization terminated successfully.\n",
      "         Current function value: 0.000000\n",
      "         Iterations: 3\n",
      "         Function evaluations: 8\n",
      "         Gradient evaluations: 8\n",
      "Optimization terminated successfully.\n",
      "         Current function value: 0.114717\n",
      "         Iterations: 4\n",
      "         Function evaluations: 9\n",
      "         Gradient evaluations: 9\n",
      "Optimization terminated successfully.\n",
      "         Current function value: 112.255156\n",
      "         Iterations: 8\n",
      "         Function evaluations: 17\n",
      "         Gradient evaluations: 17\n",
      "Optimization terminated successfully.\n",
      "         Current function value: 131.638608\n",
      "         Iterations: 20\n",
      "         Function evaluations: 36\n",
      "         Gradient evaluations: 36\n",
      "Optimization terminated successfully.\n",
      "         Current function value: 116.062526\n",
      "         Iterations: 6\n",
      "         Function evaluations: 13\n",
      "         Gradient evaluations: 13\n",
      "Optimization terminated successfully.\n",
      "         Current function value: 108.778507\n",
      "         Iterations: 6\n",
      "         Function evaluations: 13\n",
      "         Gradient evaluations: 13\n",
      "Optimization terminated successfully.\n",
      "         Current function value: 93.297101\n",
      "         Iterations: 6\n",
      "         Function evaluations: 13\n",
      "         Gradient evaluations: 13\n",
      "Optimization terminated successfully.\n",
      "         Current function value: 86.349367\n",
      "         Iterations: 6\n",
      "         Function evaluations: 13\n",
      "         Gradient evaluations: 13\n",
      "Optimization terminated successfully.\n",
      "         Current function value: 80.206754\n",
      "         Iterations: 6\n",
      "         Function evaluations: 13\n",
      "         Gradient evaluations: 13\n",
      "Optimization terminated successfully.\n",
      "         Current function value: 73.060272\n",
      "         Iterations: 6\n",
      "         Function evaluations: 13\n",
      "         Gradient evaluations: 13\n",
      "Optimization terminated successfully.\n",
      "         Current function value: 66.883255\n",
      "         Iterations: 6\n",
      "         Function evaluations: 13\n",
      "         Gradient evaluations: 13\n",
      "Optimization terminated successfully.\n",
      "         Current function value: 65.950955\n",
      "         Iterations: 9\n",
      "         Function evaluations: 18\n",
      "         Gradient evaluations: 18\n"
     ]
    },
    {
     "data": {
      "image/png": "[encoded data removed]",
      "text/plain": [
       "<matplotlib.figure.Figure at 0x289b1c5c3c8>"
      ]
     },
     "metadata": {
      "needs_background": "light"
     },
     "output_type": "display_data"
    }
   ],
   "source": [
    "# Plotando curva de aprendizado\n",
    "error_train_lambda100, error_cv_lambda100 = plotLearningCurve(X_train_poly, y_train, \n",
    "                                                              X_val_poly, y_val, lamda)"
   ]
  },
  {
   "cell_type": "markdown",
   "metadata": {},
   "source": [
    "#### Melhor Lambda"
   ]
  },
  {
   "cell_type": "markdown",
   "metadata": {},
   "source": [
    "Antes de iniciar a análise, é válido criar uma função que retorne o erro obtido pelos conjuntos de Treino e de Validação para quantificaramos os efeitos causados por alterações nos parâmetros lambda."
   ]
  },
  {
   "cell_type": "code",
   "execution_count": 78,
   "metadata": {
    "ExecuteTime": {
     "end_time": "2019-04-21T05:09:52.197106Z",
     "start_time": "2019-04-21T05:09:52.166190Z"
    }
   },
   "outputs": [
    {
     "ename": "IndentationError",
     "evalue": "unindent does not match any outer indentation level (<tokenize>, line 12)",
     "output_type": "error",
     "traceback": [
      "\u001b[1;36m  File \u001b[1;32m\"<tokenize>\"\u001b[1;36m, line \u001b[1;32m12\u001b[0m\n\u001b[1;33m    fig, ax = plt.subplots(figsize=(8, 5))\u001b[0m\n\u001b[1;37m    ^\u001b[0m\n\u001b[1;31mIndentationError\u001b[0m\u001b[1;31m:\u001b[0m unindent does not match any outer indentation level\n"
     ]
    }
   ],
   "source": [
    "# Definindo função para plotar curva de aprendizado\n",
    "def computeErrors(theta, X_train, y_train, X_val, y_val, lamda):\n",
    "    \n",
    "\n",
    "        # Retornando o custo com os parâmetros aprendidos\n",
    "        J_val = linRegCostFunction(theta_learned.reshape(n, 1), X_val, \n",
    "                                   y_val, lamda)\n",
    "        error_train.append(J_min_train)\n",
    "        error_cv.append(J_val)\n",
    "    \n",
    "    # Plotando dados\n",
    "    fig, ax = plt.subplots(figsize=(8, 5))\n",
    "    ax.plot(np.arange(m)+1, error_train, label='Erro no Treino')\n",
    "    ax.plot(np.arange(m)+1, error_cv, label='Erro Cross Val')\n",
    "    ax.set_title('Curva de Aprendizado', size=15)\n",
    "    ax.set_xlabel('Número de exemplos de treinamento', size=10, labelpad=10)\n",
    "    ax.set_ylabel('Erro', size=10, labelpad=10)\n",
    "    plt.legend()\n",
    "    plt.show()\n",
    "    \n",
    "    return error_train, error_cv"
   ]
  },
  {
   "cell_type": "code",
   "execution_count": 82,
   "metadata": {
    "ExecuteTime": {
     "end_time": "2019-04-21T05:30:13.090118Z",
     "start_time": "2019-04-21T05:30:12.674963Z"
    }
   },
   "outputs": [
    {
     "name": "stdout",
     "output_type": "stream",
     "text": [
      "Warning: Maximum number of iterations has been exceeded.\n",
      "         Current function value: 0.028892\n",
      "         Iterations: 1000\n",
      "         Function evaluations: 1931\n",
      "         Gradient evaluations: 1931\n",
      "Optimization terminated successfully.\n",
      "         Current function value: 0.169418\n",
      "         Iterations: 332\n",
      "         Function evaluations: 657\n",
      "         Gradient evaluations: 657\n",
      "Optimization terminated successfully.\n",
      "         Current function value: 0.243172\n",
      "         Iterations: 182\n",
      "         Function evaluations: 352\n",
      "         Gradient evaluations: 352\n",
      "Optimization terminated successfully.\n",
      "         Current function value: 0.371282\n",
      "         Iterations: 212\n",
      "         Function evaluations: 403\n",
      "         Gradient evaluations: 403\n",
      "Optimization terminated successfully.\n",
      "         Current function value: 0.636703\n",
      "         Iterations: 85\n",
      "         Function evaluations: 162\n",
      "         Gradient evaluations: 162\n",
      "Optimization terminated successfully.\n",
      "         Current function value: 1.360572\n",
      "         Iterations: 88\n",
      "         Function evaluations: 156\n",
      "         Gradient evaluations: 156\n",
      "Optimization terminated successfully.\n",
      "         Current function value: 2.917649\n",
      "         Iterations: 31\n",
      "         Function evaluations: 60\n",
      "         Gradient evaluations: 60\n",
      "Optimization terminated successfully.\n",
      "         Current function value: 6.830463\n",
      "         Iterations: 25\n",
      "         Function evaluations: 43\n",
      "         Gradient evaluations: 43\n",
      "Optimization terminated successfully.\n",
      "         Current function value: 14.937646\n",
      "         Iterations: 26\n",
      "         Function evaluations: 41\n",
      "         Gradient evaluations: 41\n",
      "Optimization terminated successfully.\n",
      "         Current function value: 31.878154\n",
      "         Iterations: 11\n",
      "         Function evaluations: 20\n",
      "         Gradient evaluations: 20\n"
     ]
    }
   ],
   "source": [
    "# Inicializando variáveis\n",
    "lamdas = [0, 0.001, 0.003, 0.01, 0.03, 0.1, 0.3, 1, 3, 10]\n",
    "m, n = X_train_poly.shape\n",
    "theta_inicial = np.ones((n, 1))\n",
    "historic_error_train = []\n",
    "historic_error_cv = []\n",
    "\n",
    "# Laço para computar erros\n",
    "for lamda in lamdas:\n",
    "    params, cost = trainLinReg(theta_inicial, X_train_poly, y_train, lamda)\n",
    "    cost_train = linRegCostFunction(params, X_train_poly, y_train, 0)\n",
    "    cost_val = linRegCostFunction(params, X_val_poly, y_val, 0)\n",
    "    historic_error_train.append(cost)\n",
    "    historic_error_cv.append(cost_val)"
   ]
  },
  {
   "cell_type": "code",
   "execution_count": 83,
   "metadata": {
    "ExecuteTime": {
     "end_time": "2019-04-21T05:30:17.121071Z",
     "start_time": "2019-04-21T05:30:17.061250Z"
    }
   },
   "outputs": [
    {
     "data": {
      "text/plain": [
       "[0.02889245827382454,\n",
       " 0.16941825467007388,\n",
       " 0.24317192048460262,\n",
       " 0.37128249316699646,\n",
       " 0.6367028628402114,\n",
       " 1.3605722511697205,\n",
       " 2.9176493442784506,\n",
       " 6.830463317314876,\n",
       " 14.937645806057716,\n",
       " 31.878154019295778]"
      ]
     },
     "execution_count": 83,
     "metadata": {},
     "output_type": "execute_result"
    }
   ],
   "source": [
    "# Verificando output de treino\n",
    "historic_error_train"
   ]
  },
  {
   "cell_type": "code",
   "execution_count": 84,
   "metadata": {
    "ExecuteTime": {
     "end_time": "2019-04-21T05:30:20.462264Z",
     "start_time": "2019-04-21T05:30:20.455232Z"
    }
   },
   "outputs": [
    {
     "data": {
      "text/plain": [
       "[28.00041956356775,\n",
       " 9.723915283359847,\n",
       " 14.38952983170852,\n",
       " 15.065295372447641,\n",
       " 12.195224447900847,\n",
       " 8.14993655463634,\n",
       " 5.378012836530733,\n",
       " 4.556550193735104,\n",
       " 4.998840418493758,\n",
       " 12.436940038042788]"
      ]
     },
     "execution_count": 84,
     "metadata": {},
     "output_type": "execute_result"
    }
   ],
   "source": [
    "# Verificando output de validação\n",
    "historic_error_cv"
   ]
  },
  {
   "cell_type": "code",
   "execution_count": null,
   "metadata": {},
   "outputs": [],
   "source": []
  }
 ],
 "metadata": {
  "kernelspec": {
   "display_name": "Python 3",
   "language": "python",
   "name": "python3"
  },
  "language_info": {
   "codemirror_mode": {
    "name": "ipython",
    "version": 3
   },
   "file_extension": ".py",
   "mimetype": "text/x-python",
   "name": "python",
   "nbconvert_exporter": "python",
   "pygments_lexer": "ipython3",
   "version": "3.6.4"
  },
  "toc": {
   "base_numbering": 1,
   "nav_menu": {},
   "number_sections": true,
   "sideBar": true,
   "skip_h1_title": true,
   "title_cell": "Table of Contents",
   "title_sidebar": "Contents",
   "toc_cell": true,
   "toc_position": {},
   "toc_section_display": true,
   "toc_window_display": true
  }
 },
 "nbformat": 4,
 "nbformat_minor": 2
}
