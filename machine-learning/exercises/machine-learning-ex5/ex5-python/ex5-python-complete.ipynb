{
 "cells": [
  {
   "cell_type": "markdown",
   "metadata": {
    "toc": true
   },
   "source": [
    "<h1>Table of Contents<span class=\"tocSkip\"></span></h1>\n",
    "<div class=\"toc\"><ul class=\"toc-item\"><li><span><a href=\"#Regressão-Linear\" data-toc-modified-id=\"Regressão-Linear-1\"><span class=\"toc-item-num\">1&nbsp;&nbsp;</span>Regressão Linear</a></span><ul class=\"toc-item\"><li><span><a href=\"#Lendo-os-Dados\" data-toc-modified-id=\"Lendo-os-Dados-1.1\"><span class=\"toc-item-num\">1.1&nbsp;&nbsp;</span>Lendo os Dados</a></span></li><li><span><a href=\"#Função-Custo-Regularizada\" data-toc-modified-id=\"Função-Custo-Regularizada-1.2\"><span class=\"toc-item-num\">1.2&nbsp;&nbsp;</span>Função Custo Regularizada</a></span><ul class=\"toc-item\"><li><span><a href=\"#Hypothesis\" data-toc-modified-id=\"Hypothesis-1.2.1\"><span class=\"toc-item-num\">1.2.1&nbsp;&nbsp;</span>Hypothesis</a></span></li><li><span><a href=\"#Custo-e-Regularização\" data-toc-modified-id=\"Custo-e-Regularização-1.2.2\"><span class=\"toc-item-num\">1.2.2&nbsp;&nbsp;</span>Custo e Regularização</a></span></li><li><span><a href=\"#Gradiente-e-Regularização\" data-toc-modified-id=\"Gradiente-e-Regularização-1.2.3\"><span class=\"toc-item-num\">1.2.3&nbsp;&nbsp;</span>Gradiente e Regularização</a></span></li><li><span><a href=\"#Treinando-Modelo\" data-toc-modified-id=\"Treinando-Modelo-1.2.4\"><span class=\"toc-item-num\">1.2.4&nbsp;&nbsp;</span>Treinando Modelo</a></span></li><li><span><a href=\"#Visualizando-Treinamento\" data-toc-modified-id=\"Visualizando-Treinamento-1.2.5\"><span class=\"toc-item-num\">1.2.5&nbsp;&nbsp;</span>Visualizando Treinamento</a></span></li></ul></li><li><span><a href=\"#Curvas-de-Aprendizado\" data-toc-modified-id=\"Curvas-de-Aprendizado-1.3\"><span class=\"toc-item-num\">1.3&nbsp;&nbsp;</span>Curvas de Aprendizado</a></span></li></ul></li></ul></div>"
   ]
  },
  {
   "cell_type": "markdown",
   "metadata": {},
   "source": [
    "Este notebook tem por objetivo a implementação de um modelo de ```Regressão Linear Regularizada``` para estudar os efeitos das propriedades ```viés-variância``` nos algoritmos. Na primeira metade do exercício, será proposto o desenvolvimento de um modelo para predição da vazão de água através de uma torneira de acordo com o nível de água presente em um reservatório. Já na segunda metade, vamos avaliar alguns diagnósticos e examinar os efeitos de viés-variância no modelo."
   ]
  },
  {
   "cell_type": "markdown",
   "metadata": {},
   "source": [
    "## Regressão Linear"
   ]
  },
  {
   "cell_type": "markdown",
   "metadata": {},
   "source": [
    "### Lendo os Dados"
   ]
  },
  {
   "cell_type": "code",
   "execution_count": 1,
   "metadata": {
    "ExecuteTime": {
     "end_time": "2019-04-19T18:42:33.106142Z",
     "start_time": "2019-04-19T18:42:23.721330Z"
    }
   },
   "outputs": [],
   "source": [
    "# Importando bibliotecas\n",
    "import numpy as np\n",
    "import scipy.io as sio"
   ]
  },
  {
   "cell_type": "markdown",
   "metadata": {},
   "source": [
    "A partir da leitura do arquivo contendo os dados, é esperado receber:\n",
    "\n",
    "    - Um set de treino (X, y);\n",
    "    - Um set de validação cruzada (X_val, y_val);\n",
    "    - Um set treino (X_test, y_test)."
   ]
  },
  {
   "cell_type": "code",
   "execution_count": 6,
   "metadata": {
    "ExecuteTime": {
     "end_time": "2019-04-19T18:44:24.616851Z",
     "start_time": "2019-04-19T18:44:24.611824Z"
    }
   },
   "outputs": [],
   "source": [
    "# Lendo os dados\n",
    "data = sio.loadmat('ex5data1.mat')"
   ]
  },
  {
   "cell_type": "code",
   "execution_count": 7,
   "metadata": {
    "ExecuteTime": {
     "end_time": "2019-04-19T18:44:31.244007Z",
     "start_time": "2019-04-19T18:44:31.236032Z"
    }
   },
   "outputs": [
    {
     "data": {
      "text/plain": [
       "{'X': array([[-15.93675813],\n",
       "        [-29.15297922],\n",
       "        [ 36.18954863],\n",
       "        [ 37.49218733],\n",
       "        [-48.05882945],\n",
       "        [ -8.94145794],\n",
       "        [ 15.30779289],\n",
       "        [-34.70626581],\n",
       "        [  1.38915437],\n",
       "        [-44.38375985],\n",
       "        [  7.01350208],\n",
       "        [ 22.76274892]]), 'Xtest': array([[-33.31800399],\n",
       "        [-37.91216403],\n",
       "        [-51.20693795],\n",
       "        [ -6.13259585],\n",
       "        [ 21.26118327],\n",
       "        [-40.31952949],\n",
       "        [-14.54153167],\n",
       "        [ 32.55976024],\n",
       "        [ 13.39343255],\n",
       "        [ 44.20988595],\n",
       "        [ -1.14267768],\n",
       "        [-12.76686065],\n",
       "        [ 34.05450539],\n",
       "        [ 39.22350028],\n",
       "        [  1.97449674],\n",
       "        [ 29.6217551 ],\n",
       "        [-23.66962971],\n",
       "        [ -9.01180139],\n",
       "        [-55.94057091],\n",
       "        [-35.70859752],\n",
       "        [  9.51020533]]), 'Xval': array([[-16.74653578],\n",
       "        [-14.57747075],\n",
       "        [ 34.51575866],\n",
       "        [-47.01007574],\n",
       "        [ 36.97511905],\n",
       "        [-40.68611002],\n",
       "        [ -4.47201098],\n",
       "        [ 26.53363489],\n",
       "        [-42.7976831 ],\n",
       "        [ 25.37409938],\n",
       "        [-31.10955398],\n",
       "        [ 27.31176864],\n",
       "        [ -3.26386201],\n",
       "        [ -1.81827649],\n",
       "        [-40.7196624 ],\n",
       "        [-50.01324365],\n",
       "        [-17.41177155],\n",
       "        [  3.5881937 ],\n",
       "        [  7.08548026],\n",
       "        [ 46.28236902],\n",
       "        [ 14.61228909]]), '__globals__': [], '__header__': b'MATLAB 5.0 MAT-file, Platform: GLNXA64, Created on: Fri Nov  4 22:27:26 2011', '__version__': '1.0', 'y': array([[ 2.13431051],\n",
       "        [ 1.17325668],\n",
       "        [34.35910918],\n",
       "        [36.83795516],\n",
       "        [ 2.80896507],\n",
       "        [ 2.12107248],\n",
       "        [14.71026831],\n",
       "        [ 2.61418439],\n",
       "        [ 3.74017167],\n",
       "        [ 3.73169131],\n",
       "        [ 7.62765885],\n",
       "        [22.7524283 ]]), 'ytest': array([[ 3.31688953],\n",
       "        [ 5.39768952],\n",
       "        [ 0.13042984],\n",
       "        [ 6.1925982 ],\n",
       "        [17.08848712],\n",
       "        [ 0.79950805],\n",
       "        [ 2.82479183],\n",
       "        [28.62123334],\n",
       "        [17.04639081],\n",
       "        [55.38437334],\n",
       "        [ 4.07936733],\n",
       "        [ 8.27039793],\n",
       "        [31.32355102],\n",
       "        [39.15906103],\n",
       "        [ 8.08727989],\n",
       "        [24.11134389],\n",
       "        [ 2.4773548 ],\n",
       "        [ 6.56606472],\n",
       "        [ 6.0380888 ],\n",
       "        [ 4.69273956],\n",
       "        [10.83004606]]), 'yval': array([[ 4.17020201e+00],\n",
       "        [ 4.06726280e+00],\n",
       "        [ 3.18730676e+01],\n",
       "        [ 1.06236562e+01],\n",
       "        [ 3.18360213e+01],\n",
       "        [ 4.95936972e+00],\n",
       "        [ 4.45159880e+00],\n",
       "        [ 2.22763185e+01],\n",
       "        [-4.38738274e-05],\n",
       "        [ 2.05038016e+01],\n",
       "        [ 3.85834476e+00],\n",
       "        [ 1.93650529e+01],\n",
       "        [ 4.88376281e+00],\n",
       "        [ 1.10971588e+01],\n",
       "        [ 7.46170827e+00],\n",
       "        [ 1.47693464e+00],\n",
       "        [ 2.71916388e+00],\n",
       "        [ 1.09269007e+01],\n",
       "        [ 8.34871235e+00],\n",
       "        [ 5.27819280e+01],\n",
       "        [ 1.33573396e+01]])}"
      ]
     },
     "execution_count": 7,
     "metadata": {},
     "output_type": "execute_result"
    }
   ],
   "source": [
    "# Visualizando o conteúdo importado\n",
    "data"
   ]
  },
  {
   "cell_type": "code",
   "execution_count": 16,
   "metadata": {
    "ExecuteTime": {
     "end_time": "2019-04-19T18:46:01.288594Z",
     "start_time": "2019-04-19T18:46:01.280670Z"
    }
   },
   "outputs": [
    {
     "name": "stdout",
     "output_type": "stream",
     "text": [
      "Chaves do arquivo importado: ['X', 'y', 'Xtest', 'ytest', 'Xval', 'yval']\n"
     ]
    }
   ],
   "source": [
    "# Visualizando de forma mais dinâmica\n",
    "print(f'Chaves do arquivo importado: {list(data.keys())[3:]}')"
   ]
  },
  {
   "cell_type": "code",
   "execution_count": 119,
   "metadata": {
    "ExecuteTime": {
     "end_time": "2019-04-19T20:51:58.527768Z",
     "start_time": "2019-04-19T20:51:58.516798Z"
    }
   },
   "outputs": [],
   "source": [
    "# Separando conjuntos de Treino\n",
    "X_train = data['X']\n",
    "y_train = data['y']\n",
    "\n",
    "# Separando conjuntos de Validação\n",
    "X_val = data['Xval']\n",
    "y_val = data['yval']\n",
    "\n",
    "# Separando conjuntos de Teste\n",
    "X_test = data['Xtest']\n",
    "y_test = data['ytest']"
   ]
  },
  {
   "cell_type": "code",
   "execution_count": 120,
   "metadata": {
    "ExecuteTime": {
     "end_time": "2019-04-19T20:51:58.924052Z",
     "start_time": "2019-04-19T20:51:58.918068Z"
    }
   },
   "outputs": [
    {
     "name": "stdout",
     "output_type": "stream",
     "text": [
      "Dimensões de X_train: (12, 1)\n",
      "Dimensões de X_val: (21, 1)\n",
      "Dimensões de X_test: (21, 1)\n"
     ]
    }
   ],
   "source": [
    "# Verificando dimensões\n",
    "print(f'Dimensões de X_train: {X_train.shape}')\n",
    "print(f'Dimensões de X_val: {X_val.shape}')\n",
    "print(f'Dimensões de X_test: {X_test.shape}')"
   ]
  },
  {
   "cell_type": "markdown",
   "metadata": {},
   "source": [
    "Temos em mãos um conjunto de dados com pouquíssimos dados. Acredito que não será possível aplicar com eficiência treinamentos a partir do Scikit-Learn. Será apenas um desenvolvimento didático."
   ]
  },
  {
   "cell_type": "markdown",
   "metadata": {},
   "source": [
    "Um outro ponto a ser destacado é que, de certa forma, não faz nenhum sentido o conjunto de treino possuir praticamente a metade da quantidade de dados dos conjuntos de validação e de teste. Isto não é, nem de longe, aplicável em problemas reais."
   ]
  },
  {
   "cell_type": "code",
   "execution_count": 121,
   "metadata": {
    "ExecuteTime": {
     "end_time": "2019-04-19T20:52:01.205069Z",
     "start_time": "2019-04-19T20:52:01.200084Z"
    }
   },
   "outputs": [
    {
     "data": {
      "text/plain": [
       "array([[-15.93675813],\n",
       "       [-29.15297922],\n",
       "       [ 36.18954863],\n",
       "       [ 37.49218733],\n",
       "       [-48.05882945]])"
      ]
     },
     "execution_count": 121,
     "metadata": {},
     "output_type": "execute_result"
    }
   ],
   "source": [
    "# Vamos verificar as primeiras linhas dos dados de treino\n",
    "X_train[:5]"
   ]
  },
  {
   "cell_type": "markdown",
   "metadata": {},
   "source": [
    "Lembrando que:\n",
    "    - Eixo x (feature): mudança no nível de água no reservatório\n",
    "    - Eixo y (label): fluxo de água saindo da torneira"
   ]
  },
  {
   "cell_type": "code",
   "execution_count": 122,
   "metadata": {
    "ExecuteTime": {
     "end_time": "2019-04-19T20:52:02.638239Z",
     "start_time": "2019-04-19T20:52:02.633251Z"
    }
   },
   "outputs": [
    {
     "data": {
      "text/plain": [
       "array([[ 2.13431051],\n",
       "       [ 1.17325668],\n",
       "       [34.35910918],\n",
       "       [36.83795516],\n",
       "       [ 2.80896507]])"
      ]
     },
     "execution_count": 122,
     "metadata": {},
     "output_type": "execute_result"
    }
   ],
   "source": [
    "# Vejamos o label\n",
    "y_train[:5]"
   ]
  },
  {
   "cell_type": "code",
   "execution_count": 123,
   "metadata": {
    "ExecuteTime": {
     "end_time": "2019-04-19T20:52:03.714363Z",
     "start_time": "2019-04-19T20:52:03.706384Z"
    }
   },
   "outputs": [
    {
     "name": "stdout",
     "output_type": "stream",
     "text": [
      "Dimensões de y_train antes do reshape: (12, 1)\n",
      "Dimensões de y_train após o reshape: (12,)\n",
      "\n",
      "Primeiras linhas de y_train: \n",
      "[ 2.13431051  1.17325668 34.35910918 36.83795516  2.80896507]\n"
     ]
    }
   ],
   "source": [
    "# Vamos alterar o label y para critérios de otimização futuros\n",
    "print(f'Dimensões de y_train antes do reshape: {y_train.shape}')\n",
    "y_train = y_train.reshape(-1)\n",
    "\n",
    "print(f'Dimensões de y_train após o reshape: {y_train.shape}')\n",
    "print(f'\\nPrimeiras linhas de y_train: \\n{y_train[:5]}')"
   ]
  },
  {
   "cell_type": "code",
   "execution_count": 124,
   "metadata": {
    "ExecuteTime": {
     "end_time": "2019-04-19T20:52:04.421471Z",
     "start_time": "2019-04-19T20:52:04.262897Z"
    }
   },
   "outputs": [
    {
     "data": {
      "image/png": "[encoded data removed]",
      "text/plain": [
       "<matplotlib.figure.Figure at 0x190e3a00ef0>"
      ]
     },
     "metadata": {
      "needs_background": "light"
     },
     "output_type": "display_data"
    }
   ],
   "source": [
    "# Vamos plotar os dados\n",
    "import matplotlib.pyplot as plt\n",
    "%matplotlib inline\n",
    "\n",
    "# Criando figure e eixo\n",
    "fig, ax = plt.subplots(figsize=(8, 5))\n",
    "ax.scatter(X_train, y_train, marker='x', color='r')\n",
    "ax.set_title('Vazão de Água por Nível do Reservatório', size=15)\n",
    "ax.set_xlabel('Mudança no nível nível de água', size=10, labelpad=10)\n",
    "ax.set_ylabel('Fluxo de saída de água', size=10, labelpad=10)\n",
    "plt.show()"
   ]
  },
  {
   "cell_type": "markdown",
   "metadata": {},
   "source": [
    "Através da plotagem, é possível perceber que o comportamento do modelo não pode ser linear, visto que os dados possem um comportamento exponencial (ou de graus polinomiais maiores) a medida que o mudança no nível de água do reservatório aumenta.\n",
    "\n",
    "Para dar início ao desenvolvimento, vamos calcular a função custo considerando um modelo linear simples!"
   ]
  },
  {
   "cell_type": "markdown",
   "metadata": {},
   "source": [
    "### Função Custo Regularizada"
   ]
  },
  {
   "cell_type": "markdown",
   "metadata": {},
   "source": [
    "Em um primeiro momento, vamos considerar um modelo totalmente linear (grau polinomial = 1) apenas para definir uma função custo para os testes posteriores."
   ]
  },
  {
   "cell_type": "markdown",
   "metadata": {},
   "source": [
    "Fórmula:\n",
    "\n",
    "\\begin{equation*}\n",
    "    J(\\theta)=\\frac{1}{2m}\\left(\\sum_{i=1}^{m}\\left(h_\\theta(x^{(i)})-y^{(i)}\\right)^2\\right)+\n",
    "              \\frac{\\lambda}{2m}\\left(\\sum_{j=1}^{n}\\theta_j^2\\right)\n",
    "\\end{equation*}"
   ]
  },
  {
   "cell_type": "markdown",
   "metadata": {},
   "source": [
    "Considerações:\n",
    "    - lambda ALTO = tendência a UNDERFITTING\n",
    "    - lambda BAIXO = tendência a OVERFITTING"
   ]
  },
  {
   "cell_type": "markdown",
   "metadata": {},
   "source": [
    "#### Hypothesis"
   ]
  },
  {
   "cell_type": "code",
   "execution_count": 55,
   "metadata": {
    "ExecuteTime": {
     "end_time": "2019-04-19T19:31:07.256294Z",
     "start_time": "2019-04-19T19:31:07.249746Z"
    }
   },
   "outputs": [
    {
     "data": {
      "text/plain": [
       "array([[1],\n",
       "       [1]])"
      ]
     },
     "execution_count": 55,
     "metadata": {},
     "output_type": "execute_result"
    }
   ],
   "source": [
    "# Inicializando parâmetros de teste\n",
    "theta_inicial = np.array((1, 1)).reshape(2, 1)\n",
    "theta_inicial"
   ]
  },
  {
   "cell_type": "markdown",
   "metadata": {},
   "source": [
    "Para iniciarmos os cálculos da função custo, precisamos, primeiro calcular a função ```hypothesis``` para Regressão Linear"
   ]
  },
  {
   "cell_type": "markdown",
   "metadata": {},
   "source": [
    "\\begin{equation*}\n",
    "    h_\\theta(x)=\\theta^Tx=\\theta_0+\\theta_1x_1+\\theta_2x_2+...+\\theta_nx_n\n",
    "\\end{equation*}"
   ]
  },
  {
   "cell_type": "code",
   "execution_count": 125,
   "metadata": {
    "ExecuteTime": {
     "end_time": "2019-04-19T20:52:10.958000Z",
     "start_time": "2019-04-19T20:52:10.949024Z"
    }
   },
   "outputs": [
    {
     "name": "stdout",
     "output_type": "stream",
     "text": [
      "Dimensões de X_train: (12, 2)\n",
      "\n",
      "Primeiras linhas de X_train: \n",
      "[[  1.         -15.93675813]\n",
      " [  1.         -29.15297922]\n",
      " [  1.          36.18954863]\n",
      " [  1.          37.49218733]\n",
      " [  1.         -48.05882945]]\n"
     ]
    }
   ],
   "source": [
    "# Adicionando termo de bias em X\n",
    "m = X_train.shape[0]\n",
    "X_train = np.c_[(np.ones((m, 1)), X_train)]\n",
    "\n",
    "# Verificnado\n",
    "print(f'Dimensões de X_train: {X_train.shape}')\n",
    "print(f'\\nPrimeiras linhas de X_train: \\n{X_train[:5]}')"
   ]
  },
  {
   "cell_type": "code",
   "execution_count": 57,
   "metadata": {
    "ExecuteTime": {
     "end_time": "2019-04-19T19:39:49.397137Z",
     "start_time": "2019-04-19T19:39:49.391151Z"
    }
   },
   "outputs": [
    {
     "data": {
      "text/plain": [
       "(2, 1)"
      ]
     },
     "execution_count": 57,
     "metadata": {},
     "output_type": "execute_result"
    }
   ],
   "source": [
    "# Verificando dimensão dos parâmetros\n",
    "theta_inicial.shape"
   ]
  },
  {
   "cell_type": "markdown",
   "metadata": {},
   "source": [
    "Uma multiplicação de matriz com dimensões 12x2 por 2x1 resultará em h = 12x1, que é o que queremos!"
   ]
  },
  {
   "cell_type": "code",
   "execution_count": 58,
   "metadata": {
    "ExecuteTime": {
     "end_time": "2019-04-19T19:40:45.586242Z",
     "start_time": "2019-04-19T19:40:45.578323Z"
    }
   },
   "outputs": [
    {
     "name": "stdout",
     "output_type": "stream",
     "text": [
      "Primeiras linhas de h: \n",
      "[[-14.93675813]\n",
      " [-28.15297922]\n",
      " [ 37.18954863]\n",
      " [ 38.49218733]\n",
      " [-47.05882945]]\n"
     ]
    }
   ],
   "source": [
    "# Calculando hypothesis\n",
    "h = X_train.dot(theta_inicial)\n",
    "\n",
    "# Verificando primeiras linhas\n",
    "print(f'Primeiras linhas de h: \\n{h[:5]}')"
   ]
  },
  {
   "cell_type": "code",
   "execution_count": 61,
   "metadata": {
    "ExecuteTime": {
     "end_time": "2019-04-19T19:41:09.691390Z",
     "start_time": "2019-04-19T19:41:09.685407Z"
    }
   },
   "outputs": [
    {
     "name": "stdout",
     "output_type": "stream",
     "text": [
      "Primeiras linhas de y_train: \n",
      "[[ 2.13431051]\n",
      " [ 1.17325668]\n",
      " [34.35910918]\n",
      " [36.83795516]\n",
      " [ 2.80896507]]\n"
     ]
    }
   ],
   "source": [
    "# Comparando com y (target)\n",
    "print(f'Primeiras linhas de y_train: \\n{y_train[:5]}')"
   ]
  },
  {
   "cell_type": "code",
   "execution_count": 74,
   "metadata": {
    "ExecuteTime": {
     "end_time": "2019-04-19T19:51:55.801275Z",
     "start_time": "2019-04-19T19:51:55.793324Z"
    }
   },
   "outputs": [],
   "source": [
    "# Definindo função para cálculo da função hypothesis\n",
    "def hypothesis(theta, X):\n",
    "    \"\"\" Função responsável por cálcular a função hypothesis do modelo (predições)\n",
    "    Input:\n",
    "        theta: parâmetros do modelo;\n",
    "        X: features do modelo;\n",
    "    Output:\n",
    "        h: função hypothesis (predições)\"\"\"\n",
    "    \n",
    "    h = X.dot(theta)\n",
    "    return h   "
   ]
  },
  {
   "cell_type": "code",
   "execution_count": 75,
   "metadata": {
    "ExecuteTime": {
     "end_time": "2019-04-19T19:52:10.824677Z",
     "start_time": "2019-04-19T19:52:10.816618Z"
    }
   },
   "outputs": [
    {
     "data": {
      "text/plain": [
       "array([[-14.93675813],\n",
       "       [-28.15297922],\n",
       "       [ 37.18954863],\n",
       "       [ 38.49218733],\n",
       "       [-47.05882945]])"
      ]
     },
     "execution_count": 75,
     "metadata": {},
     "output_type": "execute_result"
    }
   ],
   "source": [
    "# Testando mais uma vez\n",
    "h = hypothesis(theta_inicial, X_train)\n",
    "h[:5]"
   ]
  },
  {
   "cell_type": "markdown",
   "metadata": {},
   "source": [
    "Obviamente temos uma grande diferença. Primeiro, porque os parâmetros foram iniciados em [1; 1] e, fatalmente esta está longe da combinação perfeita de parâmetros. Segundo, porque já vimos que o modelo linear (grau = 1) não se encaixa nos dados. Matematicamente, podemos provar esse \"erro\" através da função custo (esperamos obter um valor elevado pro custo)."
   ]
  },
  {
   "cell_type": "markdown",
   "metadata": {},
   "source": [
    "#### Custo e Regularização"
   ]
  },
  {
   "cell_type": "markdown",
   "metadata": {},
   "source": [
    "\\begin{equation*}\n",
    "    J(\\theta)=\\frac{1}{2m}\\left(\\sum_{i=1}^{m}\\left(h_\\theta(x^{(i)})-y^{(i)}\\right)^2\\right)+\n",
    "              \\frac{\\lambda}{2m}\\left(\\sum_{j=1}^{n}\\theta_j^2\\right)\n",
    "\\end{equation*}"
   ]
  },
  {
   "cell_type": "code",
   "execution_count": 63,
   "metadata": {
    "ExecuteTime": {
     "end_time": "2019-04-19T19:43:40.194278Z",
     "start_time": "2019-04-19T19:43:40.188307Z"
    }
   },
   "outputs": [
    {
     "data": {
      "text/plain": [
       "array([[-17.07106864],\n",
       "       [-29.3262359 ],\n",
       "       [  2.83043945],\n",
       "       [  1.65423217],\n",
       "       [-49.86779453],\n",
       "       [-10.06253041],\n",
       "       [  1.59752458],\n",
       "       [-36.3204502 ],\n",
       "       [ -1.3510173 ],\n",
       "       [-47.11545116],\n",
       "       [  0.38584323],\n",
       "       [  1.01032062]])"
      ]
     },
     "execution_count": 63,
     "metadata": {},
     "output_type": "execute_result"
    }
   ],
   "source": [
    "# Subtração\n",
    "h - y_train"
   ]
  },
  {
   "cell_type": "code",
   "execution_count": 64,
   "metadata": {
    "ExecuteTime": {
     "end_time": "2019-04-19T19:46:03.549437Z",
     "start_time": "2019-04-19T19:46:03.542547Z"
    }
   },
   "outputs": [
    {
     "data": {
      "text/plain": [
       "array([[2.91421385e+02],\n",
       "       [8.60028112e+02],\n",
       "       [8.01138746e+00],\n",
       "       [2.73648407e+00],\n",
       "       [2.48679693e+03],\n",
       "       [1.01254518e+02],\n",
       "       [2.55208479e+00],\n",
       "       [1.31917510e+03],\n",
       "       [1.82524774e+00],\n",
       "       [2.21986574e+03],\n",
       "       [1.48874998e-01],\n",
       "       [1.02074775e+00]])"
      ]
     },
     "execution_count": 64,
     "metadata": {},
     "output_type": "execute_result"
    }
   ],
   "source": [
    "# Elevando ao quadrado\n",
    "(h - y_train) ** 2"
   ]
  },
  {
   "cell_type": "code",
   "execution_count": 65,
   "metadata": {
    "ExecuteTime": {
     "end_time": "2019-04-19T19:46:20.813745Z",
     "start_time": "2019-04-19T19:46:20.806764Z"
    }
   },
   "outputs": [
    {
     "data": {
      "text/plain": [
       "array([7294.83661329])"
      ]
     },
     "execution_count": 65,
     "metadata": {},
     "output_type": "execute_result"
    }
   ],
   "source": [
    "# Somando\n",
    "sum((h - y_train) ** 2)"
   ]
  },
  {
   "cell_type": "code",
   "execution_count": 66,
   "metadata": {
    "ExecuteTime": {
     "end_time": "2019-04-19T19:46:38.763018Z",
     "start_time": "2019-04-19T19:46:38.756627Z"
    }
   },
   "outputs": [
    {
     "data": {
      "text/plain": [
       "array([303.95152555])"
      ]
     },
     "execution_count": 66,
     "metadata": {},
     "output_type": "execute_result"
    }
   ],
   "source": [
    "# Dividindo por 2m\n",
    "sum((h - y_train) ** 2) / (2*m)"
   ]
  },
  {
   "cell_type": "code",
   "execution_count": 72,
   "metadata": {
    "ExecuteTime": {
     "end_time": "2019-04-19T19:47:56.237559Z",
     "start_time": "2019-04-19T19:47:56.227710Z"
    }
   },
   "outputs": [
    {
     "data": {
      "text/plain": [
       "array([[0.08333333]])"
      ]
     },
     "execution_count": 72,
     "metadata": {},
     "output_type": "execute_result"
    }
   ],
   "source": [
    "# Regularização\n",
    "lamda = 1\n",
    "(lamda / (2 * m)) * theta_inicial.T.dot(theta_inicial)"
   ]
  },
  {
   "cell_type": "code",
   "execution_count": 99,
   "metadata": {
    "ExecuteTime": {
     "end_time": "2019-04-19T20:44:13.050309Z",
     "start_time": "2019-04-19T20:44:13.031361Z"
    }
   },
   "outputs": [],
   "source": [
    "# Definindo função custo\n",
    "def linRegCostFunction(theta, X, y, lamda):\n",
    "    \"\"\" Função responsável por calcular a Função Custo de um problema de Regressão Linear\n",
    "    Input:\n",
    "        theta: parâmetros do modelo;\n",
    "        X: features do modelo;\n",
    "        y: labels do modelo;\n",
    "        lamda: fator de regularização\"\"\"\n",
    "    \n",
    "    # Calculando hypothesis\n",
    "    h = hypothesis(theta, X)\n",
    "    \n",
    "    # Calculando J sem regularização\n",
    "    m = X.shape[0]\n",
    "    unreg = sum((h - y) ** 2) / (2 * m)\n",
    "    \n",
    "    # Calculando fator de regularização\n",
    "    reg = (lamda / (2 * m)) * theta_inicial.T.dot(theta_inicial)\n",
    "    \n",
    "    # Unindo termos\n",
    "    J = (unreg + reg)[0][0]\n",
    "    \n",
    "    return J"
   ]
  },
  {
   "cell_type": "code",
   "execution_count": 100,
   "metadata": {
    "ExecuteTime": {
     "end_time": "2019-04-19T20:44:13.694588Z",
     "start_time": "2019-04-19T20:44:13.689601Z"
    }
   },
   "outputs": [
    {
     "name": "stdout",
     "output_type": "stream",
     "text": [
      "Custo da função com lambda = 0: 303.9515255535976\n"
     ]
    }
   ],
   "source": [
    "# Testando sem regularização (resultado esperado = 303.95)\n",
    "J = linRegCostFunction(theta_inicial, X_train, y_train, 0)\n",
    "print(f'Custo da função com lambda = 0: {J}')"
   ]
  },
  {
   "cell_type": "markdown",
   "metadata": {},
   "source": [
    "#### Gradiente e Regularização"
   ]
  },
  {
   "cell_type": "markdown",
   "metadata": {},
   "source": [
    "\\begin{equation*}\n",
    "    \\frac{\\partial J(\\theta)}{\\partial\\theta_j} = \n",
    "        \\begin{cases} \n",
    "            \\left(\\frac{1}{m}\\sum_{i=1}^m(h_\\theta(x^{(i)})-y^{(i)})x_j^{(i)}\\right)\n",
    "                & \\mbox{para } j\\mbox{ = 0} \\\\\n",
    "            \\left(\\frac{1}{m}\\sum_{i=1}^m(h_\\theta(x^{(i)})-y^{(i)})x_j^{(i)}\\right) +\n",
    "            \\frac{\\lambda}{m}\\theta_j &\\mbox{para } j\\mbox{ >= 1}\n",
    "        \\end{cases}\n",
    "\\end{equation*}  "
   ]
  },
  {
   "cell_type": "markdown",
   "metadata": {},
   "source": [
    "Como podemos ver, o termo 0 dos parâmetros theta ```não é regularizado!``` Dessa forma, vamos calcular o gradiente geral sem o fator de regularização e, posteriormente, vamos indexar nosso vetor de gradiente para aplicar o termo de regularização em todos os registros, exceto o primeiro."
   ]
  },
  {
   "cell_type": "code",
   "execution_count": 101,
   "metadata": {
    "ExecuteTime": {
     "end_time": "2019-04-19T20:44:15.086868Z",
     "start_time": "2019-04-19T20:44:15.075896Z"
    }
   },
   "outputs": [
    {
     "data": {
      "text/plain": [
       "array([[-15.30301567],\n",
       "       [598.16741084]])"
      ]
     },
     "execution_count": 101,
     "metadata": {},
     "output_type": "execute_result"
    }
   ],
   "source": [
    "# Testando grad\n",
    "h = hypothesis(theta_inicial, X_train)\n",
    "m = X_train.shape[0]\n",
    "grad = X_train.T.dot((h - y_train)) / m\n",
    "\n",
    "# Verificando\n",
    "grad"
   ]
  },
  {
   "cell_type": "markdown",
   "metadata": {},
   "source": [
    "Bom, pelo menos as dimensões obtidas foram de acordo com o esperado. Temos duas features em nosso modelo (bias e x1) e, por consequência, precisamos de uma parametrização theta de 2 colunas (theta0 e theta1). O gradiente descendente, por sua vez, é uma medida que reflete a magnitude da correção em nossos parâmetros theta e, por tanto, também deve possuir dimensões semelhantes à da matriz theta."
   ]
  },
  {
   "cell_type": "code",
   "execution_count": 102,
   "metadata": {
    "ExecuteTime": {
     "end_time": "2019-04-19T20:44:15.735133Z",
     "start_time": "2019-04-19T20:44:15.727157Z"
    }
   },
   "outputs": [
    {
     "data": {
      "text/plain": [
       "array([[-15.30301567],\n",
       "       [598.16741084]])"
      ]
     },
     "execution_count": 102,
     "metadata": {},
     "output_type": "execute_result"
    }
   ],
   "source": [
    "# Aplicando regularização\n",
    "lamda = 0\n",
    "grad[1:] = grad[1:] + (lamda/m) * theta_inicial[1:]\n",
    "\n",
    "# Verificando\n",
    "grad"
   ]
  },
  {
   "cell_type": "markdown",
   "metadata": {},
   "source": [
    "Claro que não houve alteração pelo fato de termos testado com lamda = 0"
   ]
  },
  {
   "cell_type": "code",
   "execution_count": 103,
   "metadata": {
    "ExecuteTime": {
     "end_time": "2019-04-19T20:44:18.201871Z",
     "start_time": "2019-04-19T20:44:18.192461Z"
    }
   },
   "outputs": [
    {
     "data": {
      "text/plain": [
       "array([[-15.30301567],\n",
       "       [598.25074417]])"
      ]
     },
     "execution_count": 103,
     "metadata": {},
     "output_type": "execute_result"
    }
   ],
   "source": [
    "# Testando para lamda = 1\n",
    "lamda = 1\n",
    "grad[1:] = grad[1:] + (lamda/m) * theta_inicial[1:]\n",
    "\n",
    "# Verificando\n",
    "grad"
   ]
  },
  {
   "cell_type": "markdown",
   "metadata": {},
   "source": [
    "Houve uma mudança de magnitude decimal."
   ]
  },
  {
   "cell_type": "code",
   "execution_count": 104,
   "metadata": {
    "ExecuteTime": {
     "end_time": "2019-04-19T20:44:19.952088Z",
     "start_time": "2019-04-19T20:44:19.935131Z"
    }
   },
   "outputs": [],
   "source": [
    "# Definindo função\n",
    "def gradientDescent(theta, X, y, lamda):\n",
    "    \"\"\" Função responsável pelo cálculo do vetor de gradiente relacionado aos parâmetros theta\n",
    "    Input:\n",
    "        theta: parâmetros do modelo;\n",
    "        X: features do modelo;\n",
    "        y: label do modelo;\n",
    "        lamda: fator de regularização\n",
    "    Output:\n",
    "        grad: vetor de gradiente\"\"\"\n",
    "    \n",
    "    # Calculando hypothesis\n",
    "    h = hypothesis(theta, X)\n",
    "    \n",
    "    # Gradiente sem regularização\n",
    "    m = X.shape[0]\n",
    "    grad = X.T.dot((h - y)) / m\n",
    "    \n",
    "    # Aplicando regularização\n",
    "    grad[1:] = grad[1:] + (lamda / m) * theta_inicial[1:]\n",
    "    \n",
    "    return grad"
   ]
  },
  {
   "cell_type": "code",
   "execution_count": 105,
   "metadata": {
    "ExecuteTime": {
     "end_time": "2019-04-19T20:44:20.215389Z",
     "start_time": "2019-04-19T20:44:20.210403Z"
    }
   },
   "outputs": [
    {
     "name": "stdout",
     "output_type": "stream",
     "text": [
      "Vetor de gradiente: \n",
      "[[-15.30301567]\n",
      " [598.16741084]]\n"
     ]
    }
   ],
   "source": [
    "# Executando\n",
    "grad = gradientDescent(theta_inicial, X_train, y_train, 0)\n",
    "print(f'Vetor de gradiente: \\n{grad}')"
   ]
  },
  {
   "cell_type": "markdown",
   "metadata": {},
   "source": [
    "Os valores obtidos foram de acordo com o esperado."
   ]
  },
  {
   "cell_type": "markdown",
   "metadata": {},
   "source": [
    "#### Treinando Modelo"
   ]
  },
  {
   "cell_type": "markdown",
   "metadata": {},
   "source": [
    "Para realizar o treinamento do modelo, vamos seguir de acordo com o que já foi realizado até o momento, em outros exercício: minimização da função custo através de módulos específicos do scipy (optimize.fmin_cg)."
   ]
  },
  {
   "cell_type": "code",
   "execution_count": 97,
   "metadata": {
    "ExecuteTime": {
     "end_time": "2019-04-19T20:39:28.630064Z",
     "start_time": "2019-04-19T20:39:28.625104Z"
    }
   },
   "outputs": [],
   "source": [
    "# Importando módulos\n",
    "import scipy.optimize"
   ]
  },
  {
   "cell_type": "code",
   "execution_count": 98,
   "metadata": {
    "ExecuteTime": {
     "end_time": "2019-04-19T20:39:42.797310Z",
     "start_time": "2019-04-19T20:39:42.790328Z"
    }
   },
   "outputs": [
    {
     "name": "stdout",
     "output_type": "stream",
     "text": [
      "Help on function fmin_cg in module scipy.optimize.optimize:\n",
      "\n",
      "fmin_cg(f, x0, fprime=None, args=(), gtol=1e-05, norm=inf, epsilon=1.4901161193847656e-08, maxiter=None, full_output=0, disp=1, retall=0, callback=None)\n",
      "    Minimize a function using a nonlinear conjugate gradient algorithm.\n",
      "    \n",
      "    Parameters\n",
      "    ----------\n",
      "    f : callable, ``f(x, *args)``\n",
      "        Objective function to be minimized.  Here `x` must be a 1-D array of\n",
      "        the variables that are to be changed in the search for a minimum, and\n",
      "        `args` are the other (fixed) parameters of `f`.\n",
      "    x0 : ndarray\n",
      "        A user-supplied initial estimate of `xopt`, the optimal value of `x`.\n",
      "        It must be a 1-D array of values.\n",
      "    fprime : callable, ``fprime(x, *args)``, optional\n",
      "        A function that returns the gradient of `f` at `x`. Here `x` and `args`\n",
      "        are as described above for `f`. The returned value must be a 1-D array.\n",
      "        Defaults to None, in which case the gradient is approximated\n",
      "        numerically (see `epsilon`, below).\n",
      "    args : tuple, optional\n",
      "        Parameter values passed to `f` and `fprime`. Must be supplied whenever\n",
      "        additional fixed parameters are needed to completely specify the\n",
      "        functions `f` and `fprime`.\n",
      "    gtol : float, optional\n",
      "        Stop when the norm of the gradient is less than `gtol`.\n",
      "    norm : float, optional\n",
      "        Order to use for the norm of the gradient\n",
      "        (``-np.Inf`` is min, ``np.Inf`` is max).\n",
      "    epsilon : float or ndarray, optional\n",
      "        Step size(s) to use when `fprime` is approximated numerically. Can be a\n",
      "        scalar or a 1-D array.  Defaults to ``sqrt(eps)``, with eps the\n",
      "        floating point machine precision.  Usually ``sqrt(eps)`` is about\n",
      "        1.5e-8.\n",
      "    maxiter : int, optional\n",
      "        Maximum number of iterations to perform. Default is ``200 * len(x0)``.\n",
      "    full_output : bool, optional\n",
      "        If True, return `fopt`, `func_calls`, `grad_calls`, and `warnflag` in\n",
      "        addition to `xopt`.  See the Returns section below for additional\n",
      "        information on optional return values.\n",
      "    disp : bool, optional\n",
      "        If True, return a convergence message, followed by `xopt`.\n",
      "    retall : bool, optional\n",
      "        If True, add to the returned values the results of each iteration.\n",
      "    callback : callable, optional\n",
      "        An optional user-supplied function, called after each iteration.\n",
      "        Called as ``callback(xk)``, where ``xk`` is the current value of `x0`.\n",
      "    \n",
      "    Returns\n",
      "    -------\n",
      "    xopt : ndarray\n",
      "        Parameters which minimize f, i.e. ``f(xopt) == fopt``.\n",
      "    fopt : float, optional\n",
      "        Minimum value found, f(xopt).  Only returned if `full_output` is True.\n",
      "    func_calls : int, optional\n",
      "        The number of function_calls made.  Only returned if `full_output`\n",
      "        is True.\n",
      "    grad_calls : int, optional\n",
      "        The number of gradient calls made. Only returned if `full_output` is\n",
      "        True.\n",
      "    warnflag : int, optional\n",
      "        Integer value with warning status, only returned if `full_output` is\n",
      "        True.\n",
      "    \n",
      "        0 : Success.\n",
      "    \n",
      "        1 : The maximum number of iterations was exceeded.\n",
      "    \n",
      "        2 : Gradient and/or function calls were not changing.  May indicate\n",
      "            that precision was lost, i.e., the routine did not converge.\n",
      "    \n",
      "    allvecs : list of ndarray, optional\n",
      "        List of arrays, containing the results at each iteration.\n",
      "        Only returned if `retall` is True.\n",
      "    \n",
      "    See Also\n",
      "    --------\n",
      "    minimize : common interface to all `scipy.optimize` algorithms for\n",
      "               unconstrained and constrained minimization of multivariate\n",
      "               functions.  It provides an alternative way to call\n",
      "               ``fmin_cg``, by specifying ``method='CG'``.\n",
      "    \n",
      "    Notes\n",
      "    -----\n",
      "    This conjugate gradient algorithm is based on that of Polak and Ribiere\n",
      "    [1]_.\n",
      "    \n",
      "    Conjugate gradient methods tend to work better when:\n",
      "    \n",
      "    1. `f` has a unique global minimizing point, and no local minima or\n",
      "       other stationary points,\n",
      "    2. `f` is, at least locally, reasonably well approximated by a\n",
      "       quadratic function of the variables,\n",
      "    3. `f` is continuous and has a continuous gradient,\n",
      "    4. `fprime` is not too large, e.g., has a norm less than 1000,\n",
      "    5. The initial guess, `x0`, is reasonably close to `f` 's global\n",
      "       minimizing point, `xopt`.\n",
      "    \n",
      "    References\n",
      "    ----------\n",
      "    .. [1] Wright & Nocedal, \"Numerical Optimization\", 1999, pp. 120-122.\n",
      "    \n",
      "    Examples\n",
      "    --------\n",
      "    Example 1: seek the minimum value of the expression\n",
      "    ``a*u**2 + b*u*v + c*v**2 + d*u + e*v + f`` for given values\n",
      "    of the parameters and an initial guess ``(u, v) = (0, 0)``.\n",
      "    \n",
      "    >>> args = (2, 3, 7, 8, 9, 10)  # parameter values\n",
      "    >>> def f(x, *args):\n",
      "    ...     u, v = x\n",
      "    ...     a, b, c, d, e, f = args\n",
      "    ...     return a*u**2 + b*u*v + c*v**2 + d*u + e*v + f\n",
      "    >>> def gradf(x, *args):\n",
      "    ...     u, v = x\n",
      "    ...     a, b, c, d, e, f = args\n",
      "    ...     gu = 2*a*u + b*v + d     # u-component of the gradient\n",
      "    ...     gv = b*u + 2*c*v + e     # v-component of the gradient\n",
      "    ...     return np.asarray((gu, gv))\n",
      "    >>> x0 = np.asarray((0, 0))  # Initial guess.\n",
      "    >>> from scipy import optimize\n",
      "    >>> res1 = optimize.fmin_cg(f, x0, fprime=gradf, args=args)\n",
      "    Optimization terminated successfully.\n",
      "             Current function value: 1.617021\n",
      "             Iterations: 4\n",
      "             Function evaluations: 8\n",
      "             Gradient evaluations: 8\n",
      "    >>> res1\n",
      "    array([-1.80851064, -0.25531915])\n",
      "    \n",
      "    Example 2: solve the same problem using the `minimize` function.\n",
      "    (This `myopts` dictionary shows all of the available options,\n",
      "    although in practice only non-default values would be needed.\n",
      "    The returned value will be a dictionary.)\n",
      "    \n",
      "    >>> opts = {'maxiter' : None,    # default value.\n",
      "    ...         'disp' : True,    # non-default value.\n",
      "    ...         'gtol' : 1e-5,    # default value.\n",
      "    ...         'norm' : np.inf,  # default value.\n",
      "    ...         'eps' : 1.4901161193847656e-08}  # default value.\n",
      "    >>> res2 = optimize.minimize(f, x0, jac=gradf, args=args,\n",
      "    ...                          method='CG', options=opts)\n",
      "    Optimization terminated successfully.\n",
      "            Current function value: 1.617021\n",
      "            Iterations: 4\n",
      "            Function evaluations: 8\n",
      "            Gradient evaluations: 8\n",
      "    >>> res2.x  # minimum found\n",
      "    array([-1.80851064, -0.25531915])\n",
      "\n"
     ]
    }
   ],
   "source": [
    "# Verificando\n",
    "help(scipy.optimize.fmin_cg)"
   ]
  },
  {
   "cell_type": "code",
   "execution_count": 127,
   "metadata": {
    "ExecuteTime": {
     "end_time": "2019-04-19T20:52:26.745611Z",
     "start_time": "2019-04-19T20:52:26.735641Z"
    }
   },
   "outputs": [
    {
     "name": "stdout",
     "output_type": "stream",
     "text": [
      "Optimization terminated successfully.\n",
      "         Current function value: 22.373906\n",
      "         Iterations: 18\n",
      "         Function evaluations: 28\n",
      "         Gradient evaluations: 28\n"
     ]
    }
   ],
   "source": [
    "# Minimizando função custo\n",
    "lamda = 0\n",
    "result = scipy.optimize.fmin_cg(linRegCostFunction, fprime=gradientDescent, \n",
    "                                x0=theta_inicial, args=(X_train, y_train, lamda), \n",
    "                                maxiter=200, disp=True, full_output=True)"
   ]
  },
  {
   "cell_type": "code",
   "execution_count": 128,
   "metadata": {
    "ExecuteTime": {
     "end_time": "2019-04-19T20:52:39.158451Z",
     "start_time": "2019-04-19T20:52:39.152468Z"
    }
   },
   "outputs": [
    {
     "data": {
      "text/plain": [
       "(array([13.08790734,  0.36777925]), 22.373906495116017, 28, 28, 0)"
      ]
     },
     "execution_count": 128,
     "metadata": {},
     "output_type": "execute_result"
    }
   ],
   "source": [
    "# Verificando vetor de resultados\n",
    "result"
   ]
  },
  {
   "cell_type": "code",
   "execution_count": 130,
   "metadata": {
    "ExecuteTime": {
     "end_time": "2019-04-19T20:53:38.846616Z",
     "start_time": "2019-04-19T20:53:38.838637Z"
    }
   },
   "outputs": [
    {
     "name": "stdout",
     "output_type": "stream",
     "text": [
      "Melhores parâmetros para o modelo: [13.08790734  0.36777925]\n",
      "Menor custo para o modelo: 22.374\n"
     ]
    }
   ],
   "source": [
    "# Parâmetros\n",
    "best_theta = result[0]\n",
    "print(f'Melhores parâmetros para o modelo: {best_theta}')\n",
    "\n",
    "# Custo\n",
    "J_min = result[1]\n",
    "print(f'Menor custo para o modelo: {J_min:.3f}')"
   ]
  },
  {
   "cell_type": "markdown",
   "metadata": {},
   "source": [
    "O valor mínimo para o custo foi obtido de acordo com o esperado para este exerício."
   ]
  },
  {
   "cell_type": "code",
   "execution_count": 172,
   "metadata": {
    "ExecuteTime": {
     "end_time": "2019-04-19T21:34:44.449097Z",
     "start_time": "2019-04-19T21:34:44.439124Z"
    }
   },
   "outputs": [],
   "source": [
    "# Definindo função para o treinamento\n",
    "def trainLinReg(theta_inicial, X, y, lamda):\n",
    "    \"\"\" Função responsável por realizar o treinamento do modelo de Regressão Linear através\n",
    "    da minimização da função custo já definida\n",
    "    Input:\n",
    "        theta_inicial: parâmetros de entrada do modelo;\n",
    "        X: features do modelo;\n",
    "        y: label do modelo;\n",
    "        lamda: fator de regularização\n",
    "    Output:\n",
    "        best_theta: melhores parâmetro aprendidos\n",
    "        J_min: menor custo para o modelo\"\"\"\n",
    "    \n",
    "    result = scipy.optimize.fmin_cg(linRegCostFunction, fprime=gradientDescent, \n",
    "                                x0=theta_inicial, args=(X, y, lamda), \n",
    "                                maxiter=200, disp=True, full_output=True)\n",
    "    best_theta = result[0]\n",
    "    J_min = result[1]\n",
    "    \n",
    "    return best_theta, J_min"
   ]
  },
  {
   "cell_type": "code",
   "execution_count": 174,
   "metadata": {
    "ExecuteTime": {
     "end_time": "2019-04-19T21:35:45.294830Z",
     "start_time": "2019-04-19T21:35:45.283861Z"
    }
   },
   "outputs": [
    {
     "name": "stdout",
     "output_type": "stream",
     "text": [
      "Optimization terminated successfully.\n",
      "         Current function value: 22.373906\n",
      "         Iterations: 18\n",
      "         Function evaluations: 28\n",
      "         Gradient evaluations: 28\n",
      "\n",
      "Melhores parâmetros para o modelo: [13.08790734  0.36777925]\n",
      "Menor custo para o modelo: 22.374\n"
     ]
    }
   ],
   "source": [
    "# Verificando (dados de treino)\n",
    "best_theta, J_min = trainLinReg(theta_inicial, X_train, y_train, 0)\n",
    "print(f'\\nMelhores parâmetros para o modelo: {best_theta}')\n",
    "print(f'Menor custo para o modelo: {J_min:.3f}')"
   ]
  },
  {
   "cell_type": "markdown",
   "metadata": {},
   "source": [
    "#### Visualizando Treinamento"
   ]
  },
  {
   "cell_type": "markdown",
   "metadata": {},
   "source": [
    "Bom, já sabemos que uma reta não irá descrever bem os nossos dados. Mas, apenas para transpor essa afirmação em um caráter gráfico, vamos plotar a melhor reta obtida com a minimização da função custo dentro dos nossos dados já plotados."
   ]
  },
  {
   "cell_type": "code",
   "execution_count": 148,
   "metadata": {
    "ExecuteTime": {
     "end_time": "2019-04-19T21:06:50.201705Z",
     "start_time": "2019-04-19T21:06:49.895452Z"
    }
   },
   "outputs": [
    {
     "data": {
      "image/png": "[encoded data removed]",
      "text/plain": [
       "<matplotlib.figure.Figure at 0x190e5509f98>"
      ]
     },
     "metadata": {
      "needs_background": "light"
     },
     "output_type": "display_data"
    }
   ],
   "source": [
    "# Criando figure e eixo\n",
    "fig, ax = plt.subplots(figsize=(8, 5))\n",
    "\n",
    "# Configurando plotagem dos dados\n",
    "ax.scatter(X_train[:, 1:], y_train, marker='x', color='r')\n",
    "ax.set_title('Vazão de Água por Nível do Reservatório', size=15)\n",
    "ax.set_xlabel('Mudança no nível nível de água', size=10, labelpad=10)\n",
    "ax.set_ylabel('Fluxo de saída de água', size=10, labelpad=10)\n",
    "\n",
    "# Configurando plotagem da curva aprendida\n",
    "ax.plot(X_train[:, 1:], X_train.dot(best_theta), label='Reta aprendida')\n",
    "\n",
    "plt.legend()\n",
    "plt.show()"
   ]
  },
  {
   "cell_type": "markdown",
   "metadata": {},
   "source": [
    "Conclusão: *o modelo sofre de **bias (viés)** alto!*"
   ]
  },
  {
   "cell_type": "markdown",
   "metadata": {},
   "source": [
    "### Curvas de Aprendizado"
   ]
  },
  {
   "cell_type": "markdown",
   "metadata": {},
   "source": [
    "Um conceito muito importante para a avaliação de modelos é a relação ```viés-variância```. Se por um lado, um modelo com alto ```viés``` tende a sofrer de ```underfitting```, por outro, um modelo com alta ```variância``` está sujeito a ```overfitting```.\n",
    "\n",
    "Para analisar essa relação, é possível plotar curvas de aprendizado para mostrar as consequências do treinamento de acordo com a ```quantidade``` dos dados utilizados."
   ]
  },
  {
   "cell_type": "code",
   "execution_count": 152,
   "metadata": {
    "ExecuteTime": {
     "end_time": "2019-04-19T21:24:17.707403Z",
     "start_time": "2019-04-19T21:24:17.701423Z"
    }
   },
   "outputs": [
    {
     "data": {
      "text/plain": [
       "array([[  1.        , -15.93675813]])"
      ]
     },
     "execution_count": 152,
     "metadata": {},
     "output_type": "execute_result"
    }
   ],
   "source": [
    "X_train[:1,:]"
   ]
  },
  {
   "cell_type": "code",
   "execution_count": 181,
   "metadata": {
    "ExecuteTime": {
     "end_time": "2019-04-19T21:38:27.674899Z",
     "start_time": "2019-04-19T21:38:27.591120Z"
    }
   },
   "outputs": [
    {
     "name": "stdout",
     "output_type": "stream",
     "text": [
      "Optimization terminated successfully.\n",
      "         Current function value: 22.373906\n",
      "         Iterations: 18\n",
      "         Function evaluations: 28\n",
      "         Gradient evaluations: 28\n",
      "Optimization terminated successfully.\n",
      "         Current function value: 28.306335\n",
      "         Iterations: 10\n",
      "         Function evaluations: 16\n",
      "         Gradient evaluations: 16\n",
      "Optimization terminated successfully.\n",
      "         Current function value: 22.373906\n",
      "         Iterations: 18\n",
      "         Function evaluations: 28\n",
      "         Gradient evaluations: 28\n",
      "Optimization terminated successfully.\n",
      "         Current function value: 28.306335\n",
      "         Iterations: 10\n",
      "         Function evaluations: 16\n",
      "         Gradient evaluations: 16\n",
      "Optimization terminated successfully.\n",
      "         Current function value: 22.373906\n",
      "         Iterations: 18\n",
      "         Function evaluations: 28\n",
      "         Gradient evaluations: 28\n",
      "Optimization terminated successfully.\n",
      "         Current function value: 28.306335\n",
      "         Iterations: 10\n",
      "         Function evaluations: 16\n",
      "         Gradient evaluations: 16\n",
      "Optimization terminated successfully.\n",
      "         Current function value: 22.373906\n",
      "         Iterations: 18\n",
      "         Function evaluations: 28\n",
      "         Gradient evaluations: 28\n",
      "Optimization terminated successfully.\n",
      "         Current function value: 28.306335\n",
      "         Iterations: 10\n",
      "         Function evaluations: 16\n",
      "         Gradient evaluations: 16\n",
      "Optimization terminated successfully.\n",
      "         Current function value: 22.373906\n",
      "         Iterations: 18\n",
      "         Function evaluations: 28\n",
      "         Gradient evaluations: 28\n",
      "Optimization terminated successfully.\n",
      "         Current function value: 28.306335\n",
      "         Iterations: 10\n",
      "         Function evaluations: 16\n",
      "         Gradient evaluations: 16\n",
      "Optimization terminated successfully.\n",
      "         Current function value: 22.373906\n",
      "         Iterations: 18\n",
      "         Function evaluations: 28\n",
      "         Gradient evaluations: 28\n",
      "Optimization terminated successfully.\n",
      "         Current function value: 28.306335\n",
      "         Iterations: 10\n",
      "         Function evaluations: 16\n",
      "         Gradient evaluations: 16\n",
      "Optimization terminated successfully.\n",
      "         Current function value: 22.373906\n",
      "         Iterations: 18\n",
      "         Function evaluations: 28\n",
      "         Gradient evaluations: 28\n",
      "Optimization terminated successfully.\n",
      "         Current function value: 28.306335\n",
      "         Iterations: 10\n",
      "         Function evaluations: 16\n",
      "         Gradient evaluations: 16\n",
      "Optimization terminated successfully.\n",
      "         Current function value: 22.373906\n",
      "         Iterations: 18\n",
      "         Function evaluations: 28\n",
      "         Gradient evaluations: 28\n",
      "Optimization terminated successfully.\n",
      "         Current function value: 28.306335\n",
      "         Iterations: 10\n",
      "         Function evaluations: 16\n",
      "         Gradient evaluations: 16\n",
      "Optimization terminated successfully.\n",
      "         Current function value: 22.373906\n",
      "         Iterations: 18\n",
      "         Function evaluations: 28\n",
      "         Gradient evaluations: 28\n",
      "Optimization terminated successfully.\n",
      "         Current function value: 28.306335\n",
      "         Iterations: 10\n",
      "         Function evaluations: 16\n",
      "         Gradient evaluations: 16\n",
      "Optimization terminated successfully.\n",
      "         Current function value: 22.373906\n",
      "         Iterations: 18\n",
      "         Function evaluations: 28\n",
      "         Gradient evaluations: 28\n",
      "Optimization terminated successfully.\n",
      "         Current function value: 28.306335\n",
      "         Iterations: 10\n",
      "         Function evaluations: 16\n",
      "         Gradient evaluations: 16\n",
      "Optimization terminated successfully.\n",
      "         Current function value: 22.373906\n",
      "         Iterations: 18\n",
      "         Function evaluations: 28\n",
      "         Gradient evaluations: 28\n",
      "Optimization terminated successfully.\n",
      "         Current function value: 28.306335\n",
      "         Iterations: 10\n",
      "         Function evaluations: 16\n",
      "         Gradient evaluations: 16\n",
      "Optimization terminated successfully.\n",
      "         Current function value: 22.373906\n",
      "         Iterations: 18\n",
      "         Function evaluations: 28\n",
      "         Gradient evaluations: 28\n",
      "Optimization terminated successfully.\n",
      "         Current function value: 28.306335\n",
      "         Iterations: 10\n",
      "         Function evaluations: 16\n",
      "         Gradient evaluations: 16\n"
     ]
    }
   ],
   "source": [
    "# Levantando dados\n",
    "error_train = []\n",
    "error_cv = []\n",
    "lamda = 0\n",
    "m = X_train.shape[0]\n",
    "\n",
    "# Adicionando bias em X_val\n",
    "mval = X_val.shape[0]\n",
    "X_val = np.c_[(np.ones((mval, 1)), X_val)]\n",
    "\n",
    "# Redimensionando y_val\n",
    "y_val = y_val.reshape(-1)\n",
    "\n",
    "for i in range(1, m+1):\n",
    "    theta_learned_train, J_min_train = trainLinReg(theta_inicial, X_train, y_train, lamda)\n",
    "    theta_learned_cv, J_min_cv = trainLinReg(theta_inicial, X_val, y_val, lamda)\n",
    "    #J_train = linRegCostFunction(theta_learned, X_train[:i, :], y_train[:i], lamda)\n",
    "    #J_val = linRegCostFunction(theta_learned, X_val[:i, :], y_val[:i], lamda)\n",
    "    error_train.append(J_min_train)\n",
    "    error_cv.append(J_min_cv)"
   ]
  },
  {
   "cell_type": "code",
   "execution_count": 184,
   "metadata": {
    "ExecuteTime": {
     "end_time": "2019-04-19T21:38:48.846455Z",
     "start_time": "2019-04-19T21:38:48.839475Z"
    }
   },
   "outputs": [
    {
     "data": {
      "text/plain": [
       "[22.373906495116017,\n",
       " 22.373906495116017,\n",
       " 22.373906495116017,\n",
       " 22.373906495116017,\n",
       " 22.373906495116017,\n",
       " 22.373906495116017,\n",
       " 22.373906495116017,\n",
       " 22.373906495116017,\n",
       " 22.373906495116017,\n",
       " 22.373906495116017,\n",
       " 22.373906495116017,\n",
       " 22.373906495116017]"
      ]
     },
     "execution_count": 184,
     "metadata": {},
     "output_type": "execute_result"
    }
   ],
   "source": [
    "error_train"
   ]
  },
  {
   "cell_type": "code",
   "execution_count": 182,
   "metadata": {
    "ExecuteTime": {
     "end_time": "2019-04-19T21:38:38.725616Z",
     "start_time": "2019-04-19T21:38:38.581967Z"
    }
   },
   "outputs": [
    {
     "data": {
      "image/png": "[encoded data removed]",
      "text/plain": [
       "<matplotlib.figure.Figure at 0x190e573ebe0>"
      ]
     },
     "metadata": {
      "needs_background": "light"
     },
     "output_type": "display_data"
    }
   ],
   "source": [
    "# Plotando dados\n",
    "fig, ax = plt.subplots(figsize=(8, 5))\n",
    "ax.plot(np.arange(m)+1, error_train)\n",
    "ax.plot(np.arange(m)+1, error_cv)\n",
    "plt.show()"
   ]
  },
  {
   "cell_type": "markdown",
   "metadata": {},
   "source": [
    "TODO\n",
    "\n",
    "Verificar theta_learned como argumento de cada uma das funções de treinamento (o gráfico ficou assim pq utilizamos sempre theta_inicial para treinamento)"
   ]
  },
  {
   "cell_type": "code",
   "execution_count": null,
   "metadata": {},
   "outputs": [],
   "source": []
  }
 ],
 "metadata": {
  "kernelspec": {
   "display_name": "Python 3",
   "language": "python",
   "name": "python3"
  },
  "language_info": {
   "codemirror_mode": {
    "name": "ipython",
    "version": 3
   },
   "file_extension": ".py",
   "mimetype": "text/x-python",
   "name": "python",
   "nbconvert_exporter": "python",
   "pygments_lexer": "ipython3",
   "version": "3.6.4"
  },
  "toc": {
   "base_numbering": 1,
   "nav_menu": {},
   "number_sections": true,
   "sideBar": true,
   "skip_h1_title": true,
   "title_cell": "Table of Contents",
   "title_sidebar": "Contents",
   "toc_cell": true,
   "toc_position": {},
   "toc_section_display": true,
   "toc_window_display": true
  }
 },
 "nbformat": 4,
 "nbformat_minor": 2
}
