{
 "cells": [
  {
   "cell_type": "markdown",
   "metadata": {
    "toc": true
   },
   "source": [
    "<h1>Table of Contents<span class=\"tocSkip\"></span></h1>\n",
    "<div class=\"toc\"><ul class=\"toc-item\"><li><span><a href=\"#Regressão-Linear\" data-toc-modified-id=\"Regressão-Linear-1\"><span class=\"toc-item-num\">1&nbsp;&nbsp;</span>Regressão Linear</a></span><ul class=\"toc-item\"><li><span><a href=\"#Lendo-os-Dados\" data-toc-modified-id=\"Lendo-os-Dados-1.1\"><span class=\"toc-item-num\">1.1&nbsp;&nbsp;</span>Lendo os Dados</a></span></li><li><span><a href=\"#Função-Custo-Regularizada\" data-toc-modified-id=\"Função-Custo-Regularizada-1.2\"><span class=\"toc-item-num\">1.2&nbsp;&nbsp;</span>Função Custo Regularizada</a></span><ul class=\"toc-item\"><li><span><a href=\"#Hypothesis\" data-toc-modified-id=\"Hypothesis-1.2.1\"><span class=\"toc-item-num\">1.2.1&nbsp;&nbsp;</span>Hypothesis</a></span></li><li><span><a href=\"#Custo-e-Regularização\" data-toc-modified-id=\"Custo-e-Regularização-1.2.2\"><span class=\"toc-item-num\">1.2.2&nbsp;&nbsp;</span>Custo e Regularização</a></span></li><li><span><a href=\"#Gradiente-e-Regularização\" data-toc-modified-id=\"Gradiente-e-Regularização-1.2.3\"><span class=\"toc-item-num\">1.2.3&nbsp;&nbsp;</span>Gradiente e Regularização</a></span></li><li><span><a href=\"#Treinando-Modelo\" data-toc-modified-id=\"Treinando-Modelo-1.2.4\"><span class=\"toc-item-num\">1.2.4&nbsp;&nbsp;</span>Treinando Modelo</a></span></li><li><span><a href=\"#Visualizando-Treinamento\" data-toc-modified-id=\"Visualizando-Treinamento-1.2.5\"><span class=\"toc-item-num\">1.2.5&nbsp;&nbsp;</span>Visualizando Treinamento</a></span></li></ul></li><li><span><a href=\"#Curvas-de-Aprendizado\" data-toc-modified-id=\"Curvas-de-Aprendizado-1.3\"><span class=\"toc-item-num\">1.3&nbsp;&nbsp;</span>Curvas de Aprendizado</a></span></li></ul></li><li><span><a href=\"#Regressão-Polinomial\" data-toc-modified-id=\"Regressão-Polinomial-2\"><span class=\"toc-item-num\">2&nbsp;&nbsp;</span>Regressão Polinomial</a></span><ul class=\"toc-item\"><li><span><a href=\"#Normalização\" data-toc-modified-id=\"Normalização-2.1\"><span class=\"toc-item-num\">2.1&nbsp;&nbsp;</span>Normalização</a></span></li><li><span><a href=\"#Treinando-Modelo\" data-toc-modified-id=\"Treinando-Modelo-2.2\"><span class=\"toc-item-num\">2.2&nbsp;&nbsp;</span>Treinando Modelo</a></span></li><li><span><a href=\"#Curva-de-Aprendizado\" data-toc-modified-id=\"Curva-de-Aprendizado-2.3\"><span class=\"toc-item-num\">2.3&nbsp;&nbsp;</span>Curva de Aprendizado</a></span></li><li><span><a href=\"#Alterando-Lambda\" data-toc-modified-id=\"Alterando-Lambda-2.4\"><span class=\"toc-item-num\">2.4&nbsp;&nbsp;</span>Alterando Lambda</a></span><ul class=\"toc-item\"><li><span><a href=\"#Lambda-=-1\" data-toc-modified-id=\"Lambda-=-1-2.4.1\"><span class=\"toc-item-num\">2.4.1&nbsp;&nbsp;</span>Lambda = 1</a></span></li><li><span><a href=\"#Lambda-=-100\" data-toc-modified-id=\"Lambda-=-100-2.4.2\"><span class=\"toc-item-num\">2.4.2&nbsp;&nbsp;</span>Lambda = 100</a></span></li><li><span><a href=\"#Melhor-Lambda\" data-toc-modified-id=\"Melhor-Lambda-2.4.3\"><span class=\"toc-item-num\">2.4.3&nbsp;&nbsp;</span>Melhor Lambda</a></span></li></ul></li></ul></li></ul></div>"
   ]
  },
  {
   "cell_type": "markdown",
   "metadata": {},
   "source": [
    "Este notebook tem por objetivo a implementação de um modelo de ```Regressão Linear Regularizada``` para estudar os efeitos das propriedades ```viés-variância``` nos algoritmos. Na primeira metade do exercício, será proposto o desenvolvimento de um modelo para predição da vazão de água através de uma torneira de acordo com o nível de água presente em um reservatório. Já na segunda metade, vamos avaliar alguns diagnósticos e examinar os efeitos de viés-variância no modelo."
   ]
  },
  {
   "cell_type": "markdown",
   "metadata": {},
   "source": [
    "## Regressão Linear"
   ]
  },
  {
   "cell_type": "markdown",
   "metadata": {},
   "source": [
    "### Lendo os Dados"
   ]
  },
  {
   "cell_type": "code",
   "execution_count": 1,
   "metadata": {
    "ExecuteTime": {
     "end_time": "2019-04-21T02:35:54.744345Z",
     "start_time": "2019-04-21T02:35:54.374335Z"
    }
   },
   "outputs": [],
   "source": [
    "# Importando bibliotecas\n",
    "import numpy as np\n",
    "import scipy.io as sio"
   ]
  },
  {
   "cell_type": "markdown",
   "metadata": {},
   "source": [
    "A partir da leitura do arquivo contendo os dados, é esperado receber:\n",
    "\n",
    "    - Um set de treino (X, y);\n",
    "    - Um set de validação cruzada (X_val, y_val);\n",
    "    - Um set treino (X_test, y_test)."
   ]
  },
  {
   "cell_type": "code",
   "execution_count": 2,
   "metadata": {
    "ExecuteTime": {
     "end_time": "2019-04-21T02:35:54.751327Z",
     "start_time": "2019-04-21T02:35:54.746339Z"
    }
   },
   "outputs": [],
   "source": [
    "# Lendo os dados\n",
    "data = sio.loadmat('ex5data1.mat')"
   ]
  },
  {
   "cell_type": "code",
   "execution_count": 3,
   "metadata": {
    "ExecuteTime": {
     "end_time": "2019-04-21T02:35:54.955790Z",
     "start_time": "2019-04-21T02:35:54.753321Z"
    }
   },
   "outputs": [
    {
     "data": {
      "text/plain": [
       "{'X': array([[-15.93675813],\n",
       "        [-29.15297922],\n",
       "        [ 36.18954863],\n",
       "        [ 37.49218733],\n",
       "        [-48.05882945],\n",
       "        [ -8.94145794],\n",
       "        [ 15.30779289],\n",
       "        [-34.70626581],\n",
       "        [  1.38915437],\n",
       "        [-44.38375985],\n",
       "        [  7.01350208],\n",
       "        [ 22.76274892]]), 'Xtest': array([[-33.31800399],\n",
       "        [-37.91216403],\n",
       "        [-51.20693795],\n",
       "        [ -6.13259585],\n",
       "        [ 21.26118327],\n",
       "        [-40.31952949],\n",
       "        [-14.54153167],\n",
       "        [ 32.55976024],\n",
       "        [ 13.39343255],\n",
       "        [ 44.20988595],\n",
       "        [ -1.14267768],\n",
       "        [-12.76686065],\n",
       "        [ 34.05450539],\n",
       "        [ 39.22350028],\n",
       "        [  1.97449674],\n",
       "        [ 29.6217551 ],\n",
       "        [-23.66962971],\n",
       "        [ -9.01180139],\n",
       "        [-55.94057091],\n",
       "        [-35.70859752],\n",
       "        [  9.51020533]]), 'Xval': array([[-16.74653578],\n",
       "        [-14.57747075],\n",
       "        [ 34.51575866],\n",
       "        [-47.01007574],\n",
       "        [ 36.97511905],\n",
       "        [-40.68611002],\n",
       "        [ -4.47201098],\n",
       "        [ 26.53363489],\n",
       "        [-42.7976831 ],\n",
       "        [ 25.37409938],\n",
       "        [-31.10955398],\n",
       "        [ 27.31176864],\n",
       "        [ -3.26386201],\n",
       "        [ -1.81827649],\n",
       "        [-40.7196624 ],\n",
       "        [-50.01324365],\n",
       "        [-17.41177155],\n",
       "        [  3.5881937 ],\n",
       "        [  7.08548026],\n",
       "        [ 46.28236902],\n",
       "        [ 14.61228909]]), '__globals__': [], '__header__': b'MATLAB 5.0 MAT-file, Platform: GLNXA64, Created on: Fri Nov  4 22:27:26 2011', '__version__': '1.0', 'y': array([[ 2.13431051],\n",
       "        [ 1.17325668],\n",
       "        [34.35910918],\n",
       "        [36.83795516],\n",
       "        [ 2.80896507],\n",
       "        [ 2.12107248],\n",
       "        [14.71026831],\n",
       "        [ 2.61418439],\n",
       "        [ 3.74017167],\n",
       "        [ 3.73169131],\n",
       "        [ 7.62765885],\n",
       "        [22.7524283 ]]), 'ytest': array([[ 3.31688953],\n",
       "        [ 5.39768952],\n",
       "        [ 0.13042984],\n",
       "        [ 6.1925982 ],\n",
       "        [17.08848712],\n",
       "        [ 0.79950805],\n",
       "        [ 2.82479183],\n",
       "        [28.62123334],\n",
       "        [17.04639081],\n",
       "        [55.38437334],\n",
       "        [ 4.07936733],\n",
       "        [ 8.27039793],\n",
       "        [31.32355102],\n",
       "        [39.15906103],\n",
       "        [ 8.08727989],\n",
       "        [24.11134389],\n",
       "        [ 2.4773548 ],\n",
       "        [ 6.56606472],\n",
       "        [ 6.0380888 ],\n",
       "        [ 4.69273956],\n",
       "        [10.83004606]]), 'yval': array([[ 4.17020201e+00],\n",
       "        [ 4.06726280e+00],\n",
       "        [ 3.18730676e+01],\n",
       "        [ 1.06236562e+01],\n",
       "        [ 3.18360213e+01],\n",
       "        [ 4.95936972e+00],\n",
       "        [ 4.45159880e+00],\n",
       "        [ 2.22763185e+01],\n",
       "        [-4.38738274e-05],\n",
       "        [ 2.05038016e+01],\n",
       "        [ 3.85834476e+00],\n",
       "        [ 1.93650529e+01],\n",
       "        [ 4.88376281e+00],\n",
       "        [ 1.10971588e+01],\n",
       "        [ 7.46170827e+00],\n",
       "        [ 1.47693464e+00],\n",
       "        [ 2.71916388e+00],\n",
       "        [ 1.09269007e+01],\n",
       "        [ 8.34871235e+00],\n",
       "        [ 5.27819280e+01],\n",
       "        [ 1.33573396e+01]])}"
      ]
     },
     "execution_count": 3,
     "metadata": {},
     "output_type": "execute_result"
    }
   ],
   "source": [
    "# Visualizando o conteúdo importado\n",
    "data"
   ]
  },
  {
   "cell_type": "code",
   "execution_count": 4,
   "metadata": {
    "ExecuteTime": {
     "end_time": "2019-04-21T02:35:55.147268Z",
     "start_time": "2019-04-21T02:35:54.958773Z"
    }
   },
   "outputs": [
    {
     "name": "stdout",
     "output_type": "stream",
     "text": [
      "Chaves do arquivo importado: ['X', 'y', 'Xtest', 'ytest', 'Xval', 'yval']\n"
     ]
    }
   ],
   "source": [
    "# Visualizando de forma mais dinâmica\n",
    "print(f'Chaves do arquivo importado: {list(data.keys())[3:]}')"
   ]
  },
  {
   "cell_type": "code",
   "execution_count": 5,
   "metadata": {
    "ExecuteTime": {
     "end_time": "2019-04-21T02:35:55.315637Z",
     "start_time": "2019-04-21T02:35:55.149263Z"
    }
   },
   "outputs": [],
   "source": [
    "# Separando conjuntos de Treino\n",
    "X_train = data['X']\n",
    "y_train = data['y']\n",
    "\n",
    "# Separando conjuntos de Validação\n",
    "X_val = data['Xval']\n",
    "y_val = data['yval']\n",
    "\n",
    "# Separando conjuntos de Teste\n",
    "X_test = data['Xtest']\n",
    "y_test = data['ytest']"
   ]
  },
  {
   "cell_type": "code",
   "execution_count": 6,
   "metadata": {
    "ExecuteTime": {
     "end_time": "2019-04-21T02:35:55.498332Z",
     "start_time": "2019-04-21T02:35:55.317812Z"
    }
   },
   "outputs": [
    {
     "name": "stdout",
     "output_type": "stream",
     "text": [
      "Dimensões de X_train: (12, 1)\n",
      "Dimensões de X_val: (21, 1)\n",
      "Dimensões de X_test: (21, 1)\n"
     ]
    }
   ],
   "source": [
    "# Verificando dimensões\n",
    "print(f'Dimensões de X_train: {X_train.shape}')\n",
    "print(f'Dimensões de X_val: {X_val.shape}')\n",
    "print(f'Dimensões de X_test: {X_test.shape}')"
   ]
  },
  {
   "cell_type": "markdown",
   "metadata": {},
   "source": [
    "Temos em mãos um conjunto de dados com pouquíssimos dados. Acredito que não será possível aplicar com eficiência treinamentos a partir do Scikit-Learn. Será apenas um desenvolvimento didático."
   ]
  },
  {
   "cell_type": "markdown",
   "metadata": {},
   "source": [
    "Um outro ponto a ser destacado é que, de certa forma, não faz nenhum sentido o conjunto de treino possuir praticamente a metade da quantidade de dados dos conjuntos de validação e de teste. Isto não é, nem de longe, aplicável em problemas reais."
   ]
  },
  {
   "cell_type": "code",
   "execution_count": 7,
   "metadata": {
    "ExecuteTime": {
     "end_time": "2019-04-21T02:35:55.672867Z",
     "start_time": "2019-04-21T02:35:55.500325Z"
    }
   },
   "outputs": [
    {
     "data": {
      "text/plain": [
       "array([[-15.93675813],\n",
       "       [-29.15297922],\n",
       "       [ 36.18954863],\n",
       "       [ 37.49218733],\n",
       "       [-48.05882945]])"
      ]
     },
     "execution_count": 7,
     "metadata": {},
     "output_type": "execute_result"
    }
   ],
   "source": [
    "# Vamos verificar as primeiras linhas dos dados de treino\n",
    "X_train[:5]"
   ]
  },
  {
   "cell_type": "markdown",
   "metadata": {},
   "source": [
    "Lembrando que:\n",
    "    - Eixo x (feature): mudança no nível de água no reservatório\n",
    "    - Eixo y (label): fluxo de água saindo da torneira"
   ]
  },
  {
   "cell_type": "code",
   "execution_count": 8,
   "metadata": {
    "ExecuteTime": {
     "end_time": "2019-04-21T02:35:55.876406Z",
     "start_time": "2019-04-21T02:35:55.677850Z"
    }
   },
   "outputs": [
    {
     "data": {
      "text/plain": [
       "array([[ 2.13431051],\n",
       "       [ 1.17325668],\n",
       "       [34.35910918],\n",
       "       [36.83795516],\n",
       "       [ 2.80896507]])"
      ]
     },
     "execution_count": 8,
     "metadata": {},
     "output_type": "execute_result"
    }
   ],
   "source": [
    "# Vejamos o label\n",
    "y_train[:5]"
   ]
  },
  {
   "cell_type": "code",
   "execution_count": 9,
   "metadata": {
    "ExecuteTime": {
     "end_time": "2019-04-21T02:35:56.063818Z",
     "start_time": "2019-04-21T02:35:55.879311Z"
    }
   },
   "outputs": [
    {
     "name": "stdout",
     "output_type": "stream",
     "text": [
      "Dimensões de y_train antes do reshape: (12, 1)\n",
      "Dimensões de y_train após o reshape: (12,)\n",
      "\n",
      "Primeiras linhas de y_train: \n",
      "[ 2.13431051  1.17325668 34.35910918 36.83795516  2.80896507]\n"
     ]
    }
   ],
   "source": [
    "# Vamos alterar o label y para critérios de otimização futuros\n",
    "print(f'Dimensões de y_train antes do reshape: {y_train.shape}')\n",
    "y_train = y_train.reshape(-1)\n",
    "\n",
    "print(f'Dimensões de y_train após o reshape: {y_train.shape}')\n",
    "print(f'\\nPrimeiras linhas de y_train: \\n{y_train[:5]}')"
   ]
  },
  {
   "cell_type": "code",
   "execution_count": 10,
   "metadata": {
    "ExecuteTime": {
     "end_time": "2019-04-21T02:35:56.696128Z",
     "start_time": "2019-04-21T02:35:56.066285Z"
    }
   },
   "outputs": [
    {
     "data": {
      "image/png": "[encoded data removed]",
      "text/plain": [
       "<matplotlib.figure.Figure at 0x1cb5ef419e8>"
      ]
     },
     "metadata": {
      "needs_background": "light"
     },
     "output_type": "display_data"
    }
   ],
   "source": [
    "# Vamos plotar os dados\n",
    "import matplotlib.pyplot as plt\n",
    "%matplotlib inline\n",
    "\n",
    "# Criando figure e eixo\n",
    "fig, ax = plt.subplots(figsize=(8, 5))\n",
    "ax.scatter(X_train, y_train, marker='x', color='r')\n",
    "ax.set_title('Vazão de Água por Nível do Reservatório', size=15)\n",
    "ax.set_xlabel('Mudança no nível nível de água', size=10, labelpad=10)\n",
    "ax.set_ylabel('Fluxo de saída de água', size=10, labelpad=10)\n",
    "plt.show()"
   ]
  },
  {
   "cell_type": "markdown",
   "metadata": {},
   "source": [
    "Através da plotagem, é possível perceber que o comportamento do modelo não pode ser linear, visto que os dados possem um comportamento exponencial (ou de graus polinomiais maiores) a medida que o mudança no nível de água do reservatório aumenta.\n",
    "\n",
    "Para dar início ao desenvolvimento, vamos calcular a função custo considerando um modelo linear simples!"
   ]
  },
  {
   "cell_type": "markdown",
   "metadata": {},
   "source": [
    "### Função Custo Regularizada"
   ]
  },
  {
   "cell_type": "markdown",
   "metadata": {},
   "source": [
    "Em um primeiro momento, vamos considerar um modelo totalmente linear (grau polinomial = 1) apenas para definir uma função custo para os testes posteriores."
   ]
  },
  {
   "cell_type": "markdown",
   "metadata": {},
   "source": [
    "Fórmula:\n",
    "\n",
    "\\begin{equation*}\n",
    "    J(\\theta)=\\frac{1}{2m}\\left(\\sum_{i=1}^{m}\\left(h_\\theta(x^{(i)})-y^{(i)}\\right)^2\\right)+\n",
    "              \\frac{\\lambda}{2m}\\left(\\sum_{j=1}^{n}\\theta_j^2\\right)\n",
    "\\end{equation*}"
   ]
  },
  {
   "cell_type": "markdown",
   "metadata": {},
   "source": [
    "Considerações:\n",
    "    - lambda ALTO = tendência a UNDERFITTING\n",
    "    - lambda BAIXO = tendência a OVERFITTING"
   ]
  },
  {
   "cell_type": "markdown",
   "metadata": {},
   "source": [
    "#### Hypothesis"
   ]
  },
  {
   "cell_type": "code",
   "execution_count": 11,
   "metadata": {
    "ExecuteTime": {
     "end_time": "2019-04-21T02:35:56.705104Z",
     "start_time": "2019-04-21T02:35:56.698232Z"
    }
   },
   "outputs": [
    {
     "data": {
      "text/plain": [
       "array([[1],\n",
       "       [1]])"
      ]
     },
     "execution_count": 11,
     "metadata": {},
     "output_type": "execute_result"
    }
   ],
   "source": [
    "# Inicializando parâmetros de teste\n",
    "theta_inicial = np.array((1, 1)).reshape(2, 1)\n",
    "theta_inicial"
   ]
  },
  {
   "cell_type": "markdown",
   "metadata": {},
   "source": [
    "Para iniciarmos os cálculos da função custo, precisamos, primeiro calcular a função ```hypothesis``` para Regressão Linear"
   ]
  },
  {
   "cell_type": "markdown",
   "metadata": {},
   "source": [
    "\\begin{equation*}\n",
    "    h_\\theta(x)=\\theta^Tx=\\theta_0+\\theta_1x_1+\\theta_2x_2+...+\\theta_nx_n\n",
    "\\end{equation*}"
   ]
  },
  {
   "cell_type": "code",
   "execution_count": 12,
   "metadata": {
    "ExecuteTime": {
     "end_time": "2019-04-21T02:35:56.966413Z",
     "start_time": "2019-04-21T02:35:56.707099Z"
    }
   },
   "outputs": [
    {
     "name": "stdout",
     "output_type": "stream",
     "text": [
      "Dimensões de X_train: (12, 2)\n",
      "\n",
      "Primeiras linhas de X_train: \n",
      "[[  1.         -15.93675813]\n",
      " [  1.         -29.15297922]\n",
      " [  1.          36.18954863]\n",
      " [  1.          37.49218733]\n",
      " [  1.         -48.05882945]]\n"
     ]
    }
   ],
   "source": [
    "# Adicionando termo de bias em X\n",
    "m = X_train.shape[0]\n",
    "X_train = np.c_[(np.ones((m, 1)), X_train)]\n",
    "\n",
    "# Verificnado\n",
    "print(f'Dimensões de X_train: {X_train.shape}')\n",
    "print(f'\\nPrimeiras linhas de X_train: \\n{X_train[:5]}')"
   ]
  },
  {
   "cell_type": "code",
   "execution_count": 13,
   "metadata": {
    "ExecuteTime": {
     "end_time": "2019-04-21T02:35:57.128971Z",
     "start_time": "2019-04-21T02:35:56.968409Z"
    }
   },
   "outputs": [
    {
     "data": {
      "text/plain": [
       "(2, 1)"
      ]
     },
     "execution_count": 13,
     "metadata": {},
     "output_type": "execute_result"
    }
   ],
   "source": [
    "# Verificando dimensão dos parâmetros\n",
    "theta_inicial.shape"
   ]
  },
  {
   "cell_type": "markdown",
   "metadata": {},
   "source": [
    "Uma multiplicação de matriz com dimensões 12x2 por 2x1 resultará em h = 12x1, que é o que queremos!"
   ]
  },
  {
   "cell_type": "code",
   "execution_count": 14,
   "metadata": {
    "ExecuteTime": {
     "end_time": "2019-04-21T02:35:57.136950Z",
     "start_time": "2019-04-21T02:35:57.131233Z"
    }
   },
   "outputs": [
    {
     "name": "stdout",
     "output_type": "stream",
     "text": [
      "Primeiras linhas de h: \n",
      "[[-14.93675813]\n",
      " [-28.15297922]\n",
      " [ 37.18954863]\n",
      " [ 38.49218733]\n",
      " [-47.05882945]]\n"
     ]
    }
   ],
   "source": [
    "# Calculando hypothesis\n",
    "h = X_train.dot(theta_inicial)\n",
    "\n",
    "# Verificando primeiras linhas\n",
    "print(f'Primeiras linhas de h: \\n{h[:5]}')"
   ]
  },
  {
   "cell_type": "code",
   "execution_count": 15,
   "metadata": {
    "ExecuteTime": {
     "end_time": "2019-04-21T02:35:57.143931Z",
     "start_time": "2019-04-21T02:35:57.139177Z"
    }
   },
   "outputs": [
    {
     "name": "stdout",
     "output_type": "stream",
     "text": [
      "Primeiras linhas de y_train: \n",
      "[ 2.13431051  1.17325668 34.35910918 36.83795516  2.80896507]\n"
     ]
    }
   ],
   "source": [
    "# Comparando com y (target)\n",
    "print(f'Primeiras linhas de y_train: \\n{y_train[:5]}')"
   ]
  },
  {
   "cell_type": "code",
   "execution_count": 16,
   "metadata": {
    "ExecuteTime": {
     "end_time": "2019-04-21T02:35:57.151910Z",
     "start_time": "2019-04-21T02:35:57.146117Z"
    }
   },
   "outputs": [],
   "source": [
    "# Definindo função para cálculo da função hypothesis\n",
    "def hypothesis(theta, X):\n",
    "    \"\"\" Função responsável por cálcular a função hypothesis do modelo (predições)\n",
    "    Input:\n",
    "        theta: parâmetros do modelo;\n",
    "        X: features do modelo;\n",
    "    Output:\n",
    "        h: função hypothesis (predições)\"\"\"\n",
    "    \n",
    "    h = X.dot(theta)\n",
    "    return h   "
   ]
  },
  {
   "cell_type": "code",
   "execution_count": 17,
   "metadata": {
    "ExecuteTime": {
     "end_time": "2019-04-21T02:35:57.382299Z",
     "start_time": "2019-04-21T02:35:57.154081Z"
    }
   },
   "outputs": [
    {
     "data": {
      "text/plain": [
       "array([[-14.93675813],\n",
       "       [-28.15297922],\n",
       "       [ 37.18954863],\n",
       "       [ 38.49218733],\n",
       "       [-47.05882945]])"
      ]
     },
     "execution_count": 17,
     "metadata": {},
     "output_type": "execute_result"
    }
   ],
   "source": [
    "# Testando mais uma vez\n",
    "h = hypothesis(theta_inicial, X_train)\n",
    "h[:5]"
   ]
  },
  {
   "cell_type": "markdown",
   "metadata": {},
   "source": [
    "Obviamente temos uma grande diferença. Primeiro, porque os parâmetros foram iniciados em [1; 1] e, fatalmente esta está longe da combinação perfeita de parâmetros. Segundo, porque já vimos que o modelo linear (grau = 1) não se encaixa nos dados. Matematicamente, podemos provar esse \"erro\" através da função custo (esperamos obter um valor elevado pro custo)."
   ]
  },
  {
   "cell_type": "markdown",
   "metadata": {},
   "source": [
    "#### Custo e Regularização"
   ]
  },
  {
   "cell_type": "markdown",
   "metadata": {},
   "source": [
    "\\begin{equation*}\n",
    "    J(\\theta)=\\frac{1}{2m}\\left(\\sum_{i=1}^{m}\\left(h_\\theta(x^{(i)})-y^{(i)}\\right)^2\\right)+\n",
    "              \\frac{\\lambda}{2m}\\left(\\sum_{j=1}^{n}\\theta_j^2\\right)\n",
    "\\end{equation*}"
   ]
  },
  {
   "cell_type": "code",
   "execution_count": 18,
   "metadata": {
    "ExecuteTime": {
     "end_time": "2019-04-21T02:35:57.557825Z",
     "start_time": "2019-04-21T02:35:57.384318Z"
    }
   },
   "outputs": [
    {
     "data": {
      "text/plain": [
       "array([[-17.07106864, -16.11001481, -49.29586731, -51.7747133 ,\n",
       "        -17.74572321, -17.05783061, -29.64702644, -17.55094252,\n",
       "        -18.6769298 , -18.66844944, -22.56441699, -37.68918644],\n",
       "       [-30.28728972, -29.3262359 , -62.5120884 , -64.99093438,\n",
       "        -30.96194429, -30.27405169, -42.86324752, -30.7671636 ,\n",
       "        -31.89315088, -31.88467053, -35.78063807, -50.90540752],\n",
       "       [ 35.05523812,  36.01629195,   2.83043945,   0.35159346,\n",
       "         34.38058355,  35.06847615,  22.47928032,  34.57536424,\n",
       "         33.44937696,  33.45785732,  29.56188977,  14.43712032],\n",
       "       [ 36.35787683,  37.31893065,   4.13307815,   1.65423217,\n",
       "         35.68322226,  36.37111486,  23.78191903,  35.87800295,\n",
       "         34.75201567,  34.76049602,  30.86452848,  15.73975903],\n",
       "       [-49.19313996, -48.23208613, -81.41793863, -83.89678462,\n",
       "        -49.86779453, -49.17990193, -61.76909776, -49.67301384,\n",
       "        -50.79900112, -50.79052076, -54.6864883 , -69.81125775],\n",
       "       [-10.07576844,  -9.11471462, -42.30056712, -44.7794131 ,\n",
       "        -10.75042301, -10.06253041, -22.65172624, -10.55564232,\n",
       "        -11.6816296 , -11.67314925, -15.56911679, -30.69388624],\n",
       "       [ 14.17348238,  15.13453621, -18.05131629, -20.53016227,\n",
       "         13.49882781,  14.18672041,   1.59752458,  13.6936085 ,\n",
       "         12.56762122,  12.57610158,   8.68013404,  -6.44463541],\n",
       "       [-35.84057632, -34.87952249, -68.06537499, -70.54422098,\n",
       "        -36.51523089, -35.82733829, -48.41653412, -36.3204502 ,\n",
       "        -37.44643748, -37.43795712, -41.33392466, -56.45869411],\n",
       "       [  0.25484386,   1.21589769, -31.96995481, -34.4488008 ,\n",
       "         -0.41981071,   0.26808189, -12.32111394,  -0.22503002,\n",
       "         -1.3510173 ,  -1.34253694,  -5.23850448, -20.36327393],\n",
       "       [-45.51807036, -44.55701653, -77.74286903, -80.22171502,\n",
       "        -46.19272493, -45.50483233, -58.09402816, -45.99794424,\n",
       "        -47.12393152, -47.11545116, -51.0114187 , -66.13618815],\n",
       "       [  5.87919158,   6.8402454 , -26.3456071 , -28.82445308,\n",
       "          5.20453701,   5.89242961,  -6.69676622,   5.3993177 ,\n",
       "          4.27333042,   4.28181077,   0.38584323, -14.73892622],\n",
       "       [ 21.62843841,  22.58949224, -10.59636026, -13.07520624,\n",
       "         20.95378385,  21.64167644,   9.05248061,  21.14856453,\n",
       "         20.02257725,  20.03105761,  16.13509007,   1.01032062]])"
      ]
     },
     "execution_count": 18,
     "metadata": {},
     "output_type": "execute_result"
    }
   ],
   "source": [
    "# Subtração\n",
    "h - y_train"
   ]
  },
  {
   "cell_type": "code",
   "execution_count": 19,
   "metadata": {
    "ExecuteTime": {
     "end_time": "2019-04-21T02:35:57.721396Z",
     "start_time": "2019-04-21T02:35:57.559820Z"
    }
   },
   "outputs": [
    {
     "data": {
      "text/plain": [
       "array([[2.91421385e+02, 2.59532577e+02, 2.43008253e+03, 2.68062094e+03,\n",
       "        3.14910692e+02, 2.90969585e+02, 8.78946177e+02, 3.08035583e+02,\n",
       "        3.48827707e+02, 3.48511005e+02, 5.09152914e+02, 1.42047477e+03],\n",
       "       [9.17319919e+02, 8.60028112e+02, 3.90776120e+03, 4.22382155e+03,\n",
       "        9.58641994e+02, 9.16518206e+02, 1.83725799e+03, 9.46618356e+02,\n",
       "        1.01717307e+03, 1.01663221e+03, 1.28025406e+03, 2.59136051e+03],\n",
       "       [1.22886972e+03, 1.29717329e+03, 8.01138746e+00, 1.23617963e-01,\n",
       "        1.18202453e+03, 1.22979802e+03, 5.05318044e+02, 1.19545581e+03,\n",
       "        1.11886082e+03, 1.11942822e+03, 8.73905327e+02, 2.08430443e+02],\n",
       "       [1.32189521e+03, 1.39270259e+03, 1.70823350e+01, 2.73648407e+00,\n",
       "        1.27329235e+03, 1.32285800e+03, 5.65579673e+02, 1.28723110e+03,\n",
       "        1.20770259e+03, 1.20829208e+03, 9.52619118e+02, 2.47740014e+02],\n",
       "       [2.41996502e+03, 2.32633413e+03, 6.62888073e+03, 7.03867047e+03,\n",
       "        2.48679693e+03, 2.41866275e+03, 3.81542144e+03, 2.46740830e+03,\n",
       "        2.58053851e+03, 2.57967700e+03, 2.99061200e+03, 4.87361171e+03],\n",
       "       [1.01521110e+02, 8.30780225e+01, 1.78933798e+03, 2.00519584e+03,\n",
       "        1.15571595e+02, 1.01254518e+02, 5.13100702e+02, 1.11421585e+02,\n",
       "        1.36460470e+02, 1.36262413e+02, 2.42397398e+02, 9.42114653e+02],\n",
       "       [2.00887603e+02, 2.29054186e+02, 3.25850020e+02, 4.21487563e+02,\n",
       "        1.82218352e+02, 2.01263036e+02, 2.55208479e+00, 1.87514914e+02,\n",
       "        1.57945103e+02, 1.58158331e+02, 7.53447269e+01, 4.15333256e+01],\n",
       "       [1.28454691e+03, 1.21658109e+03, 4.63289527e+03, 4.97648711e+03,\n",
       "        1.33336209e+03, 1.28359817e+03, 2.34416078e+03, 1.31917510e+03,\n",
       "        1.40223568e+03, 1.40160063e+03, 1.70849333e+03, 3.18758414e+03],\n",
       "       [6.49453940e-02, 1.47840719e+00, 1.02207801e+03, 1.18671988e+03,\n",
       "        1.76241029e-01, 7.18679008e-02, 1.51809849e+02, 5.06385089e-02,\n",
       "        1.82524774e+00, 1.80240544e+00, 2.74419292e+01, 4.14662925e+02],\n",
       "       [2.07189473e+03, 1.98532772e+03, 6.04395369e+03, 6.43552356e+03,\n",
       "        2.13376784e+03, 2.07068977e+03, 3.37491611e+03, 2.11581087e+03,\n",
       "        2.22066492e+03, 2.21986574e+03, 2.60216484e+03, 4.37399538e+03],\n",
       "       [3.45648936e+01, 4.67889572e+01, 6.94091013e+02, 8.30849095e+02,\n",
       "        2.70872055e+01, 3.47207267e+01, 4.48466779e+01, 2.91526316e+01,\n",
       "        1.82613529e+01, 1.83339035e+01, 1.48874998e-01, 2.17235946e+02],\n",
       "       [4.67789348e+02, 5.10285160e+02, 1.12282851e+02, 1.70961018e+02,\n",
       "        4.39061057e+02, 4.68362159e+02, 8.19474053e+01, 4.47261782e+02,\n",
       "        4.00903600e+02, 4.01243269e+02, 2.60341131e+02, 1.02074775e+00]])"
      ]
     },
     "execution_count": 19,
     "metadata": {},
     "output_type": "execute_result"
    }
   ],
   "source": [
    "# Elevando ao quadrado\n",
    "(h - y_train) ** 2"
   ]
  },
  {
   "cell_type": "code",
   "execution_count": 20,
   "metadata": {
    "ExecuteTime": {
     "end_time": "2019-04-21T02:35:57.903933Z",
     "start_time": "2019-04-21T02:35:57.723909Z"
    }
   },
   "outputs": [
    {
     "data": {
      "text/plain": [
       "array([10340.74078902, 10208.36423661, 27612.30701522, 29973.19712345,\n",
       "       10446.91086756, 10338.76680244, 14115.85692134, 10415.13667844,\n",
       "       10611.39908181, 10609.8072124 , 11522.87564946, 18519.76457766])"
      ]
     },
     "execution_count": 20,
     "metadata": {},
     "output_type": "execute_result"
    }
   ],
   "source": [
    "# Somando\n",
    "sum((h - y_train) ** 2)"
   ]
  },
  {
   "cell_type": "code",
   "execution_count": 21,
   "metadata": {
    "ExecuteTime": {
     "end_time": "2019-04-21T02:35:58.133294Z",
     "start_time": "2019-04-21T02:35:57.905895Z"
    }
   },
   "outputs": [
    {
     "data": {
      "text/plain": [
       "array([ 430.86419954,  425.34850986, 1150.5127923 , 1248.88321348,\n",
       "        435.28795282,  430.7819501 ,  588.16070506,  433.96402827,\n",
       "        442.14162841,  442.07530052,  480.11981873,  771.6568574 ])"
      ]
     },
     "execution_count": 21,
     "metadata": {},
     "output_type": "execute_result"
    }
   ],
   "source": [
    "# Dividindo por 2m\n",
    "sum((h - y_train) ** 2) / (2*m)"
   ]
  },
  {
   "cell_type": "code",
   "execution_count": 22,
   "metadata": {
    "ExecuteTime": {
     "end_time": "2019-04-21T02:35:58.295852Z",
     "start_time": "2019-04-21T02:35:58.135282Z"
    }
   },
   "outputs": [
    {
     "data": {
      "text/plain": [
       "array([[0.08333333]])"
      ]
     },
     "execution_count": 22,
     "metadata": {},
     "output_type": "execute_result"
    }
   ],
   "source": [
    "# Regularização\n",
    "lamda = 1\n",
    "(lamda / (2 * m)) * theta_inicial.T.dot(theta_inicial)"
   ]
  },
  {
   "cell_type": "code",
   "execution_count": 23,
   "metadata": {
    "ExecuteTime": {
     "end_time": "2019-04-21T02:35:58.320043Z",
     "start_time": "2019-04-21T02:35:58.300839Z"
    }
   },
   "outputs": [],
   "source": [
    "# Definindo função custo\n",
    "def linRegCostFunction(theta, X, y, lamda):\n",
    "    \"\"\" Função responsável por calcular a Função Custo de um problema de Regressão Linear\n",
    "    Input:\n",
    "        theta: parâmetros do modelo;\n",
    "        X: features do modelo;\n",
    "        y: labels do modelo;\n",
    "        lamda: fator de regularização\"\"\"\n",
    "    \n",
    "    # Calculando hypothesis\n",
    "    h = hypothesis(theta, X)\n",
    "    \n",
    "    # Calculando J sem regularização\n",
    "    m = X.shape[0]\n",
    "    unreg = sum((h - y) ** 2) / (2 * m)\n",
    "    \n",
    "    # Calculando fator de regularização\n",
    "    reg = (lamda / (2 * m)) * theta_inicial.T.dot(theta_inicial)\n",
    "    \n",
    "    # Unindo termos\n",
    "    J = (unreg + reg)[0][0]\n",
    "    \n",
    "    return J"
   ]
  },
  {
   "cell_type": "code",
   "execution_count": 24,
   "metadata": {
    "ExecuteTime": {
     "end_time": "2019-04-21T02:35:58.626968Z",
     "start_time": "2019-04-21T02:35:58.324775Z"
    }
   },
   "outputs": [
    {
     "name": "stdout",
     "output_type": "stream",
     "text": [
      "Custo da função com lambda = 0: 430.8641995424821\n"
     ]
    }
   ],
   "source": [
    "# Testando sem regularização (resultado esperado = 303.95)\n",
    "J = linRegCostFunction(theta_inicial, X_train, y_train, 0)\n",
    "print(f'Custo da função com lambda = 0: {J}')"
   ]
  },
  {
   "cell_type": "markdown",
   "metadata": {},
   "source": [
    "#### Gradiente e Regularização"
   ]
  },
  {
   "cell_type": "markdown",
   "metadata": {},
   "source": [
    "\\begin{equation*}\n",
    "    \\frac{\\partial J(\\theta)}{\\partial\\theta_j} = \n",
    "        \\begin{cases} \n",
    "            \\left(\\frac{1}{m}\\sum_{i=1}^m(h_\\theta(x^{(i)})-y^{(i)})x_j^{(i)}\\right)\n",
    "                & \\mbox{para } j\\mbox{ = 0} \\\\\n",
    "            \\left(\\frac{1}{m}\\sum_{i=1}^m(h_\\theta(x^{(i)})-y^{(i)})x_j^{(i)}\\right) +\n",
    "            \\frac{\\lambda}{m}\\theta_j &\\mbox{para } j\\mbox{ >= 1}\n",
    "        \\end{cases}\n",
    "\\end{equation*}  "
   ]
  },
  {
   "cell_type": "markdown",
   "metadata": {},
   "source": [
    "Como podemos ver, o termo 0 dos parâmetros theta ```não é regularizado!``` Dessa forma, vamos calcular o gradiente geral sem o fator de regularização e, posteriormente, vamos indexar nosso vetor de gradiente para aplicar o termo de regularização em todos os registros, exceto o primeiro."
   ]
  },
  {
   "cell_type": "code",
   "execution_count": 25,
   "metadata": {
    "ExecuteTime": {
     "end_time": "2019-04-21T02:35:58.638936Z",
     "start_time": "2019-04-21T02:35:58.628991Z"
    }
   },
   "outputs": [
    {
     "data": {
      "text/plain": [
       "array([[  -6.21973686,   -5.25868303,  -38.44453553,  -40.92338151,\n",
       "          -6.89439142,   -6.20649883,  -18.79569466,   -6.69961074,\n",
       "          -7.82559801,   -7.81711766,  -11.7130852 ,  -26.83785465],\n",
       "       [ 854.67328622,  849.78591776, 1018.55012648, 1031.15611516,\n",
       "         858.10419234,  854.60596519,  918.62739338,  857.11364949,\n",
       "         862.83977487,  862.79664865,  882.60930464,  959.52520572]])"
      ]
     },
     "execution_count": 25,
     "metadata": {},
     "output_type": "execute_result"
    }
   ],
   "source": [
    "# Testando grad\n",
    "h = hypothesis(theta_inicial, X_train)\n",
    "m = X_train.shape[0]\n",
    "grad = X_train.T.dot((h - y_train)) / m\n",
    "\n",
    "# Verificando\n",
    "grad"
   ]
  },
  {
   "cell_type": "markdown",
   "metadata": {},
   "source": [
    "Bom, pelo menos as dimensões obtidas foram de acordo com o esperado. Temos duas features em nosso modelo (bias e x1) e, por consequência, precisamos de uma parametrização theta de 2 colunas (theta0 e theta1). O gradiente descendente, por sua vez, é uma medida que reflete a magnitude da correção em nossos parâmetros theta e, por tanto, também deve possuir dimensões semelhantes à da matriz theta."
   ]
  },
  {
   "cell_type": "code",
   "execution_count": 26,
   "metadata": {
    "ExecuteTime": {
     "end_time": "2019-04-21T02:35:58.934146Z",
     "start_time": "2019-04-21T02:35:58.641494Z"
    }
   },
   "outputs": [
    {
     "data": {
      "text/plain": [
       "array([[  -6.21973686,   -5.25868303,  -38.44453553,  -40.92338151,\n",
       "          -6.89439142,   -6.20649883,  -18.79569466,   -6.69961074,\n",
       "          -7.82559801,   -7.81711766,  -11.7130852 ,  -26.83785465],\n",
       "       [ 854.67328622,  849.78591776, 1018.55012648, 1031.15611516,\n",
       "         858.10419234,  854.60596519,  918.62739338,  857.11364949,\n",
       "         862.83977487,  862.79664865,  882.60930464,  959.52520572]])"
      ]
     },
     "execution_count": 26,
     "metadata": {},
     "output_type": "execute_result"
    }
   ],
   "source": [
    "# Aplicando regularização\n",
    "lamda = 0\n",
    "grad[1:] = grad[1:] + (lamda/m) * theta_inicial[1:]\n",
    "\n",
    "# Verificando\n",
    "grad"
   ]
  },
  {
   "cell_type": "markdown",
   "metadata": {},
   "source": [
    "Claro que não houve alteração pelo fato de termos testado com lamda = 0"
   ]
  },
  {
   "cell_type": "code",
   "execution_count": 27,
   "metadata": {
    "ExecuteTime": {
     "end_time": "2019-04-21T02:35:59.152562Z",
     "start_time": "2019-04-21T02:35:58.936416Z"
    }
   },
   "outputs": [
    {
     "data": {
      "text/plain": [
       "array([[  -6.21973686,   -5.25868303,  -38.44453553,  -40.92338151,\n",
       "          -6.89439142,   -6.20649883,  -18.79569466,   -6.69961074,\n",
       "          -7.82559801,   -7.81711766,  -11.7130852 ,  -26.83785465],\n",
       "       [ 854.75661955,  849.86925109, 1018.63345982, 1031.23944849,\n",
       "         858.18752567,  854.68929853,  918.71072671,  857.19698283,\n",
       "         862.9231082 ,  862.87998198,  882.69263797,  959.60853905]])"
      ]
     },
     "execution_count": 27,
     "metadata": {},
     "output_type": "execute_result"
    }
   ],
   "source": [
    "# Testando para lamda = 1\n",
    "lamda = 1\n",
    "grad[1:] = grad[1:] + (lamda/m) * theta_inicial[1:]\n",
    "\n",
    "# Verificando\n",
    "grad"
   ]
  },
  {
   "cell_type": "markdown",
   "metadata": {},
   "source": [
    "Houve uma mudança de magnitude decimal."
   ]
  },
  {
   "cell_type": "code",
   "execution_count": 28,
   "metadata": {
    "ExecuteTime": {
     "end_time": "2019-04-21T02:35:59.414862Z",
     "start_time": "2019-04-21T02:35:59.154855Z"
    }
   },
   "outputs": [],
   "source": [
    "# Definindo função\n",
    "def gradientDescent(theta, X, y, lamda):\n",
    "    \"\"\" Função responsável pelo cálculo do vetor de gradiente relacionado aos parâmetros theta\n",
    "    Input:\n",
    "        theta: parâmetros do modelo;\n",
    "        X: features do modelo;\n",
    "        y: label do modelo;\n",
    "        lamda: fator de regularização\n",
    "    Output:\n",
    "        grad: vetor de gradiente\"\"\"\n",
    "    \n",
    "    # Calculando hypothesis\n",
    "    h = hypothesis(theta, X)\n",
    "    \n",
    "    # Gradiente sem regularização\n",
    "    m = X.shape[0]\n",
    "    grad = X.T.dot((h - y)) / m\n",
    "    \n",
    "    # Aplicando regularização\n",
    "    grad[1:] = grad[1:] + (lamda / m) * theta[1:]\n",
    "    \n",
    "    return grad"
   ]
  },
  {
   "cell_type": "code",
   "execution_count": 29,
   "metadata": {
    "ExecuteTime": {
     "end_time": "2019-04-21T02:35:59.567453Z",
     "start_time": "2019-04-21T02:35:59.417000Z"
    }
   },
   "outputs": [
    {
     "name": "stdout",
     "output_type": "stream",
     "text": [
      "Vetor de gradiente: \n",
      "[[  -6.21973686   -5.25868303  -38.44453553  -40.92338151   -6.89439142\n",
      "    -6.20649883  -18.79569466   -6.69961074   -7.82559801   -7.81711766\n",
      "   -11.7130852   -26.83785465]\n",
      " [ 854.67328622  849.78591776 1018.55012648 1031.15611516  858.10419234\n",
      "   854.60596519  918.62739338  857.11364949  862.83977487  862.79664865\n",
      "   882.60930464  959.52520572]]\n"
     ]
    }
   ],
   "source": [
    "# Executando\n",
    "grad = gradientDescent(theta_inicial, X_train, y_train, 0)\n",
    "print(f'Vetor de gradiente: \\n{grad}')"
   ]
  },
  {
   "cell_type": "markdown",
   "metadata": {},
   "source": [
    "Os valores obtidos foram de acordo com o esperado."
   ]
  },
  {
   "cell_type": "markdown",
   "metadata": {},
   "source": [
    "#### Treinando Modelo"
   ]
  },
  {
   "cell_type": "markdown",
   "metadata": {},
   "source": [
    "Para realizar o treinamento do modelo, vamos seguir de acordo com o que já foi realizado até o momento, em outros exercício: minimização da função custo através de módulos específicos do scipy (optimize.fmin_cg)."
   ]
  },
  {
   "cell_type": "code",
   "execution_count": 30,
   "metadata": {
    "ExecuteTime": {
     "end_time": "2019-04-21T02:35:59.573437Z",
     "start_time": "2019-04-21T02:35:59.569449Z"
    }
   },
   "outputs": [],
   "source": [
    "# Importando módulos\n",
    "import scipy.optimize"
   ]
  },
  {
   "cell_type": "code",
   "execution_count": 31,
   "metadata": {
    "ExecuteTime": {
     "end_time": "2019-04-21T02:35:59.742102Z",
     "start_time": "2019-04-21T02:35:59.575432Z"
    }
   },
   "outputs": [
    {
     "name": "stdout",
     "output_type": "stream",
     "text": [
      "Help on function fmin_cg in module scipy.optimize.optimize:\n",
      "\n",
      "fmin_cg(f, x0, fprime=None, args=(), gtol=1e-05, norm=inf, epsilon=1.4901161193847656e-08, maxiter=None, full_output=0, disp=1, retall=0, callback=None)\n",
      "    Minimize a function using a nonlinear conjugate gradient algorithm.\n",
      "    \n",
      "    Parameters\n",
      "    ----------\n",
      "    f : callable, ``f(x, *args)``\n",
      "        Objective function to be minimized.  Here `x` must be a 1-D array of\n",
      "        the variables that are to be changed in the search for a minimum, and\n",
      "        `args` are the other (fixed) parameters of `f`.\n",
      "    x0 : ndarray\n",
      "        A user-supplied initial estimate of `xopt`, the optimal value of `x`.\n",
      "        It must be a 1-D array of values.\n",
      "    fprime : callable, ``fprime(x, *args)``, optional\n",
      "        A function that returns the gradient of `f` at `x`. Here `x` and `args`\n",
      "        are as described above for `f`. The returned value must be a 1-D array.\n",
      "        Defaults to None, in which case the gradient is approximated\n",
      "        numerically (see `epsilon`, below).\n",
      "    args : tuple, optional\n",
      "        Parameter values passed to `f` and `fprime`. Must be supplied whenever\n",
      "        additional fixed parameters are needed to completely specify the\n",
      "        functions `f` and `fprime`.\n",
      "    gtol : float, optional\n",
      "        Stop when the norm of the gradient is less than `gtol`.\n",
      "    norm : float, optional\n",
      "        Order to use for the norm of the gradient\n",
      "        (``-np.Inf`` is min, ``np.Inf`` is max).\n",
      "    epsilon : float or ndarray, optional\n",
      "        Step size(s) to use when `fprime` is approximated numerically. Can be a\n",
      "        scalar or a 1-D array.  Defaults to ``sqrt(eps)``, with eps the\n",
      "        floating point machine precision.  Usually ``sqrt(eps)`` is about\n",
      "        1.5e-8.\n",
      "    maxiter : int, optional\n",
      "        Maximum number of iterations to perform. Default is ``200 * len(x0)``.\n",
      "    full_output : bool, optional\n",
      "        If True, return `fopt`, `func_calls`, `grad_calls`, and `warnflag` in\n",
      "        addition to `xopt`.  See the Returns section below for additional\n",
      "        information on optional return values.\n",
      "    disp : bool, optional\n",
      "        If True, return a convergence message, followed by `xopt`.\n",
      "    retall : bool, optional\n",
      "        If True, add to the returned values the results of each iteration.\n",
      "    callback : callable, optional\n",
      "        An optional user-supplied function, called after each iteration.\n",
      "        Called as ``callback(xk)``, where ``xk`` is the current value of `x0`.\n",
      "    \n",
      "    Returns\n",
      "    -------\n",
      "    xopt : ndarray\n",
      "        Parameters which minimize f, i.e. ``f(xopt) == fopt``.\n",
      "    fopt : float, optional\n",
      "        Minimum value found, f(xopt).  Only returned if `full_output` is True.\n",
      "    func_calls : int, optional\n",
      "        The number of function_calls made.  Only returned if `full_output`\n",
      "        is True.\n",
      "    grad_calls : int, optional\n",
      "        The number of gradient calls made. Only returned if `full_output` is\n",
      "        True.\n",
      "    warnflag : int, optional\n",
      "        Integer value with warning status, only returned if `full_output` is\n",
      "        True.\n",
      "    \n",
      "        0 : Success.\n",
      "    \n",
      "        1 : The maximum number of iterations was exceeded.\n",
      "    \n",
      "        2 : Gradient and/or function calls were not changing.  May indicate\n",
      "            that precision was lost, i.e., the routine did not converge.\n",
      "    \n",
      "    allvecs : list of ndarray, optional\n",
      "        List of arrays, containing the results at each iteration.\n",
      "        Only returned if `retall` is True.\n",
      "    \n",
      "    See Also\n",
      "    --------\n",
      "    minimize : common interface to all `scipy.optimize` algorithms for\n",
      "               unconstrained and constrained minimization of multivariate\n",
      "               functions.  It provides an alternative way to call\n",
      "               ``fmin_cg``, by specifying ``method='CG'``.\n",
      "    \n",
      "    Notes\n",
      "    -----\n",
      "    This conjugate gradient algorithm is based on that of Polak and Ribiere\n",
      "    [1]_.\n",
      "    \n",
      "    Conjugate gradient methods tend to work better when:\n",
      "    \n",
      "    1. `f` has a unique global minimizing point, and no local minima or\n",
      "       other stationary points,\n",
      "    2. `f` is, at least locally, reasonably well approximated by a\n",
      "       quadratic function of the variables,\n",
      "    3. `f` is continuous and has a continuous gradient,\n",
      "    4. `fprime` is not too large, e.g., has a norm less than 1000,\n",
      "    5. The initial guess, `x0`, is reasonably close to `f` 's global\n",
      "       minimizing point, `xopt`.\n",
      "    \n",
      "    References\n",
      "    ----------\n",
      "    .. [1] Wright & Nocedal, \"Numerical Optimization\", 1999, pp. 120-122.\n",
      "    \n",
      "    Examples\n",
      "    --------\n",
      "    Example 1: seek the minimum value of the expression\n",
      "    ``a*u**2 + b*u*v + c*v**2 + d*u + e*v + f`` for given values\n",
      "    of the parameters and an initial guess ``(u, v) = (0, 0)``.\n",
      "    \n",
      "    >>> args = (2, 3, 7, 8, 9, 10)  # parameter values\n",
      "    >>> def f(x, *args):\n",
      "    ...     u, v = x\n",
      "    ...     a, b, c, d, e, f = args\n",
      "    ...     return a*u**2 + b*u*v + c*v**2 + d*u + e*v + f\n",
      "    >>> def gradf(x, *args):\n",
      "    ...     u, v = x\n",
      "    ...     a, b, c, d, e, f = args\n",
      "    ...     gu = 2*a*u + b*v + d     # u-component of the gradient\n",
      "    ...     gv = b*u + 2*c*v + e     # v-component of the gradient\n",
      "    ...     return np.asarray((gu, gv))\n",
      "    >>> x0 = np.asarray((0, 0))  # Initial guess.\n",
      "    >>> from scipy import optimize\n",
      "    >>> res1 = optimize.fmin_cg(f, x0, fprime=gradf, args=args)\n",
      "    Optimization terminated successfully.\n",
      "             Current function value: 1.617021\n",
      "             Iterations: 4\n",
      "             Function evaluations: 8\n",
      "             Gradient evaluations: 8\n",
      "    >>> res1\n",
      "    array([-1.80851064, -0.25531915])\n",
      "    \n",
      "    Example 2: solve the same problem using the `minimize` function.\n",
      "    (This `myopts` dictionary shows all of the available options,\n",
      "    although in practice only non-default values would be needed.\n",
      "    The returned value will be a dictionary.)\n",
      "    \n",
      "    >>> opts = {'maxiter' : None,    # default value.\n",
      "    ...         'disp' : True,    # non-default value.\n",
      "    ...         'gtol' : 1e-5,    # default value.\n",
      "    ...         'norm' : np.inf,  # default value.\n",
      "    ...         'eps' : 1.4901161193847656e-08}  # default value.\n",
      "    >>> res2 = optimize.minimize(f, x0, jac=gradf, args=args,\n",
      "    ...                          method='CG', options=opts)\n",
      "    Optimization terminated successfully.\n",
      "            Current function value: 1.617021\n",
      "            Iterations: 4\n",
      "            Function evaluations: 8\n",
      "            Gradient evaluations: 8\n",
      "    >>> res2.x  # minimum found\n",
      "    array([-1.80851064, -0.25531915])\n",
      "\n"
     ]
    }
   ],
   "source": [
    "# Verificando\n",
    "help(scipy.optimize.fmin_cg)"
   ]
  },
  {
   "cell_type": "code",
   "execution_count": 32,
   "metadata": {
    "ExecuteTime": {
     "end_time": "2019-04-21T02:35:59.897228Z",
     "start_time": "2019-04-21T02:35:59.743982Z"
    }
   },
   "outputs": [
    {
     "name": "stdout",
     "output_type": "stream",
     "text": [
      "Optimization terminated successfully.\n",
      "         Current function value: 22.373906\n",
      "         Iterations: 18\n",
      "         Function evaluations: 28\n",
      "         Gradient evaluations: 28\n"
     ]
    }
   ],
   "source": [
    "# Minimizando função custo\n",
    "lamda = 0\n",
    "result = scipy.optimize.fmin_cg(linRegCostFunction, fprime=gradientDescent, \n",
    "                                x0=theta_inicial, args=(X_train, y_train, lamda), \n",
    "                                maxiter=200, disp=True, full_output=True)"
   ]
  },
  {
   "cell_type": "code",
   "execution_count": 33,
   "metadata": {
    "ExecuteTime": {
     "end_time": "2019-04-21T02:36:00.057152Z",
     "start_time": "2019-04-21T02:35:59.898568Z"
    }
   },
   "outputs": [
    {
     "data": {
      "text/plain": [
       "(array([13.08790734,  0.36777925]), 22.373906495116017, 28, 28, 0)"
      ]
     },
     "execution_count": 33,
     "metadata": {},
     "output_type": "execute_result"
    }
   ],
   "source": [
    "# Verificando vetor de resultados\n",
    "result"
   ]
  },
  {
   "cell_type": "code",
   "execution_count": 34,
   "metadata": {
    "ExecuteTime": {
     "end_time": "2019-04-21T02:36:00.230690Z",
     "start_time": "2019-04-21T02:36:00.059479Z"
    }
   },
   "outputs": [
    {
     "name": "stdout",
     "output_type": "stream",
     "text": [
      "Melhores parâmetros para o modelo: [13.08790734  0.36777925]\n",
      "Menor custo para o modelo: 22.374\n"
     ]
    }
   ],
   "source": [
    "# Parâmetros\n",
    "best_theta = result[0]\n",
    "print(f'Melhores parâmetros para o modelo: {best_theta}')\n",
    "\n",
    "# Custo\n",
    "J_min = result[1]\n",
    "print(f'Menor custo para o modelo: {J_min:.3f}')"
   ]
  },
  {
   "cell_type": "markdown",
   "metadata": {},
   "source": [
    "O valor mínimo para o custo foi obtido de acordo com o esperado para este exerício."
   ]
  },
  {
   "cell_type": "code",
   "execution_count": 35,
   "metadata": {
    "ExecuteTime": {
     "end_time": "2019-04-21T02:36:00.412525Z",
     "start_time": "2019-04-21T02:36:00.232823Z"
    }
   },
   "outputs": [],
   "source": [
    "# Definindo função para o treinamento\n",
    "def trainLinReg(theta_inicial, X, y, lamda):\n",
    "    \"\"\" Função responsável por realizar o treinamento do modelo de Regressão Linear através\n",
    "    da minimização da função custo já definida\n",
    "    Input:\n",
    "        theta_inicial: parâmetros de entrada do modelo;\n",
    "        X: features do modelo;\n",
    "        y: label do modelo;\n",
    "        lamda: fator de regularização\n",
    "    Output:\n",
    "        best_theta: melhores parâmetro aprendidos\n",
    "        J_min: menor custo para o modelo\"\"\"\n",
    "    \n",
    "    result = scipy.optimize.fmin_cg(linRegCostFunction, fprime=gradientDescent, \n",
    "                                x0=theta_inicial, args=(X, y, lamda), \n",
    "                                maxiter=1000, disp=True, full_output=True)\n",
    "    best_theta = result[0]\n",
    "    J_min = result[1]\n",
    "    \n",
    "    return best_theta, J_min"
   ]
  },
  {
   "cell_type": "code",
   "execution_count": 36,
   "metadata": {
    "ExecuteTime": {
     "end_time": "2019-04-21T02:36:00.568782Z",
     "start_time": "2019-04-21T02:36:00.414190Z"
    }
   },
   "outputs": [
    {
     "name": "stdout",
     "output_type": "stream",
     "text": [
      "Optimization terminated successfully.\n",
      "         Current function value: 22.373906\n",
      "         Iterations: 18\n",
      "         Function evaluations: 28\n",
      "         Gradient evaluations: 28\n",
      "\n",
      "Melhores parâmetros para o modelo: [13.08790734  0.36777925]\n",
      "Menor custo para o modelo: 22.374\n"
     ]
    }
   ],
   "source": [
    "# Verificando (dados de treino)\n",
    "best_theta, J_min = trainLinReg(theta_inicial, X_train, y_train, 0)\n",
    "print(f'\\nMelhores parâmetros para o modelo: {best_theta}')\n",
    "print(f'Menor custo para o modelo: {J_min:.3f}')"
   ]
  },
  {
   "cell_type": "markdown",
   "metadata": {},
   "source": [
    "#### Visualizando Treinamento"
   ]
  },
  {
   "cell_type": "markdown",
   "metadata": {},
   "source": [
    "Bom, já sabemos que uma reta não irá descrever bem os nossos dados. Mas, apenas para transpor essa afirmação em um caráter gráfico, vamos plotar a melhor reta obtida com a minimização da função custo dentro dos nossos dados já plotados."
   ]
  },
  {
   "cell_type": "code",
   "execution_count": 37,
   "metadata": {
    "ExecuteTime": {
     "end_time": "2019-04-21T02:36:00.922830Z",
     "start_time": "2019-04-21T02:36:00.570968Z"
    }
   },
   "outputs": [
    {
     "data": {
      "image/png": "[encoded data removed]",
      "text/plain": [
       "<matplotlib.figure.Figure at 0x1cb62e0cc18>"
      ]
     },
     "metadata": {
      "needs_background": "light"
     },
     "output_type": "display_data"
    }
   ],
   "source": [
    "# Criando figure e eixo\n",
    "fig, ax = plt.subplots(figsize=(8, 5))\n",
    "\n",
    "# Configurando plotagem dos dados\n",
    "ax.scatter(X_train[:, 1:], y_train, marker='x', color='r')\n",
    "ax.set_title('Vazão de Água por Nível do Reservatório', size=15)\n",
    "ax.set_xlabel('Mudança no nível nível de água', size=10, labelpad=10)\n",
    "ax.set_ylabel('Fluxo de saída de água', size=10, labelpad=10)\n",
    "\n",
    "# Configurando plotagem da curva aprendida\n",
    "ax.plot(X_train[:, 1:], X_train.dot(best_theta), label='Reta aprendida')\n",
    "\n",
    "plt.legend()\n",
    "plt.show()"
   ]
  },
  {
   "cell_type": "markdown",
   "metadata": {},
   "source": [
    "Conclusão: *o modelo sofre de **bias (viés)** alto!*"
   ]
  },
  {
   "cell_type": "markdown",
   "metadata": {},
   "source": [
    "### Curvas de Aprendizado"
   ]
  },
  {
   "cell_type": "markdown",
   "metadata": {},
   "source": [
    "Um conceito muito importante para a avaliação de modelos é a relação ```viés-variância```. Se por um lado, um modelo com alto ```viés``` tende a sofrer de ```underfitting```, por outro, um modelo com alta ```variância``` está sujeito a ```overfitting```.\n",
    "\n",
    "Para analisar essa relação, é possível plotar curvas de aprendizado para mostrar as consequências do treinamento de acordo com a ```quantidade``` dos dados utilizados."
   ]
  },
  {
   "cell_type": "code",
   "execution_count": 38,
   "metadata": {
    "ExecuteTime": {
     "end_time": "2019-04-21T02:36:00.959211Z",
     "start_time": "2019-04-21T02:36:00.924826Z"
    }
   },
   "outputs": [],
   "source": [
    "# Levantando dados\n",
    "error_train = []\n",
    "error_cv = []\n",
    "lamda = 0\n",
    "m = X_train.shape[0]\n",
    "\n",
    "# Adicionando bias em X_val\n",
    "mval = X_val.shape[0]\n",
    "X_val = np.c_[(np.ones((mval, 1)), X_val)]\n",
    "\n",
    "# Redimensionando y_val e y_train\n",
    "y_val = y_val.reshape(-1, 1)"
   ]
  },
  {
   "cell_type": "code",
   "execution_count": 39,
   "metadata": {
    "ExecuteTime": {
     "end_time": "2019-04-21T02:36:01.151231Z",
     "start_time": "2019-04-21T02:36:00.961727Z"
    }
   },
   "outputs": [
    {
     "name": "stdout",
     "output_type": "stream",
     "text": [
      "Optimization terminated successfully.\n",
      "         Current function value: 0.000000\n",
      "         Iterations: 2\n",
      "         Function evaluations: 4\n",
      "         Gradient evaluations: 4\n",
      "Optimization terminated successfully.\n",
      "         Current function value: 0.000000\n",
      "         Iterations: 3\n",
      "         Function evaluations: 7\n",
      "         Gradient evaluations: 7\n",
      "Optimization terminated successfully.\n",
      "         Current function value: 3.286595\n",
      "         Iterations: 4\n",
      "         Function evaluations: 9\n",
      "         Gradient evaluations: 9\n",
      "Optimization terminated successfully.\n",
      "         Current function value: 2.842678\n",
      "         Iterations: 25\n",
      "         Function evaluations: 39\n",
      "         Gradient evaluations: 39\n",
      "Optimization terminated successfully.\n",
      "         Current function value: 13.154049\n",
      "         Iterations: 4\n",
      "         Function evaluations: 8\n",
      "         Gradient evaluations: 8\n",
      "Optimization terminated successfully.\n",
      "         Current function value: 19.443963\n",
      "         Iterations: 4\n",
      "         Function evaluations: 8\n",
      "         Gradient evaluations: 8\n",
      "Optimization terminated successfully.\n",
      "         Current function value: 20.098522\n",
      "         Iterations: 4\n",
      "         Function evaluations: 8\n",
      "         Gradient evaluations: 8\n",
      "Optimization terminated successfully.\n",
      "         Current function value: 18.172859\n",
      "         Iterations: 8\n",
      "         Function evaluations: 15\n",
      "         Gradient evaluations: 15\n",
      "Optimization terminated successfully.\n",
      "         Current function value: 22.609405\n",
      "         Iterations: 10\n",
      "         Function evaluations: 16\n",
      "         Gradient evaluations: 16\n",
      "Optimization terminated successfully.\n",
      "         Current function value: 23.261462\n",
      "         Iterations: 6\n",
      "         Function evaluations: 12\n",
      "         Gradient evaluations: 12\n",
      "Optimization terminated successfully.\n",
      "         Current function value: 24.317250\n",
      "         Iterations: 6\n",
      "         Function evaluations: 12\n",
      "         Gradient evaluations: 12\n",
      "Optimization terminated successfully.\n",
      "         Current function value: 22.373906\n",
      "         Iterations: 18\n",
      "         Function evaluations: 28\n",
      "         Gradient evaluations: 28\n"
     ]
    }
   ],
   "source": [
    "# Laço para montar curvas\n",
    "error_train = []\n",
    "error_cv = []\n",
    "for i in range(1, m+1):\n",
    "    # Retornando os melhores parâmetros de acordo com m\n",
    "    y_train_reshaped = y_train.reshape(-1)\n",
    "    theta_learned, J_min_train = trainLinReg(theta_inicial, \n",
    "                                                   X_train[:i], y_train_reshaped[:i], lamda)\n",
    "    \n",
    "    # Retornando o custo com os parâmetros aprendidos\n",
    "    J_val = linRegCostFunction(theta_learned.reshape(2, 1), X_val, \n",
    "                               y_val, lamda)\n",
    "    error_train.append(J_min_train)\n",
    "    error_cv.append(J_val)"
   ]
  },
  {
   "cell_type": "code",
   "execution_count": 40,
   "metadata": {
    "ExecuteTime": {
     "end_time": "2019-04-21T02:36:01.530207Z",
     "start_time": "2019-04-21T02:36:01.153215Z"
    }
   },
   "outputs": [
    {
     "data": {
      "image/png": "[encoded data removed]",
      "text/plain": [
       "<matplotlib.figure.Figure at 0x1cb630fda90>"
      ]
     },
     "metadata": {
      "needs_background": "light"
     },
     "output_type": "display_data"
    }
   ],
   "source": [
    "# Plotando dados\n",
    "fig, ax = plt.subplots(figsize=(8, 5))\n",
    "ax.plot(np.arange(m)+1, error_train, label='Erro no Treino')\n",
    "ax.plot(np.arange(m)+1, error_cv, label='Erro Cross Val')\n",
    "ax.set_title('Curva de Aprendizado', size=15)\n",
    "ax.set_xlabel('Número de exemplos de treinamento', size=10, labelpad=10)\n",
    "ax.set_ylabel('Erro', size=10, labelpad=10)\n",
    "plt.legend()\n",
    "plt.show()"
   ]
  },
  {
   "cell_type": "markdown",
   "metadata": {},
   "source": [
    "**Análise do Gráfico**\n",
    "\n",
    "Com o aumento do número ```m``` de exemplos utilizados no cálculo dos erros, é possível perceber que tanto o custo de treinamento quanto o custo de validação ficam com valores próximos um do outro. Isto indica que o modelo sofre de um **ALTO VIÉS** e que o aumento do número ```m``` de exemplo **NÃO** resolve a situação, mas sim:\n",
    "    - Considerar mais features para o modelo;\n",
    "    - Aumentar o grau polinomial do modelo;\n",
    "    - Diminuir o parâmetro de regularização."
   ]
  },
  {
   "cell_type": "code",
   "execution_count": 41,
   "metadata": {
    "ExecuteTime": {
     "end_time": "2019-04-21T02:36:01.611988Z",
     "start_time": "2019-04-21T02:36:01.532454Z"
    }
   },
   "outputs": [],
   "source": [
    "# Definindo função para plotar curva de aprendizado\n",
    "def plotLearningCurve(X_train, y_train, X_val, y_val, lamda):\n",
    "    \n",
    "    # Inicializando variáveis\n",
    "    error_train = []\n",
    "    error_cv = []\n",
    "    m, n = X_train.shape\n",
    "    theta_inicial = np.ones((n, 1))\n",
    "    \n",
    "    # Laço para montar curvas\n",
    "    for i in range(1, m+1):\n",
    "        # Retornando os melhores parâmetros de acordo com m\n",
    "        theta_learned, J_min_train = trainLinReg(theta_inicial, \n",
    "                                                       X_train[:i], y_train[:i], lamda)\n",
    "\n",
    "        # Retornando o custo com os parâmetros aprendidos\n",
    "        J_val = linRegCostFunction(theta_learned.reshape(n, 1), X_val, \n",
    "                                   y_val, lamda)\n",
    "        error_train.append(J_min_train)\n",
    "        error_cv.append(J_val)\n",
    "    \n",
    "    # Plotando dados\n",
    "    fig, ax = plt.subplots(figsize=(8, 5))\n",
    "    ax.plot(np.arange(m)+1, error_train, label='Erro no Treino')\n",
    "    ax.plot(np.arange(m)+1, error_cv, label='Erro Cross Val')\n",
    "    ax.set_title('Curva de Aprendizado', size=15)\n",
    "    ax.set_xlabel('Número de exemplos de treinamento', size=10, labelpad=10)\n",
    "    ax.set_ylabel('Erro', size=10, labelpad=10)\n",
    "    plt.legend()\n",
    "    plt.show()\n",
    "    \n",
    "    return error_train, error_cv"
   ]
  },
  {
   "cell_type": "code",
   "execution_count": 42,
   "metadata": {
    "ExecuteTime": {
     "end_time": "2019-04-21T02:36:01.970031Z",
     "start_time": "2019-04-21T02:36:01.614011Z"
    }
   },
   "outputs": [
    {
     "name": "stdout",
     "output_type": "stream",
     "text": [
      "Optimization terminated successfully.\n",
      "         Current function value: 0.000000\n",
      "         Iterations: 2\n",
      "         Function evaluations: 4\n",
      "         Gradient evaluations: 4\n",
      "Optimization terminated successfully.\n",
      "         Current function value: 0.000000\n",
      "         Iterations: 3\n",
      "         Function evaluations: 7\n",
      "         Gradient evaluations: 7\n",
      "Optimization terminated successfully.\n",
      "         Current function value: 3.286595\n",
      "         Iterations: 4\n",
      "         Function evaluations: 9\n",
      "         Gradient evaluations: 9\n",
      "Optimization terminated successfully.\n",
      "         Current function value: 2.842678\n",
      "         Iterations: 25\n",
      "         Function evaluations: 39\n",
      "         Gradient evaluations: 39\n",
      "Optimization terminated successfully.\n",
      "         Current function value: 13.154049\n",
      "         Iterations: 4\n",
      "         Function evaluations: 8\n",
      "         Gradient evaluations: 8\n",
      "Optimization terminated successfully.\n",
      "         Current function value: 19.443963\n",
      "         Iterations: 4\n",
      "         Function evaluations: 8\n",
      "         Gradient evaluations: 8\n",
      "Optimization terminated successfully.\n",
      "         Current function value: 20.098522\n",
      "         Iterations: 4\n",
      "         Function evaluations: 8\n",
      "         Gradient evaluations: 8\n",
      "Optimization terminated successfully.\n",
      "         Current function value: 18.172859\n",
      "         Iterations: 8\n",
      "         Function evaluations: 15\n",
      "         Gradient evaluations: 15\n",
      "Optimization terminated successfully.\n",
      "         Current function value: 22.609405\n",
      "         Iterations: 10\n",
      "         Function evaluations: 16\n",
      "         Gradient evaluations: 16\n",
      "Optimization terminated successfully.\n",
      "         Current function value: 23.261462\n",
      "         Iterations: 6\n",
      "         Function evaluations: 12\n",
      "         Gradient evaluations: 12\n",
      "Optimization terminated successfully.\n",
      "         Current function value: 24.317250\n",
      "         Iterations: 6\n",
      "         Function evaluations: 12\n",
      "         Gradient evaluations: 12\n",
      "Optimization terminated successfully.\n",
      "         Current function value: 22.373906\n",
      "         Iterations: 18\n",
      "         Function evaluations: 28\n",
      "         Gradient evaluations: 28\n"
     ]
    },
    {
     "data": {
      "image/png": "[encoded data removed]",
      "text/plain": [
       "<matplotlib.figure.Figure at 0x1cb63123ef0>"
      ]
     },
     "metadata": {
      "needs_background": "light"
     },
     "output_type": "display_data"
    }
   ],
   "source": [
    "# Testando\n",
    "error_train, error_cv = plotLearningCurve(X_train, y_train, X_val, y_val, 0)"
   ]
  },
  {
   "cell_type": "markdown",
   "metadata": {},
   "source": [
    "## Regressão Polinomial"
   ]
  },
  {
   "cell_type": "markdown",
   "metadata": {},
   "source": [
    "De acordo com as conclusões tiradas através da Curva de Aprendizado do modelo de Regressão Linear, vamos aplicar um método difente para a resolução do problema de vazão de água através do nível do reservatório."
   ]
  },
  {
   "cell_type": "markdown",
   "metadata": {},
   "source": [
    "Vamos mepear as features e elevar o grau polinomial do modelo até ```8```!"
   ]
  },
  {
   "cell_type": "code",
   "execution_count": 43,
   "metadata": {
    "ExecuteTime": {
     "end_time": "2019-04-21T02:36:02.228341Z",
     "start_time": "2019-04-21T02:36:01.972257Z"
    }
   },
   "outputs": [
    {
     "data": {
      "text/plain": [
       "(12, 45)"
      ]
     },
     "execution_count": 43,
     "metadata": {},
     "output_type": "execute_result"
    }
   ],
   "source": [
    "# Importando biblioteca e mapeando features\n",
    "from sklearn.preprocessing import PolynomialFeatures\n",
    "\n",
    "# Expandindo até a oitava potência\n",
    "poly = PolynomialFeatures(8)\n",
    "X_poly = poly.fit_transform(X_train)\n",
    "\n",
    "# Verificando dimensões\n",
    "X_poly.shape"
   ]
  },
  {
   "cell_type": "code",
   "execution_count": 44,
   "metadata": {
    "ExecuteTime": {
     "end_time": "2019-04-21T02:36:02.237462Z",
     "start_time": "2019-04-21T02:36:02.230336Z"
    }
   },
   "outputs": [
    {
     "data": {
      "text/plain": [
       "array([ 1.00000000e+00,  1.00000000e+00, -1.59367581e+01,  1.00000000e+00,\n",
       "       -1.59367581e+01,  2.53980260e+02,  1.00000000e+00, -1.59367581e+01,\n",
       "        2.53980260e+02, -4.04762197e+03,  1.00000000e+00, -1.59367581e+01,\n",
       "        2.53980260e+02, -4.04762197e+03,  6.45059724e+04,  1.00000000e+00,\n",
       "       -1.59367581e+01,  2.53980260e+02, -4.04762197e+03,  6.45059724e+04,\n",
       "       -1.02801608e+06,  1.00000000e+00, -1.59367581e+01,  2.53980260e+02,\n",
       "       -4.04762197e+03,  6.45059724e+04, -1.02801608e+06,  1.63832436e+07,\n",
       "        1.00000000e+00, -1.59367581e+01,  2.53980260e+02, -4.04762197e+03,\n",
       "        6.45059724e+04, -1.02801608e+06,  1.63832436e+07, -2.61095791e+08,\n",
       "        1.00000000e+00, -1.59367581e+01,  2.53980260e+02, -4.04762197e+03,\n",
       "        6.45059724e+04, -1.02801608e+06,  1.63832436e+07, -2.61095791e+08,\n",
       "        4.16102047e+09])"
      ]
     },
     "execution_count": 44,
     "metadata": {},
     "output_type": "execute_result"
    }
   ],
   "source": [
    "# Exemplo de registro\n",
    "X_poly[0]"
   ]
  },
  {
   "cell_type": "markdown",
   "metadata": {},
   "source": [
    "Uma observação importante: não seria mais adequado realizar o mapeamento das features em um dataset sem a coluna de bias? Digo isso pelo fato de terem surgido colunas de \"ums\" adicionais. Vamos testar."
   ]
  },
  {
   "cell_type": "code",
   "execution_count": 45,
   "metadata": {
    "ExecuteTime": {
     "end_time": "2019-04-21T02:36:02.420826Z",
     "start_time": "2019-04-21T02:36:02.239312Z"
    }
   },
   "outputs": [
    {
     "name": "stdout",
     "output_type": "stream",
     "text": [
      "Dimensões de X_poly: (12, 9)\n",
      "\n",
      "Primeira linha de X_poly: \n",
      "[ 1.00000000e+00 -1.59367581e+01  2.53980260e+02 -4.04762197e+03\n",
      "  6.45059724e+04 -1.02801608e+06  1.63832436e+07 -2.61095791e+08\n",
      "  4.16102047e+09]\n"
     ]
    }
   ],
   "source": [
    "# Testando novo mapeamento\n",
    "X_sem_bias = X_train[:, 1:]\n",
    "\n",
    "# Novo mapeamento\n",
    "X_poly = poly.fit_transform(X_sem_bias)\n",
    "\n",
    "# Verificando dimensões\n",
    "print(f'Dimensões de X_poly: {X_poly.shape}')\n",
    "print(f'\\nPrimeira linha de X_poly: \\n{X_poly[0]}')"
   ]
  },
  {
   "cell_type": "markdown",
   "metadata": {
    "ExecuteTime": {
     "end_time": "2019-04-20T13:26:20.827644Z",
     "start_time": "2019-04-20T13:26:20.819497Z"
    }
   },
   "source": [
    "Perfeito! Vamos agora verificar o custo do modelo com esse novo set de features!"
   ]
  },
  {
   "cell_type": "code",
   "execution_count": 46,
   "metadata": {
    "ExecuteTime": {
     "end_time": "2019-04-21T02:36:02.694108Z",
     "start_time": "2019-04-21T02:36:02.422915Z"
    }
   },
   "outputs": [
    {
     "name": "stdout",
     "output_type": "stream",
     "text": [
      "Custo com inicialização padrão de parâmetro e features polinomiais: 4.265369400507467e+25\n"
     ]
    }
   ],
   "source": [
    "# Inicializando parâmetros\n",
    "m, n = X_poly.shape\n",
    "theta_inicial_poly = np.ones((n, 1))\n",
    "\n",
    "# Verificando custo\n",
    "J = linRegCostFunction(theta_inicial_poly, X_poly, y_train.reshape(-1, 1), lamda)\n",
    "\n",
    "# Verificando\n",
    "print(f'Custo com inicialização padrão de parâmetro e features polinomiais: {J}')"
   ]
  },
  {
   "cell_type": "markdown",
   "metadata": {
    "ExecuteTime": {
     "end_time": "2019-04-20T13:31:44.242089Z",
     "start_time": "2019-04-20T13:31:44.235734Z"
    }
   },
   "source": [
    "Um custo absurdo!"
   ]
  },
  {
   "cell_type": "markdown",
   "metadata": {},
   "source": [
    "A primeira ação a ser tomada leva em consideração a escala das features mapeadas. Como fizemos um processo artificial de aumento de grau polinomial, temos features com uma magnitude baixa e features com magnitudes elevadas. Vejamos:"
   ]
  },
  {
   "cell_type": "code",
   "execution_count": 47,
   "metadata": {
    "ExecuteTime": {
     "end_time": "2019-04-21T02:36:02.833722Z",
     "start_time": "2019-04-21T02:36:02.696263Z"
    }
   },
   "outputs": [
    {
     "name": "stdout",
     "output_type": "stream",
     "text": [
      "Feature x1: -15.93675813378541\n",
      "Feature x8: 4161020472.1191983\n"
     ]
    }
   ],
   "source": [
    "# Diferença\n",
    "print(f'Feature x1: {X_poly[0][1]}')\n",
    "print(f'Feature x8: {X_poly[0][8]}')"
   ]
  },
  {
   "cell_type": "markdown",
   "metadata": {},
   "source": [
    "Para evitar esse tipo de situação, vamos aplicar o processo de normalização!"
   ]
  },
  {
   "cell_type": "markdown",
   "metadata": {},
   "source": [
    "### Normalização"
   ]
  },
  {
   "cell_type": "code",
   "execution_count": 48,
   "metadata": {
    "ExecuteTime": {
     "end_time": "2019-04-21T02:36:02.843696Z",
     "start_time": "2019-04-21T02:36:02.835717Z"
    }
   },
   "outputs": [
    {
     "name": "stdout",
     "output_type": "stream",
     "text": [
      "Vetor de médias: \n",
      "[-5.08542635e+00  8.48904834e+02 -1.28290173e+04  1.28967789e+06\n",
      " -2.98314592e+07  2.29330301e+09 -6.84527284e+10  4.42233759e+12]\n",
      "\n",
      "Vetor de desvios: \n",
      "[2.86887308e+01 7.54346385e+02 4.61380464e+04 1.66104441e+06\n",
      " 8.99399404e+07 3.68940106e+09 1.89508052e+11 8.31905350e+12]\n"
     ]
    }
   ],
   "source": [
    "# Modificando matriz para normaliza\n",
    "X_poly = X_poly[:, 1:]\n",
    "mu = np.mean(X_poly, axis=0)\n",
    "sigma = np.std(X_poly, axis=0)\n",
    "\n",
    "print(f'Vetor de médias: \\n{mu}')\n",
    "print(f'\\nVetor de desvios: \\n{sigma}')"
   ]
  },
  {
   "cell_type": "code",
   "execution_count": 49,
   "metadata": {
    "ExecuteTime": {
     "end_time": "2019-04-21T02:36:02.851675Z",
     "start_time": "2019-04-21T02:36:02.845690Z"
    }
   },
   "outputs": [
    {
     "data": {
      "text/plain": [
       "array([-0.3782437 , -0.78866232,  0.19032872, -0.7375913 ,  0.32025197,\n",
       "       -0.6171516 ,  0.35983501, -0.53109126])"
      ]
     },
     "execution_count": 49,
     "metadata": {},
     "output_type": "execute_result"
    }
   ],
   "source": [
    "# Aplicando normalização\n",
    "X_poly_normalized = (X_poly - mu) / sigma\n",
    "\n",
    "# Verificando\n",
    "X_poly_normalized[0]"
   ]
  },
  {
   "cell_type": "code",
   "execution_count": 50,
   "metadata": {
    "ExecuteTime": {
     "end_time": "2019-04-21T02:36:02.860665Z",
     "start_time": "2019-04-21T02:36:02.853680Z"
    }
   },
   "outputs": [
    {
     "name": "stdout",
     "output_type": "stream",
     "text": [
      "Dimensões: (12, 9)\n"
     ]
    }
   ],
   "source": [
    "# Adicionando termo bias\n",
    "m, n = X_poly_normalized.shape\n",
    "X_poly_normalized = np.c_[(np.ones((m, 1)), X_poly_normalized)]\n",
    "\n",
    "# Verificando\n",
    "print(f'Dimensões: {X_poly_normalized.shape}')"
   ]
  },
  {
   "cell_type": "code",
   "execution_count": 51,
   "metadata": {
    "ExecuteTime": {
     "end_time": "2019-04-21T02:36:03.030790Z",
     "start_time": "2019-04-21T02:36:02.862840Z"
    }
   },
   "outputs": [
    {
     "data": {
      "text/plain": [
       "array([ 1.        , -0.3782437 , -0.78866232,  0.19032872, -0.7375913 ,\n",
       "        0.32025197, -0.6171516 ,  0.35983501, -0.53109126])"
      ]
     },
     "execution_count": 51,
     "metadata": {},
     "output_type": "execute_result"
    }
   ],
   "source": [
    "# Exemplo\n",
    "X_poly_normalized[0]"
   ]
  },
  {
   "cell_type": "code",
   "execution_count": 52,
   "metadata": {
    "ExecuteTime": {
     "end_time": "2019-04-21T02:36:03.191767Z",
     "start_time": "2019-04-21T02:36:03.033427Z"
    }
   },
   "outputs": [],
   "source": [
    "# Definindo função para feature mapping\n",
    "def featureMapping(X, grau):\n",
    "    \"\"\" Função responsável por receber um conjunto de dados X e realizar o procedimento de\n",
    "    feature mapping, mepeando as features de acordo com um grau polinomial parametrizado\n",
    "    Input:\n",
    "        X: conjunto de dados (features)\n",
    "        grau: grau polinomial\n",
    "    Output:\n",
    "        X_poly: novo conjunto de dados após procedimento\"\"\"\n",
    "    \n",
    "    poly = PolynomialFeatures(grau)\n",
    "    return poly.fit_transform(X)"
   ]
  },
  {
   "cell_type": "code",
   "execution_count": 53,
   "metadata": {
    "ExecuteTime": {
     "end_time": "2019-04-21T02:36:03.343360Z",
     "start_time": "2019-04-21T02:36:03.193812Z"
    }
   },
   "outputs": [],
   "source": [
    "# Definindo função para normalização\n",
    "def featureNormalize(X):\n",
    "    \"\"\" Função responsável por aplicar o procedimento de normalização no conjunto de dados\n",
    "    Input:\n",
    "        X: conjunto de dados (features)\n",
    "    Output:\n",
    "        X_normalized: conjunto de dados normalizado\"\"\"\n",
    "    \n",
    "    # Realizando cálculos\n",
    "    mu = np.mean(X, axis=0)\n",
    "    sigma = np.std(X, axis=0)\n",
    "    \n",
    "    return (X - mu) / sigma"
   ]
  },
  {
   "cell_type": "code",
   "execution_count": 54,
   "metadata": {
    "ExecuteTime": {
     "end_time": "2019-04-21T02:36:03.496950Z",
     "start_time": "2019-04-21T02:36:03.345355Z"
    }
   },
   "outputs": [
    {
     "data": {
      "text/plain": [
       "array([[-15.93675813],\n",
       "       [-29.15297922],\n",
       "       [ 36.18954863],\n",
       "       [ 37.49218733],\n",
       "       [-48.05882945]])"
      ]
     },
     "execution_count": 54,
     "metadata": {},
     "output_type": "execute_result"
    }
   ],
   "source": [
    "# Testando desde o início\n",
    "X_sem_bias = X_train[:, 1:]\n",
    "X_sem_bias[:5]"
   ]
  },
  {
   "cell_type": "code",
   "execution_count": 55,
   "metadata": {
    "ExecuteTime": {
     "end_time": "2019-04-21T02:36:03.669489Z",
     "start_time": "2019-04-21T02:36:03.499057Z"
    }
   },
   "outputs": [],
   "source": [
    "# Mapeando features e normalizando\n",
    "X_poly = featureMapping(X_sem_bias, 8)[:, 1:]\n",
    "X_poly_normalized = featureNormalize(X_poly)\n",
    "\n",
    "# Adicionando bias\n",
    "m = X_poly_normalized.shape[0]\n",
    "X_poly_normalized = np.c_[(np.ones((m, 1)), X_poly_normalized)]"
   ]
  },
  {
   "cell_type": "code",
   "execution_count": 56,
   "metadata": {
    "ExecuteTime": {
     "end_time": "2019-04-21T02:36:03.923816Z",
     "start_time": "2019-04-21T02:36:03.671738Z"
    }
   },
   "outputs": [
    {
     "name": "stdout",
     "output_type": "stream",
     "text": [
      "Dimensões: (12, 9)\n",
      "\n",
      "Exemplo: \n",
      "[ 1.         -0.3782437  -0.78866232  0.19032872 -0.7375913   0.32025197\n",
      " -0.6171516   0.35983501 -0.53109126]\n"
     ]
    }
   ],
   "source": [
    "# Verificnado\n",
    "print(f'Dimensões: {X_poly_normalized.shape}')\n",
    "print(f'\\nExemplo: \\n{X_poly_normalized[0]}')"
   ]
  },
  {
   "cell_type": "markdown",
   "metadata": {},
   "source": [
    "### Treinando Modelo"
   ]
  },
  {
   "cell_type": "code",
   "execution_count": 57,
   "metadata": {
    "ExecuteTime": {
     "end_time": "2019-04-21T02:36:04.378593Z",
     "start_time": "2019-04-21T02:36:03.925804Z"
    }
   },
   "outputs": [
    {
     "name": "stdout",
     "output_type": "stream",
     "text": [
      "Optimization terminated successfully.\n",
      "         Current function value: 0.028893\n",
      "         Iterations: 942\n",
      "         Function evaluations: 1819\n",
      "         Gradient evaluations: 1819\n"
     ]
    }
   ],
   "source": [
    "# Inicializando parâmetros\n",
    "m, n = X_poly_normalized.shape\n",
    "theta_inicial_poly = np.ones((n, 1))\n",
    "lamda = 0\n",
    "\n",
    "best_theta_poly, J_min_poly = trainLinReg(theta_inicial_poly, \n",
    "                                          X_poly_normalized, y_train, lamda)"
   ]
  },
  {
   "cell_type": "code",
   "execution_count": 58,
   "metadata": {
    "ExecuteTime": {
     "end_time": "2019-04-21T02:36:04.454391Z",
     "start_time": "2019-04-21T02:36:04.380664Z"
    }
   },
   "outputs": [
    {
     "name": "stdout",
     "output_type": "stream",
     "text": [
      "Dimensões: (12, 9)\n",
      "\n",
      "Primeira linha: \n",
      "[ 1.         -0.3782437  -0.78866232  0.19032872 -0.7375913   0.32025197\n",
      " -0.6171516   0.35983501 -0.53109126]\n",
      "\n",
      "Parâmetros: [[1.]\n",
      " [1.]\n",
      " [1.]\n",
      " [1.]\n",
      " [1.]\n",
      " [1.]\n",
      " [1.]\n",
      " [1.]\n",
      " [1.]]\n",
      "\n",
      "Label: \n",
      "[ 2.13431051  1.17325668 34.35910918 36.83795516  2.80896507  2.12107248\n",
      " 14.71026831  2.61418439  3.74017167  3.73169131  7.62765885 22.7524283 ]\n"
     ]
    }
   ],
   "source": [
    "# Verificando dados utilizados\n",
    "print(f'Dimensões: {X_poly_normalized.shape}')\n",
    "print(f'\\nPrimeira linha: \\n{X_poly_normalized[0]}')\n",
    "\n",
    "print(f'\\nParâmetros: {theta_inicial_poly}')\n",
    "\n",
    "print(f'\\nLabel: \\n{y_train}')"
   ]
  },
  {
   "cell_type": "code",
   "execution_count": 59,
   "metadata": {
    "ExecuteTime": {
     "end_time": "2019-04-21T02:36:04.821410Z",
     "start_time": "2019-04-21T02:36:04.456576Z"
    }
   },
   "outputs": [
    {
     "data": {
      "image/png": "[encoded data removed]",
      "text/plain": [
       "<matplotlib.figure.Figure at 0x1cb64486240>"
      ]
     },
     "metadata": {
      "needs_background": "light"
     },
     "output_type": "display_data"
    }
   ],
   "source": [
    "# Plotando dados\n",
    "fig, ax = plt.subplots(figsize=(8, 5))\n",
    "\n",
    "# Plotando dataset original\n",
    "ax.scatter(X_train[:, 1:], y_train, marker='x', color='r', label='Dados Originais')\n",
    "\n",
    "# Plotando dados obtidos (scatter)\n",
    "ax.plot(X_train[:, 1:], X_poly_normalized.dot(best_theta_poly), 'o', label='Dados Obtidos')\n",
    "\n",
    "# Configurando plotagem\n",
    "ax.set_title('Vazão de Água por Nível do Reservatório', size=15)\n",
    "ax.set_xlabel('Mudança no nível nível de água', size=10, labelpad=10)\n",
    "ax.set_ylabel('Fluxo de saída de água', size=10, labelpad=10)\n",
    "plt.legend()\n",
    "plt.show()"
   ]
  },
  {
   "cell_type": "code",
   "execution_count": 60,
   "metadata": {
    "ExecuteTime": {
     "end_time": "2019-04-21T02:36:04.981993Z",
     "start_time": "2019-04-21T02:36:04.823405Z"
    }
   },
   "outputs": [
    {
     "data": {
      "text/plain": [
       "array([[ 1.87377937],\n",
       "       [ 1.56098928],\n",
       "       [34.34527645],\n",
       "       [36.84988039],\n",
       "       [ 2.76480289],\n",
       "       [ 2.1840178 ],\n",
       "       [14.87959137],\n",
       "       [ 2.28502813],\n",
       "       [ 4.10245149],\n",
       "       [ 3.84755114],\n",
       "       [ 7.19598404],\n",
       "       [22.7216331 ]])"
      ]
     },
     "execution_count": 60,
     "metadata": {},
     "output_type": "execute_result"
    }
   ],
   "source": [
    "# Preparando plot com linhas ao invés de pontos\n",
    "y = X_poly_normalized.dot(best_theta_poly).reshape(-1, 1)\n",
    "y"
   ]
  },
  {
   "cell_type": "code",
   "execution_count": 61,
   "metadata": {
    "ExecuteTime": {
     "end_time": "2019-04-21T02:36:05.160503Z",
     "start_time": "2019-04-21T02:36:04.983976Z"
    }
   },
   "outputs": [
    {
     "data": {
      "text/plain": [
       "array([[-15.93675813],\n",
       "       [-29.15297922],\n",
       "       [ 36.18954863],\n",
       "       [ 37.49218733],\n",
       "       [-48.05882945],\n",
       "       [ -8.94145794],\n",
       "       [ 15.30779289],\n",
       "       [-34.70626581],\n",
       "       [  1.38915437],\n",
       "       [-44.38375985],\n",
       "       [  7.01350208],\n",
       "       [ 22.76274892]])"
      ]
     },
     "execution_count": 61,
     "metadata": {},
     "output_type": "execute_result"
    }
   ],
   "source": [
    "# Preparando eixo x\n",
    "x = X_train[:, 1:]\n",
    "x"
   ]
  },
  {
   "cell_type": "code",
   "execution_count": 62,
   "metadata": {
    "ExecuteTime": {
     "end_time": "2019-04-21T02:36:05.363960Z",
     "start_time": "2019-04-21T02:36:05.162556Z"
    }
   },
   "outputs": [
    {
     "data": {
      "text/plain": [
       "array([[-15.93675813,   1.87377937],\n",
       "       [-29.15297922,   1.56098928],\n",
       "       [ 36.18954863,  34.34527645],\n",
       "       [ 37.49218733,  36.84988039],\n",
       "       [-48.05882945,   2.76480289],\n",
       "       [ -8.94145794,   2.1840178 ],\n",
       "       [ 15.30779289,  14.87959137],\n",
       "       [-34.70626581,   2.28502813],\n",
       "       [  1.38915437,   4.10245149],\n",
       "       [-44.38375985,   3.84755114],\n",
       "       [  7.01350208,   7.19598404],\n",
       "       [ 22.76274892,  22.7216331 ]])"
      ]
     },
     "execution_count": 62,
     "metadata": {},
     "output_type": "execute_result"
    }
   ],
   "source": [
    "# Juntando eixos\n",
    "xy = np.c_[(x, y)]\n",
    "xy"
   ]
  },
  {
   "cell_type": "code",
   "execution_count": 63,
   "metadata": {
    "ExecuteTime": {
     "end_time": "2019-04-21T02:36:05.554564Z",
     "start_time": "2019-04-21T02:36:05.365954Z"
    }
   },
   "outputs": [
    {
     "data": {
      "text/plain": [
       "array([[-48.05882945,   2.76480289],\n",
       "       [-44.38375985,   3.84755114],\n",
       "       [-34.70626581,   2.28502813],\n",
       "       [-29.15297922,   1.56098928],\n",
       "       [-15.93675813,   1.87377937],\n",
       "       [ -8.94145794,   2.1840178 ],\n",
       "       [  1.38915437,   4.10245149],\n",
       "       [  7.01350208,   7.19598404],\n",
       "       [ 15.30779289,  14.87959137],\n",
       "       [ 22.76274892,  22.7216331 ],\n",
       "       [ 36.18954863,  34.34527645],\n",
       "       [ 37.49218733,  36.84988039]])"
      ]
     },
     "execution_count": 63,
     "metadata": {},
     "output_type": "execute_result"
    }
   ],
   "source": [
    "# Ordenando pelo eixo x\n",
    "xy_sorted = xy[xy[:, 0].argsort()]\n",
    "xy_sorted"
   ]
  },
  {
   "cell_type": "code",
   "execution_count": 64,
   "metadata": {
    "ExecuteTime": {
     "end_time": "2019-04-21T02:36:05.563426Z",
     "start_time": "2019-04-21T02:36:05.556445Z"
    }
   },
   "outputs": [
    {
     "name": "stdout",
     "output_type": "stream",
     "text": [
      "Verificando X_sorted: \n",
      "[-48.05882945 -44.38375985 -34.70626581 -29.15297922 -15.93675813\n",
      "  -8.94145794   1.38915437   7.01350208  15.30779289  22.76274892\n",
      "  36.18954863  37.49218733]\n",
      "\n",
      "Verificando y_pred: \n",
      "[ 2.76480289  3.84755114  2.28502813  1.56098928  1.87377937  2.1840178\n",
      "  4.10245149  7.19598404 14.87959137 22.7216331  34.34527645 36.84988039]\n"
     ]
    }
   ],
   "source": [
    "# Separando\n",
    "X_sorted = xy_sorted[:, 0]\n",
    "y_pred = xy_sorted[:, 1]\n",
    "\n",
    "print(f'Verificando X_sorted: \\n{X_sorted}')\n",
    "\n",
    "print(f'\\nVerificando y_pred: \\n{y_pred}')"
   ]
  },
  {
   "cell_type": "code",
   "execution_count": 65,
   "metadata": {
    "ExecuteTime": {
     "end_time": "2019-04-21T02:36:05.947399Z",
     "start_time": "2019-04-21T02:36:05.565483Z"
    }
   },
   "outputs": [
    {
     "data": {
      "image/png": "[encoded data removed]",
      "text/plain": [
       "<matplotlib.figure.Figure at 0x1cb644c3940>"
      ]
     },
     "metadata": {
      "needs_background": "light"
     },
     "output_type": "display_data"
    }
   ],
   "source": [
    "# Plotando dados\n",
    "fig, ax = plt.subplots(figsize=(8, 5))\n",
    "\n",
    "# Plotando dataset original\n",
    "ax.scatter(X_train[:, 1:], y_train, marker='x', color='r', label='Dados Originais')\n",
    "\n",
    "# Plotando dados obtidos (scatter)\n",
    "ax.plot(X_sorted, y_pred, label='Curva Obtida')\n",
    "\n",
    "# Configurando plotagem\n",
    "ax.set_title('Vazão de Água por Nível do Reservatório', size=15)\n",
    "ax.set_xlabel('Mudança no nível nível de água', size=10, labelpad=10)\n",
    "ax.set_ylabel('Fluxo de saída de água', size=10, labelpad=10)\n",
    "plt.legend()\n",
    "plt.show()"
   ]
  },
  {
   "cell_type": "markdown",
   "metadata": {},
   "source": [
    "Após a análise do gráfico acima, é possível concluir, em um primeiro um momento, que o mapeamento das features e a elevação do grau polinomial do modelo atuaram diretamente na performance do mesmo nos dados de teste. Percebe-se que a curva definida pelo modelo, definida por uma função de oitavo grau polinomial, está disposta bem próxima dos pontos originais descritos pelos dados de treino.\n",
    "\n",
    "Entretanto, não é possível propor uma plena satisfação com este resultado, visto que, essa semelhança entre os dados preditos e os dados de treino pode indicar um problema de overfitting no modelo. Em outras palavras, como foram obtidos resultados muito próximos do que se tem por treinamento, é possível afirmar que o modelo não possui um alto grau de generalização, apresentando possíveis falhas ao ser contraposto a dados não presentes nos dados de treino. Para avaliar melhor tal situação, é apresentada a curva de aprendizado do modelo, indicando o erro progressivo do mesmo no conjunto de treino e no conjunto de validação."
   ]
  },
  {
   "cell_type": "code",
   "execution_count": 66,
   "metadata": {
    "ExecuteTime": {
     "end_time": "2019-04-21T02:36:06.024196Z",
     "start_time": "2019-04-21T02:36:05.949543Z"
    }
   },
   "outputs": [],
   "source": [
    "# Definindo função para plotagem da curva\n",
    "def plotCurve(theta, X_train, y_train, X=X_train):\n",
    "    \"\"\" Função responsável pela plotagem da curva aprendida pelo modelo\n",
    "    Input:\n",
    "        theta: parâmetros aprendidos pelo modelo\n",
    "        X_train: dados de treinamento (features)\n",
    "        y_train: label\"\"\"\n",
    "    \n",
    "    # Calculando eixo y e retirando termo bias de X\n",
    "    y = X.dot(theta).reshape(-1, 1)\n",
    "    x = X_train[:, 1:]\n",
    "    \n",
    "    # Juntando eixos\n",
    "    xy = np.c_[(x, y)]\n",
    "    \n",
    "    # Ordenando pelo eixo x\n",
    "    xy_sorted = xy[xy[:, 0].argsort()]\n",
    "    \n",
    "    # Separando\n",
    "    X_sorted = xy_sorted[:, 0]\n",
    "    y_pred = xy_sorted[:, 1]\n",
    "    \n",
    "    # Plotando dados\n",
    "    fig, ax = plt.subplots(figsize=(8, 5))\n",
    "\n",
    "    # Plotando dataset original\n",
    "    ax.scatter(X_train[:, 1:], y_train, marker='x', color='r', label='Dados Originais')\n",
    "\n",
    "    # Plotando dados obtidos (scatter)\n",
    "    ax.plot(X_sorted, y_pred, label='Curva Obtida')\n",
    "\n",
    "    # Configurando plotagem\n",
    "    ax.set_title('Vazão de Água por Nível do Reservatório', size=15)\n",
    "    ax.set_xlabel('Mudança no nível nível de água', size=10, labelpad=10)\n",
    "    ax.set_ylabel('Fluxo de saída de água', size=10, labelpad=10)\n",
    "    plt.legend()\n",
    "    plt.show()"
   ]
  },
  {
   "cell_type": "code",
   "execution_count": 67,
   "metadata": {
    "ExecuteTime": {
     "end_time": "2019-04-21T02:36:06.373262Z",
     "start_time": "2019-04-21T02:36:06.027813Z"
    }
   },
   "outputs": [
    {
     "data": {
      "image/png": "[encoded data removed]",
      "text/plain": [
       "<matplotlib.figure.Figure at 0x1cb645423c8>"
      ]
     },
     "metadata": {
      "needs_background": "light"
     },
     "output_type": "display_data"
    }
   ],
   "source": [
    "# Testando para grau = 1\n",
    "plotCurve(best_theta, X_train, y_train)"
   ]
  },
  {
   "cell_type": "code",
   "execution_count": 68,
   "metadata": {
    "ExecuteTime": {
     "end_time": "2019-04-21T02:36:06.659497Z",
     "start_time": "2019-04-21T02:36:06.397199Z"
    }
   },
   "outputs": [
    {
     "data": {
      "image/png": "[encoded data removed]",
      "text/plain": [
       "<matplotlib.figure.Figure at 0x1cb644a20f0>"
      ]
     },
     "metadata": {
      "needs_background": "light"
     },
     "output_type": "display_data"
    }
   ],
   "source": [
    "# Testando para grau = 8\n",
    "plotCurve(best_theta_poly, X_train, y_train, X=X_poly_normalized)"
   ]
  },
  {
   "cell_type": "markdown",
   "metadata": {},
   "source": [
    "### Curva de Aprendizado"
   ]
  },
  {
   "cell_type": "markdown",
   "metadata": {},
   "source": [
    "Antes de plotarmos a curva de aprendizado, precisamos realizar o mesmo procedimento feito em ```X_train``` para aumento de grau polinomial e normalização, em ```X_val```."
   ]
  },
  {
   "cell_type": "code",
   "execution_count": 69,
   "metadata": {
    "ExecuteTime": {
     "end_time": "2019-04-21T02:36:06.674457Z",
     "start_time": "2019-04-21T02:36:06.662489Z"
    }
   },
   "outputs": [
    {
     "name": "stdout",
     "output_type": "stream",
     "text": [
      "Help on function featureMapping in module __main__:\n",
      "\n",
      "featureMapping(X, grau)\n",
      "    Função responsável por receber um conjunto de dados X e realizar o procedimento de\n",
      "    feature mapping, mepeando as features de acordo com um grau polinomial parametrizado\n",
      "    Input:\n",
      "        X: conjunto de dados (features)\n",
      "        grau: grau polinomial\n",
      "    Output:\n",
      "        X_poly: novo conjunto de dados após procedimento\n",
      "\n"
     ]
    }
   ],
   "source": [
    "help(featureMapping)"
   ]
  },
  {
   "cell_type": "code",
   "execution_count": 70,
   "metadata": {
    "ExecuteTime": {
     "end_time": "2019-04-21T02:36:06.895873Z",
     "start_time": "2019-04-21T02:36:06.676696Z"
    }
   },
   "outputs": [
    {
     "name": "stdout",
     "output_type": "stream",
     "text": [
      "Help on function featureNormalize in module __main__:\n",
      "\n",
      "featureNormalize(X)\n",
      "    Função responsável por aplicar o procedimento de normalização no conjunto de dados\n",
      "    Input:\n",
      "        X: conjunto de dados (features)\n",
      "    Output:\n",
      "        X_normalized: conjunto de dados normalizado\n",
      "\n"
     ]
    }
   ],
   "source": [
    "help(featureNormalize)"
   ]
  },
  {
   "cell_type": "code",
   "execution_count": 71,
   "metadata": {
    "ExecuteTime": {
     "end_time": "2019-04-21T02:36:07.087372Z",
     "start_time": "2019-04-21T02:36:06.897860Z"
    }
   },
   "outputs": [
    {
     "name": "stdout",
     "output_type": "stream",
     "text": [
      "Dimensões: (12, 9)\n",
      "\n",
      "Primeira linha: \n",
      "[ 1.         -0.3782437  -0.78866232  0.19032872 -0.7375913   0.32025197\n",
      " -0.6171516   0.35983501 -0.53109126]\n"
     ]
    }
   ],
   "source": [
    "# Aplicando para dados de treino\n",
    "X_train_poly = featureMapping(X_train[:, 1:], 8)[:, 1:]\n",
    "X_train_poly = featureNormalize(X_train_poly)\n",
    "m_train = X_train_poly.shape[0]\n",
    "X_train_poly = np.c_[(np.ones((m, 1)), X_train_poly)]\n",
    "\n",
    "print(f'Dimensões: {X_train_poly.shape}')\n",
    "print(f'\\nPrimeira linha: \\n{X_train_poly[0]}')"
   ]
  },
  {
   "cell_type": "code",
   "execution_count": 72,
   "metadata": {
    "ExecuteTime": {
     "end_time": "2019-04-21T02:36:07.330717Z",
     "start_time": "2019-04-21T02:36:07.089348Z"
    }
   },
   "outputs": [
    {
     "name": "stdout",
     "output_type": "stream",
     "text": [
      "Dimensões: (21, 9)\n",
      "\n",
      "Primeira linha: \n",
      "[ 1.         -0.42416069 -0.75311565  0.12753599 -0.7369401   0.24552665\n",
      " -0.63413413  0.26698715 -0.55310478]\n"
     ]
    }
   ],
   "source": [
    "# Aplicando para dados de validação\n",
    "X_val_poly = featureMapping(X_val[:, 1:], 8)[:, 1:]\n",
    "X_val_poly = featureNormalize(X_val_poly)\n",
    "m_val = X_val_poly.shape[0]\n",
    "X_val_poly = np.c_[(np.ones((m_val, 1)), X_val_poly)]\n",
    "\n",
    "print(f'Dimensões: {X_val_poly.shape}')\n",
    "print(f'\\nPrimeira linha: \\n{X_val_poly[0]}')"
   ]
  },
  {
   "cell_type": "code",
   "execution_count": 80,
   "metadata": {
    "ExecuteTime": {
     "end_time": "2019-04-21T02:37:50.358129Z",
     "start_time": "2019-04-21T02:37:49.212185Z"
    }
   },
   "outputs": [
    {
     "name": "stdout",
     "output_type": "stream",
     "text": [
      "Optimization terminated successfully.\n",
      "         Current function value: 0.000000\n",
      "         Iterations: 1\n",
      "         Function evaluations: 3\n",
      "         Gradient evaluations: 3\n",
      "Optimization terminated successfully.\n",
      "         Current function value: 0.000000\n",
      "         Iterations: 2\n",
      "         Function evaluations: 5\n",
      "         Gradient evaluations: 5\n",
      "Optimization terminated successfully.\n",
      "         Current function value: 0.000000\n",
      "         Iterations: 7\n",
      "         Function evaluations: 17\n",
      "         Gradient evaluations: 17\n",
      "Optimization terminated successfully.\n",
      "         Current function value: 0.000000\n",
      "         Iterations: 55\n",
      "         Function evaluations: 99\n",
      "         Gradient evaluations: 99\n",
      "Optimization terminated successfully.\n",
      "         Current function value: 0.000000\n",
      "         Iterations: 10\n",
      "         Function evaluations: 24\n",
      "         Gradient evaluations: 24\n",
      "Optimization terminated successfully.\n",
      "         Current function value: 0.000000\n",
      "         Iterations: 124\n",
      "         Function evaluations: 235\n",
      "         Gradient evaluations: 235\n",
      "Optimization terminated successfully.\n",
      "         Current function value: 0.000000\n",
      "         Iterations: 27\n",
      "         Function evaluations: 63\n",
      "         Gradient evaluations: 63\n",
      "Optimization terminated successfully.\n",
      "         Current function value: 0.000000\n",
      "         Iterations: 967\n",
      "         Function evaluations: 1785\n",
      "         Gradient evaluations: 1785\n",
      "Warning: Maximum number of iterations has been exceeded.\n",
      "         Current function value: 0.000032\n",
      "         Iterations: 1000\n",
      "         Function evaluations: 1816\n",
      "         Gradient evaluations: 1816\n",
      "Optimization terminated successfully.\n",
      "         Current function value: 0.010818\n",
      "         Iterations: 964\n",
      "         Function evaluations: 1875\n",
      "         Gradient evaluations: 1875\n",
      "Optimization terminated successfully.\n",
      "         Current function value: 0.031219\n",
      "         Iterations: 937\n",
      "         Function evaluations: 1869\n",
      "         Gradient evaluations: 1869\n",
      "Optimization terminated successfully.\n",
      "         Current function value: 0.028893\n",
      "         Iterations: 942\n",
      "         Function evaluations: 1819\n",
      "         Gradient evaluations: 1819\n"
     ]
    },
    {
     "data": {
      "image/png": "[encoded data removed]",
      "text/plain": [
       "<matplotlib.figure.Figure at 0x1cb647d69b0>"
      ]
     },
     "metadata": {
      "needs_background": "light"
     },
     "output_type": "display_data"
    }
   ],
   "source": [
    "# Plotando curva de aprendizado\n",
    "error_train, error_cv = plotLearningCurve(X_train_poly, y_train, X_val_poly, y_val, 0)"
   ]
  },
  {
   "cell_type": "markdown",
   "metadata": {},
   "source": [
    "**Análise do Gráfico**\n",
    "\n",
    "Com o aumento do número ```m``` de exemplos utilizados no cálculo dos erros, é possível perceber que tanto o custo de treinamento quanto o custo de validação ficam com um **GAP** entre si e que, além disso, o custo obtido para os dados de treinamento está sempre em níveis inferiores. Isto indica que o modelo sofre de um **ALTA VARIÂNCIA** e que as ações abaixo poderiam auxiliar a contornar este problema:\n",
    "    - Coletar mais dados para o treinamento;\n",
    "    - Diminuir o set de features do modelo;\n",
    "    - Aumentar o termo de regularização lambda."
   ]
  },
  {
   "cell_type": "markdown",
   "metadata": {},
   "source": [
    "A próxima investigação a ser realizada gira em torno da variação do parâmetro ```lambda``` para verificar como o modelo se comporta."
   ]
  },
  {
   "cell_type": "markdown",
   "metadata": {},
   "source": [
    "### Alterando Lambda"
   ]
  },
  {
   "cell_type": "markdown",
   "metadata": {
    "ExecuteTime": {
     "end_time": "2019-04-21T02:36:08.539473Z",
     "start_time": "2019-04-21T02:36:08.533592Z"
    }
   },
   "source": [
    "#### Lambda = 1"
   ]
  },
  {
   "cell_type": "code",
   "execution_count": 77,
   "metadata": {
    "ExecuteTime": {
     "end_time": "2019-04-21T02:36:50.539013Z",
     "start_time": "2019-04-21T02:36:50.319600Z"
    }
   },
   "outputs": [
    {
     "name": "stdout",
     "output_type": "stream",
     "text": [
      "Warning: Desired error not necessarily achieved due to precision loss.\n",
      "         Current function value: 3.519689\n",
      "         Iterations: 4\n",
      "         Function evaluations: 49\n",
      "         Gradient evaluations: 38\n"
     ]
    },
    {
     "data": {
      "image/png": "[encoded data removed]",
      "text/plain": [
       "<matplotlib.figure.Figure at 0x1cb64542588>"
      ]
     },
     "metadata": {
      "needs_background": "light"
     },
     "output_type": "display_data"
    }
   ],
   "source": [
    "# Antes de iterar a fim de ver o melhor valor de lambda, vamos visualizar dois extremos\n",
    "lamda = 1\n",
    "m, n = X_train_poly.shape\n",
    "theta_inicial = np.ones((n, 1))\n",
    "\n",
    "# Treinando o modelo\n",
    "best_theta_lamda1, J_min_lamda1 = trainLinReg(theta_inicial, X_train_poly, y_train, lamda)\n",
    "\n",
    "# Plotando equação do modelo\n",
    "plotCurve(best_theta_lamda1, X_train, y_train, X=X_train_poly)"
   ]
  },
  {
   "cell_type": "code",
   "execution_count": 81,
   "metadata": {
    "ExecuteTime": {
     "end_time": "2019-04-21T02:38:17.828913Z",
     "start_time": "2019-04-21T02:38:17.518628Z"
    }
   },
   "outputs": [
    {
     "name": "stdout",
     "output_type": "stream",
     "text": [
      "Warning: Desired error not necessarily achieved due to precision loss.\n",
      "         Current function value: 4.500000\n",
      "         Iterations: 8\n",
      "         Function evaluations: 114\n",
      "         Gradient evaluations: 101\n",
      "Warning: Desired error not necessarily achieved due to precision loss.\n",
      "         Current function value: 2.287762\n",
      "         Iterations: 4\n",
      "         Function evaluations: 109\n",
      "         Gradient evaluations: 97\n",
      "Warning: Desired error not necessarily achieved due to precision loss.\n",
      "         Current function value: 4.136681\n",
      "         Iterations: 1\n",
      "         Function evaluations: 46\n",
      "         Gradient evaluations: 35\n",
      "Warning: Desired error not necessarily achieved due to precision loss.\n",
      "         Current function value: 2.066012\n",
      "         Iterations: 4\n",
      "         Function evaluations: 110\n",
      "         Gradient evaluations: 98\n",
      "Warning: Desired error not necessarily achieved due to precision loss.\n",
      "         Current function value: 1.882823\n",
      "         Iterations: 5\n",
      "         Function evaluations: 58\n",
      "         Gradient evaluations: 46\n",
      "Warning: Desired error not necessarily achieved due to precision loss.\n",
      "         Current function value: 0.947687\n",
      "         Iterations: 5\n",
      "         Function evaluations: 65\n",
      "         Gradient evaluations: 54\n",
      "Warning: Desired error not necessarily achieved due to precision loss.\n",
      "         Current function value: 2.241987\n",
      "         Iterations: 4\n",
      "         Function evaluations: 53\n",
      "         Gradient evaluations: 42\n",
      "Warning: Desired error not necessarily achieved due to precision loss.\n",
      "         Current function value: 2.163593\n",
      "         Iterations: 4\n",
      "         Function evaluations: 50\n",
      "         Gradient evaluations: 39\n",
      "Warning: Desired error not necessarily achieved due to precision loss.\n",
      "         Current function value: 2.068300\n",
      "         Iterations: 4\n",
      "         Function evaluations: 46\n",
      "         Gradient evaluations: 35\n",
      "Warning: Desired error not necessarily achieved due to precision loss.\n",
      "         Current function value: 2.089454\n",
      "         Iterations: 5\n",
      "         Function evaluations: 113\n",
      "         Gradient evaluations: 101\n",
      "Warning: Desired error not necessarily achieved due to precision loss.\n",
      "         Current function value: 1.832080\n",
      "         Iterations: 4\n",
      "         Function evaluations: 109\n",
      "         Gradient evaluations: 97\n",
      "Warning: Desired error not necessarily achieved due to precision loss.\n",
      "         Current function value: 3.519689\n",
      "         Iterations: 4\n",
      "         Function evaluations: 49\n",
      "         Gradient evaluations: 38\n"
     ]
    },
    {
     "data": {
      "image/png": "[encoded data removed]",
      "text/plain": [
       "<matplotlib.figure.Figure at 0x1cb646d8128>"
      ]
     },
     "metadata": {
      "needs_background": "light"
     },
     "output_type": "display_data"
    }
   ],
   "source": [
    "# Plotando curva de aprendizado\n",
    "error_train_lambda1, error_cv_lambda1 = plotLearningCurve(X_train_poly, y_train, \n",
    "                                                          X_val_poly, y_val, lamda)"
   ]
  },
  {
   "cell_type": "markdown",
   "metadata": {},
   "source": [
    "#### Lambda = 100"
   ]
  },
  {
   "cell_type": "code",
   "execution_count": 82,
   "metadata": {
    "ExecuteTime": {
     "end_time": "2019-04-21T02:39:26.118382Z",
     "start_time": "2019-04-21T02:39:25.894979Z"
    }
   },
   "outputs": [
    {
     "name": "stdout",
     "output_type": "stream",
     "text": [
      "Warning: Desired error not necessarily achieved due to precision loss.\n",
      "         Current function value: 92.364176\n",
      "         Iterations: 4\n",
      "         Function evaluations: 113\n",
      "         Gradient evaluations: 101\n"
     ]
    },
    {
     "data": {
      "image/png": "[encoded data removed]",
      "text/plain": [
       "<matplotlib.figure.Figure at 0x1cb64622390>"
      ]
     },
     "metadata": {
      "needs_background": "light"
     },
     "output_type": "display_data"
    }
   ],
   "source": [
    "# Antes de iterar a fim de ver o melhor valor de lambda, vamos visualizar dois extremos\n",
    "lamda = 100\n",
    "m, n = X_train_poly.shape\n",
    "theta_inicial = np.ones((n, 1))\n",
    "\n",
    "# Treinando o modelo\n",
    "best_theta_lamda100, J_min_lamda100 = trainLinReg(theta_inicial, X_train_poly, \n",
    "                                                  y_train, lamda)\n",
    "\n",
    "# Plotando equação do modelo\n",
    "plotCurve(best_theta_lamda100, X_train, y_train, X=X_train_poly)"
   ]
  },
  {
   "cell_type": "code",
   "execution_count": 83,
   "metadata": {
    "ExecuteTime": {
     "end_time": "2019-04-21T02:40:21.671027Z",
     "start_time": "2019-04-21T02:40:21.317971Z"
    }
   },
   "outputs": [
    {
     "name": "stdout",
     "output_type": "stream",
     "text": [
      "Warning: Desired error not necessarily achieved due to precision loss.\n",
      "         Current function value: 450.542024\n",
      "         Iterations: 1\n",
      "         Function evaluations: 102\n",
      "         Gradient evaluations: 90\n",
      "Warning: Desired error not necessarily achieved due to precision loss.\n",
      "         Current function value: 225.254712\n",
      "         Iterations: 1\n",
      "         Function evaluations: 111\n",
      "         Gradient evaluations: 99\n",
      "Warning: Desired error not necessarily achieved due to precision loss.\n",
      "         Current function value: 284.469447\n",
      "         Iterations: 0\n",
      "         Function evaluations: 107\n",
      "         Gradient evaluations: 95\n",
      "Warning: Desired error not necessarily achieved due to precision loss.\n",
      "         Current function value: 323.222729\n",
      "         Iterations: 0\n",
      "         Function evaluations: 99\n",
      "         Gradient evaluations: 87\n",
      "Warning: Desired error not necessarily achieved due to precision loss.\n",
      "         Current function value: 258.632673\n",
      "         Iterations: 0\n",
      "         Function evaluations: 113\n",
      "         Gradient evaluations: 101\n",
      "Warning: Desired error not necessarily achieved due to precision loss.\n",
      "         Current function value: 216.405091\n",
      "         Iterations: 0\n",
      "         Function evaluations: 112\n",
      "         Gradient evaluations: 100\n",
      "Warning: Desired error not necessarily achieved due to precision loss.\n",
      "         Current function value: 200.815562\n",
      "         Iterations: 0\n",
      "         Function evaluations: 38\n",
      "         Gradient evaluations: 27\n",
      "Warning: Desired error not necessarily achieved due to precision loss.\n",
      "         Current function value: 176.402394\n",
      "         Iterations: 0\n",
      "         Function evaluations: 40\n",
      "         Gradient evaluations: 29\n",
      "Warning: Desired error not necessarily achieved due to precision loss.\n",
      "         Current function value: 157.975578\n",
      "         Iterations: 0\n",
      "         Function evaluations: 43\n",
      "         Gradient evaluations: 31\n",
      "Warning: Desired error not necessarily achieved due to precision loss.\n",
      "         Current function value: 142.614941\n",
      "         Iterations: 0\n",
      "         Function evaluations: 54\n",
      "         Gradient evaluations: 43\n",
      "Warning: Desired error not necessarily achieved due to precision loss.\n",
      "         Current function value: 99.125707\n",
      "         Iterations: 5\n",
      "         Function evaluations: 126\n",
      "         Gradient evaluations: 114\n",
      "Warning: Desired error not necessarily achieved due to precision loss.\n",
      "         Current function value: 92.364176\n",
      "         Iterations: 4\n",
      "         Function evaluations: 113\n",
      "         Gradient evaluations: 101\n"
     ]
    },
    {
     "data": {
      "image/png": "[encoded data removed]",
      "text/plain": [
       "<matplotlib.figure.Figure at 0x1cb645204e0>"
      ]
     },
     "metadata": {
      "needs_background": "light"
     },
     "output_type": "display_data"
    }
   ],
   "source": [
    "# Plotando curva de aprendizado\n",
    "error_train_lambda100, error_cv_lambda100 = plotLearningCurve(X_train_poly, y_train, \n",
    "                                                              X_val_poly, y_val, lamda)"
   ]
  },
  {
   "cell_type": "markdown",
   "metadata": {},
   "source": [
    "#### Melhor Lambda"
   ]
  },
  {
   "cell_type": "code",
   "execution_count": null,
   "metadata": {},
   "outputs": [],
   "source": [
    "# Inicializando lamdas\n",
    "lamdas = [0, 0.001, 0.003, 0.01, 0.03, 0.1, 0.3, 1, 3, 10]\n",
    "m, n = X_train_poly.shape\n",
    "theta_inicial = np.ones((n, 1))\n",
    "for lamda in lamdas:\n",
    "    params, cost = trainLinReg(params, X_train_poly, y_train, lamda)\n",
    "    \n",
    "    error_train_lambda100, error_cv_lambda100 = plotLearningCurve(X_train_poly, y_train, \n",
    "                                                              X_val_poly, y_val, lamda)"
   ]
  },
  {
   "cell_type": "code",
   "execution_count": 84,
   "metadata": {
    "ExecuteTime": {
     "end_time": "2019-04-21T02:48:54.495037Z",
     "start_time": "2019-04-21T02:48:54.490051Z"
    }
   },
   "outputs": [
    {
     "name": "stdout",
     "output_type": "stream",
     "text": [
      "Help on function trainLinReg in module __main__:\n",
      "\n",
      "trainLinReg(theta_inicial, X, y, lamda)\n",
      "    Função responsável por realizar o treinamento do modelo de Regressão Linear através\n",
      "    da minimização da função custo já definida\n",
      "    Input:\n",
      "        theta_inicial: parâmetros de entrada do modelo;\n",
      "        X: features do modelo;\n",
      "        y: label do modelo;\n",
      "        lamda: fator de regularização\n",
      "    Output:\n",
      "        best_theta: melhores parâmetro aprendidos\n",
      "        J_min: menor custo para o modelo\n",
      "\n"
     ]
    }
   ],
   "source": [
    "help(trainLinReg)"
   ]
  },
  {
   "cell_type": "code",
   "execution_count": null,
   "metadata": {},
   "outputs": [],
   "source": []
  }
 ],
 "metadata": {
  "kernelspec": {
   "display_name": "Python 3",
   "language": "python",
   "name": "python3"
  },
  "language_info": {
   "codemirror_mode": {
    "name": "ipython",
    "version": 3
   },
   "file_extension": ".py",
   "mimetype": "text/x-python",
   "name": "python",
   "nbconvert_exporter": "python",
   "pygments_lexer": "ipython3",
   "version": "3.6.4"
  },
  "toc": {
   "base_numbering": 1,
   "nav_menu": {},
   "number_sections": true,
   "sideBar": true,
   "skip_h1_title": true,
   "title_cell": "Table of Contents",
   "title_sidebar": "Contents",
   "toc_cell": true,
   "toc_position": {},
   "toc_section_display": true,
   "toc_window_display": true
  }
 },
 "nbformat": 4,
 "nbformat_minor": 2
}
