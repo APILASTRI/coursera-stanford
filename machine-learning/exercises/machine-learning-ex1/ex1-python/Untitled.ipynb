{
 "cells": [
  {
   "cell_type": "markdown",
   "metadata": {
    "toc": true
   },
   "source": [
    "<h1>Table of Contents<span class=\"tocSkip\"></span></h1>\n",
    "<div class=\"toc\"><ul class=\"toc-item\"><li><span><a href=\"#Regressão-Linear-Univariável\" data-toc-modified-id=\"Regressão-Linear-Univariável-1\"><span class=\"toc-item-num\">1&nbsp;&nbsp;</span>Regressão Linear Univariável</a></span><ul class=\"toc-item\"><li><span><a href=\"#Entendimento-do-Problema\" data-toc-modified-id=\"Entendimento-do-Problema-1.1\"><span class=\"toc-item-num\">1.1&nbsp;&nbsp;</span>Entendimento do Problema</a></span></li><li><span><a href=\"#Lendo-e-Explorando-Dataset\" data-toc-modified-id=\"Lendo-e-Explorando-Dataset-1.2\"><span class=\"toc-item-num\">1.2&nbsp;&nbsp;</span>Lendo e Explorando Dataset</a></span></li><li><span><a href=\"#Visualizando-os-Dados\" data-toc-modified-id=\"Visualizando-os-Dados-1.3\"><span class=\"toc-item-num\">1.3&nbsp;&nbsp;</span>Visualizando os Dados</a></span></li><li><span><a href=\"#Implementando-Algoritmo\" data-toc-modified-id=\"Implementando-Algoritmo-1.4\"><span class=\"toc-item-num\">1.4&nbsp;&nbsp;</span>Implementando Algoritmo</a></span><ul class=\"toc-item\"><li><span><a href=\"#Hypothesis\" data-toc-modified-id=\"Hypothesis-1.4.1\"><span class=\"toc-item-num\">1.4.1&nbsp;&nbsp;</span>Hypothesis</a></span></li><li><span><a href=\"#Função-Custo\" data-toc-modified-id=\"Função-Custo-1.4.2\"><span class=\"toc-item-num\">1.4.2&nbsp;&nbsp;</span>Função Custo</a></span></li><li><span><a href=\"#Gradiente-Descendente\" data-toc-modified-id=\"Gradiente-Descendente-1.4.3\"><span class=\"toc-item-num\">1.4.3&nbsp;&nbsp;</span>Gradiente Descendente</a></span></li></ul></li></ul></li><li><span><a href=\"#Regressão-Linear-Multivariável\" data-toc-modified-id=\"Regressão-Linear-Multivariável-2\"><span class=\"toc-item-num\">2&nbsp;&nbsp;</span>Regressão Linear Multivariável</a></span><ul class=\"toc-item\"><li><span><a href=\"#Entendendo-o-Problema\" data-toc-modified-id=\"Entendendo-o-Problema-2.1\"><span class=\"toc-item-num\">2.1&nbsp;&nbsp;</span>Entendendo o Problema</a></span><ul class=\"toc-item\"><li><span><a href=\"#Lendo-e-Explorando-Dataset\" data-toc-modified-id=\"Lendo-e-Explorando-Dataset-2.1.1\"><span class=\"toc-item-num\">2.1.1&nbsp;&nbsp;</span>Lendo e Explorando Dataset</a></span></li></ul></li></ul></li></ul></div>"
   ]
  },
  {
   "cell_type": "markdown",
   "metadata": {},
   "source": [
    "Notebook criado para implementação do ```exercício 1``` do curso de Aprendizagem Automática da Universidade de Stanford. \n",
    "\n",
    "Em uma primeira etapa, tema proposto envolve a aplicação de um problema de Regressão Linear de uma variável para previsão de lucro de um estabelecimento levando em consideração a população do munícipio onde o mesmo se encontra.\n",
    "\n",
    "Posteriormente, é proposto um problema de Regressão Linear com múltiplas variáveis para previsão de preços de casas.\n",
    "\n",
    "    - Em ambos, a filosofia adotada será:\n",
    "        - Desenvolvimenteo da solução através de Álgebra Linear (arrays do NumPy)\n",
    "        - Desenvolvimento da solução através dos pacotes do scikit-learn"
   ]
  },
  {
   "cell_type": "markdown",
   "metadata": {},
   "source": [
    "## Regressão Linear Univariável"
   ]
  },
  {
   "cell_type": "markdown",
   "metadata": {},
   "source": [
    "### Entendimento do Problema"
   ]
  },
  {
   "cell_type": "markdown",
   "metadata": {},
   "source": [
    "No arquivo pdf disponibilizado na sessão de downloads do curso, o problema é descrito da seguinte maneira:\n",
    "\n",
    "Nesta parte do exercício, você implementará Regressão Linear com uma variável para predizer o ```lucro``` de um estabelecimento Food Truck. Suponha que você seja o CEO de uma franquia de restaurantes e está considerando diferentes cidades para a abertura de um novo estabelecimento. A franquia já possui restaurantes em diversas cidades e você tem em mãos os dados que relacionam o lucro e a ```população``` dessas cidades.\n",
    "\n",
    "Sua ideia é utilizar estes dados para escolher a melhor cidade para expansão do negócio. O arquivo ```ex1data1.txt``` contém o dataset para implementação da Regressão Linear. A primeira coluna refere-se a população da cidade, sendo a segunda coluna responsável por mostrar o lucro do Food Truck naquela cidade. Um valor negativo de lucro indica, na verdade, perda."
   ]
  },
  {
   "cell_type": "markdown",
   "metadata": {},
   "source": [
    "### Lendo e Explorando Dataset"
   ]
  },
  {
   "cell_type": "markdown",
   "metadata": {
    "ExecuteTime": {
     "end_time": "2019-04-03T19:49:51.566162Z",
     "start_time": "2019-04-03T19:49:51.518287Z"
    }
   },
   "source": [
    "Para ler o arquivo, vamos utilizar algumas funcionalidades do ```NumPy```"
   ]
  },
  {
   "cell_type": "code",
   "execution_count": 1,
   "metadata": {
    "ExecuteTime": {
     "end_time": "2019-04-03T22:51:53.938789Z",
     "start_time": "2019-04-03T22:51:53.803151Z"
    }
   },
   "outputs": [],
   "source": [
    "# Importando biblioteca e lendo arquivo\n",
    "import numpy as np\n",
    "\n",
    "dataset = np.loadtxt('ex1data1.txt', delimiter=',')"
   ]
  },
  {
   "cell_type": "markdown",
   "metadata": {},
   "source": [
    "Fonte: [numpy.loadtxt](https://docs.scipy.org/doc/numpy-1.15.0/reference/generated/numpy.loadtxt.html)"
   ]
  },
  {
   "cell_type": "code",
   "execution_count": 2,
   "metadata": {
    "ExecuteTime": {
     "end_time": "2019-04-03T22:51:54.016581Z",
     "start_time": "2019-04-03T22:51:53.941781Z"
    }
   },
   "outputs": [
    {
     "data": {
      "text/plain": [
       "array([[ 6.1101, 17.592 ],\n",
       "       [ 5.5277,  9.1302],\n",
       "       [ 8.5186, 13.662 ],\n",
       "       [ 7.0032, 11.854 ],\n",
       "       [ 5.8598,  6.8233]])"
      ]
     },
     "execution_count": 2,
     "metadata": {},
     "output_type": "execute_result"
    }
   ],
   "source": [
    "# Verificando primeiras linhas\n",
    "dataset[:5]"
   ]
  },
  {
   "cell_type": "code",
   "execution_count": 3,
   "metadata": {
    "ExecuteTime": {
     "end_time": "2019-04-03T22:51:54.095523Z",
     "start_time": "2019-04-03T22:51:54.018574Z"
    }
   },
   "outputs": [
    {
     "data": {
      "text/plain": [
       "dtype('float64')"
      ]
     },
     "execution_count": 3,
     "metadata": {},
     "output_type": "execute_result"
    }
   ],
   "source": [
    "# Tipo primitivo\n",
    "dataset.dtype"
   ]
  },
  {
   "cell_type": "code",
   "execution_count": 4,
   "metadata": {
    "ExecuteTime": {
     "end_time": "2019-04-03T22:51:54.242515Z",
     "start_time": "2019-04-03T22:51:54.102352Z"
    }
   },
   "outputs": [
    {
     "data": {
      "text/plain": [
       "(97, 2)"
      ]
     },
     "execution_count": 4,
     "metadata": {},
     "output_type": "execute_result"
    }
   ],
   "source": [
    "# Dimensões do dataset\n",
    "dataset.shape"
   ]
  },
  {
   "cell_type": "code",
   "execution_count": 5,
   "metadata": {
    "ExecuteTime": {
     "end_time": "2019-04-03T22:51:54.371680Z",
     "start_time": "2019-04-03T22:51:54.244968Z"
    }
   },
   "outputs": [
    {
     "name": "stdout",
     "output_type": "stream",
     "text": [
      "O dataset possui 97 linhas e 2 colunas.\n"
     ]
    }
   ],
   "source": [
    "# Comunicando\n",
    "print(f'O dataset possui {dataset.shape[0]} linhas e {dataset.shape[1]} colunas.')"
   ]
  },
  {
   "cell_type": "code",
   "execution_count": 6,
   "metadata": {
    "ExecuteTime": {
     "end_time": "2019-04-03T22:51:54.493304Z",
     "start_time": "2019-04-03T22:51:54.375620Z"
    }
   },
   "outputs": [],
   "source": [
    "# Separando dataset\n",
    "population = dataset[:, 0]\n",
    "profit = dataset[:, 1]"
   ]
  },
  {
   "cell_type": "code",
   "execution_count": 7,
   "metadata": {
    "ExecuteTime": {
     "end_time": "2019-04-03T22:51:54.602543Z",
     "start_time": "2019-04-03T22:51:54.499505Z"
    }
   },
   "outputs": [
    {
     "name": "stdout",
     "output_type": "stream",
     "text": [
      "População: [6.1101 5.5277 8.5186 7.0032 5.8598]\n",
      "Lucro: [17.592   9.1302 13.662  11.854   6.8233]\n",
      "\n",
      "Original: \n",
      "[[ 6.1101 17.592 ]\n",
      " [ 5.5277  9.1302]\n",
      " [ 8.5186 13.662 ]\n",
      " [ 7.0032 11.854 ]\n",
      " [ 5.8598  6.8233]]\n"
     ]
    }
   ],
   "source": [
    "# Verificando\n",
    "print(f'População: {population[:5]}')\n",
    "print(f'Lucro: {profit[:5]}')\n",
    "print(f'\\nOriginal: \\n{dataset[:5]}')"
   ]
  },
  {
   "cell_type": "markdown",
   "metadata": {},
   "source": [
    "### Visualizando os Dados"
   ]
  },
  {
   "cell_type": "markdown",
   "metadata": {},
   "source": [
    "Para esta importante funcionalidade, vamos utilizar a biblioteca ```matplotlib``` para relacionar os dados já explorados previamente."
   ]
  },
  {
   "cell_type": "code",
   "execution_count": 8,
   "metadata": {
    "ExecuteTime": {
     "end_time": "2019-04-03T22:51:54.975085Z",
     "start_time": "2019-04-03T22:51:54.608996Z"
    }
   },
   "outputs": [],
   "source": [
    "# Importando biblioteca\n",
    "import matplotlib.pyplot as plt\n",
    "%matplotlib inline"
   ]
  },
  {
   "cell_type": "code",
   "execution_count": 9,
   "metadata": {
    "ExecuteTime": {
     "end_time": "2019-04-03T22:51:54.987073Z",
     "start_time": "2019-04-03T22:51:54.980003Z"
    }
   },
   "outputs": [
    {
     "name": "stdout",
     "output_type": "stream",
     "text": [
      "Help on function scatter in module matplotlib.pyplot:\n",
      "\n",
      "scatter(x, y, s=None, c=None, marker=None, cmap=None, norm=None, vmin=None, vmax=None, alpha=None, linewidths=None, verts=None, edgecolors=None, hold=None, data=None, **kwargs)\n",
      "    Make a scatter plot of `x` vs `y`.\n",
      "    \n",
      "    Marker size is scaled by `s` and marker color is mapped to `c`.\n",
      "    \n",
      "    Parameters\n",
      "    ----------\n",
      "    x, y : array_like, shape (n, )\n",
      "        Input data\n",
      "    \n",
      "    s : scalar or array_like, shape (n, ), optional\n",
      "        size in points^2.  Default is `rcParams['lines.markersize'] ** 2`.\n",
      "    \n",
      "    c : color, sequence, or sequence of color, optional, default: 'b'\n",
      "        `c` can be a single color format string, or a sequence of color\n",
      "        specifications of length `N`, or a sequence of `N` numbers to be\n",
      "        mapped to colors using the `cmap` and `norm` specified via kwargs\n",
      "        (see below). Note that `c` should not be a single numeric RGB or\n",
      "        RGBA sequence because that is indistinguishable from an array of\n",
      "        values to be colormapped.  `c` can be a 2-D array in which the\n",
      "        rows are RGB or RGBA, however, including the case of a single\n",
      "        row to specify the same color for all points.\n",
      "    \n",
      "    marker : `~matplotlib.markers.MarkerStyle`, optional, default: 'o'\n",
      "        See `~matplotlib.markers` for more information on the different\n",
      "        styles of markers scatter supports. `marker` can be either\n",
      "        an instance of the class or the text shorthand for a particular\n",
      "        marker.\n",
      "    \n",
      "    cmap : `~matplotlib.colors.Colormap`, optional, default: None\n",
      "        A `~matplotlib.colors.Colormap` instance or registered name.\n",
      "        `cmap` is only used if `c` is an array of floats. If None,\n",
      "        defaults to rc `image.cmap`.\n",
      "    \n",
      "    norm : `~matplotlib.colors.Normalize`, optional, default: None\n",
      "        A `~matplotlib.colors.Normalize` instance is used to scale\n",
      "        luminance data to 0, 1. `norm` is only used if `c` is an array of\n",
      "        floats. If `None`, use the default :func:`normalize`.\n",
      "    \n",
      "    vmin, vmax : scalar, optional, default: None\n",
      "        `vmin` and `vmax` are used in conjunction with `norm` to normalize\n",
      "        luminance data.  If either are `None`, the min and max of the\n",
      "        color array is used.  Note if you pass a `norm` instance, your\n",
      "        settings for `vmin` and `vmax` will be ignored.\n",
      "    \n",
      "    alpha : scalar, optional, default: None\n",
      "        The alpha blending value, between 0 (transparent) and 1 (opaque)\n",
      "    \n",
      "    linewidths : scalar or array_like, optional, default: None\n",
      "        If None, defaults to (lines.linewidth,).\n",
      "    \n",
      "    verts : sequence of (x, y), optional\n",
      "        If `marker` is None, these vertices will be used to\n",
      "        construct the marker.  The center of the marker is located\n",
      "        at (0,0) in normalized units.  The overall marker is rescaled\n",
      "        by ``s``.\n",
      "    \n",
      "    edgecolors : color or sequence of color, optional, default: None\n",
      "        If None, defaults to 'face'\n",
      "    \n",
      "        If 'face', the edge color will always be the same as\n",
      "        the face color.\n",
      "    \n",
      "        If it is 'none', the patch boundary will not\n",
      "        be drawn.\n",
      "    \n",
      "        For non-filled markers, the `edgecolors` kwarg\n",
      "        is ignored and forced to 'face' internally.\n",
      "    \n",
      "    Returns\n",
      "    -------\n",
      "    paths : `~matplotlib.collections.PathCollection`\n",
      "    \n",
      "    Other Parameters\n",
      "    ----------------\n",
      "    **kwargs : `~matplotlib.collections.Collection` properties\n",
      "    \n",
      "    See Also\n",
      "    --------\n",
      "    plot : to plot scatter plots when markers are identical in size and\n",
      "        color\n",
      "    \n",
      "    Notes\n",
      "    -----\n",
      "    \n",
      "    * The `plot` function will be faster for scatterplots where markers\n",
      "      don't vary in size or color.\n",
      "    \n",
      "    * Any or all of `x`, `y`, `s`, and `c` may be masked arrays, in which\n",
      "      case all masks will be combined and only unmasked points will be\n",
      "      plotted.\n",
      "    \n",
      "      Fundamentally, scatter works with 1-D arrays; `x`, `y`, `s`, and `c`\n",
      "      may be input as 2-D arrays, but within scatter they will be\n",
      "      flattened. The exception is `c`, which will be flattened only if its\n",
      "      size matches the size of `x` and `y`.\n",
      "    \n",
      "    .. note::\n",
      "        In addition to the above described arguments, this function can take a\n",
      "        **data** keyword argument. If such a **data** argument is given, the\n",
      "        following arguments are replaced by **data[<arg>]**:\n",
      "    \n",
      "        * All arguments with the following names: 'c', 'color', 'edgecolors', 'facecolor', 'facecolors', 'linewidths', 's', 'x', 'y'.\n",
      "\n"
     ]
    }
   ],
   "source": [
    "# Ajuda sobre plot de dispersão\n",
    "help(plt.scatter)"
   ]
  },
  {
   "cell_type": "code",
   "execution_count": 10,
   "metadata": {
    "ExecuteTime": {
     "end_time": "2019-04-03T22:51:55.238727Z",
     "start_time": "2019-04-03T22:51:54.989504Z"
    }
   },
   "outputs": [
    {
     "data": {
      "text/plain": [
       "<matplotlib.collections.PathCollection at 0x2a746447160>"
      ]
     },
     "execution_count": 10,
     "metadata": {},
     "output_type": "execute_result"
    },
    {
     "data": {
      "image/png": "[encoded data removed]",
      "text/plain": [
       "<matplotlib.figure.Figure at 0x2a740396668>"
      ]
     },
     "metadata": {
      "needs_background": "light"
     },
     "output_type": "display_data"
    }
   ],
   "source": [
    "# Plotando gráfico de dispersão\n",
    "plt.scatter(population, profit)"
   ]
  },
  {
   "cell_type": "code",
   "execution_count": 11,
   "metadata": {
    "ExecuteTime": {
     "end_time": "2019-04-03T22:51:55.448163Z",
     "start_time": "2019-04-03T22:51:55.241417Z"
    }
   },
   "outputs": [
    {
     "data": {
      "image/png": "[encoded data removed]",
      "text/plain": [
       "<matplotlib.figure.Figure at 0x2a74668bef0>"
      ]
     },
     "metadata": {
      "needs_background": "light"
     },
     "output_type": "display_data"
    }
   ],
   "source": [
    "# Aprimorando plot\n",
    "fig = plt.figure(figsize=(9, 6))\n",
    "plt.scatter(population, profit, c='r', marker='x')\n",
    "plt.title('Lucro Food Truck x População da Cidade', size=16)\n",
    "plt.xlabel('População (10.000 hab)', size=13, labelpad=12)\n",
    "plt.ylabel('Lucro ($10.000)', size=13, labelpad=12)\n",
    "plt.show()"
   ]
  },
  {
   "cell_type": "markdown",
   "metadata": {},
   "source": [
    "### Implementando Algoritmo"
   ]
  },
  {
   "cell_type": "markdown",
   "metadata": {},
   "source": [
    "Após visualizar e entender os dados, vamos implementar o modelo de Regressão Linear"
   ]
  },
  {
   "cell_type": "markdown",
   "metadata": {},
   "source": [
    "#### Hypothesis"
   ]
  },
  {
   "cell_type": "markdown",
   "metadata": {},
   "source": [
    "A literatura diz que a definição da função hypothesis para um modelo de Regressão Linear é dada por:"
   ]
  },
  {
   "cell_type": "markdown",
   "metadata": {},
   "source": [
    "\\begin{equation*}\n",
    "h_\\theta(x) = \\theta^Tx=\\theta_0 + \\theta_1x_1\n",
    "\\end{equation*}"
   ]
  },
  {
   "cell_type": "markdown",
   "metadata": {},
   "source": [
    "Lembrando também que a Função Custo e a implementação do Gradiente Descendente são dadas por:"
   ]
  },
  {
   "cell_type": "markdown",
   "metadata": {},
   "source": [
    "\\begin{equation*}\n",
    "J(\\theta)=\\frac{1}{2m}\\sum_{i=1}^m(h_\\theta(x^{(i)})-y^{(i)})^2\n",
    "\\end{equation*}"
   ]
  },
  {
   "cell_type": "markdown",
   "metadata": {},
   "source": [
    "\\begin{equation*}\n",
    "    \\theta_j:= \\theta_j-\\alpha\\frac{\\partial}{\\partial \\theta_j}J(\\theta) \n",
    "             = \\theta_j-\\alpha\\frac{1}{m}\\sum_{i=1}^m(h_\\theta(x^{(i)})-y^{(i)})x_j^{(i)}\n",
    "\\end{equation*}"
   ]
  },
  {
   "cell_type": "markdown",
   "metadata": {},
   "source": [
    "Para considerar o termo enviesado da feature ```X```, vamos adicionar uma coluna de 1s no array de população."
   ]
  },
  {
   "cell_type": "code",
   "execution_count": 12,
   "metadata": {
    "ExecuteTime": {
     "end_time": "2019-04-03T22:51:55.460130Z",
     "start_time": "2019-04-03T22:51:55.450157Z"
    }
   },
   "outputs": [
    {
     "data": {
      "text/plain": [
       "array([[1.    , 6.1101],\n",
       "       [1.    , 5.5277],\n",
       "       [1.    , 8.5186],\n",
       "       [1.    , 7.0032],\n",
       "       [1.    , 5.8598]])"
      ]
     },
     "execution_count": 12,
     "metadata": {},
     "output_type": "execute_result"
    }
   ],
   "source": [
    "# Adicionando bias\n",
    "bias = np.ones(population.shape[0])\n",
    "X = np.column_stack((bias, population))\n",
    "# X = np.c_[np.ones((m, 1)), X]\n",
    "\n",
    "# Nomenclatura y\n",
    "y = profit[:]\n",
    "\n",
    "# Verificando\n",
    "X[:5]"
   ]
  },
  {
   "cell_type": "markdown",
   "metadata": {
    "ExecuteTime": {
     "end_time": "2019-04-03T20:48:57.841887Z",
     "start_time": "2019-04-03T20:48:57.835906Z"
    }
   },
   "source": [
    "Fontes:\n",
    "\n",
    "[np.ones](https://docs.scipy.org/doc/numpy/reference/generated/numpy.ones.html)\n",
    "\n",
    "[stackOverflow-np.column_stack()](https://stackoverflow.com/questions/21852892/use-numpy-to-join-two-columns)"
   ]
  },
  {
   "cell_type": "markdown",
   "metadata": {},
   "source": [
    "Ainda não temos os parâmetros ```theta``` para calcular nossa fução hypothesis e, portanto, vamos considerar um ```theta_inicial``` como sendo:\n",
    "    - theta_0 = 0\n",
    "    - theta_1 = 1\n",
    "    \n",
    "A partir disso, podemos calcular a Função Custo e o Gradiente visando encontrar os melhores parâmetros."
   ]
  },
  {
   "cell_type": "code",
   "execution_count": 13,
   "metadata": {
    "ExecuteTime": {
     "end_time": "2019-04-03T22:51:55.549241Z",
     "start_time": "2019-04-03T22:51:55.462126Z"
    }
   },
   "outputs": [
    {
     "data": {
      "text/plain": [
       "array([[0.],\n",
       "       [0.]])"
      ]
     },
     "execution_count": 13,
     "metadata": {},
     "output_type": "execute_result"
    }
   ],
   "source": [
    "# Inicializando parâmetros\n",
    "theta_inicial = np.zeros((2, 1))\n",
    "theta_inicial"
   ]
  },
  {
   "cell_type": "markdown",
   "metadata": {},
   "source": [
    "Fonte: [np.zeros()](https://docs.scipy.org/doc/numpy/reference/generated/numpy.zeros.html)"
   ]
  },
  {
   "cell_type": "code",
   "execution_count": 14,
   "metadata": {
    "ExecuteTime": {
     "end_time": "2019-04-03T22:51:55.635054Z",
     "start_time": "2019-04-03T22:51:55.556487Z"
    }
   },
   "outputs": [
    {
     "name": "stdout",
     "output_type": "stream",
     "text": [
      "Dimensões theta_inicial: (2, 1)\n",
      "Dimensões X: (97, 2)\n"
     ]
    }
   ],
   "source": [
    "# Verificando dimensões\n",
    "print(f'Dimensões theta_inicial: {theta_inicial.shape}')\n",
    "print(f'Dimensões X: {X.shape}')"
   ]
  },
  {
   "cell_type": "markdown",
   "metadata": {
    "ExecuteTime": {
     "end_time": "2019-04-03T21:00:13.651538Z",
     "start_time": "2019-04-03T21:00:13.646520Z"
    }
   },
   "source": [
    "Antes de calcular a função hypothesis, é preciso aplicar uma transposição na matriz de parâmetros. \n",
    "\n",
    "Fonte: [np.transpose()](https://docs.scipy.org/doc/numpy/reference/generated/numpy.transpose.html), [np.ndarray.T](https://docs.scipy.org/doc/numpy/reference/generated/numpy.ndarray.T.html#numpy.ndarray.T)"
   ]
  },
  {
   "cell_type": "code",
   "execution_count": 15,
   "metadata": {
    "ExecuteTime": {
     "end_time": "2019-04-03T22:51:55.718731Z",
     "start_time": "2019-04-03T22:51:55.642935Z"
    }
   },
   "outputs": [
    {
     "data": {
      "text/plain": [
       "array([[0.],\n",
       "       [0.],\n",
       "       [0.],\n",
       "       [0.],\n",
       "       [0.],\n",
       "       [0.],\n",
       "       [0.],\n",
       "       [0.],\n",
       "       [0.],\n",
       "       [0.],\n",
       "       [0.],\n",
       "       [0.],\n",
       "       [0.],\n",
       "       [0.],\n",
       "       [0.],\n",
       "       [0.],\n",
       "       [0.],\n",
       "       [0.],\n",
       "       [0.],\n",
       "       [0.],\n",
       "       [0.],\n",
       "       [0.],\n",
       "       [0.],\n",
       "       [0.],\n",
       "       [0.],\n",
       "       [0.],\n",
       "       [0.],\n",
       "       [0.],\n",
       "       [0.],\n",
       "       [0.],\n",
       "       [0.],\n",
       "       [0.],\n",
       "       [0.],\n",
       "       [0.],\n",
       "       [0.],\n",
       "       [0.],\n",
       "       [0.],\n",
       "       [0.],\n",
       "       [0.],\n",
       "       [0.],\n",
       "       [0.],\n",
       "       [0.],\n",
       "       [0.],\n",
       "       [0.],\n",
       "       [0.],\n",
       "       [0.],\n",
       "       [0.],\n",
       "       [0.],\n",
       "       [0.],\n",
       "       [0.],\n",
       "       [0.],\n",
       "       [0.],\n",
       "       [0.],\n",
       "       [0.],\n",
       "       [0.],\n",
       "       [0.],\n",
       "       [0.],\n",
       "       [0.],\n",
       "       [0.],\n",
       "       [0.],\n",
       "       [0.],\n",
       "       [0.],\n",
       "       [0.],\n",
       "       [0.],\n",
       "       [0.],\n",
       "       [0.],\n",
       "       [0.],\n",
       "       [0.],\n",
       "       [0.],\n",
       "       [0.],\n",
       "       [0.],\n",
       "       [0.],\n",
       "       [0.],\n",
       "       [0.],\n",
       "       [0.],\n",
       "       [0.],\n",
       "       [0.],\n",
       "       [0.],\n",
       "       [0.],\n",
       "       [0.],\n",
       "       [0.],\n",
       "       [0.],\n",
       "       [0.],\n",
       "       [0.],\n",
       "       [0.],\n",
       "       [0.],\n",
       "       [0.],\n",
       "       [0.],\n",
       "       [0.],\n",
       "       [0.],\n",
       "       [0.],\n",
       "       [0.],\n",
       "       [0.],\n",
       "       [0.],\n",
       "       [0.],\n",
       "       [0.],\n",
       "       [0.]])"
      ]
     },
     "execution_count": 15,
     "metadata": {},
     "output_type": "execute_result"
    }
   ],
   "source": [
    "# Calculando hypothesis\n",
    "h = X.dot(theta_inicial)\n",
    "h"
   ]
  },
  {
   "cell_type": "markdown",
   "metadata": {},
   "source": [
    "Fonte: [np.ndarray.dot(matrix)](https://docs.scipy.org/doc/numpy/reference/generated/numpy.ndarray.dot.html)"
   ]
  },
  {
   "cell_type": "markdown",
   "metadata": {},
   "source": [
    "Exatamente o que se esperava: um vetor de predições repleto por zeros. Isto pois iniciamos nossos parâmetros com (0, 0). Vamos calcular o custo."
   ]
  },
  {
   "cell_type": "code",
   "execution_count": 16,
   "metadata": {
    "ExecuteTime": {
     "end_time": "2019-04-03T22:51:55.797125Z",
     "start_time": "2019-04-03T22:51:55.725711Z"
    }
   },
   "outputs": [],
   "source": [
    "# Implementando função\n",
    "def hypothesis(X, theta):\n",
    "    \"\"\"\n",
    "    Função responsável por calcular o vetor h em um problema de Regressão Linear\n",
    "    INPUT:\n",
    "        X: matriz contendo features do dataset\n",
    "        theta: matriz de parâmetros\n",
    "    OUTPUT:\n",
    "        h: matriz de hypothesis contendo predições do modelo\n",
    "    \"\"\"\n",
    "    return X.dot(theta)"
   ]
  },
  {
   "cell_type": "markdown",
   "metadata": {},
   "source": [
    "#### Função Custo"
   ]
  },
  {
   "cell_type": "markdown",
   "metadata": {},
   "source": [
    "\\begin{equation*}\n",
    "J(\\theta)=\\frac{1}{2m}\\sum_{i=1}^m(h_\\theta(x^{(i)})-y^{(i)})^2\n",
    "\\end{equation*}"
   ]
  },
  {
   "cell_type": "code",
   "execution_count": 17,
   "metadata": {
    "ExecuteTime": {
     "end_time": "2019-04-03T22:51:55.885197Z",
     "start_time": "2019-04-03T22:51:55.800694Z"
    }
   },
   "outputs": [
    {
     "data": {
      "text/plain": [
       "array([[-17.592  ,  -9.1302 , -13.662  , ...,  -0.14454,  -9.0551 ,\n",
       "         -0.61705],\n",
       "       [-17.592  ,  -9.1302 , -13.662  , ...,  -0.14454,  -9.0551 ,\n",
       "         -0.61705],\n",
       "       [-17.592  ,  -9.1302 , -13.662  , ...,  -0.14454,  -9.0551 ,\n",
       "         -0.61705],\n",
       "       ...,\n",
       "       [-17.592  ,  -9.1302 , -13.662  , ...,  -0.14454,  -9.0551 ,\n",
       "         -0.61705],\n",
       "       [-17.592  ,  -9.1302 , -13.662  , ...,  -0.14454,  -9.0551 ,\n",
       "         -0.61705],\n",
       "       [-17.592  ,  -9.1302 , -13.662  , ...,  -0.14454,  -9.0551 ,\n",
       "         -0.61705]])"
      ]
     },
     "execution_count": 17,
     "metadata": {},
     "output_type": "execute_result"
    }
   ],
   "source": [
    "# Calculando custo\n",
    "m = X.shape[0]\n",
    "\n",
    "# Testando predições - label\n",
    "h - y"
   ]
  },
  {
   "cell_type": "code",
   "execution_count": 18,
   "metadata": {
    "ExecuteTime": {
     "end_time": "2019-04-03T22:51:55.979519Z",
     "start_time": "2019-04-03T22:51:55.887207Z"
    }
   },
   "outputs": [
    {
     "data": {
      "text/plain": [
       "array([-1706.424  ,  -885.6294 , -1325.214  , -1149.838  ,  -661.8601 ,\n",
       "       -1152.942  ,  -421.7851 , -1164.     ,  -640.0739 ,  -370.2102 ,\n",
       "        -315.4634 , -1503.985  ,  -306.0447 ,  -700.9026 ,   -69.46946,\n",
       "        -340.7513 ,  -514.5656 ,   -54.39469,  -354.2246 ,  -522.7621 ,\n",
       "        -304.4442 , -2111.399  ,  -413.511  ,  -503.1875 ,  -299.0025 ,\n",
       "       -2195.886  , -1309.597  ,  -683.5299 , -1425.124  , -2342.259  ,\n",
       "         118.34   ,  -581.6702 , -1176.998  ,  -179.4015 ,  -634.6322 ,\n",
       "        -442.5431 ,  -399.2908 ,  -329.1016 ,  -981.349  ,  -533.2478 ,\n",
       "         -53.98729,  -379.4155 ,  -522.3838 ,  -236.7382 ,  -652.9846 ,\n",
       "        -101.4911 ,  -497.9689 ,  -178.868  ,  -776.4171 ,   -98.7363 ,\n",
       "        -654.7888 ,  -178.4412 ,  -415.9845 ,  -484.8157 ,  -138.0601 ,\n",
       "         137.8467 ,  -240.1332 ,  -446.6074 ,  -384.3528 ,  -525.1677 ,\n",
       "        -501.4318 ,    72.05063, -1739.113  , -1169.238  , -1654.238  ,\n",
       "        -473.8644 ,  -557.1874 ,  -754.2138 ,   -98.6781 , -2036.224  ,\n",
       "        -647.9503 ,  -390.5123 ,  -124.0048 ,  -324.0867 ,   260.0279 ,\n",
       "         -28.78766,  -376.7965 ,  -553.0358 ,  -655.0022 ,  -199.5872 ,\n",
       "         -46.51441,   -19.80837,   -65.82517,  -731.7195 ,  -518.3292 ,\n",
       "        -411.4255 ,  -659.4157 ,   -89.91415,   -14.744  ,  -273.6758 ,\n",
       "        -178.9747 ,  -416.7023 ,  -698.6813 ,  -192.7293 ,   -14.02038,\n",
       "        -878.3447 ,   -59.85385])"
      ]
     },
     "execution_count": 18,
     "metadata": {},
     "output_type": "execute_result"
    }
   ],
   "source": [
    "# Testando soma\n",
    "sum(h - y)"
   ]
  },
  {
   "cell_type": "markdown",
   "metadata": {},
   "source": [
    "Algo está errado. O esperado seria um valor único. Vamos investigar."
   ]
  },
  {
   "cell_type": "code",
   "execution_count": 19,
   "metadata": {
    "ExecuteTime": {
     "end_time": "2019-04-03T22:51:56.072133Z",
     "start_time": "2019-04-03T22:51:55.988325Z"
    }
   },
   "outputs": [
    {
     "name": "stdout",
     "output_type": "stream",
     "text": [
      "Dimensão de h: (97, 1)\n",
      "Dimensão de y: (97,)\n"
     ]
    }
   ],
   "source": [
    "# Dimensões de cada um dos vetores\n",
    "print(f'Dimensão de h: {h.shape}')\n",
    "print(f'Dimensão de y: {y.shape}')"
   ]
  },
  {
   "cell_type": "markdown",
   "metadata": {},
   "source": [
    "Aparentemente, a dimensão de ```y``` está influenciando na subtração entre os vetores. Aplicando alterações"
   ]
  },
  {
   "cell_type": "code",
   "execution_count": 20,
   "metadata": {
    "ExecuteTime": {
     "end_time": "2019-04-03T22:51:56.153143Z",
     "start_time": "2019-04-03T22:51:56.082125Z"
    }
   },
   "outputs": [
    {
     "data": {
      "text/plain": [
       "(97, 1)"
      ]
     },
     "execution_count": 20,
     "metadata": {},
     "output_type": "execute_result"
    }
   ],
   "source": [
    "# Modificando dimensão\n",
    "y = y.reshape(m, 1)\n",
    "y.shape"
   ]
  },
  {
   "cell_type": "code",
   "execution_count": 21,
   "metadata": {
    "ExecuteTime": {
     "end_time": "2019-04-03T22:51:56.263833Z",
     "start_time": "2019-04-03T22:51:56.158129Z"
    }
   },
   "outputs": [
    {
     "data": {
      "text/plain": [
       "array([-566.3961])"
      ]
     },
     "execution_count": 21,
     "metadata": {},
     "output_type": "execute_result"
    }
   ],
   "source": [
    "# Testando mais uma vez\n",
    "sum(h - y)"
   ]
  },
  {
   "cell_type": "markdown",
   "metadata": {},
   "source": [
    "Faltou elevar ao quadrado..."
   ]
  },
  {
   "cell_type": "code",
   "execution_count": 22,
   "metadata": {
    "ExecuteTime": {
     "end_time": "2019-04-03T22:51:56.410483Z",
     "start_time": "2019-04-03T22:51:56.271881Z"
    }
   },
   "outputs": [
    {
     "data": {
      "text/plain": [
       "array([6222.11037223])"
      ]
     },
     "execution_count": 22,
     "metadata": {},
     "output_type": "execute_result"
    }
   ],
   "source": [
    "# Corrigindo\n",
    "sum((h - y) ** 2)"
   ]
  },
  {
   "cell_type": "code",
   "execution_count": 23,
   "metadata": {
    "ExecuteTime": {
     "end_time": "2019-04-03T22:51:56.499245Z",
     "start_time": "2019-04-03T22:51:56.434419Z"
    }
   },
   "outputs": [
    {
     "data": {
      "text/plain": [
       "array([[6222.11037223]])"
      ]
     },
     "execution_count": 23,
     "metadata": {},
     "output_type": "execute_result"
    }
   ],
   "source": [
    "# Uma outra forma\n",
    "e = (h - y)\n",
    "e.T.dot(e)"
   ]
  },
  {
   "cell_type": "code",
   "execution_count": 24,
   "metadata": {
    "ExecuteTime": {
     "end_time": "2019-04-03T22:51:56.585015Z",
     "start_time": "2019-04-03T22:51:56.503237Z"
    }
   },
   "outputs": [
    {
     "data": {
      "text/plain": [
       "array([32.07273388])"
      ]
     },
     "execution_count": 24,
     "metadata": {},
     "output_type": "execute_result"
    }
   ],
   "source": [
    "# Dividindo por 2m\n",
    "sum((h - y) ** 2) / (2*m)"
   ]
  },
  {
   "cell_type": "code",
   "execution_count": 25,
   "metadata": {
    "ExecuteTime": {
     "end_time": "2019-04-03T22:51:56.667794Z",
     "start_time": "2019-04-03T22:51:56.588008Z"
    }
   },
   "outputs": [],
   "source": [
    "# Definindo função para cálculo do custo\n",
    "def costFunction(X, y, theta):\n",
    "    \"\"\"\n",
    "    Função responsável por calcular o custo da função de acordo com os parâmetros empregados\n",
    "    INPUT:\n",
    "        X: matriz de features;\n",
    "        y: labels;\n",
    "        theta: parâmetros do modelo\n",
    "    OUTPUT:\n",
    "        J: função custo\n",
    "    \"\"\"\n",
    "    # Aplicando termo x0 no dataset\n",
    "    m = X.shape[0]\n",
    "    \n",
    "    # Computando hypothesis\n",
    "    h = hypothesis(X, theta)\n",
    "    \n",
    "    # Calculando custo\n",
    "    squared_error = (h - y) ** 2\n",
    "    return sum(squared_error / (2*m))"
   ]
  },
  {
   "cell_type": "code",
   "execution_count": 26,
   "metadata": {
    "ExecuteTime": {
     "end_time": "2019-04-03T22:51:56.785479Z",
     "start_time": "2019-04-03T22:51:56.671190Z"
    }
   },
   "outputs": [
    {
     "name": "stdout",
     "output_type": "stream",
     "text": [
      "Função custo para theta inicial = (0, 0): 32.07\n"
     ]
    }
   ],
   "source": [
    "# Verificando\n",
    "initial_theta = np.zeros((2, 1))\n",
    "J = costFunction(X, y, initial_theta)\n",
    "print(f'Função custo para theta inicial = (0, 0): {J[0]:.2f}')"
   ]
  },
  {
   "cell_type": "markdown",
   "metadata": {},
   "source": [
    "#### Gradiente Descendente"
   ]
  },
  {
   "cell_type": "markdown",
   "metadata": {},
   "source": [
    "Após a implementação da Função Custo, vamos implementar as derivadas parciais para o cálculo do gradiente. O objetivo é encontrar o melhor set de parâmetros ```theta``` para o problema em questão."
   ]
  },
  {
   "cell_type": "markdown",
   "metadata": {},
   "source": [
    "\\begin{equation*}\n",
    "    \\theta_j:= \\theta_j-\\alpha\\frac{\\partial}{\\partial \\theta_j}J(\\theta) \n",
    "             = \\theta_j-\\alpha\\frac{1}{m}\\sum_{i=1}^m(h_\\theta(x^{(i)})-y^{(i)})x_j^{(i)}\n",
    "\\end{equation*}"
   ]
  },
  {
   "cell_type": "code",
   "execution_count": 144,
   "metadata": {
    "ExecuteTime": {
     "end_time": "2019-04-03T23:33:23.570424Z",
     "start_time": "2019-04-03T23:33:23.563458Z"
    }
   },
   "outputs": [],
   "source": [
    "# Inicializando parâmetros\n",
    "[m, n] = X.shape\n",
    "iterations = 1500\n",
    "alpha = 0.01\n",
    "theta = np.zeros((n, 1))\n",
    "temp = theta"
   ]
  },
  {
   "cell_type": "code",
   "execution_count": 145,
   "metadata": {
    "ExecuteTime": {
     "end_time": "2019-04-03T23:33:24.152903Z",
     "start_time": "2019-04-03T23:33:24.144027Z"
    }
   },
   "outputs": [
    {
     "data": {
      "text/plain": [
       "array([[0.05839135],\n",
       "       [0.6532885 ]])"
      ]
     },
     "execution_count": 145,
     "metadata": {},
     "output_type": "execute_result"
    }
   ],
   "source": [
    "# Testando uma única iteração\n",
    "h = hypothesis(X, theta)\n",
    "temp[0] = temp[0] - (alpha/m) * sum(h - y)\n",
    "temp[1] = temp[1] - (alpha/m) * X[:, 1].dot((h-y))\n",
    "theta = temp[:]\n",
    "theta"
   ]
  },
  {
   "cell_type": "code",
   "execution_count": 146,
   "metadata": {
    "ExecuteTime": {
     "end_time": "2019-04-03T23:33:25.148769Z",
     "start_time": "2019-04-03T23:33:24.691901Z"
    }
   },
   "outputs": [],
   "source": [
    "# Implementando gradiente\n",
    "J_history = np.zeros((iterations, 1))\n",
    "for i in range(iterations):\n",
    "    h = hypothesis(X, theta) \n",
    "    temp[0] = temp[0] - (alpha/m) * sum(h - y)\n",
    "    temp[1] = temp[1] - (alpha/m) * X[:, 1].dot((h-y))\n",
    "    theta = temp[:]\n",
    "    J_history[i] = costFunction(X, y, theta)"
   ]
  },
  {
   "cell_type": "code",
   "execution_count": 148,
   "metadata": {
    "ExecuteTime": {
     "end_time": "2019-04-03T23:33:30.709707Z",
     "start_time": "2019-04-03T23:33:30.704355Z"
    }
   },
   "outputs": [
    {
     "data": {
      "text/plain": [
       "array([[-3.63077001],\n",
       "       [ 1.16641043]])"
      ]
     },
     "execution_count": 148,
     "metadata": {},
     "output_type": "execute_result"
    }
   ],
   "source": [
    "# Verificando melhores parâmetros\n",
    "theta"
   ]
  },
  {
   "cell_type": "code",
   "execution_count": 153,
   "metadata": {
    "ExecuteTime": {
     "end_time": "2019-04-03T23:34:11.473336Z",
     "start_time": "2019-04-03T23:34:11.467352Z"
    }
   },
   "outputs": [
    {
     "data": {
      "text/plain": [
       "array([4.48336514])"
      ]
     },
     "execution_count": 153,
     "metadata": {},
     "output_type": "execute_result"
    }
   ],
   "source": [
    "# Menor custo encontrado\n",
    "J = costFunction(X, y, theta)\n",
    "J"
   ]
  },
  {
   "cell_type": "code",
   "execution_count": 157,
   "metadata": {
    "ExecuteTime": {
     "end_time": "2019-04-03T23:36:52.143095Z",
     "start_time": "2019-04-03T23:36:51.947605Z"
    }
   },
   "outputs": [
    {
     "data": {
      "image/png": "[encoded data removed]",
      "text/plain": [
       "<matplotlib.figure.Figure at 0x2a746fa1240>"
      ]
     },
     "metadata": {
      "needs_background": "light"
     },
     "output_type": "display_data"
    }
   ],
   "source": [
    "# Visualizando função custo\n",
    "axis = np.arange(iterations)\n",
    "fig = plt.figure(figsize=(8, 5))\n",
    "plt.plot(axis, J_history)\n",
    "plt.title('Função Custo a cada iteração', size=14)\n",
    "plt.xlabel('Iterações', size=11, labelpad=12)\n",
    "plt.ylabel('Custo', size=11, labelpad=12)\n",
    "plt.show()"
   ]
  },
  {
   "cell_type": "markdown",
   "metadata": {},
   "source": [
    "O problema de Regressão Linear foi implementado com sucesso através da aplicação de Álgebra Linear e das facilidades de bibliotecas como NumPy"
   ]
  },
  {
   "cell_type": "code",
   "execution_count": 158,
   "metadata": {
    "ExecuteTime": {
     "end_time": "2019-04-03T23:37:03.488439Z",
     "start_time": "2019-04-03T23:37:03.483573Z"
    }
   },
   "outputs": [],
   "source": [
    "# Calculando predições\n",
    "predictions = hypothesis(X, theta)"
   ]
  },
  {
   "cell_type": "code",
   "execution_count": 159,
   "metadata": {
    "ExecuteTime": {
     "end_time": "2019-04-03T23:37:03.932407Z",
     "start_time": "2019-04-03T23:37:03.729015Z"
    }
   },
   "outputs": [
    {
     "data": {
      "image/png": "[encoded data removed]",
      "text/plain": [
       "<matplotlib.figure.Figure at 0x2a746f39550>"
      ]
     },
     "metadata": {
      "needs_background": "light"
     },
     "output_type": "display_data"
    }
   ],
   "source": [
    "# Aprimorando plot\n",
    "fig = plt.figure(figsize=(9, 6))\n",
    "plt.scatter(population, profit, c='r', marker='x')\n",
    "plt.title('Lucro Food Truck x População da Cidade', size=16)\n",
    "plt.xlabel('População (10.000 hab)', size=13, labelpad=12)\n",
    "plt.ylabel('Lucro ($10.000)', size=13, labelpad=12)\n",
    "plt.plot(population, predictions)\n",
    "plt.show()"
   ]
  },
  {
   "cell_type": "markdown",
   "metadata": {},
   "source": [
    "## Regressão Linear Multivariável"
   ]
  },
  {
   "cell_type": "markdown",
   "metadata": {},
   "source": [
    "### Entendendo o Problema"
   ]
  },
  {
   "cell_type": "markdown",
   "metadata": {},
   "source": [
    "Nesta parte opcional do exercício, iremos implementar Regressão Linear com múltiplas variáveis para predição de preços de casas. Suponha que você esteja vendendo sua casa e queira saber um preço razoável de mercado para anunciá-la. Uma boa maneira de descobrir é coletando informações de casas ```vendidas recentemente``` e aplicar um modelo de predição de preços.\n",
    "\n",
    "O dataset a ser utilizado contém dados sobre o preço de casas em Portland, Oregon. As colunas são, respectivamente:\n",
    "        - Tamanho da casa (em pés quadrados);\n",
    "        - Número de quartos\n",
    "        - Preço"
   ]
  },
  {
   "cell_type": "markdown",
   "metadata": {},
   "source": [
    "#### Lendo e Explorando Dataset"
   ]
  },
  {
   "cell_type": "code",
   "execution_count": 163,
   "metadata": {
    "ExecuteTime": {
     "end_time": "2019-04-03T23:50:52.251104Z",
     "start_time": "2019-04-03T23:50:52.241001Z"
    }
   },
   "outputs": [
    {
     "data": {
      "text/plain": [
       "array([[2.104e+03, 3.000e+00, 3.999e+05],\n",
       "       [1.600e+03, 3.000e+00, 3.299e+05],\n",
       "       [2.400e+03, 3.000e+00, 3.690e+05],\n",
       "       [1.416e+03, 2.000e+00, 2.320e+05],\n",
       "       [3.000e+03, 4.000e+00, 5.399e+05]])"
      ]
     },
     "execution_count": 163,
     "metadata": {},
     "output_type": "execute_result"
    }
   ],
   "source": [
    "# Importando biblioteca e lendo arquivo\n",
    "import numpy as np\n",
    "\n",
    "dataset = np.loadtxt('ex1data2.txt', delimiter=',')\n",
    "dataset[:5]"
   ]
  },
  {
   "cell_type": "markdown",
   "metadata": {},
   "source": [
    "Observando os dados, é possível identificar uma questão que precisa ser tratada"
   ]
  },
  {
   "cell_type": "code",
   "execution_count": 166,
   "metadata": {
    "ExecuteTime": {
     "end_time": "2019-04-03T23:52:48.920226Z",
     "start_time": "2019-04-03T23:52:48.914225Z"
    }
   },
   "outputs": [
    {
     "name": "stdout",
     "output_type": "stream",
     "text": [
      "Exemplo de tamanho de casa: 2104.0\n",
      "Exemplo de número de quartos: 3.0\n"
     ]
    }
   ],
   "source": [
    "# Observando\n",
    "size_sample = dataset[0][0]\n",
    "bedrooms_sample = dataset[0][1]\n",
    "\n",
    "print(f'Exemplo de tamanho de casa: {size_sample}')\n",
    "print(f'Exemplo de número de quartos: {bedrooms_sample}')"
   ]
  },
  {
   "cell_type": "markdown",
   "metadata": {},
   "source": [
    "A diferença é discrepância. Será necessário realizar um procedimento conhecido como ```Feature Normalization```."
   ]
  },
  {
   "cell_type": "code",
   "execution_count": null,
   "metadata": {},
   "outputs": [],
   "source": []
  }
 ],
 "metadata": {
  "kernelspec": {
   "display_name": "Python 3",
   "language": "python",
   "name": "python3"
  },
  "language_info": {
   "codemirror_mode": {
    "name": "ipython",
    "version": 3
   },
   "file_extension": ".py",
   "mimetype": "text/x-python",
   "name": "python",
   "nbconvert_exporter": "python",
   "pygments_lexer": "ipython3",
   "version": "3.6.4"
  },
  "toc": {
   "base_numbering": 1,
   "nav_menu": {},
   "number_sections": true,
   "sideBar": true,
   "skip_h1_title": true,
   "title_cell": "Table of Contents",
   "title_sidebar": "Contents",
   "toc_cell": true,
   "toc_position": {},
   "toc_section_display": true,
   "toc_window_display": true
  }
 },
 "nbformat": 4,
 "nbformat_minor": 2
}
