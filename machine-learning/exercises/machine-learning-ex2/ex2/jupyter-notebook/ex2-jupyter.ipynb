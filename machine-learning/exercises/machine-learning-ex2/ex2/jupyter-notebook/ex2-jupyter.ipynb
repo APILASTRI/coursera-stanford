{
 "cells": [
  {
   "cell_type": "markdown",
   "metadata": {
    "toc": true
   },
   "source": [
    "<h1>Table of Contents<span class=\"tocSkip\"></span></h1>\n",
    "<div class=\"toc\"><ul class=\"toc-item\"><li><span><a href=\"#plotData---Testes\" data-toc-modified-id=\"plotData---Testes-1\"><span class=\"toc-item-num\">1&nbsp;&nbsp;</span>plotData - Testes</a></span></li><li><span><a href=\"#plotData---Oficial\" data-toc-modified-id=\"plotData---Oficial-2\"><span class=\"toc-item-num\">2&nbsp;&nbsp;</span>plotData - Oficial</a></span></li><li><span><a href=\"#Funçao-g(z)---Sigmoid\" data-toc-modified-id=\"Funçao-g(z)---Sigmoid-3\"><span class=\"toc-item-num\">3&nbsp;&nbsp;</span>Funçao g(z) - Sigmoid</a></span></li><li><span><a href=\"#Cost-Function\" data-toc-modified-id=\"Cost-Function-4\"><span class=\"toc-item-num\">4&nbsp;&nbsp;</span>Cost Function</a></span></li><li><span><a href=\"#Otimizando-via-fminuc\" data-toc-modified-id=\"Otimizando-via-fminuc-5\"><span class=\"toc-item-num\">5&nbsp;&nbsp;</span>Otimizando via fminuc</a></span></li><li><span><a href=\"#plotDecisionBoundary\" data-toc-modified-id=\"plotDecisionBoundary-6\"><span class=\"toc-item-num\">6&nbsp;&nbsp;</span>plotDecisionBoundary</a></span></li></ul></div>"
   ]
  },
  {
   "cell_type": "markdown",
   "metadata": {},
   "source": [
    "Notebook criado para facilitar a execução do exercício 2 do curso de Introdução à Machine Learning. A execução em tempo real e a visualização do estado de algumas variáveis são alguns dos fatores que fazem com que o Jupyter Notebook seja extremamente útil na realização das tarefas."
   ]
  },
  {
   "cell_type": "code",
   "execution_count": 1,
   "metadata": {},
   "outputs": [
    {
     "name": "stdout",
     "output_type": "stream",
     "text": [
      "head =\n",
      "\n",
      "   34.62366   78.02469    0.00000\n",
      "   30.28671   43.89500    0.00000\n",
      "   35.84741   72.90220    0.00000\n",
      "   60.18260   86.30855    1.00000\n",
      "   79.03274   75.34438    1.00000\n",
      "   45.08328   56.31637    0.00000\n",
      "   61.10666   96.51143    1.00000\n",
      "   75.02475   46.55401    1.00000\n",
      "   76.09879   87.42057    1.00000\n",
      "   84.43282   43.53339    1.00000\n",
      "\n"
     ]
    }
   ],
   "source": [
    "# Lendo arquivo\n",
    "data = load('ex2data1.txt');\n",
    "\n",
    "head = data(1:10,:)"
   ]
  },
  {
   "cell_type": "markdown",
   "metadata": {},
   "source": [
    "Os dados acima ilustram um problema de classificação e representam, respectivamente, a nota nos dois primeiros exames de alunos e, como target, o resultado se o mesmo foi aprovado ou não na disciplina.\n",
    "\n",
    "    - Coluna 1: Exame 1\n",
    "    - Coluna 2: Exame 2\n",
    "    - Coluna 3: Aprovado (1) e Reprovado (0)"
   ]
  },
  {
   "cell_type": "code",
   "execution_count": 2,
   "metadata": {},
   "outputs": [
    {
     "name": "stdout",
     "output_type": "stream",
     "text": [
      "ans =\n",
      "\n",
      "   34.624   78.025\n",
      "   30.287   43.895\n",
      "   35.847   72.902\n",
      "   60.183   86.309\n",
      "   79.033   75.344\n",
      "\n",
      "ans =\n",
      "\n",
      "   0\n",
      "   0\n",
      "   0\n",
      "   1\n",
      "   1\n",
      "\n"
     ]
    }
   ],
   "source": [
    "# Organizando dataset em features e target\n",
    "X = data(:, 1:2);\n",
    "y = data(:, 3);\n",
    "\n",
    "# Testando\n",
    "X(1:5, :)\n",
    "y(1:5, :)"
   ]
  },
  {
   "cell_type": "markdown",
   "metadata": {
    "heading_collapsed": true
   },
   "source": [
    "## plotData - Testes"
   ]
  },
  {
   "cell_type": "markdown",
   "metadata": {
    "hidden": true
   },
   "source": [
    "O próximo desafio é implementar uma função chamada ```plotData()``` responsável por imprimir os dados coletados em forma de gráfico."
   ]
  },
  {
   "attachments": {
    "ideal_plotData.png": {
     "image/png": "[encoded data removed]"
    }
   },
   "cell_type": "markdown",
   "metadata": {
    "hidden": true
   },
   "source": [
    "![ideal_plotData.png](attachment:ideal_plotData.png)"
   ]
  },
  {
   "cell_type": "code",
   "execution_count": 3,
   "metadata": {
    "hidden": true
   },
   "outputs": [
    {
     "data": {
      "image/png": "[encoded data removed]",
      "text/plain": [
       "<IPython.core.display.Image object>"
      ]
     },
     "metadata": {},
     "output_type": "display_data"
    }
   ],
   "source": [
    "# Tentativas de plotagem para implementação da função plotData(X, y)\n",
    "figure()\n",
    "plot(X, y, 'rx')"
   ]
  },
  {
   "cell_type": "markdown",
   "metadata": {
    "hidden": true
   },
   "source": [
    "Parece que o ideal é eximir o ```y``` da plotagem, mantendo apenas os valores em ```X```"
   ]
  },
  {
   "cell_type": "code",
   "execution_count": 4,
   "metadata": {
    "hidden": true
   },
   "outputs": [
    {
     "name": "stdout",
     "output_type": "stream",
     "text": [
      "'figure' is a function from the file C:\\Octave\\Octave-4.4.1\\share\\octave\\4.4.1\\m\\plot\\util\\figure.m\n",
      "\n",
      " -- figure\n",
      " -- figure N\n",
      " -- figure (N)\n",
      " -- figure (..., \"PROPERTY\", VALUE, ...)\n",
      " -- H = figure (...)\n",
      "     Create a new figure window for plotting.\n",
      "\n",
      "     If no arguments are specified, a new figure with the next available\n",
      "     number is created.\n",
      "\n",
      "     If called with an integer N, and no such numbered figure exists,\n",
      "     then a new figure with the specified number is created.  If the\n",
      "     figure already exists then it is made visible and becomes the\n",
      "     current figure for plotting.\n",
      "\n",
      "     Multiple property-value pairs may be specified for the figure\n",
      "     object, but they must appear in pairs.\n",
      "\n",
      "     The optional return value H is a graphics handle to the created\n",
      "     figure object.\n",
      "\n",
      "     Programming Note: The full list of properties is documented at\n",
      "     *note Figure Properties: Figure Properties.\n",
      "\n",
      "     See also: axes, gcf, clf, close.\n",
      "\n",
      "Additional help for built-in functions and operators is\n",
      "available in the online version of the manual.  Use the command\n",
      "'doc <topic>' to search the manual index.\n",
      "\n",
      "Help and information about Octave is also available on the WWW\n",
      "at https://www.octave.org and via the help@octave.org\n",
      "mailing list.\n"
     ]
    }
   ],
   "source": [
    "help figure"
   ]
  },
  {
   "cell_type": "code",
   "execution_count": 5,
   "metadata": {
    "hidden": true
   },
   "outputs": [
    {
     "data": {
      "image/png": "[encoded data removed]",
      "text/plain": [
       "<IPython.core.display.Image object>"
      ]
     },
     "metadata": {},
     "output_type": "display_data"
    }
   ],
   "source": [
    "# Nova tentativa -> apenas dados em X e com novas configurações de plotagem\n",
    "h = figure;\n",
    "set (h,'papertype', '<custom>')\n",
    "set (h,'paperunits','inches');\n",
    "set (h,'papersize',[3 2.5])\n",
    "set (h,'paperposition', [0,0,[3 2.5]])\n",
    "set (h,'defaultaxesposition', [0.15, 0.15, 0.75, 0.75])\n",
    "set (0,'defaultaxesfontsize', 14)\n",
    "plot(X, 'rx')"
   ]
  },
  {
   "cell_type": "markdown",
   "metadata": {
    "hidden": true
   },
   "source": [
    "Está tudo junto e misturado. O ideal é separar os valores de X que são classificados como 1 dos valores que são classificados como 0.\n",
    "\n",
    "Fonte para configuração da plotagem: https://dawes.wordpress.com/2009/12/19/nice-octave-plots/"
   ]
  },
  {
   "cell_type": "code",
   "execution_count": 6,
   "metadata": {
    "hidden": true
   },
   "outputs": [
    {
     "data": {
      "image/png": "[encoded data removed]",
      "text/plain": [
       "<IPython.core.display.Image object>"
      ]
     },
     "metadata": {},
     "output_type": "display_data"
    }
   ],
   "source": [
    "# Configurando plot\n",
    "h = figure;\n",
    "set (h,'papertype', '<custom>')\n",
    "set (h,'paperunits','inches');\n",
    "set (h,'papersize',[3 2.5])\n",
    "set (h,'paperposition', [0,0,[3 2.5]])\n",
    "set (h,'defaultaxesposition', [0.15, 0.15, 0.75, 0.75])\n",
    "set (0,'defaultaxesfontsize', 14)\n",
    "\n",
    "# Slice em X\n",
    "X_pass = X(y==1);\n",
    "plot(X_pass, 'rx')"
   ]
  },
  {
   "cell_type": "markdown",
   "metadata": {
    "hidden": true
   },
   "source": [
    "Parece que está ficando OK. Tentando algumas implementações adicionais."
   ]
  },
  {
   "cell_type": "code",
   "execution_count": 7,
   "metadata": {
    "hidden": true
   },
   "outputs": [
    {
     "data": {
      "image/png": "[encoded data removed]",
      "text/plain": [
       "<IPython.core.display.Image object>"
      ]
     },
     "metadata": {},
     "output_type": "display_data"
    }
   ],
   "source": [
    "# Configurando plot\n",
    "h = figure;\n",
    "set (h,'papertype', '<custom>')\n",
    "set (h,'paperunits','inches');\n",
    "set (h,'papersize',[3 2.5])\n",
    "set (h,'paperposition', [0,0,[3 2.5]])\n",
    "set (h,'defaultaxesposition', [0.15, 0.15, 0.75, 0.75])\n",
    "set (0,'defaultaxesfontsize', 14)\n",
    "\n",
    "# Slice em X\n",
    "X_pass = X(y==1);\n",
    "X_rec = X(y==0);\n",
    "\n",
    "# Plotando\n",
    "plot(X_pass, 'k+')\n",
    "hold on;\n",
    "plot(X_rec, 'yo')\n",
    "ylabel('Exam2')\n",
    "xlabel('Exam1')\n",
    "title('Distribution of a student\"s grade')\n",
    "axis([30, 100, 30, 100])"
   ]
  },
  {
   "cell_type": "markdown",
   "metadata": {
    "hidden": true
   },
   "source": [
    "Algo de errado não está certo..."
   ]
  },
  {
   "cell_type": "code",
   "execution_count": 8,
   "metadata": {
    "hidden": true
   },
   "outputs": [
    {
     "name": "stdout",
     "output_type": "stream",
     "text": [
      "'find' is a built-in function from the file libinterp/corefcn/find.cc\n",
      "\n",
      " -- IDX = find (X)\n",
      " -- IDX = find (X, N)\n",
      " -- IDX = find (X, N, DIRECTION)\n",
      " -- [i, j] = find (...)\n",
      " -- [i, j, v] = find (...)\n",
      "     Return a vector of indices of nonzero elements of a matrix, as a\n",
      "     row if X is a row vector or as a column otherwise.\n",
      "\n",
      "     To obtain a single index for each matrix element, Octave pretends\n",
      "     that the columns of a matrix form one long vector (like Fortran\n",
      "     arrays are stored).  For example:\n",
      "\n",
      "          find (eye (2))\n",
      "            => [ 1; 4 ]\n",
      "\n",
      "     If two inputs are given, N indicates the maximum number of elements\n",
      "     to find from the beginning of the matrix or vector.\n",
      "\n",
      "     If three inputs are given, DIRECTION should be one of \"first\" or\n",
      "     \"last\", requesting only the first or last N indices, respectively.\n",
      "     However, the indices are always returned in ascending order.\n",
      "\n",
      "     If two outputs are requested, 'find' returns the row and column\n",
      "     indices of nonzero elements of a matrix.  For example:\n",
      "\n",
      "          [i, j] = find (2 * eye (2))\n",
      "              => i = [ 1; 2 ]\n",
      "              => j = [ 1; 2 ]\n",
      "\n",
      "     If three outputs are requested, 'find' also returns a vector\n",
      "     containing the nonzero values.  For example:\n",
      "\n",
      "          [i, j, v] = find (3 * eye (2))\n",
      "                 => i = [ 1; 2 ]\n",
      "                 => j = [ 1; 2 ]\n",
      "                 => v = [ 3; 3 ]\n",
      "\n",
      "     Note that this function is particularly useful for sparse matrices,\n",
      "     as it extracts the nonzero elements as vectors, which can then be\n",
      "     used to create the original matrix.  For example:\n",
      "\n",
      "          sz = size (a);\n",
      "          [i, j, v] = find (a);\n",
      "          b = sparse (i, j, v, sz(1), sz(2));\n",
      "\n",
      "     See also: nonzeros.\n",
      "\n",
      "Additional help for built-in functions and operators is\n",
      "available in the online version of the manual.  Use the command\n",
      "'doc <topic>' to search the manual index.\n",
      "\n",
      "Help and information about Octave is also available on the WWW\n",
      "at https://www.octave.org and via the help@octave.org\n",
      "mailing list.\n"
     ]
    }
   ],
   "source": [
    "# Será necessário utilizad a função find\n",
    "help find"
   ]
  },
  {
   "cell_type": "markdown",
   "metadata": {
    "hidden": true
   },
   "source": [
    "A função ```find(condition)``` irá retornar os índices de determinada matriz que satisfazem a condição especificada. Assim, os índices serão mantidos e não iremos correr riscos do plot ficar segregado."
   ]
  },
  {
   "cell_type": "code",
   "execution_count": 9,
   "metadata": {
    "hidden": true
   },
   "outputs": [
    {
     "name": "stdout",
     "output_type": "stream",
     "text": [
      "ans =\n",
      "\n",
      "    4\n",
      "    5\n",
      "    7\n",
      "    8\n",
      "    9\n",
      "   10\n",
      "   13\n",
      "\n",
      "ans =\n",
      "\n",
      "   0\n",
      "   0\n",
      "   0\n",
      "   1\n",
      "   1\n",
      "   0\n",
      "   1\n",
      "   1\n",
      "   1\n",
      "   1\n",
      "\n"
     ]
    }
   ],
   "source": [
    "# Aplicando find\n",
    "X_pass = find(y == 1);\n",
    "X_pass(1:7, :)\n",
    "\n",
    "# Verificando diretamente no y se os índices retornados realmente são valores y=1\n",
    "y(1:10)"
   ]
  },
  {
   "cell_type": "markdown",
   "metadata": {
    "hidden": true
   },
   "source": [
    "Realmente..."
   ]
  },
  {
   "cell_type": "code",
   "execution_count": 10,
   "metadata": {
    "hidden": true
   },
   "outputs": [
    {
     "name": "stdout",
     "output_type": "stream",
     "text": [
      "ans =\n",
      "\n",
      "    1\n",
      "    2\n",
      "    3\n",
      "    6\n",
      "   11\n",
      "   12\n",
      "   15\n",
      "\n",
      "ans =\n",
      "\n",
      "   0\n",
      "   0\n",
      "   0\n",
      "   1\n",
      "   1\n",
      "   0\n",
      "   1\n",
      "   1\n",
      "   1\n",
      "   1\n",
      "\n"
     ]
    }
   ],
   "source": [
    "# Aplicando valores também em alunos reprovados\n",
    "X_rec = find(y == 0);\n",
    "X_rec(1:7)\n",
    "\n",
    "# Verificando y (pelo exemplo acima, o retorno de X_rec deve conter 1, 2, 3, 6...)\n",
    "y(1:10)"
   ]
  },
  {
   "cell_type": "markdown",
   "metadata": {
    "hidden": true
   },
   "source": [
    "Agora só nos resta implementar a plotagem."
   ]
  },
  {
   "cell_type": "code",
   "execution_count": 11,
   "metadata": {
    "hidden": true
   },
   "outputs": [
    {
     "data": {
      "image/png": "[encoded data removed]",
      "text/plain": [
       "<IPython.core.display.Image object>"
      ]
     },
     "metadata": {},
     "output_type": "display_data"
    }
   ],
   "source": [
    "# Configurando plot\n",
    "h = figure;\n",
    "set (h,'papertype', '<custom>')\n",
    "set (h,'paperunits','inches');\n",
    "set (h,'papersize',[3 2.5])\n",
    "set (h,'paperposition', [0,0,[3 2.5]])\n",
    "set (h,'defaultaxesposition', [0.15, 0.15, 0.75, 0.75])\n",
    "set (0,'defaultaxesfontsize', 14)\n",
    "\n",
    "# Slice em X\n",
    "X_pass = find(y==1);\n",
    "X_rec = find(y==0);\n",
    "\n",
    "# Plotando\n",
    "plot(X(X_pass, 1), X(X_pass, 2), 'k+')\n",
    "hold on;\n",
    "plot(X(X_rec, 1), X(X_rec, 2), 'yo')\n",
    "ylabel('Exam 2 score')\n",
    "xlabel('Exam 1 score')\n",
    "title('Distribution of a student\"s grade')"
   ]
  },
  {
   "cell_type": "markdown",
   "metadata": {
    "hidden": true
   },
   "source": [
    "Para um melhor entendimento (houve dificuldade em entender a linha ```X(X_pass, 1)``` ), vou refazer a plotagem indexando as variáveis com um nome sugestivo."
   ]
  },
  {
   "cell_type": "code",
   "execution_count": 12,
   "metadata": {
    "hidden": true
   },
   "outputs": [
    {
     "data": {
      "image/png": "[encoded data removed]",
      "text/plain": [
       "<IPython.core.display.Image object>"
      ]
     },
     "metadata": {},
     "output_type": "display_data"
    }
   ],
   "source": [
    "# Configurando plot\n",
    "h = figure;\n",
    "set (h,'papertype', '<custom>')\n",
    "set (h,'paperunits','inches');\n",
    "set (h,'papersize',[3 2.5])\n",
    "set (h,'paperposition', [0,0,[3 2.5]])\n",
    "set (h,'defaultaxesposition', [0.15, 0.15, 0.75, 0.75])\n",
    "set (0,'defaultaxesfontsize', 14)\n",
    "\n",
    "# Slice em X\n",
    "X_pass = find(y==1);\n",
    "X_rec = find(y==0);\n",
    "\n",
    "X_exam1_pass = X(X_pass, 1);\n",
    "X_exam2_pass = X(X_pass, 2);\n",
    "\n",
    "X_exam1_rec = X(X_rec, 1);\n",
    "X_exam2_rec = X(X_rec, 2);\n",
    "\n",
    "# Plotando\n",
    "plot(X_exam1_pass, X_exam2_pass, 'k+', 'LineWidth', 2, ...\n",
    "'MarkerSize', 8)\n",
    "hold on;\n",
    "plot(X_exam1_rec, X_exam2_rec, 'yo', 'LineWidth', 2, ...\n",
    "'MarkerSize', 8)\n",
    "ylabel('Exam 2 score')\n",
    "xlabel('Exam 1 score')\n",
    "title('Distribution of a student\"s grade')"
   ]
  },
  {
   "cell_type": "markdown",
   "metadata": {},
   "source": [
    "## plotData - Oficial"
   ]
  },
  {
   "cell_type": "code",
   "execution_count": 13,
   "metadata": {},
   "outputs": [],
   "source": [
    "function plotData(X, y)\n",
    "    % ---------------------\n",
    "    %     Description\n",
    "    % ---------------------\n",
    "    % Função responsável pela plotagem gráfica da distribuição das notas dos alunos (Exames 1 e 2).\n",
    "    % Os valores serão distribuídos e separados de acordo com a classificação proposta em y (aprovado/reprovado)\n",
    "    \n",
    "    % Encontra os índices dos aprovados e dos reprovados\n",
    "    X_pass = find(y==1);\n",
    "    X_rec = find(y==0);\n",
    "    \n",
    "    % Separa os dados de aprovados e reprovados por exame\n",
    "    X_pass_e1 = X(X_pass, 1);\n",
    "    X_pass_e2 = X(X_pass, 2);\n",
    "    X_rec_e1 = X(X_rec, 1);\n",
    "    X_rec_e2 = X(X_rec, 2);\n",
    "    \n",
    "    % Configura plotagem\n",
    "    h = figure;\n",
    "    set (h,'papertype', '<custom>');\n",
    "    set (h,'paperunits','inches');\n",
    "    set (h,'papersize',[3 2.5]);\n",
    "    set (h,'paperposition', [0,0,[3 2.5]]);\n",
    "    set (h,'defaultaxesposition', [0.15, 0.15, 0.75, 0.75]);\n",
    "    set (0,'defaultaxesfontsize', 14);\n",
    "    \n",
    "    % Plota os dados\n",
    "    plot(X_pass_e1, X_pass_e2, 'k+', ...\n",
    "        'MarkerSize', 7, 'LineWidth', 8)\n",
    "    hold on;\n",
    "    plot(X_rec_e1, X_rec_e2, 'yo', ...\n",
    "        'MarkerSize', 7, 'LineWidth', 3)\n",
    "    \n",
    "    # Legendas e labels\n",
    "    xlabel('Nota no Exame 1')\n",
    "    ylabel('Nota no Exame 2')\n",
    "    title('Distribuicao de Notas e Classificacao dos Estudantes')\n",
    "\n",
    "endfunction"
   ]
  },
  {
   "cell_type": "code",
   "execution_count": 14,
   "metadata": {},
   "outputs": [
    {
     "data": {
      "image/png": "[encoded data removed]",
      "text/plain": [
       "<IPython.core.display.Image object>"
      ]
     },
     "metadata": {},
     "output_type": "display_data"
    }
   ],
   "source": [
    "# Chamando a função\n",
    "plotData(X, y)"
   ]
  },
  {
   "cell_type": "markdown",
   "metadata": {},
   "source": [
    "## Funçao g(z) - Sigmoid"
   ]
  },
  {
   "cell_type": "markdown",
   "metadata": {},
   "source": [
    "Nesta etapa da atividade, é preciso realizar o warmUpExercise que, por sua vez, contempla a criação de uma função que calcula a função ```g(z)``` sigmoidal."
   ]
  },
  {
   "cell_type": "code",
   "execution_count": 15,
   "metadata": {},
   "outputs": [
    {
     "name": "stdout",
     "output_type": "stream",
     "text": [
      "g = 0\n"
     ]
    }
   ],
   "source": [
    "# Realizando alguns testes\n",
    "z = [1 2 3; 4 5 6];\n",
    "g = zeros(size(2))"
   ]
  },
  {
   "cell_type": "code",
   "execution_count": 16,
   "metadata": {},
   "outputs": [
    {
     "name": "stdout",
     "output_type": "stream",
     "text": [
      "error: operator /: nonconformant arguments (op1 is 1x1, op2 is 2x3)\n"
     ]
    }
   ],
   "source": [
    "# Tentando aplicar resultado à função g\n",
    "g = 1 / (1 + exp(z))"
   ]
  },
  {
   "cell_type": "code",
   "execution_count": 17,
   "metadata": {},
   "outputs": [
    {
     "name": "stdout",
     "output_type": "stream",
     "text": [
      "v =\n",
      "\n",
      "   1   2   3\n",
      "\n",
      "ans =\n",
      "\n",
      "    2.7183    7.3891   20.0855\n",
      "\n"
     ]
    }
   ],
   "source": [
    "# Testando com vetores\n",
    "v = [1 2 3]\n",
    "exp(v)"
   ]
  },
  {
   "cell_type": "code",
   "execution_count": 18,
   "metadata": {},
   "outputs": [
    {
     "name": "stdout",
     "output_type": "stream",
     "text": [
      "m =\n",
      "\n",
      "   1   2\n",
      "   3   4\n",
      "\n",
      "ans =\n",
      "\n",
      "   0.367879   0.135335\n",
      "   0.049787   0.018316\n",
      "\n"
     ]
    }
   ],
   "source": [
    "# Encontrando o jeito certo = element-wise divison\n",
    "m = [1 2; 3 4]\n",
    "1 ./ exp(m)"
   ]
  },
  {
   "cell_type": "code",
   "execution_count": 19,
   "metadata": {},
   "outputs": [
    {
     "name": "stdout",
     "output_type": "stream",
     "text": [
      "g =\n",
      "\n",
      "   0.0474258731776\n",
      "   0.0000008315280\n",
      "   0.0000000020612\n",
      "   0.1192029220221\n",
      "\n"
     ]
    }
   ],
   "source": [
    "# Aplicando à função g\n",
    "z = [3; 14; 20; 2];\n",
    "g = 1 ./ (1 + exp(z))"
   ]
  },
  {
   "cell_type": "markdown",
   "metadata": {},
   "source": [
    "Aplicando função g sigmoidal"
   ]
  },
  {
   "cell_type": "code",
   "execution_count": 20,
   "metadata": {},
   "outputs": [],
   "source": [
    "function g = sigmoid(z)\n",
    "    % ----------------\n",
    "    %    DESCRIÇÃO\n",
    "    % ----------------\n",
    "    % Função responsável por calcular função g(z)\n",
    "    %\n",
    "    % INPUT:\n",
    "    % z -> parâmetros para o cálculo de g(z), lembrando que z define theta^T * X e também pode ser um vetor ou matriz.\n",
    "    %\n",
    "    % OUTPUT:\n",
    "    % g -> resultado a função para os parâmetros z passados.\n",
    "    \n",
    "    g = 1 ./ (1 + exp(-z));\n",
    "\n",
    "endfunction"
   ]
  },
  {
   "cell_type": "code",
   "execution_count": 21,
   "metadata": {},
   "outputs": [
    {
     "name": "stdout",
     "output_type": "stream",
     "text": [
      "g =\n",
      "\n",
      "   0.50000   1.00000   0.62246   0.73106\n",
      "\n"
     ]
    }
   ],
   "source": [
    "# Chamando a função g\n",
    "z = [0, 1000000, .5, 1];\n",
    "g = sigmoid(z)"
   ]
  },
  {
   "cell_type": "markdown",
   "metadata": {},
   "source": [
    "## Cost Function"
   ]
  },
  {
   "cell_type": "markdown",
   "metadata": {},
   "source": [
    "Bloco de instruções responsável por definir a ```Função Custo``` para regressão logística, bem como as derivadas parciais do gradiente."
   ]
  },
  {
   "cell_type": "code",
   "execution_count": 22,
   "metadata": {},
   "outputs": [
    {
     "name": "stdout",
     "output_type": "stream",
     "text": [
      "m =  100\n"
     ]
    }
   ],
   "source": [
    "# De maneira vetorizada\n",
    "m = length(y)"
   ]
  },
  {
   "cell_type": "code",
   "execution_count": 23,
   "metadata": {},
   "outputs": [
    {
     "name": "stdout",
     "output_type": "stream",
     "text": [
      "m =  100\n",
      "n =  2\n",
      "ans =\n",
      "\n",
      "    1.0000   34.6237   78.0247\n",
      "    1.0000   30.2867   43.8950\n",
      "    1.0000   35.8474   72.9022\n",
      "    1.0000   60.1826   86.3086\n",
      "    1.0000   79.0327   75.3444\n",
      "\n",
      "initial_theta =\n",
      "\n",
      "   0\n",
      "   0\n",
      "   0\n",
      "\n"
     ]
    }
   ],
   "source": [
    "# Configurando termos\n",
    "[m, n] = size(X)\n",
    "\n",
    "X_train = [ones(m, 1) X];\n",
    "X_train(1:5, :)\n",
    "\n",
    "initial_theta = zeros(n + 1, 1) # theta = n+1 dimensional"
   ]
  },
  {
   "cell_type": "code",
   "execution_count": 24,
   "metadata": {},
   "outputs": [
    {
     "name": "stdout",
     "output_type": "stream",
     "text": [
      "ans =\n",
      "\n",
      "   0\n",
      "   0\n",
      "   0\n",
      "   0\n",
      "   0\n",
      "\n",
      "ans =\n",
      "\n",
      "   0.50000\n",
      "   0.50000\n",
      "   0.50000\n",
      "   0.50000\n",
      "   0.50000\n",
      "\n"
     ]
    }
   ],
   "source": [
    "# Definindo z e função g (h(x))\n",
    "z = X_train * initial_theta;\n",
    "z(1:5)\n",
    "\n",
    "h = sigmoid(z);\n",
    "h(1:5)"
   ]
  },
  {
   "cell_type": "code",
   "execution_count": 25,
   "metadata": {},
   "outputs": [
    {
     "name": "stdout",
     "output_type": "stream",
     "text": [
      "J =  0.69315\n"
     ]
    }
   ],
   "source": [
    "# Definindo a função custo\n",
    "J = (1 / m) * (-y' * log(h) - (1 - y)' * log(1 - h))"
   ]
  },
  {
   "cell_type": "markdown",
   "metadata": {},
   "source": [
    "O resultado bateu com o do exercício. Calculando agora o gradiente (derivadas parciais);"
   ]
  },
  {
   "cell_type": "code",
   "execution_count": 26,
   "metadata": {},
   "outputs": [
    {
     "name": "stdout",
     "output_type": "stream",
     "text": [
      "gradient =\n",
      "\n",
      "   0\n",
      "   0\n",
      "   0\n",
      "\n"
     ]
    }
   ],
   "source": [
    "# Definindo o gradiente\n",
    "gradient = zeros(size(initial_theta))"
   ]
  },
  {
   "cell_type": "code",
   "execution_count": 27,
   "metadata": {},
   "outputs": [
    {
     "name": "stdout",
     "output_type": "stream",
     "text": [
      "gradient =\n",
      "\n",
      "    -10.000\n",
      "  -1200.922\n",
      "  -1126.284\n",
      "\n"
     ]
    }
   ],
   "source": [
    "gradient = X_train' * (h - y) "
   ]
  },
  {
   "cell_type": "code",
   "execution_count": 28,
   "metadata": {},
   "outputs": [],
   "source": [
    "# Colocando tudo em função\n",
    "function [J, grad] = costFunction(theta, X, y)\n",
    "    % ------------------\n",
    "    %    DESCRIPTION\n",
    "    % ------------------\n",
    "    % Função responsável por calcular a função de custo J e o gradiente (Derivadas parciais)\n",
    "    %\n",
    "    % INPUT:\n",
    "    % theta -> parâmetros theta que definem o comportamento do moelo;\n",
    "    % X     -> dados de treinamento para cálculo de previsões;\n",
    "    % y     -> dados target.\n",
    "    %\n",
    "    % OUTPUT:\n",
    "    % J     -> função de custo para a hypothesis definida;\n",
    "    % grad  -> gradiente da função para cada parâmetro theta (derivadas parciais).\n",
    "    \n",
    "    # Define o parâmetro m\n",
    "    m = length(y);\n",
    "    J = 0;\n",
    "    grad = zeros(size(theta));\n",
    "    \n",
    "    # Adiciona coluna para x_0 nos dados de treinamento\n",
    "    X_train = [ones(m, 1), X];\n",
    "    \n",
    "    # Calcula hypothesis\n",
    "    z = X_train * theta;\n",
    "    h = sigmoid(z);\n",
    "    \n",
    "    # Calcula função de custo J\n",
    "    J = (1 / m) * (-y' * log(h) - (1 - y)' * log(1 - h));\n",
    "    \n",
    "    # Calcula gradiente para cada entrada\n",
    "    grad = (X_train' * (h - y)) / m;\n",
    "\n",
    "endfunction"
   ]
  },
  {
   "cell_type": "code",
   "execution_count": 29,
   "metadata": {},
   "outputs": [
    {
     "name": "stdout",
     "output_type": "stream",
     "text": [
      "J =  0.69315\n",
      "grad =\n",
      "\n",
      "   -0.10000\n",
      "  -12.00922\n",
      "  -11.26284\n",
      "\n"
     ]
    }
   ],
   "source": [
    "# Inicializando parâmetros e chamando função\n",
    "[m, n] = size(X);\n",
    "initial_theta = zeros(n + 1, 1);\n",
    "\n",
    "[J, grad] = costFunction(initial_theta, X, y)"
   ]
  },
  {
   "cell_type": "markdown",
   "metadata": {},
   "source": [
    "Os resultados surtiram o efeito esperado através da inicialização dos parâmetros theta como [0; 0; 0]"
   ]
  },
  {
   "cell_type": "markdown",
   "metadata": {},
   "source": [
    "## Otimizando via fminuc"
   ]
  },
  {
   "cell_type": "code",
   "execution_count": 30,
   "metadata": {},
   "outputs": [
    {
     "name": "stdout",
     "output_type": "stream",
     "text": [
      "test_theta =\n",
      "\n",
      "  -24.00000\n",
      "    0.20000\n",
      "    0.20000\n",
      "\n"
     ]
    }
   ],
   "source": [
    "# Inicializando os parâmetros theta de modo diferente\n",
    "test_theta = [-24; .2; .2]"
   ]
  },
  {
   "cell_type": "code",
   "execution_count": 31,
   "metadata": {},
   "outputs": [
    {
     "name": "stdout",
     "output_type": "stream",
     "text": [
      "cost =  0.21833\n",
      "gradient =\n",
      "\n",
      "   0.042903\n",
      "   2.566234\n",
      "   2.646797\n",
      "\n"
     ]
    }
   ],
   "source": [
    "# Chamando função que calcula J e grad\n",
    "[cost, gradient] = costFunction(test_theta, X, y)"
   ]
  },
  {
   "cell_type": "code",
   "execution_count": 36,
   "metadata": {},
   "outputs": [
    {
     "name": "stdout",
     "output_type": "stream",
     "text": [
      "inicial_theta =\n",
      "\n",
      "   0\n",
      "   0\n",
      "   0\n",
      "\n",
      "cost =  0.69315\n",
      "gradient =\n",
      "\n",
      "   -0.10000\n",
      "  -12.00922\n",
      "  -11.26284\n",
      "\n"
     ]
    }
   ],
   "source": [
    "# Verificando novamente os resultados para theta inicial\n",
    "inicial_theta = zeros(size(X_train, 2), 1)\n",
    "[cost, gradient] = costFunction(initial_theta, X, y)"
   ]
  },
  {
   "cell_type": "code",
   "execution_count": 38,
   "metadata": {},
   "outputs": [
    {
     "name": "stdout",
     "output_type": "stream",
     "text": [
      "theta =\n",
      "\n",
      "  -25.16127\n",
      "    0.20623\n",
      "    0.20147\n",
      "\n",
      "cost =  0.20350\n"
     ]
    }
   ],
   "source": [
    "# Verificando com fminunc\n",
    "options = optimset('GradObj', 'on', 'MaxIter', 400);\n",
    "[theta, cost] = fminunc(@(t)(costFunction(t, X, y)), initial_theta, options)"
   ]
  },
  {
   "cell_type": "markdown",
   "metadata": {},
   "source": [
    "Absurdamente melhor."
   ]
  },
  {
   "cell_type": "markdown",
   "metadata": {},
   "source": [
    "## plotDecisionBoundary"
   ]
  },
  {
   "cell_type": "code",
   "execution_count": 44,
   "metadata": {},
   "outputs": [
    {
     "name": "stdout",
     "output_type": "stream",
     "text": [
      "'contour' is a function from the file C:\\Octave\\Octave-4.4.1\\share\\octave\\4.4.1\\m\\plot\\draw\\contour.m\n",
      "\n",
      " -- contour (Z)\n",
      " -- contour (Z, VN)\n",
      " -- contour (X, Y, Z)\n",
      " -- contour (X, Y, Z, VN)\n",
      " -- contour (..., STYLE)\n",
      " -- contour (HAX, ...)\n",
      " -- [C, H] = contour (...)\n",
      "     Create a 2-D contour plot.\n",
      "\n",
      "     Plot level curves (contour lines) of the matrix Z, using the\n",
      "     contour matrix C computed by 'contourc' from the same arguments;\n",
      "     see the latter for their interpretation.\n",
      "\n",
      "     The appearance of contour lines can be defined with a line style\n",
      "     STYLE in the same manner as 'plot'.  Only line style and color are\n",
      "     used; Any markers defined by STYLE are ignored.\n",
      "\n",
      "     If the first argument HAX is an axes handle, then plot into this\n",
      "     axes, rather than the current axes returned by 'gca'.\n",
      "\n",
      "     The optional output C contains the contour levels in 'contourc'\n",
      "     format.\n",
      "\n",
      "     The optional return value H is a graphics handle to the hggroup\n",
      "     comprising the contour lines.\n",
      "\n",
      "     Example:\n",
      "\n",
      "          x = 0:2;\n",
      "          y = x;\n",
      "          z = x' * y;\n",
      "          contour (x, y, z, 2:3)\n",
      "\n",
      "     See also: ezcontour, contourc, contourf, contour3, clabel, meshc,\n",
      "     surfc, caxis, colormap, plot.\n",
      "\n",
      "Additional help for built-in functions and operators is\n",
      "available in the online version of the manual.  Use the command\n",
      "'doc <topic>' to search the manual index.\n",
      "\n",
      "Help and information about Octave is also available on the WWW\n",
      "at https://www.octave.org and via the help@octave.org\n",
      "mailing list.\n"
     ]
    }
   ],
   "source": [
    "help contour"
   ]
  },
  {
   "cell_type": "code",
   "execution_count": 47,
   "metadata": {},
   "outputs": [],
   "source": [
    "function plotDecisionBoundary(theta, X, y)\n",
    "%PLOTDECISIONBOUNDARY Plots the data points X and y into a new figure with\n",
    "%the decision boundary defined by theta\n",
    "%   PLOTDECISIONBOUNDARY(theta, X,y) plots the data points with + for the \n",
    "%   positive examples and o for the negative examples. X is assumed to be \n",
    "%   a either \n",
    "%   1) Mx3 matrix, where the first column is an all-ones column for the \n",
    "%      intercept.\n",
    "%   2) MxN, N>3 matrix, where the first column is all-ones\n",
    "\n",
    "% Plot Data\n",
    "plotData(X(:,2:3), y);\n",
    "hold on\n",
    "\n",
    "if size(X, 2) <= 3\n",
    "    % Only need 2 points to define a line, so choose two endpoints\n",
    "    plot_x = [min(X(:,2))-2,  max(X(:,2))+2];\n",
    "\n",
    "    % Calculate the decision boundary line\n",
    "    plot_y = (-1./theta(3)).*(theta(2).*plot_x + theta(1));\n",
    "\n",
    "    % Plot, and adjust axes for better viewing\n",
    "    plot(plot_x, plot_y)\n",
    "    \n",
    "    % Legend, specific for the exercise\n",
    "    %legend('Admitted', 'Not admitted', 'Decision Boundary')\n",
    "    axis([30, 100, 30, 100])\n",
    "else\n",
    "    % Here is the grid range\n",
    "    u = linspace(-1, 1.5, 50);\n",
    "    v = linspace(-1, 1.5, 50);\n",
    "\n",
    "    z = zeros(length(u), length(v));\n",
    "    % Evaluate z = theta*x over the grid\n",
    "    for i = 1:length(u)\n",
    "        for j = 1:length(v)\n",
    "            z(i,j) = mapFeature(u(i), v(j))*theta;\n",
    "        end\n",
    "    end\n",
    "    z = z'; % important to transpose z before calling contour\n",
    "\n",
    "    % Plot z = 0\n",
    "    % Notice you need to specify the range [0, 0]\n",
    "    contour(u, v, z, [0, 0], 'LineWidth', 2)\n",
    "end\n",
    "hold off\n",
    "\n",
    "end"
   ]
  },
  {
   "cell_type": "code",
   "execution_count": 49,
   "metadata": {},
   "outputs": [
    {
     "data": {
      "image/png": "[encoded data removed]",
      "text/plain": [
       "<IPython.core.display.Image object>"
      ]
     },
     "metadata": {},
     "output_type": "display_data"
    }
   ],
   "source": [
    "% Plotando resultados para otimizando por fminunc\n",
    "plotDecisionBoundary(theta, X_train, y)"
   ]
  },
  {
   "cell_type": "code",
   "execution_count": null,
   "metadata": {},
   "outputs": [],
   "source": []
  }
 ],
 "metadata": {
  "kernelspec": {
   "display_name": "Octave",
   "language": "octave",
   "name": "octave"
  },
  "language_info": {
   "file_extension": ".m",
   "help_links": [
    {
     "text": "GNU Octave",
     "url": "https://www.gnu.org/software/octave/support.html"
    },
    {
     "text": "Octave Kernel",
     "url": "https://github.com/Calysto/octave_kernel"
    },
    {
     "text": "MetaKernel Magics",
     "url": "https://github.com/calysto/metakernel/blob/master/metakernel/magics/README.md"
    }
   ],
   "mimetype": "text/x-octave",
   "name": "octave",
   "version": "4.4.1"
  },
  "toc": {
   "base_numbering": 1,
   "nav_menu": {},
   "number_sections": true,
   "sideBar": true,
   "skip_h1_title": false,
   "title_cell": "Table of Contents",
   "title_sidebar": "Contents",
   "toc_cell": true,
   "toc_position": {},
   "toc_section_display": true,
   "toc_window_display": true
  }
 },
 "nbformat": 4,
 "nbformat_minor": 2
}
