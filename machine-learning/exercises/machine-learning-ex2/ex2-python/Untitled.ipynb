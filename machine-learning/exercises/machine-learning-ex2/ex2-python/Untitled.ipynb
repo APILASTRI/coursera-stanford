{
 "cells": [
  {
   "cell_type": "markdown",
   "metadata": {
    "toc": true
   },
   "source": [
    "<h1>Table of Contents<span class=\"tocSkip\"></span></h1>\n",
    "<div class=\"toc\"><ul class=\"toc-item\"><li><span><a href=\"#Regressão-Logística\" data-toc-modified-id=\"Regressão-Logística-1\"><span class=\"toc-item-num\">1&nbsp;&nbsp;</span>Regressão Logística</a></span><ul class=\"toc-item\"><li><span><a href=\"#Lendo-e-Explorando-Dados\" data-toc-modified-id=\"Lendo-e-Explorando-Dados-1.1\"><span class=\"toc-item-num\">1.1&nbsp;&nbsp;</span>Lendo e Explorando Dados</a></span></li><li><span><a href=\"#Função--Sigmoidal\" data-toc-modified-id=\"Função--Sigmoidal-1.2\"><span class=\"toc-item-num\">1.2&nbsp;&nbsp;</span>Função  Sigmoidal</a></span></li></ul></li></ul></div>"
   ]
  },
  {
   "cell_type": "markdown",
   "metadata": {},
   "source": [
    "Este notebook tem por objetivo implementar o algoritmo de Regressão Logística para solução dos problemas propostos no exercício 2 do curso de Machine Learning da Universidade de Stanford. Neste ponto de criação do notebook, as tarefas propostas para este exercício já foram implementadas em ```Octave``` e a ideia é transpassa-los para ```Python``` utilizando, em primeira instância, propriedades de Álgebra Linear através do NumPy e, em um segundo momento, utilizando a biblioteca ```scikit-learn```."
   ]
  },
  {
   "cell_type": "markdown",
   "metadata": {},
   "source": [
    "Na primeira parte deste exercício, é proposto um problema de Regressão Logística para prever se um estudante será aprovado ou não em determinada disciplina, tendo em mãos notas históricas de candidatos anteriores que foram aprovados ou reprovados. O dataset contém notas de cada participante em dois exames e, como label, a decisão de aprovação."
   ]
  },
  {
   "cell_type": "markdown",
   "metadata": {},
   "source": [
    "## Regressão Logística"
   ]
  },
  {
   "cell_type": "markdown",
   "metadata": {},
   "source": [
    "Para resolver este problema, será necessário implementar um algoritmo de classificação para determinar a probabilidade de admissão do estudante baseado nos scores de dois exames."
   ]
  },
  {
   "cell_type": "markdown",
   "metadata": {},
   "source": [
    "### Lendo e Explorando Dados"
   ]
  },
  {
   "cell_type": "code",
   "execution_count": 3,
   "metadata": {
    "ExecuteTime": {
     "end_time": "2019-04-06T19:00:29.090976Z",
     "start_time": "2019-04-06T19:00:29.084259Z"
    }
   },
   "outputs": [],
   "source": [
    "# Importando biblioteca\n",
    "import numpy as np\n",
    "\n",
    "dataset = np.loadtxt('ex2data1.txt', delimiter=',')"
   ]
  },
  {
   "cell_type": "code",
   "execution_count": 4,
   "metadata": {
    "ExecuteTime": {
     "end_time": "2019-04-06T19:00:45.259234Z",
     "start_time": "2019-04-06T19:00:45.251830Z"
    }
   },
   "outputs": [
    {
     "name": "stdout",
     "output_type": "stream",
     "text": [
      "Dimensões: (100, 3)\n"
     ]
    }
   ],
   "source": [
    "# Verificando atributos\n",
    "print(f'Dimensões: {dataset.shape}')"
   ]
  },
  {
   "cell_type": "code",
   "execution_count": 5,
   "metadata": {
    "ExecuteTime": {
     "end_time": "2019-04-06T19:00:53.718552Z",
     "start_time": "2019-04-06T19:00:53.705588Z"
    }
   },
   "outputs": [
    {
     "data": {
      "text/plain": [
       "array([[34.62365962, 78.02469282,  0.        ],\n",
       "       [30.28671077, 43.89499752,  0.        ],\n",
       "       [35.84740877, 72.90219803,  0.        ],\n",
       "       [60.18259939, 86.3085521 ,  1.        ],\n",
       "       [79.03273605, 75.34437644,  1.        ]])"
      ]
     },
     "execution_count": 5,
     "metadata": {},
     "output_type": "execute_result"
    }
   ],
   "source": [
    "# Primeiras linhas\n",
    "dataset[:5]"
   ]
  },
  {
   "cell_type": "markdown",
   "metadata": {},
   "source": [
    "Percebe-se que a última coluna, nosso label y, está identificado apena como 0 e 1, sendo:\n",
    "    - 0: aluno reprovado\n",
    "    - 1: aluno aprovado"
   ]
  },
  {
   "cell_type": "code",
   "execution_count": 10,
   "metadata": {
    "ExecuteTime": {
     "end_time": "2019-04-06T20:46:31.222928Z",
     "start_time": "2019-04-06T20:46:31.212979Z"
    }
   },
   "outputs": [],
   "source": [
    "# Visualizando os dados\n",
    "import matplotlib.pyplot as plt\n",
    "%matplotlib inline"
   ]
  },
  {
   "cell_type": "code",
   "execution_count": 25,
   "metadata": {
    "ExecuteTime": {
     "end_time": "2019-04-06T20:50:04.865813Z",
     "start_time": "2019-04-06T20:50:04.860828Z"
    }
   },
   "outputs": [],
   "source": [
    "# Separando os dados\n",
    "aprovados = dataset[dataset[:, 2] == 1][:, :2]\n",
    "reprovados = dataset[dataset[:, 2] == 0][:, :2]"
   ]
  },
  {
   "cell_type": "code",
   "execution_count": 32,
   "metadata": {
    "ExecuteTime": {
     "end_time": "2019-04-06T20:51:39.275329Z",
     "start_time": "2019-04-06T20:51:39.052229Z"
    }
   },
   "outputs": [
    {
     "data": {
      "image/png": "[encoded data removed]",
      "text/plain": [
       "<matplotlib.figure.Figure at 0x1dce22a1a90>"
      ]
     },
     "metadata": {
      "needs_background": "light"
     },
     "output_type": "display_data"
    }
   ],
   "source": [
    "# Plotando dados\n",
    "fig = plt.figure(figsize=(9, 6))\n",
    "plt.scatter(aprovados[:, 0], aprovados[:, 1], marker='x', c='r')\n",
    "plt.scatter(reprovados[:, 0], reprovados[:, 1], marker='o', c='y')\n",
    "plt.title('Admissão de Estudantes por Notas', size=14)\n",
    "plt.xlabel('Exame 1', size=10, labelpad=10)\n",
    "plt.ylabel('Exame 2', size=10, labelpad=10)\n",
    "plt.legend(['Aprovados', 'Reprovados'])\n",
    "plt.show()"
   ]
  },
  {
   "cell_type": "markdown",
   "metadata": {},
   "source": [
    "### Função  Sigmoidal"
   ]
  },
  {
   "cell_type": "markdown",
   "metadata": {},
   "source": [
    "Antes de darmos continuidade a implementação do algoritmo de classificação, é importante definir, em linhas de código, o cálculo da função sigmoidal que, por sua vez, irá definir se, dada uma entrada de exames, o aluno foi aprovado (com y=1) ou reprovado (com y=0)"
   ]
  },
  {
   "cell_type": "markdown",
   "metadata": {},
   "source": [
    "\\begin{equation*}\n",
    "h_\\theta(x)=g(\\theta^Tx)\n",
    "\\end{equation*}"
   ]
  },
  {
   "cell_type": "markdown",
   "metadata": {},
   "source": [
    "\\begin{equation*}\n",
    "    g(z)=\\frac{1}{1+e^{-z}}\n",
    "\\end{equation*}"
   ]
  },
  {
   "cell_type": "code",
   "execution_count": 35,
   "metadata": {
    "ExecuteTime": {
     "end_time": "2019-04-06T20:57:28.723393Z",
     "start_time": "2019-04-06T20:57:28.717457Z"
    }
   },
   "outputs": [
    {
     "data": {
      "text/plain": [
       "1.0"
      ]
     },
     "execution_count": 35,
     "metadata": {},
     "output_type": "execute_result"
    }
   ],
   "source": [
    "# Testando\n",
    "np.exp(0)"
   ]
  },
  {
   "cell_type": "code",
   "execution_count": 36,
   "metadata": {
    "ExecuteTime": {
     "end_time": "2019-04-06T20:57:36.706763Z",
     "start_time": "2019-04-06T20:57:36.699810Z"
    }
   },
   "outputs": [
    {
     "name": "stderr",
     "output_type": "stream",
     "text": [
      "C:\\Users\\thiagoPanini\\Anaconda3\\lib\\site-packages\\ipykernel_launcher.py:2: RuntimeWarning: overflow encountered in exp\n",
      "  \n"
     ]
    },
    {
     "data": {
      "text/plain": [
       "inf"
      ]
     },
     "execution_count": 36,
     "metadata": {},
     "output_type": "execute_result"
    }
   ],
   "source": [
    "# Testando\n",
    "np.exp(1e128)"
   ]
  },
  {
   "cell_type": "markdown",
   "metadata": {},
   "source": [
    "Fonte: [numpy.exp](https://docs.scipy.org/doc/numpy-1.15.1/reference/generated/numpy.exp.html)"
   ]
  },
  {
   "cell_type": "code",
   "execution_count": 38,
   "metadata": {
    "ExecuteTime": {
     "end_time": "2019-04-06T20:58:32.897866Z",
     "start_time": "2019-04-06T20:58:32.891983Z"
    }
   },
   "outputs": [
    {
     "data": {
      "text/plain": [
       "0.5"
      ]
     },
     "execution_count": 38,
     "metadata": {},
     "output_type": "execute_result"
    }
   ],
   "source": [
    "# Último teste\n",
    "1 / (1 + np.exp(0))"
   ]
  },
  {
   "cell_type": "code",
   "execution_count": 41,
   "metadata": {
    "ExecuteTime": {
     "end_time": "2019-04-06T21:01:19.308520Z",
     "start_time": "2019-04-06T21:01:19.303534Z"
    }
   },
   "outputs": [],
   "source": [
    "# Definindo função\n",
    "def sigmoid(z):\n",
    "    \"\"\"Função responsável por calcular o resultado sigmoidal, dado o parâmetro z\n",
    "    Input:\n",
    "        z: parâmetro z definido por theta.T * x\n",
    "    Output:\n",
    "        g(z): função sigmoidal aplicada ao parâmetro z\"\"\"\n",
    "    return 1 / (1 + np.exp(-z))"
   ]
  },
  {
   "cell_type": "code",
   "execution_count": 42,
   "metadata": {
    "ExecuteTime": {
     "end_time": "2019-04-06T21:01:19.717093Z",
     "start_time": "2019-04-06T21:01:19.710106Z"
    }
   },
   "outputs": [
    {
     "name": "stdout",
     "output_type": "stream",
     "text": [
      "Função sigmoidal com z = 0 (valor esperado: 0.5): 0.5\n",
      "Função sigmoidal com z = inf (valor esperado: 1): 1.0\n",
      "Função sigmoidal com z = -inf (valor esperado: 0): 0.0\n"
     ]
    },
    {
     "name": "stderr",
     "output_type": "stream",
     "text": [
      "C:\\Users\\thiagoPanini\\Anaconda3\\lib\\site-packages\\ipykernel_launcher.py:8: RuntimeWarning: overflow encountered in exp\n",
      "  \n"
     ]
    }
   ],
   "source": [
    "# Testes\n",
    "print(f'Função sigmoidal com z = 0 (valor esperado: 0.5): {sigmoid(0)}')\n",
    "print(f'Função sigmoidal com z = inf (valor esperado: 1): {sigmoid(1e128)}')\n",
    "print(f'Função sigmoidal com z = -inf (valor esperado: 0): {sigmoid(-1e128)}')"
   ]
  },
  {
   "cell_type": "code",
   "execution_count": null,
   "metadata": {},
   "outputs": [],
   "source": []
  }
 ],
 "metadata": {
  "kernelspec": {
   "display_name": "Python 3",
   "language": "python",
   "name": "python3"
  },
  "language_info": {
   "codemirror_mode": {
    "name": "ipython",
    "version": 3
   },
   "file_extension": ".py",
   "mimetype": "text/x-python",
   "name": "python",
   "nbconvert_exporter": "python",
   "pygments_lexer": "ipython3",
   "version": "3.6.4"
  },
  "toc": {
   "base_numbering": 1,
   "nav_menu": {},
   "number_sections": true,
   "sideBar": true,
   "skip_h1_title": true,
   "title_cell": "Table of Contents",
   "title_sidebar": "Contents",
   "toc_cell": true,
   "toc_position": {},
   "toc_section_display": true,
   "toc_window_display": true
  }
 },
 "nbformat": 4,
 "nbformat_minor": 2
}
