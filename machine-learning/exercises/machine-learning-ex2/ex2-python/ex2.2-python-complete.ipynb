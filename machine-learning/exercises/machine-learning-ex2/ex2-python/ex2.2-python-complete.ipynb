{
 "cells": [
  {
   "cell_type": "markdown",
   "metadata": {
    "toc": true
   },
   "source": [
    "<h1>Table of Contents<span class=\"tocSkip\"></span></h1>\n",
    "<div class=\"toc\"><ul class=\"toc-item\"><li><span><a href=\"#Regressão-Logística-com-Regularização\" data-toc-modified-id=\"Regressão-Logística-com-Regularização-1\"><span class=\"toc-item-num\">1&nbsp;&nbsp;</span>Regressão Logística com Regularização</a></span><ul class=\"toc-item\"><li><span><a href=\"#Lendo-e-Explorando-Dados\" data-toc-modified-id=\"Lendo-e-Explorando-Dados-1.1\"><span class=\"toc-item-num\">1.1&nbsp;&nbsp;</span>Lendo e Explorando Dados</a></span></li><li><span><a href=\"#Feature-Mapping\" data-toc-modified-id=\"Feature-Mapping-1.2\"><span class=\"toc-item-num\">1.2&nbsp;&nbsp;</span>Feature Mapping</a></span></li><li><span><a href=\"#Função-Custo-Regularizada\" data-toc-modified-id=\"Função-Custo-Regularizada-1.3\"><span class=\"toc-item-num\">1.3&nbsp;&nbsp;</span>Função Custo Regularizada</a></span></li><li><span><a href=\"#Gradiente-Regularizado\" data-toc-modified-id=\"Gradiente-Regularizado-1.4\"><span class=\"toc-item-num\">1.4&nbsp;&nbsp;</span>Gradiente Regularizado</a></span></li></ul></li></ul></div>"
   ]
  },
  {
   "cell_type": "markdown",
   "metadata": {},
   "source": [
    "Este notebook tem por objetivo a implementação, em Python, da segunda parte do exercício 2 do curso de Aprendizagem Automática da Universidade de Stanford. Concluída a primeira parte referente a um problema de Regressão Logística, neste ponto do aprendizado é proposto um problema de Regressão Logística com ```Regularização```.\n",
    "\n",
    "Em outras palavras, é esperado um problema onde seja necessário definir uma função de um grau maior superior e, por consequência, curvilínia. A regularização atua de modo a dosar os pesos dos parâmetros relacionados aos graus elevados de ```x```, garantindo que o modelo não sofra de ```overfitting```. Para isto, novas equações de Custo e Gradiente deverão ser definidas levando em consideração uma penalização para tais termos. Vejamos."
   ]
  },
  {
   "cell_type": "markdown",
   "metadata": {},
   "source": [
    "## Regressão Logística com Regularização"
   ]
  },
  {
   "cell_type": "markdown",
   "metadata": {},
   "source": [
    "No problema proposto, iremos implementar um algoritmo de Regressão Logística para Controle de Qualidade em uma fábrica de microchips com o intuito de verificar se peças são aprovadas ou não.\n",
    "\n",
    "O dataset contém resultados de dois testes de cada um dos 118 microchips da cadeia de produção e, em sua última coluna, o resultado da aprovação ou não no Teste de Qualidade."
   ]
  },
  {
   "cell_type": "markdown",
   "metadata": {},
   "source": [
    "### Lendo e Explorando Dados"
   ]
  },
  {
   "cell_type": "code",
   "execution_count": 1,
   "metadata": {
    "ExecuteTime": {
     "end_time": "2019-04-08T02:58:30.393335Z",
     "start_time": "2019-04-08T02:58:30.264867Z"
    }
   },
   "outputs": [
    {
     "data": {
      "text/plain": [
       "array([[ 0.051267,  0.69956 ,  1.      ],\n",
       "       [-0.092742,  0.68494 ,  1.      ],\n",
       "       [-0.21371 ,  0.69225 ,  1.      ],\n",
       "       [-0.375   ,  0.50219 ,  1.      ],\n",
       "       [-0.51325 ,  0.46564 ,  1.      ]])"
      ]
     },
     "execution_count": 1,
     "metadata": {},
     "output_type": "execute_result"
    }
   ],
   "source": [
    "# Importando biblioteca\n",
    "import numpy as np\n",
    "\n",
    "dataset = np.loadtxt('ex2data2.txt', delimiter=',')\n",
    "dataset[:5]"
   ]
  },
  {
   "cell_type": "code",
   "execution_count": 2,
   "metadata": {
    "ExecuteTime": {
     "end_time": "2019-04-08T02:58:30.404275Z",
     "start_time": "2019-04-08T02:58:30.395300Z"
    }
   },
   "outputs": [
    {
     "data": {
      "text/plain": [
       "(118, 3)"
      ]
     },
     "execution_count": 2,
     "metadata": {},
     "output_type": "execute_result"
    }
   ],
   "source": [
    "# Dimensões do dataset\n",
    "dataset.shape"
   ]
  },
  {
   "cell_type": "markdown",
   "metadata": {},
   "source": [
    "Até o momento, o problema está muito semelhante ao anterior, inclusive na quantidade de dados."
   ]
  },
  {
   "cell_type": "code",
   "execution_count": 3,
   "metadata": {
    "ExecuteTime": {
     "end_time": "2019-04-08T02:58:30.800295Z",
     "start_time": "2019-04-08T02:58:30.408265Z"
    }
   },
   "outputs": [],
   "source": [
    "# Visualizando dados\n",
    "import matplotlib.pyplot as plt\n",
    "%matplotlib inline\n",
    "\n",
    "positive_class = dataset[dataset[:, 2] == 1]\n",
    "negative_class = dataset[dataset[:, 2] == 0]"
   ]
  },
  {
   "cell_type": "code",
   "execution_count": 4,
   "metadata": {
    "ExecuteTime": {
     "end_time": "2019-04-08T02:58:30.813854Z",
     "start_time": "2019-04-08T02:58:30.804220Z"
    }
   },
   "outputs": [
    {
     "data": {
      "text/plain": [
       "array([[ 0.051267,  0.69956 ,  1.      ],\n",
       "       [-0.092742,  0.68494 ,  1.      ],\n",
       "       [-0.21371 ,  0.69225 ,  1.      ],\n",
       "       [-0.375   ,  0.50219 ,  1.      ],\n",
       "       [-0.51325 ,  0.46564 ,  1.      ],\n",
       "       [-0.52477 ,  0.2098  ,  1.      ],\n",
       "       [-0.39804 ,  0.034357,  1.      ],\n",
       "       [-0.30588 , -0.19225 ,  1.      ],\n",
       "       [ 0.016705, -0.40424 ,  1.      ],\n",
       "       [ 0.13191 , -0.51389 ,  1.      ]])"
      ]
     },
     "execution_count": 4,
     "metadata": {},
     "output_type": "execute_result"
    }
   ],
   "source": [
    "# Verificando\n",
    "positive_class[:10]"
   ]
  },
  {
   "cell_type": "code",
   "execution_count": 5,
   "metadata": {
    "ExecuteTime": {
     "end_time": "2019-04-08T02:58:30.907919Z",
     "start_time": "2019-04-08T02:58:30.817262Z"
    }
   },
   "outputs": [
    {
     "data": {
      "text/plain": [
       "array([[0.18376 , 0.93348 , 0.      ],\n",
       "       [0.22408 , 0.77997 , 0.      ],\n",
       "       [0.29896 , 0.61915 , 0.      ],\n",
       "       [0.50634 , 0.75804 , 0.      ],\n",
       "       [0.61578 , 0.7288  , 0.      ],\n",
       "       [0.60426 , 0.59722 , 0.      ],\n",
       "       [0.76555 , 0.50219 , 0.      ],\n",
       "       [0.92684 , 0.3633  , 0.      ],\n",
       "       [0.82316 , 0.27558 , 0.      ],\n",
       "       [0.96141 , 0.085526, 0.      ]])"
      ]
     },
     "execution_count": 5,
     "metadata": {},
     "output_type": "execute_result"
    }
   ],
   "source": [
    "# Verificando\n",
    "negative_class[:10]"
   ]
  },
  {
   "cell_type": "code",
   "execution_count": 6,
   "metadata": {
    "ExecuteTime": {
     "end_time": "2019-04-08T02:58:31.246781Z",
     "start_time": "2019-04-08T02:58:30.910950Z"
    }
   },
   "outputs": [
    {
     "data": {
      "image/png": "[encoded data removed]",
      "text/plain": [
       "<matplotlib.figure.Figure at 0x19ce1e3aa90>"
      ]
     },
     "metadata": {
      "needs_background": "light"
     },
     "output_type": "display_data"
    }
   ],
   "source": [
    "# Plotando dados\n",
    "fig = plt.figure(figsize=(7, 5))\n",
    "plt.scatter(positive_class[:, 0], positive_class[:, 1], marker='x', c='r')\n",
    "plt.scatter(negative_class[:, 0], negative_class[:, 1], marker='x', c='k')\n",
    "plt.title('QA Microchips - Testes Realizados', size=15)\n",
    "plt.xlabel('Teste 1', size=12, labelpad=10)\n",
    "plt.ylabel('Teste 1', size=12, labelpad=10)\n",
    "plt.legend(['Aprovados', 'Reprovados'])\n",
    "plt.show()"
   ]
  },
  {
   "cell_type": "markdown",
   "metadata": {},
   "source": [
    "Aqui percebemos a diferença: para implementarmos uma regressão logística neste modelo, nossa função não poderá ser simplesmente linear. Os dados não são linearmente separavéis e, por conta disso, nossa função terá de ter um comportamento polinomial para alcançar os resultados pretendidos."
   ]
  },
  {
   "cell_type": "markdown",
   "metadata": {},
   "source": [
    "Para isto, vamos aplicar um procedimento chamado ```Map Feature``` com o objetivo de elevar o grau polinomial das nossas features (até a sexta potência). O cuidado que se tem de ter, como informado no bloco de introdução, é que modelos com alto grau polinomial tendem ao ```overfitting```, fator este combatido pela ```regularização```, a qual será implementada no decorrer deste exercício."
   ]
  },
  {
   "cell_type": "markdown",
   "metadata": {},
   "source": [
    "### Feature Mapping"
   ]
  },
  {
   "cell_type": "markdown",
   "metadata": {},
   "source": [
    "Após algumas pesquisas, será necessário importar um módulo do scikit-learn para realizar este procedimento.\n",
    "\n",
    "Fonte: [sklearn.preprocessing.PolynomialFeatures](https://scikit-learn.org/stable/modules/generated/sklearn.preprocessing.PolynomialFeatures.html)"
   ]
  },
  {
   "cell_type": "code",
   "execution_count": 7,
   "metadata": {
    "ExecuteTime": {
     "end_time": "2019-04-08T02:58:31.878829Z",
     "start_time": "2019-04-08T02:58:31.249773Z"
    }
   },
   "outputs": [
    {
     "data": {
      "text/plain": [
       "array([[ 1.        ,  0.051267  ,  0.69956   ,  0.00262831,  0.03586434,\n",
       "         0.48938419],\n",
       "       [ 1.        , -0.092742  ,  0.68494   ,  0.00860108, -0.06352271,\n",
       "         0.4691428 ],\n",
       "       [ 1.        , -0.21371   ,  0.69225   ,  0.04567196, -0.14794075,\n",
       "         0.47921006],\n",
       "       [ 1.        , -0.375     ,  0.50219   ,  0.140625  , -0.18832125,\n",
       "         0.2521948 ],\n",
       "       [ 1.        , -0.51325   ,  0.46564   ,  0.26342556, -0.23898973,\n",
       "         0.21682061]])"
      ]
     },
     "execution_count": 7,
     "metadata": {},
     "output_type": "execute_result"
    }
   ],
   "source": [
    "# Importando biblioteca e aplicando feature mapping\n",
    "from sklearn.preprocessing import PolynomialFeatures\n",
    "\n",
    "X = dataset[:, :2]\n",
    "y = dataset[:, -1].reshape(X.shape[0], 1)\n",
    "\n",
    "# Testando com um grau=2\n",
    "poly = PolynomialFeatures(2)\n",
    "X2 = poly.fit_transform(X)\n",
    "X2[:5]"
   ]
  },
  {
   "cell_type": "markdown",
   "metadata": {},
   "source": [
    "O que se esperava aconteceu: com o argumento = 2 dentro da inicialização da classe ```PolynomialFeatures()```, os dados foram transformados da seguinte forma:\n",
    "\n",
    "    - coluna 0 = adicionado termo bias automaticamente (=1)\n",
    "    - coluna 1 = antiga coluna 1, sem alterações\n",
    "    - coluna 2 = antiga coluna 2, sem alterações\n",
    "    - coluna 3 = x1^2 (coluna 1 ao quadrado)\n",
    "    - coluna 4 = x1*x2 (coluna 1 * coluna 2)\n",
    "    - coluna 5 = x2^2 (coluna 2 ao quadrado)"
   ]
  },
  {
   "cell_type": "code",
   "execution_count": 8,
   "metadata": {
    "ExecuteTime": {
     "end_time": "2019-04-08T02:58:31.897779Z",
     "start_time": "2019-04-08T02:58:31.883817Z"
    }
   },
   "outputs": [
    {
     "data": {
      "text/plain": [
       "array([0.051267, 0.69956 ])"
      ]
     },
     "execution_count": 8,
     "metadata": {},
     "output_type": "execute_result"
    }
   ],
   "source": [
    "# Testando o exposto acima\n",
    "amostra = X[0, :]\n",
    "amostra"
   ]
  },
  {
   "cell_type": "code",
   "execution_count": 9,
   "metadata": {
    "ExecuteTime": {
     "end_time": "2019-04-08T02:58:32.026908Z",
     "start_time": "2019-04-08T02:58:31.904760Z"
    }
   },
   "outputs": [
    {
     "name": "stdout",
     "output_type": "stream",
     "text": [
      "x1:    0.051267\n",
      "x2:    0.69956\n",
      "x1^2:  0.002628305289\n",
      "x1*x2: 0.035864342519999995\n",
      "x2^2:  0.48938419359999996\n"
     ]
    }
   ],
   "source": [
    "# Verificando\n",
    "print(f'x1: {amostra[0]:>11}')\n",
    "print(f'x2: {amostra[1]:>10}')\n",
    "print(f'x1^2: {(amostra[0] ** 2):>15}')\n",
    "print(f'x1*x2: {amostra[0] * amostra[1]:>11}')\n",
    "print(f'x2^2: {(amostra[1] ** 2):>20}')"
   ]
  },
  {
   "cell_type": "code",
   "execution_count": 10,
   "metadata": {
    "ExecuteTime": {
     "end_time": "2019-04-08T02:58:32.144763Z",
     "start_time": "2019-04-08T02:58:32.026908Z"
    }
   },
   "outputs": [
    {
     "name": "stdout",
     "output_type": "stream",
     "text": [
      "Poly x1:    0.051267\n",
      "Poly x2:    0.69956\n",
      "Poly x1^2:  0.002628305289\n",
      "Poly x1*x2: 0.035864342519999995\n",
      "Poly x2^2:  0.48938419359999996\n"
     ]
    }
   ],
   "source": [
    "# Comparando com os dados obtidos no procedimento\n",
    "print(f'Poly x1: {X2[0][1]:>11}')\n",
    "print(f'Poly x2: {X2[0][2]:>10}')\n",
    "print(f'Poly x1^2: {X2[0][3]:>15}')\n",
    "print(f'Poly x1*x2: {X2[0][4]:>11}')\n",
    "print(f'Poly x2^2: {X2[0][5]:>20}')"
   ]
  },
  {
   "cell_type": "markdown",
   "metadata": {},
   "source": [
    "É exatamente o que queremos, com a diferença no grau expadindo para a sexta potência!"
   ]
  },
  {
   "cell_type": "code",
   "execution_count": 11,
   "metadata": {
    "ExecuteTime": {
     "end_time": "2019-04-08T02:58:32.352810Z",
     "start_time": "2019-04-08T02:58:32.148075Z"
    }
   },
   "outputs": [
    {
     "data": {
      "text/plain": [
       "array([[ 1.00000000e+00,  5.12670000e-02,  6.99560000e-01,\n",
       "         2.62830529e-03,  3.58643425e-02,  4.89384194e-01,\n",
       "         1.34745327e-04,  1.83865725e-03,  2.50892595e-02,\n",
       "         3.42353606e-01,  6.90798869e-06,  9.42624411e-05,\n",
       "         1.28625106e-03,  1.75514423e-02,  2.39496889e-01,\n",
       "         3.54151856e-07,  4.83255257e-06,  6.59422333e-05,\n",
       "         8.99809795e-04,  1.22782870e-02,  1.67542444e-01,\n",
       "         1.81563032e-08,  2.47750473e-07,  3.38066048e-06,\n",
       "         4.61305487e-05,  6.29470940e-04,  8.58939846e-03,\n",
       "         1.17205992e-01],\n",
       "       [ 1.00000000e+00, -9.27420000e-02,  6.84940000e-01,\n",
       "         8.60107856e-03, -6.35227055e-02,  4.69142804e-01,\n",
       "        -7.97681228e-04,  5.89122275e-03, -4.35092419e-02,\n",
       "         3.21334672e-01,  7.39785525e-05, -5.46363780e-04,\n",
       "         4.03513411e-03, -2.98012201e-02,  2.20094970e-01,\n",
       "        -6.86091891e-06,  5.06708697e-05, -3.74226408e-04,\n",
       "         2.76382476e-03, -2.04120477e-02,  1.50751849e-01,\n",
       "         6.36295342e-07, -4.69931780e-06,  3.47065055e-05,\n",
       "        -2.56322636e-04,  1.89305413e-03, -1.39810280e-02,\n",
       "         1.03255971e-01],\n",
       "       [ 1.00000000e+00, -2.13710000e-01,  6.92250000e-01,\n",
       "         4.56719641e-02, -1.47940748e-01,  4.79210063e-01,\n",
       "        -9.76055545e-03,  3.16164171e-02, -1.02411982e-01,\n",
       "         3.31733166e-01,  2.08592830e-03, -6.75674451e-03,\n",
       "         2.18864648e-02, -7.08946949e-02,  2.29642284e-01,\n",
       "        -4.45783738e-04,  1.44398387e-03, -4.67735639e-03,\n",
       "         1.51509052e-02, -4.90768525e-02,  1.58969871e-01,\n",
       "         9.52684426e-05, -3.08593793e-04,  9.99597833e-04,\n",
       "        -3.23789996e-03,  1.04882142e-02, -3.39734512e-02,\n",
       "         1.10046893e-01],\n",
       "       [ 1.00000000e+00, -3.75000000e-01,  5.02190000e-01,\n",
       "         1.40625000e-01, -1.88321250e-01,  2.52194796e-01,\n",
       "        -5.27343750e-02,  7.06204687e-02, -9.45730485e-02,\n",
       "         1.26649705e-01,  1.97753906e-02, -2.64826758e-02,\n",
       "         3.54648932e-02, -4.74936392e-02,  6.36022152e-02,\n",
       "        -7.41577148e-03,  9.93100342e-03, -1.32993350e-02,\n",
       "         1.78101147e-02, -2.38508307e-02,  3.19403964e-02,\n",
       "         2.78091431e-03, -3.72412628e-03,  4.98725061e-03,\n",
       "        -6.67879302e-03,  8.94406151e-03, -1.19776487e-02,\n",
       "         1.60401477e-02],\n",
       "       [ 1.00000000e+00, -5.13250000e-01,  4.65640000e-01,\n",
       "         2.63425562e-01, -2.38989730e-01,  2.16820610e-01,\n",
       "        -1.35203170e-01,  1.22661479e-01, -1.11283178e-01,\n",
       "         1.00960349e-01,  6.93930270e-02, -6.29560041e-02,\n",
       "         5.71160910e-02, -5.18178989e-02,  4.70111767e-02,\n",
       "        -3.56159711e-02,  3.23121691e-02, -2.93148337e-02,\n",
       "         2.65955366e-02, -2.41284865e-02,  2.18902843e-02,\n",
       "         1.82798972e-02, -1.65842208e-02,  1.50458384e-02,\n",
       "        -1.36501592e-02,  1.23839457e-02, -1.12351884e-02,\n",
       "         1.01929920e-02]])"
      ]
     },
     "execution_count": 11,
     "metadata": {},
     "output_type": "execute_result"
    }
   ],
   "source": [
    "# Expandindo para a sexta potência\n",
    "poly = PolynomialFeatures(6)\n",
    "X = poly.fit_transform(X)\n",
    "\n",
    "# Verificando\n",
    "X[:5]"
   ]
  },
  {
   "cell_type": "code",
   "execution_count": 12,
   "metadata": {
    "ExecuteTime": {
     "end_time": "2019-04-08T02:58:32.436864Z",
     "start_time": "2019-04-08T02:58:32.360784Z"
    }
   },
   "outputs": [
    {
     "data": {
      "text/plain": [
       "(118, 28)"
      ]
     },
     "execution_count": 12,
     "metadata": {},
     "output_type": "execute_result"
    }
   ],
   "source": [
    "# Novas dimensões\n",
    "X.shape"
   ]
  },
  {
   "cell_type": "markdown",
   "metadata": {},
   "source": [
    "Sim, agora temos 28 features mapeadas."
   ]
  },
  {
   "cell_type": "markdown",
   "metadata": {},
   "source": [
    "### Função Custo Regularizada"
   ]
  },
  {
   "cell_type": "markdown",
   "metadata": {},
   "source": [
    "\\begin{equation*}\n",
    "             J(\\theta)=\\frac{1}{m}\\sum_{i=1}^{m}[-y^{(i)}\\log(h_\\theta(x^{(i)})-\n",
    "                      (1 - y^{(i)})\\log(1 - h_\\theta(x^{(i)})] + \n",
    "                      \\frac{\\lambda}{2m}\\sum_{j=1}^{n}\\theta_j^2 \n",
    "\\end{equation*}"
   ]
  },
  {
   "cell_type": "markdown",
   "metadata": {},
   "source": [
    "O último termo diminui a magnitude dos parâmetros (repare que o termo bias theta0 não é afetado, visto que o somatório vai de j=1 até n)"
   ]
  },
  {
   "cell_type": "markdown",
   "metadata": {},
   "source": [
    "Já tínhamos a função custo vetorizada implementada no exercício anterior. Antes de resgatá-la, precisamos também da função sigmoidal."
   ]
  },
  {
   "cell_type": "code",
   "execution_count": 13,
   "metadata": {
    "ExecuteTime": {
     "end_time": "2019-04-08T02:58:32.519597Z",
     "start_time": "2019-04-08T02:58:32.440896Z"
    }
   },
   "outputs": [],
   "source": [
    "# Calculando função sigmoidal\n",
    "def sigmoid(z):\n",
    "    \"\"\"Função responsável por calcular o resultado sigmoidal, dado o parâmetro z\n",
    "    Input:\n",
    "        z: parâmetro z definido por theta.T * x\n",
    "    Output:\n",
    "        g(z): função sigmoidal aplicada ao parâmetro z\"\"\"\n",
    "    return 1 / (1 + np.exp(-z))"
   ]
  },
  {
   "cell_type": "code",
   "execution_count": 14,
   "metadata": {
    "ExecuteTime": {
     "end_time": "2019-04-08T02:58:32.616902Z",
     "start_time": "2019-04-08T02:58:32.524590Z"
    }
   },
   "outputs": [
    {
     "data": {
      "text/plain": [
       "array([[2.],\n",
       "       [2.],\n",
       "       [2.],\n",
       "       [2.],\n",
       "       [2.]])"
      ]
     },
     "execution_count": 14,
     "metadata": {},
     "output_type": "execute_result"
    }
   ],
   "source": [
    "# Testando função custo\n",
    "[m, n] = X.shape\n",
    "theta_inicial = np.zeros((n, 1)) + 2\n",
    "theta_inicial[:5]"
   ]
  },
  {
   "cell_type": "code",
   "execution_count": 15,
   "metadata": {
    "ExecuteTime": {
     "end_time": "2019-04-08T02:58:32.722198Z",
     "start_time": "2019-04-08T02:58:32.625314Z"
    }
   },
   "outputs": [
    {
     "data": {
      "text/plain": [
       "array([[4.],\n",
       "       [4.],\n",
       "       [4.],\n",
       "       [4.],\n",
       "       [4.]])"
      ]
     },
     "execution_count": 15,
     "metadata": {},
     "output_type": "execute_result"
    }
   ],
   "source": [
    "# Testando termo de regularização\n",
    "(theta_inicial ** 2)[:5]"
   ]
  },
  {
   "cell_type": "code",
   "execution_count": 16,
   "metadata": {
    "ExecuteTime": {
     "end_time": "2019-04-08T02:58:32.806366Z",
     "start_time": "2019-04-08T02:58:32.726114Z"
    }
   },
   "outputs": [],
   "source": [
    "# Inicializando termos\n",
    "theta_inicial = np.zeros((n, 1))\n",
    "lamb = 1\n",
    "\n",
    "# Calculando função hypothesis\n",
    "z = X.dot(theta_inicial)\n",
    "h = sigmoid(z)\n",
    "\n",
    "# Definindo termos da função custo\n",
    "termo1 = np.log(h).T.dot(-y)\n",
    "termo2 = np.log(1 - h).T.dot(1 - y)\n",
    "termo3 = theta_inicial.T.dot(theta_inicial)\n",
    "\n",
    "# Função custo\n",
    "J = ((termo1 - termo2) / m) + ((lamb/(2*m)) * termo3)"
   ]
  },
  {
   "cell_type": "code",
   "execution_count": 17,
   "metadata": {
    "ExecuteTime": {
     "end_time": "2019-04-08T02:58:32.898274Z",
     "start_time": "2019-04-08T02:58:32.815670Z"
    }
   },
   "outputs": [
    {
     "data": {
      "text/plain": [
       "array([[0.69314718]])"
      ]
     },
     "execution_count": 17,
     "metadata": {},
     "output_type": "execute_result"
    }
   ],
   "source": [
    "# Qual seria o custo para parâmetros zerados?\n",
    "J"
   ]
  },
  {
   "cell_type": "markdown",
   "metadata": {},
   "source": [
    "Conforme o esperado, segundo o pdf do exerício. Vamos encapsular esse cálculo em uma função."
   ]
  },
  {
   "cell_type": "code",
   "execution_count": 18,
   "metadata": {
    "ExecuteTime": {
     "end_time": "2019-04-08T02:58:32.985238Z",
     "start_time": "2019-04-08T02:58:32.907246Z"
    }
   },
   "outputs": [],
   "source": [
    "# Definindo função\n",
    "def costFunction(X, theta, lamb):\n",
    "    \"\"\"\n",
    "        Função responsável por computar o Custo com regularização para um problema\n",
    "    de Regressão Logística.\n",
    "    Input:\n",
    "        - X: features\n",
    "        - theta: parâmetros\n",
    "        - lamb: termo de regularização\n",
    "    Output:\n",
    "        - J: função custo com regularização\n",
    "    \"\"\"\n",
    "    # Inicializando termos\n",
    "    [m, n] = X.shape\n",
    "\n",
    "    # Calculando função hypothesis\n",
    "    z = X.dot(theta_inicial)\n",
    "    h = sigmoid(z)\n",
    "\n",
    "    # Definindo termos da função custo\n",
    "    termo1 = np.log(h).T.dot(-y)\n",
    "    termo2 = np.log(1 - h).T.dot(1 - y)\n",
    "    termo3 = theta_inicial.T.dot(theta_inicial)\n",
    "\n",
    "    # Função custo\n",
    "    J = ((termo1 - termo2) / m) + ((lamb/(2*m)) * termo3)\n",
    "    return J"
   ]
  },
  {
   "cell_type": "code",
   "execution_count": 19,
   "metadata": {
    "ExecuteTime": {
     "end_time": "2019-04-08T02:58:33.078801Z",
     "start_time": "2019-04-08T02:58:32.988323Z"
    }
   },
   "outputs": [
    {
     "data": {
      "text/plain": [
       "array([[0.69314718]])"
      ]
     },
     "execution_count": 19,
     "metadata": {},
     "output_type": "execute_result"
    }
   ],
   "source": [
    "# Testando\n",
    "costFunction(X, theta_inicial, 1)"
   ]
  },
  {
   "cell_type": "markdown",
   "metadata": {},
   "source": [
    "### Gradiente Regularizado"
   ]
  },
  {
   "cell_type": "markdown",
   "metadata": {},
   "source": [
    "O gradiente também muda:\n",
    "\n",
    "A derivada parcial da função custo em relação a theta faz com que o termo elevado ao quadrado caia sobre a fração de lambda e elimine o multiplicador de m, restando apenas (lambda/m)*theta.\n",
    "\n",
    "__Ponto Importante:__ a regularização ```não``` é aplicada ao termo bias (```theta0```)!"
   ]
  },
  {
   "cell_type": "markdown",
   "metadata": {},
   "source": [
    "\\begin{equation*}\n",
    "    \\frac{\\partial J(\\theta)}{\\partial\\theta_j} = \n",
    "        \\begin{cases} \n",
    "            \\left(\\frac{1}{m}\\sum_{i=1}^m(h_\\theta(x^{(i)})-y^{(i)})x_j^{(i)}\\right)\n",
    "                & \\mbox{para } j\\mbox{ = 0} \\\\\n",
    "            \\left(\\frac{1}{m}\\sum_{i=1}^m(h_\\theta(x^{(i)})-y^{(i)})x_j^{(i)}\\right) +\n",
    "            \\frac{\\lambda}{m}\\theta_j &\\mbox{para } j\\mbox{ >= 1}\n",
    "        \\end{cases}\n",
    "\\end{equation*}                                       "
   ]
  },
  {
   "cell_type": "markdown",
   "metadata": {},
   "source": [
    "Equações:\n",
    "\n",
    "https://tex.stackexchange.com/questions/38868/big-parenthesis-in-an-equation\n",
    "https://tex.stackexchange.com/questions/225523/how-to-write-partial-differential-equation-ex-dq-dt-ds-dt-with-real-partial-d"
   ]
  },
  {
   "cell_type": "code",
   "execution_count": 20,
   "metadata": {
    "ExecuteTime": {
     "end_time": "2019-04-08T02:58:33.167748Z",
     "start_time": "2019-04-08T02:58:33.089724Z"
    }
   },
   "outputs": [],
   "source": [
    "# Testando\n",
    "grad0 = (X.T.dot(h - y)) / m\n",
    "grad1 = (X.T.dot(h - y) / m) + theta_inicial*(lamb/m)"
   ]
  },
  {
   "cell_type": "code",
   "execution_count": 24,
   "metadata": {
    "ExecuteTime": {
     "end_time": "2019-04-08T02:58:42.416714Z",
     "start_time": "2019-04-08T02:58:42.404629Z"
    }
   },
   "outputs": [
    {
     "data": {
      "text/plain": [
       "array([[8.47457627e-03],\n",
       "       [1.87880932e-02],\n",
       "       [7.77711864e-05],\n",
       "       [5.03446395e-02],\n",
       "       [1.15013308e-02],\n",
       "       [3.76648474e-02],\n",
       "       [1.83559872e-02],\n",
       "       [7.32393391e-03],\n",
       "       [8.19244468e-03],\n",
       "       [2.34764889e-02],\n",
       "       [3.93486234e-02],\n",
       "       [2.23923907e-03],\n",
       "       [1.28600503e-02],\n",
       "       [3.09593720e-03],\n",
       "       [3.93028171e-02],\n",
       "       [1.99707467e-02],\n",
       "       [4.32983232e-03],\n",
       "       [3.38643902e-03],\n",
       "       [5.83822078e-03],\n",
       "       [4.47629067e-03],\n",
       "       [3.10079849e-02],\n",
       "       [3.10312442e-02],\n",
       "       [1.09740238e-03],\n",
       "       [6.31570797e-03],\n",
       "       [4.08503006e-04],\n",
       "       [7.26504316e-03],\n",
       "       [1.37646175e-03],\n",
       "       [3.87936363e-02]])"
      ]
     },
     "execution_count": 24,
     "metadata": {},
     "output_type": "execute_result"
    }
   ],
   "source": [
    "grad0"
   ]
  },
  {
   "cell_type": "code",
   "execution_count": 25,
   "metadata": {
    "ExecuteTime": {
     "end_time": "2019-04-08T02:58:51.042840Z",
     "start_time": "2019-04-08T02:58:51.035859Z"
    }
   },
   "outputs": [
    {
     "data": {
      "text/plain": [
       "array([[8.47457627e-03],\n",
       "       [1.87880932e-02],\n",
       "       [7.77711864e-05],\n",
       "       [5.03446395e-02],\n",
       "       [1.15013308e-02],\n",
       "       [3.76648474e-02],\n",
       "       [1.83559872e-02],\n",
       "       [7.32393391e-03],\n",
       "       [8.19244468e-03],\n",
       "       [2.34764889e-02],\n",
       "       [3.93486234e-02],\n",
       "       [2.23923907e-03],\n",
       "       [1.28600503e-02],\n",
       "       [3.09593720e-03],\n",
       "       [3.93028171e-02],\n",
       "       [1.99707467e-02],\n",
       "       [4.32983232e-03],\n",
       "       [3.38643902e-03],\n",
       "       [5.83822078e-03],\n",
       "       [4.47629067e-03],\n",
       "       [3.10079849e-02],\n",
       "       [3.10312442e-02],\n",
       "       [1.09740238e-03],\n",
       "       [6.31570797e-03],\n",
       "       [4.08503006e-04],\n",
       "       [7.26504316e-03],\n",
       "       [1.37646175e-03],\n",
       "       [3.87936363e-02]])"
      ]
     },
     "execution_count": 25,
     "metadata": {},
     "output_type": "execute_result"
    }
   ],
   "source": [
    "grad1"
   ]
  },
  {
   "cell_type": "code",
   "execution_count": null,
   "metadata": {},
   "outputs": [],
   "source": []
  }
 ],
 "metadata": {
  "kernelspec": {
   "display_name": "Python 3",
   "language": "python",
   "name": "python3"
  },
  "language_info": {
   "codemirror_mode": {
    "name": "ipython",
    "version": 3
   },
   "file_extension": ".py",
   "mimetype": "text/x-python",
   "name": "python",
   "nbconvert_exporter": "python",
   "pygments_lexer": "ipython3",
   "version": "3.6.4"
  },
  "toc": {
   "base_numbering": 1,
   "nav_menu": {},
   "number_sections": true,
   "sideBar": true,
   "skip_h1_title": true,
   "title_cell": "Table of Contents",
   "title_sidebar": "Contents",
   "toc_cell": true,
   "toc_position": {},
   "toc_section_display": true,
   "toc_window_display": true
  }
 },
 "nbformat": 4,
 "nbformat_minor": 2
}
