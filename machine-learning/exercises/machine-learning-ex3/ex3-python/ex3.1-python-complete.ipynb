{
 "cells": [
  {
   "cell_type": "markdown",
   "metadata": {
    "toc": true
   },
   "source": [
    "<h1>Table of Contents<span class=\"tocSkip\"></span></h1>\n",
    "<div class=\"toc\"><ul class=\"toc-item\"><li><span><a href=\"#Classificação-Multi-Classe\" data-toc-modified-id=\"Classificação-Multi-Classe-1\"><span class=\"toc-item-num\">1&nbsp;&nbsp;</span>Classificação Multi-Classe</a></span><ul class=\"toc-item\"><li><span><a href=\"#Lendo-e-Explorando-os-Dados\" data-toc-modified-id=\"Lendo-e-Explorando-os-Dados-1.1\"><span class=\"toc-item-num\">1.1&nbsp;&nbsp;</span>Lendo e Explorando os Dados</a></span></li><li><span><a href=\"#Visualizando-os-Dados\" data-toc-modified-id=\"Visualizando-os-Dados-1.2\"><span class=\"toc-item-num\">1.2&nbsp;&nbsp;</span>Visualizando os Dados</a></span></li><li><span><a href=\"#Função-Custo\" data-toc-modified-id=\"Função-Custo-1.3\"><span class=\"toc-item-num\">1.3&nbsp;&nbsp;</span>Função Custo</a></span></li><li><span><a href=\"#Nova-Abordagem-Binária\" data-toc-modified-id=\"Nova-Abordagem-Binária-1.4\"><span class=\"toc-item-num\">1.4&nbsp;&nbsp;</span>Nova Abordagem Binária</a></span><ul class=\"toc-item\"><li><span><a href=\"#Função-Custo\" data-toc-modified-id=\"Função-Custo-1.4.1\"><span class=\"toc-item-num\">1.4.1&nbsp;&nbsp;</span>Função Custo</a></span></li><li><span><a href=\"#Gradiente\" data-toc-modified-id=\"Gradiente-1.4.2\"><span class=\"toc-item-num\">1.4.2&nbsp;&nbsp;</span>Gradiente</a></span></li><li><span><a href=\"#Otimizando-Modelo\" data-toc-modified-id=\"Otimizando-Modelo-1.4.3\"><span class=\"toc-item-num\">1.4.3&nbsp;&nbsp;</span>Otimizando Modelo</a></span></li></ul></li><li><span><a href=\"#Classificador-Multi-Classe\" data-toc-modified-id=\"Classificador-Multi-Classe-1.5\"><span class=\"toc-item-num\">1.5&nbsp;&nbsp;</span>Classificador Multi Classe</a></span></li><li><span><a href=\"#Predizendo-e-Medindo-Performance\" data-toc-modified-id=\"Predizendo-e-Medindo-Performance-1.6\"><span class=\"toc-item-num\">1.6&nbsp;&nbsp;</span>Predizendo e Medindo Performance</a></span></li><li><span><a href=\"#Pipeline-Completo-(Treino-e-Teste)\" data-toc-modified-id=\"Pipeline-Completo-(Treino-e-Teste)-1.7\"><span class=\"toc-item-num\">1.7&nbsp;&nbsp;</span>Pipeline Completo (Treino e Teste)</a></span></li></ul></li></ul></div>"
   ]
  },
  {
   "cell_type": "markdown",
   "metadata": {},
   "source": [
    "Este notebook tem por objetivo alocar o desenvolvimento do ```exercicio 3``` proposto pelo curso de Aprendizagem Automática. Na primeira parte do exercício, será implementado o algoritmo de Regressão Logística com várias classes (one vs all). Na segunda parte do exercício, é encontrado um problema onde será necessária a utilização de um modelo de Redes Neurais"
   ]
  },
  {
   "cell_type": "markdown",
   "metadata": {},
   "source": [
    "## Classificação Multi-Classe"
   ]
  },
  {
   "cell_type": "markdown",
   "metadata": {},
   "source": [
    "Em ambas as partes, o problema de negócio é o mesmo: aplicar classificação a um dataset contendo dígitos manuscritos de 0 a 9. Neste primeiro momento, o problema será resolvido através do algoritmo de ```Regressão Logística```."
   ]
  },
  {
   "cell_type": "markdown",
   "metadata": {},
   "source": [
    "### Lendo e Explorando os Dados"
   ]
  },
  {
   "cell_type": "code",
   "execution_count": 1,
   "metadata": {
    "ExecuteTime": {
     "end_time": "2019-04-10T21:57:55.246971Z",
     "start_time": "2019-04-10T21:57:54.699430Z"
    }
   },
   "outputs": [],
   "source": [
    "# Importando biblioteca e lendo arquivo\n",
    "import numpy as np\n",
    "import scipy.io as sio\n",
    "\n",
    "# Lendo arquivo\n",
    "data = sio.loadmat('ex3data1.mat')"
   ]
  },
  {
   "cell_type": "markdown",
   "metadata": {},
   "source": [
    "Fonte: [scipy.io.loadmat()](https://docs.scipy.org/doc/scipy/reference/generated/scipy.io.loadmat.html)"
   ]
  },
  {
   "cell_type": "code",
   "execution_count": 2,
   "metadata": {
    "ExecuteTime": {
     "end_time": "2019-04-10T21:57:55.275889Z",
     "start_time": "2019-04-10T21:57:55.248961Z"
    }
   },
   "outputs": [
    {
     "data": {
      "text/plain": [
       "{'X': array([[0., 0., 0., ..., 0., 0., 0.],\n",
       "        [0., 0., 0., ..., 0., 0., 0.],\n",
       "        [0., 0., 0., ..., 0., 0., 0.],\n",
       "        ...,\n",
       "        [0., 0., 0., ..., 0., 0., 0.],\n",
       "        [0., 0., 0., ..., 0., 0., 0.],\n",
       "        [0., 0., 0., ..., 0., 0., 0.]]),\n",
       " '__globals__': [],\n",
       " '__header__': b'MATLAB 5.0 MAT-file, Platform: GLNXA64, Created on: Sun Oct 16 13:09:09 2011',\n",
       " '__version__': '1.0',\n",
       " 'y': array([[10],\n",
       "        [10],\n",
       "        [10],\n",
       "        ...,\n",
       "        [ 9],\n",
       "        [ 9],\n",
       "        [ 9]], dtype=uint8)}"
      ]
     },
     "execution_count": 2,
     "metadata": {},
     "output_type": "execute_result"
    }
   ],
   "source": [
    "# Verificando resultado\n",
    "data"
   ]
  },
  {
   "cell_type": "code",
   "execution_count": 3,
   "metadata": {
    "ExecuteTime": {
     "end_time": "2019-04-10T21:57:55.476674Z",
     "start_time": "2019-04-10T21:57:55.278881Z"
    }
   },
   "outputs": [],
   "source": [
    "# Separando em partes\n",
    "X = data['X']\n",
    "y = data['y']"
   ]
  },
  {
   "cell_type": "code",
   "execution_count": 4,
   "metadata": {
    "ExecuteTime": {
     "end_time": "2019-04-10T21:57:55.680194Z",
     "start_time": "2019-04-10T21:57:55.478669Z"
    }
   },
   "outputs": [
    {
     "name": "stdout",
     "output_type": "stream",
     "text": [
      "Dimensões do dataset: (5000, 400)\n",
      "Labels: (5000, 1)\n"
     ]
    }
   ],
   "source": [
    "# Verificando dimensões\n",
    "print(f'Dimensões do dataset: {X.shape}')\n",
    "print(f'Labels: {y.shape}')"
   ]
  },
  {
   "cell_type": "markdown",
   "metadata": {},
   "source": [
    "Temos 5000 linhas e 400 features! Realmente trata-se de um dataset de imagens (provavelmente 20 x 20 pixels). Cada feature representa a intensidade de um pixel referente a imagem, variando de 0 a 255."
   ]
  },
  {
   "cell_type": "markdown",
   "metadata": {},
   "source": [
    "### Visualizando os Dados"
   ]
  },
  {
   "cell_type": "code",
   "execution_count": 5,
   "metadata": {
    "ExecuteTime": {
     "end_time": "2019-04-10T21:57:56.382304Z",
     "start_time": "2019-04-10T21:57:55.682176Z"
    }
   },
   "outputs": [
    {
     "data": {
      "image/png": "[encoded data removed]",
      "text/plain": [
       "<matplotlib.figure.Figure at 0x1ce776f6048>"
      ]
     },
     "metadata": {
      "needs_background": "light"
     },
     "output_type": "display_data"
    }
   ],
   "source": [
    "# Visualizando os dados\n",
    "import matplotlib\n",
    "import matplotlib.pyplot as plt\n",
    "%matplotlib inline\n",
    "\n",
    "digito = X[2500]\n",
    "imagem_digito = digito.reshape(20, 20)\n",
    "plt.imshow(imagem_digito, cmap=matplotlib.cm.binary, interpolation='nearest')\n",
    "plt.axis('off')\n",
    "plt.show()"
   ]
  },
  {
   "cell_type": "markdown",
   "metadata": {},
   "source": [
    "Mas que imagem seria essa? Vamos verificar seu label"
   ]
  },
  {
   "cell_type": "code",
   "execution_count": 6,
   "metadata": {
    "ExecuteTime": {
     "end_time": "2019-04-10T21:57:56.389283Z",
     "start_time": "2019-04-10T21:57:56.383302Z"
    }
   },
   "outputs": [
    {
     "data": {
      "text/plain": [
       "array([5], dtype=uint8)"
      ]
     },
     "execution_count": 6,
     "metadata": {},
     "output_type": "execute_result"
    }
   ],
   "source": [
    "# Label\n",
    "y[2500]"
   ]
  },
  {
   "cell_type": "code",
   "execution_count": 7,
   "metadata": {
    "ExecuteTime": {
     "end_time": "2019-04-10T21:57:56.689481Z",
     "start_time": "2019-04-10T21:57:56.390281Z"
    }
   },
   "outputs": [
    {
     "data": {
      "image/png": "[encoded data removed]",
      "text/plain": [
       "<matplotlib.figure.Figure at 0x1ce7c464d68>"
      ]
     },
     "metadata": {
      "needs_background": "light"
     },
     "output_type": "display_data"
    }
   ],
   "source": [
    "# Verificando outro digito\n",
    "digito = X[3000]\n",
    "imagem_digito = digito.reshape(20, 20)\n",
    "plt.imshow(imagem_digito, cmap=matplotlib.cm.binary, interpolation='nearest')\n",
    "label = y[3000]\n",
    "plt.axis('off')\n",
    "plt.title(label)\n",
    "plt.show()"
   ]
  },
  {
   "cell_type": "markdown",
   "metadata": {},
   "source": [
    "Aparentemente as imagens estão invertidas!?"
   ]
  },
  {
   "cell_type": "code",
   "execution_count": 8,
   "metadata": {
    "ExecuteTime": {
     "end_time": "2019-04-10T21:57:56.912883Z",
     "start_time": "2019-04-10T21:57:56.693471Z"
    }
   },
   "outputs": [
    {
     "data": {
      "image/png": "[encoded data removed]",
      "text/plain": [
       "<matplotlib.figure.Figure at 0x1ce7d770cc0>"
      ]
     },
     "metadata": {
      "needs_background": "light"
     },
     "output_type": "display_data"
    }
   ],
   "source": [
    "# Outra tentativa\n",
    "digito = X[4000]\n",
    "imagem_digito = digito.reshape(20, 20)\n",
    "plt.imshow(imagem_digito, cmap=matplotlib.cm.binary, interpolation='nearest')\n",
    "label = y[4000]\n",
    "plt.axis('off')\n",
    "plt.title(label)\n",
    "plt.show()"
   ]
  },
  {
   "cell_type": "code",
   "execution_count": 9,
   "metadata": {
    "ExecuteTime": {
     "end_time": "2019-04-10T21:57:57.129305Z",
     "start_time": "2019-04-10T21:57:56.915875Z"
    }
   },
   "outputs": [
    {
     "data": {
      "image/png": "[encoded data removed]",
      "text/plain": [
       "<matplotlib.figure.Figure at 0x1ce7d7659b0>"
      ]
     },
     "metadata": {
      "needs_background": "light"
     },
     "output_type": "display_data"
    }
   ],
   "source": [
    "# Tentando após pesquisas\n",
    "from scipy import ndimage\n",
    "\n",
    "digito = X[4500]\n",
    "imagem_digito = digito.reshape(20, 20)\n",
    "plt.imshow(ndimage.rotate(imagem_digito, -90), cmap=matplotlib.cm.binary, \n",
    "           interpolation='nearest')\n",
    "label = y[4500]\n",
    "plt.axis('off')\n",
    "plt.title(label)\n",
    "plt.show()"
   ]
  },
  {
   "cell_type": "markdown",
   "metadata": {},
   "source": [
    "Fonte: [scipy.ndimage.rotate](https://docs.scipy.org/doc/scipy/reference/generated/scipy.ndimage.rotate.html) não surtiu efeito."
   ]
  },
  {
   "cell_type": "code",
   "execution_count": 10,
   "metadata": {
    "ExecuteTime": {
     "end_time": "2019-04-10T21:57:57.636948Z",
     "start_time": "2019-04-10T21:57:57.132297Z"
    }
   },
   "outputs": [
    {
     "data": {
      "image/png": "[encoded data removed]",
      "text/plain": [
       "<matplotlib.figure.Figure at 0x1ce7d82e780>"
      ]
     },
     "metadata": {
      "needs_background": "light"
     },
     "output_type": "display_data"
    }
   ],
   "source": [
    "# Verificando para os demais\n",
    "i = 0\n",
    "digitos = [2500, 3000, 4000]\n",
    "fig, ax = plt.subplots(1, 3, figsize=(10, 3))\n",
    "for axe in ax:\n",
    "    digito = X[digitos[i]]\n",
    "    imagem_digito = digito.reshape(20, 20)\n",
    "    axe.imshow(ndimage.rotate(imagem_digito, -90), cmap=matplotlib.cm.binary,\n",
    "              interpolation='nearest')\n",
    "    label = y[digitos[i]]\n",
    "    axe.set_title(f'Label: {label}')\n",
    "    axe.axis('off')\n",
    "    i+=1\n",
    "plt.show()"
   ]
  },
  {
   "cell_type": "markdown",
   "metadata": {},
   "source": [
    "Ao que tudo indica, as imagens não estavam simplismente rotacionadas, mas sim ```espelhadas!```.  Como consertar?"
   ]
  },
  {
   "cell_type": "code",
   "execution_count": 11,
   "metadata": {
    "ExecuteTime": {
     "end_time": "2019-04-10T21:57:57.642933Z",
     "start_time": "2019-04-10T21:57:57.638943Z"
    }
   },
   "outputs": [],
   "source": [
    "# Pesquisas\n",
    "from PIL import Image"
   ]
  },
  {
   "cell_type": "code",
   "execution_count": 12,
   "metadata": {
    "ExecuteTime": {
     "end_time": "2019-04-10T21:57:58.067130Z",
     "start_time": "2019-04-10T21:57:57.643929Z"
    }
   },
   "outputs": [
    {
     "data": {
      "image/png": "[encoded data removed]",
      "text/plain": [
       "<matplotlib.figure.Figure at 0x1ce7c70f8d0>"
      ]
     },
     "metadata": {
      "needs_background": "light"
     },
     "output_type": "display_data"
    }
   ],
   "source": [
    "digito = X[3000]\n",
    "rotated_image = digito.transpose(Image.FLIP_LEFT_RIGHT)\n",
    "imagem_digito = digito.reshape(20, 20)\n",
    "plt.imshow(imagem_digito, cmap=matplotlib.cm.binary, interpolation='nearest')\n",
    "label = y[3000]\n",
    "plt.axis('off')\n",
    "plt.title(label)\n",
    "plt.show()"
   ]
  },
  {
   "cell_type": "markdown",
   "metadata": {},
   "source": [
    "Fonte: [PIL.Image](https://www.blog.pythonlibrary.org/2017/10/05/how-to-rotate-mirror-photos-with-python/) não surtiu efeito."
   ]
  },
  {
   "cell_type": "code",
   "execution_count": 13,
   "metadata": {
    "ExecuteTime": {
     "end_time": "2019-04-10T21:57:58.225705Z",
     "start_time": "2019-04-10T21:57:58.070122Z"
    }
   },
   "outputs": [
    {
     "data": {
      "image/png": "[encoded data removed]",
      "text/plain": [
       "<matplotlib.figure.Figure at 0x1ce7c457898>"
      ]
     },
     "metadata": {
      "needs_background": "light"
     },
     "output_type": "display_data"
    }
   ],
   "source": [
    "# Mais uma tentativa\n",
    "digito = X[3000]\n",
    "imagem_digito = digito.reshape(20, 20).T\n",
    "plt.imshow(imagem_digito, cmap=matplotlib.cm.binary, interpolation='nearest')\n",
    "label = y[3000]\n",
    "plt.axis('off')\n",
    "plt.title(label)\n",
    "plt.show()"
   ]
  },
  {
   "cell_type": "markdown",
   "metadata": {},
   "source": [
    "Opa! Será!?"
   ]
  },
  {
   "cell_type": "code",
   "execution_count": 14,
   "metadata": {
    "ExecuteTime": {
     "end_time": "2019-04-10T21:57:58.561456Z",
     "start_time": "2019-04-10T21:57:58.227700Z"
    }
   },
   "outputs": [
    {
     "data": {
      "image/png": "[encoded data removed]",
      "text/plain": [
       "<matplotlib.figure.Figure at 0x1ce7d8d2eb8>"
      ]
     },
     "metadata": {
      "needs_background": "light"
     },
     "output_type": "display_data"
    }
   ],
   "source": [
    "# Verificando para os demais\n",
    "i = 0\n",
    "digitos = [2500, 3000, 4000]\n",
    "fig, ax = plt.subplots(1, 3, figsize=(10, 3))\n",
    "for axe in ax:\n",
    "    digito = X[digitos[i]]\n",
    "    imagem_digito = digito.reshape(20, 20).T\n",
    "    axe.imshow(imagem_digito, cmap=matplotlib.cm.binary,\n",
    "              interpolation='nearest')\n",
    "    label = y[digitos[i]]\n",
    "    axe.set_title(f'Label: {label}')\n",
    "    axe.axis('off')\n",
    "    i+=1\n",
    "plt.show()"
   ]
  },
  {
   "cell_type": "markdown",
   "metadata": {},
   "source": [
    "__Perfeito!__ Compartilhando suspeita:\n",
    "\n",
    "Como a imagem estava espelhada, a suspeita levantada era que, de alguma forma, os dados das colunas estavam localizados nas linhas da matriz que representa a imagem (e vice e versa). Em outras palavras, significa dizer que os pixels brilhantes que deveriam estar nas colunas, estavam nas linhas, assim como os pixels brilhantes que estavam nas linhas, deveriam estar nas colunas.\n",
    "\n",
    "Para confirmar a suspeita, foi aplicada uma transposição na matriz da imagem após o ```.reshape(20, 20)```, transformando o que é linha, em coluna e o que é coluna, em linha."
   ]
  },
  {
   "cell_type": "markdown",
   "metadata": {},
   "source": [
    "__Plotando grid de imagens:__"
   ]
  },
  {
   "cell_type": "code",
   "execution_count": 15,
   "metadata": {
    "ExecuteTime": {
     "end_time": "2019-04-10T21:58:01.323845Z",
     "start_time": "2019-04-10T21:57:58.563421Z"
    }
   },
   "outputs": [
    {
     "data": {
      "image/png": "[encoded data removed]",
      "text/plain": [
       "<matplotlib.figure.Figure at 0x1ce7d8fbac8>"
      ]
     },
     "metadata": {
      "needs_background": "light"
     },
     "output_type": "display_data"
    }
   ],
   "source": [
    "# settings\n",
    "h, w = 10, 10        # for raster image\n",
    "nrows, ncols = 7, 7  # array of sub-plots\n",
    "figsize = [12, 12]     # figure size, inches\n",
    "\n",
    "# prep (x,y) for extra plotting on selected sub-plots\n",
    "xs = np.linspace(0, 2*np.pi, 60)  # from 0 to 2pi\n",
    "ys = np.abs(np.sin(xs))           # absolute of sine\n",
    "\n",
    "# create figure (fig), and array of axes (ax)\n",
    "fig, ax = plt.subplots(nrows=nrows, ncols=ncols, figsize=figsize)\n",
    "\n",
    "# plot simple raster image on each sub-plot\n",
    "for i, axi in enumerate(ax.flat):\n",
    "    # i runs from 0 to (nrows*ncols-1)\n",
    "    # axi is equivalent with ax[rowid][colid]\n",
    "    rnd = np.random.randint(0, 5000)\n",
    "    img = X[rnd].reshape(20, 20).T\n",
    "    axi.imshow(img, alpha=0.9)\n",
    "    # get indices of row/column\n",
    "    rowid = i // ncols\n",
    "    colid = i % ncols\n",
    "    # write row/col indices as axes' title for identification\n",
    "    #axi.set_title(\"Row:\"+str(rowid)+\", Col:\"+str(colid))\n",
    "    label = y[rnd]\n",
    "    axi.set_title(f'Label: {label}')\n",
    "    axi.axis('off')\n",
    "\n",
    "# one can access the axes by ax[row_id][col_id]\n",
    "# do additional plotting on ax[row_id][col_id] of your choice\n",
    "#ax[0][2].plot(xs, 3*ys, color='red', linewidth=3)\n",
    "#ax[4][3].plot(ys**2, xs, color='green', linewidth=3)\n",
    "\n",
    "plt.tight_layout(True)\n",
    "plt.show()"
   ]
  },
  {
   "cell_type": "markdown",
   "metadata": {},
   "source": [
    "### Função Custo"
   ]
  },
  {
   "cell_type": "markdown",
   "metadata": {},
   "source": [
    "Como sempre, antes de definir a função custo, vamos definir a função sigmoidal"
   ]
  },
  {
   "cell_type": "code",
   "execution_count": 16,
   "metadata": {
    "ExecuteTime": {
     "end_time": "2019-04-10T21:58:01.331824Z",
     "start_time": "2019-04-10T21:58:01.325839Z"
    }
   },
   "outputs": [],
   "source": [
    "# Definindo função sigmoidal\n",
    "def sigmoid(z):\n",
    "    \"\"\"Função sigmoidal para cálculo da função hyothesis\n",
    "    Input: \n",
    "        z: X.dot(theta)\n",
    "    Output:\n",
    "        h = função sigmoidal\"\"\"\n",
    "    return 1 / (1 + np.exp(-z))"
   ]
  },
  {
   "cell_type": "code",
   "execution_count": 17,
   "metadata": {
    "ExecuteTime": {
     "end_time": "2019-04-10T21:58:01.544256Z",
     "start_time": "2019-04-10T21:58:01.334816Z"
    }
   },
   "outputs": [
    {
     "data": {
      "text/plain": [
       "(400, 1)"
      ]
     },
     "execution_count": 17,
     "metadata": {},
     "output_type": "execute_result"
    }
   ],
   "source": [
    "# Testando\n",
    "[m, n] = X.shape\n",
    "theta_inicial = np.zeros((n, 1))\n",
    "theta_inicial.shape"
   ]
  },
  {
   "cell_type": "code",
   "execution_count": 18,
   "metadata": {
    "ExecuteTime": {
     "end_time": "2019-04-10T21:58:01.664934Z",
     "start_time": "2019-04-10T21:58:01.546250Z"
    }
   },
   "outputs": [
    {
     "data": {
      "text/plain": [
       "array([[0.5],\n",
       "       [0.5],\n",
       "       [0.5],\n",
       "       [0.5],\n",
       "       [0.5]])"
      ]
     },
     "execution_count": 18,
     "metadata": {},
     "output_type": "execute_result"
    }
   ],
   "source": [
    "# Calculando z\n",
    "z = X.dot(theta_inicial)\n",
    "h = sigmoid(z)\n",
    "h[:5]"
   ]
  },
  {
   "cell_type": "markdown",
   "metadata": {},
   "source": [
    "__Função Custo__:\n",
    "\n",
    "\\begin{equation*}\n",
    "    J(\\theta)=\\frac{1}{m}\\sum_{i=1}^{m}\\left[-y^{(i)}\\log{(h_\\theta(x^{(i)}))} -\n",
    "              (1 - y^{(i)})\\log{(1-h_\\theta(x^{(i)}))}\\right]\n",
    "\\end{equation*}"
   ]
  },
  {
   "cell_type": "code",
   "execution_count": 19,
   "metadata": {
    "ExecuteTime": {
     "end_time": "2019-04-10T21:58:01.736740Z",
     "start_time": "2019-04-10T21:58:01.666928Z"
    }
   },
   "outputs": [
    {
     "data": {
      "text/plain": [
       "array([[-868166.84365133]])"
      ]
     },
     "execution_count": 19,
     "metadata": {},
     "output_type": "execute_result"
    }
   ],
   "source": [
    "# Termo 1\n",
    "termo1 = np.log(h).T.dot(-y)\n",
    "termo1"
   ]
  },
  {
   "cell_type": "code",
   "execution_count": 20,
   "metadata": {
    "ExecuteTime": {
     "end_time": "2019-04-10T21:58:01.811541Z",
     "start_time": "2019-04-10T21:58:01.738736Z"
    }
   },
   "outputs": [
    {
     "data": {
      "text/plain": [
       "array([[-782909.74044246]])"
      ]
     },
     "execution_count": 20,
     "metadata": {},
     "output_type": "execute_result"
    }
   ],
   "source": [
    "# Termo 2\n",
    "termo2 = np.log(1 - h).T.dot(1 - y)\n",
    "termo2"
   ]
  },
  {
   "cell_type": "code",
   "execution_count": 21,
   "metadata": {
    "ExecuteTime": {
     "end_time": "2019-04-10T21:58:02.017989Z",
     "start_time": "2019-04-10T21:58:01.814534Z"
    }
   },
   "outputs": [
    {
     "data": {
      "text/plain": [
       "array([[-85257.10320887]])"
      ]
     },
     "execution_count": 21,
     "metadata": {},
     "output_type": "execute_result"
    }
   ],
   "source": [
    "termo1 - termo2"
   ]
  },
  {
   "cell_type": "markdown",
   "metadata": {},
   "source": [
    "Já é possível identificar um problema: y varia de 1 a 10. Não queremos isso."
   ]
  },
  {
   "cell_type": "code",
   "execution_count": 22,
   "metadata": {
    "ExecuteTime": {
     "end_time": "2019-04-10T21:58:02.124704Z",
     "start_time": "2019-04-10T21:58:02.019985Z"
    }
   },
   "outputs": [
    {
     "data": {
      "text/plain": [
       "array([ 1,  2,  3,  4,  5,  6,  7,  8,  9, 10], dtype=uint8)"
      ]
     },
     "execution_count": 22,
     "metadata": {},
     "output_type": "execute_result"
    }
   ],
   "source": [
    "# Valores únicos do array\n",
    "np.unique(y)"
   ]
  },
  {
   "cell_type": "code",
   "execution_count": 23,
   "metadata": {
    "ExecuteTime": {
     "end_time": "2019-04-10T21:58:02.285791Z",
     "start_time": "2019-04-10T21:58:02.130688Z"
    }
   },
   "outputs": [
    {
     "data": {
      "text/plain": [
       "array([[10],\n",
       "       [10],\n",
       "       [10],\n",
       "       [10],\n",
       "       [10]], dtype=uint8)"
      ]
     },
     "execution_count": 23,
     "metadata": {},
     "output_type": "execute_result"
    }
   ],
   "source": [
    "# Verificando primeiras linhas\n",
    "y[:5]"
   ]
  },
  {
   "cell_type": "code",
   "execution_count": 24,
   "metadata": {
    "ExecuteTime": {
     "end_time": "2019-04-10T21:58:02.711136Z",
     "start_time": "2019-04-10T21:58:02.290261Z"
    }
   },
   "outputs": [
    {
     "data": {
      "text/plain": [
       "array([10, 10, 10, ...,  9,  9,  9], dtype=uint8)"
      ]
     },
     "execution_count": 24,
     "metadata": {},
     "output_type": "execute_result"
    }
   ],
   "source": [
    "y_reshaped = y.reshape(-1)\n",
    "y_reshaped"
   ]
  },
  {
   "cell_type": "code",
   "execution_count": 25,
   "metadata": {
    "ExecuteTime": {
     "end_time": "2019-04-10T21:58:02.871707Z",
     "start_time": "2019-04-10T21:58:02.713129Z"
    }
   },
   "outputs": [
    {
     "data": {
      "text/plain": [
       "array([ True,  True,  True,  True,  True])"
      ]
     },
     "execution_count": 25,
     "metadata": {},
     "output_type": "execute_result"
    }
   ],
   "source": [
    "# Verificando se é um 0\n",
    "y_mod = (y_reshaped == 10)\n",
    "y_mod[:5]"
   ]
  },
  {
   "cell_type": "code",
   "execution_count": 26,
   "metadata": {
    "ExecuteTime": {
     "end_time": "2019-04-10T21:58:03.035270Z",
     "start_time": "2019-04-10T21:58:02.873701Z"
    }
   },
   "outputs": [
    {
     "data": {
      "text/plain": [
       "array([1, 1, 1, ..., 0, 0, 0])"
      ]
     },
     "execution_count": 26,
     "metadata": {},
     "output_type": "execute_result"
    }
   ],
   "source": [
    "# Multiplicando por 1\n",
    "y_mod * 1"
   ]
  },
  {
   "cell_type": "code",
   "execution_count": 27,
   "metadata": {
    "ExecuteTime": {
     "end_time": "2019-04-10T21:58:03.286597Z",
     "start_time": "2019-04-10T21:58:03.038262Z"
    }
   },
   "outputs": [
    {
     "data": {
      "text/plain": [
       "array([[1., 1.],\n",
       "       [1., 1.],\n",
       "       [1., 1.],\n",
       "       ...,\n",
       "       [1., 0.],\n",
       "       [1., 0.],\n",
       "       [1., 0.]])"
      ]
     },
     "execution_count": 27,
     "metadata": {},
     "output_type": "execute_result"
    }
   ],
   "source": [
    "# Testando um procedimento já realizado\n",
    "bias = np.ones((m, 1))\n",
    "np.c_[(bias, y_mod)]"
   ]
  },
  {
   "cell_type": "code",
   "execution_count": 28,
   "metadata": {
    "ExecuteTime": {
     "end_time": "2019-04-10T21:58:03.393313Z",
     "start_time": "2019-04-10T21:58:03.288593Z"
    }
   },
   "outputs": [
    {
     "data": {
      "text/plain": [
       "array([[0., 1., 1.],\n",
       "       [0., 1., 1.],\n",
       "       [0., 1., 1.],\n",
       "       ...,\n",
       "       [0., 1., 0.],\n",
       "       [0., 1., 0.],\n",
       "       [0., 1., 0.]])"
      ]
     },
     "execution_count": 28,
     "metadata": {},
     "output_type": "execute_result"
    }
   ],
   "source": [
    "# Testando pra mais de uma concatenação\n",
    "zeros = np.zeros((m, 1))\n",
    "np.c_[(zeros, bias, y_mod)]"
   ]
  },
  {
   "cell_type": "code",
   "execution_count": 29,
   "metadata": {
    "ExecuteTime": {
     "end_time": "2019-04-10T21:58:03.879013Z",
     "start_time": "2019-04-10T21:58:03.395307Z"
    }
   },
   "outputs": [],
   "source": [
    "# Realizando o procedimento para todas as classes\n",
    "y_10 = (y_reshaped == 10)\n",
    "y_9 = (y_reshaped == 9)\n",
    "stack = np.c_[(y_9, y_10)]\n",
    "\n",
    "for i in range(len(np.unique(y))-2, 0, -1):\n",
    "    y_i = (y_reshaped == i)\n",
    "    stack = np.c_[(y_i, stack)]"
   ]
  },
  {
   "cell_type": "code",
   "execution_count": 30,
   "metadata": {
    "ExecuteTime": {
     "end_time": "2019-04-10T21:58:04.021631Z",
     "start_time": "2019-04-10T21:58:03.883004Z"
    }
   },
   "outputs": [
    {
     "data": {
      "text/plain": [
       "array([[0, 0, 0, ..., 0, 0, 1],\n",
       "       [0, 0, 0, ..., 0, 0, 1],\n",
       "       [0, 0, 0, ..., 0, 0, 1],\n",
       "       ...,\n",
       "       [0, 0, 0, ..., 0, 1, 0],\n",
       "       [0, 0, 0, ..., 0, 1, 0],\n",
       "       [0, 0, 0, ..., 0, 1, 0]])"
      ]
     },
     "execution_count": 30,
     "metadata": {},
     "output_type": "execute_result"
    }
   ],
   "source": [
    "y_encoded = stack * 1\n",
    "y_encoded"
   ]
  },
  {
   "cell_type": "code",
   "execution_count": 31,
   "metadata": {
    "ExecuteTime": {
     "end_time": "2019-04-10T21:58:04.119371Z",
     "start_time": "2019-04-10T21:58:04.024624Z"
    }
   },
   "outputs": [
    {
     "data": {
      "text/plain": [
       "array([[10],\n",
       "       [10],\n",
       "       [10],\n",
       "       ...,\n",
       "       [ 9],\n",
       "       [ 9],\n",
       "       [ 9]], dtype=uint8)"
      ]
     },
     "execution_count": 31,
     "metadata": {},
     "output_type": "execute_result"
    }
   ],
   "source": [
    "# Verificando últimas linhas de y\n",
    "y[:-5]"
   ]
  },
  {
   "cell_type": "code",
   "execution_count": 32,
   "metadata": {
    "ExecuteTime": {
     "end_time": "2019-04-10T21:58:04.403612Z",
     "start_time": "2019-04-10T21:58:04.122364Z"
    }
   },
   "outputs": [
    {
     "data": {
      "text/plain": [
       "(5000, 10)"
      ]
     },
     "execution_count": 32,
     "metadata": {},
     "output_type": "execute_result"
    }
   ],
   "source": [
    "# Verificando novo shape\n",
    "y_encoded.shape"
   ]
  },
  {
   "cell_type": "code",
   "execution_count": 33,
   "metadata": {
    "ExecuteTime": {
     "end_time": "2019-04-10T21:58:04.697825Z",
     "start_time": "2019-04-10T21:58:04.406603Z"
    }
   },
   "outputs": [
    {
     "data": {
      "text/plain": [
       "(5000, 400)"
      ]
     },
     "execution_count": 33,
     "metadata": {},
     "output_type": "execute_result"
    }
   ],
   "source": [
    "# Verificando dados\n",
    "X.shape"
   ]
  },
  {
   "cell_type": "code",
   "execution_count": 34,
   "metadata": {
    "ExecuteTime": {
     "end_time": "2019-04-10T21:58:04.857397Z",
     "start_time": "2019-04-10T21:58:04.700817Z"
    }
   },
   "outputs": [],
   "source": [
    "# Adicionando termo bias\n",
    "m = X.shape[0]\n",
    "bias = np.ones((m))\n",
    "X_train = np.c_[(bias, X)]\n",
    "\n",
    "# Nova matriz de parâmetros\n",
    "n = X_train.shape[1]\n",
    "labels = y_encoded.shape[1]\n",
    "all_theta = np.zeros((labels, n))"
   ]
  },
  {
   "cell_type": "code",
   "execution_count": 35,
   "metadata": {
    "ExecuteTime": {
     "end_time": "2019-04-10T21:58:05.012015Z",
     "start_time": "2019-04-10T21:58:04.858394Z"
    }
   },
   "outputs": [
    {
     "data": {
      "text/plain": [
       "(10, 401)"
      ]
     },
     "execution_count": 35,
     "metadata": {},
     "output_type": "execute_result"
    }
   ],
   "source": [
    "# Verificando\n",
    "all_theta.shape"
   ]
  },
  {
   "cell_type": "code",
   "execution_count": 36,
   "metadata": {
    "ExecuteTime": {
     "end_time": "2019-04-10T21:58:05.163579Z",
     "start_time": "2019-04-10T21:58:05.014978Z"
    }
   },
   "outputs": [
    {
     "data": {
      "text/plain": [
       "(5000, 401)"
      ]
     },
     "execution_count": 36,
     "metadata": {},
     "output_type": "execute_result"
    }
   ],
   "source": [
    "# X após bias\n",
    "X_train.shape"
   ]
  },
  {
   "cell_type": "code",
   "execution_count": 37,
   "metadata": {
    "ExecuteTime": {
     "end_time": "2019-04-10T21:58:05.261317Z",
     "start_time": "2019-04-10T21:58:05.169564Z"
    }
   },
   "outputs": [
    {
     "data": {
      "text/plain": [
       "(5000, 10)"
      ]
     },
     "execution_count": 37,
     "metadata": {},
     "output_type": "execute_result"
    }
   ],
   "source": [
    "# Labels\n",
    "y_encoded.shape"
   ]
  },
  {
   "cell_type": "code",
   "execution_count": 38,
   "metadata": {
    "ExecuteTime": {
     "end_time": "2019-04-10T21:58:05.553535Z",
     "start_time": "2019-04-10T21:58:05.266305Z"
    }
   },
   "outputs": [
    {
     "data": {
      "text/plain": [
       "array([[0., 0., 0., ..., 0., 0., 0.],\n",
       "       [0., 0., 0., ..., 0., 0., 0.],\n",
       "       [0., 0., 0., ..., 0., 0., 0.],\n",
       "       ...,\n",
       "       [0., 0., 0., ..., 0., 0., 0.],\n",
       "       [0., 0., 0., ..., 0., 0., 0.],\n",
       "       [0., 0., 0., ..., 0., 0., 0.]])"
      ]
     },
     "execution_count": 38,
     "metadata": {},
     "output_type": "execute_result"
    }
   ],
   "source": [
    "# Testando previsão\n",
    "X_train.dot(all_theta.T)"
   ]
  },
  {
   "cell_type": "code",
   "execution_count": 39,
   "metadata": {
    "ExecuteTime": {
     "end_time": "2019-04-10T21:58:06.219755Z",
     "start_time": "2019-04-10T21:58:05.555531Z"
    }
   },
   "outputs": [
    {
     "data": {
      "text/plain": [
       "(5000, 10)"
      ]
     },
     "execution_count": 39,
     "metadata": {},
     "output_type": "execute_result"
    }
   ],
   "source": [
    "# Dimensões\n",
    "X_train.dot(all_theta.T).shape"
   ]
  },
  {
   "cell_type": "code",
   "execution_count": 40,
   "metadata": {
    "ExecuteTime": {
     "end_time": "2019-04-10T21:58:07.544213Z",
     "start_time": "2019-04-10T21:58:06.221750Z"
    }
   },
   "outputs": [
    {
     "data": {
      "text/plain": [
       "array([[0., 0., 0., ..., 0., 0., 1.],\n",
       "       [0., 0., 0., ..., 0., 0., 1.],\n",
       "       [0., 0., 0., ..., 0., 0., 1.],\n",
       "       ...,\n",
       "       [0., 0., 0., ..., 0., 1., 0.],\n",
       "       [0., 0., 0., ..., 0., 1., 0.],\n",
       "       [0., 0., 0., ..., 0., 1., 0.]])"
      ]
     },
     "execution_count": 40,
     "metadata": {},
     "output_type": "execute_result"
    }
   ],
   "source": [
    "# Testando termos da função custo\n",
    "y_encoded - X_train.dot(all_theta.T)"
   ]
  },
  {
   "cell_type": "code",
   "execution_count": 42,
   "metadata": {
    "ExecuteTime": {
     "end_time": "2019-04-10T22:00:38.037648Z",
     "start_time": "2019-04-10T22:00:38.014709Z"
    }
   },
   "outputs": [
    {
     "data": {
      "text/plain": [
       "array([[-868166.84365132],\n",
       "       [-868166.84365132],\n",
       "       [-868166.84365132],\n",
       "       [-868166.84365132],\n",
       "       [-868166.84365132],\n",
       "       [-868166.84365132],\n",
       "       [-868166.84365132],\n",
       "       [-868166.84365132],\n",
       "       [-868166.84365132],\n",
       "       [-868166.84365132]])"
      ]
     },
     "execution_count": 42,
     "metadata": {},
     "output_type": "execute_result"
    }
   ],
   "source": [
    "h = sigmoid(X_train.dot(all_theta.T))\n",
    "np.log(h).T.dot(-y)"
   ]
  },
  {
   "cell_type": "markdown",
   "metadata": {},
   "source": [
    "\\begin{equation*}\n",
    "    J(\\theta)=\\frac{1}{m}\\sum_{i=1}^{m}\\left[-y^{(i)}\\log{(h_\\theta(x^{(i)}))} -\n",
    "              (1 - y^{(i)})\\log{(1-h_\\theta(x^{(i)}))}\\right]\n",
    "\\end{equation*}"
   ]
  },
  {
   "cell_type": "code",
   "execution_count": 43,
   "metadata": {
    "ExecuteTime": {
     "end_time": "2019-04-10T22:00:39.748570Z",
     "start_time": "2019-04-10T22:00:39.738596Z"
    }
   },
   "outputs": [
    {
     "data": {
      "text/plain": [
       "array([[-782909.74044243],\n",
       "       [-782909.74044243],\n",
       "       [-782909.74044243],\n",
       "       [-782909.74044243],\n",
       "       [-782909.74044243],\n",
       "       [-782909.74044243],\n",
       "       [-782909.74044243],\n",
       "       [-782909.74044243],\n",
       "       [-782909.74044243],\n",
       "       [-782909.74044243]])"
      ]
     },
     "execution_count": 43,
     "metadata": {},
     "output_type": "execute_result"
    }
   ],
   "source": [
    "np.log(1 - h).T.dot(1 - y)"
   ]
  },
  {
   "cell_type": "code",
   "execution_count": 44,
   "metadata": {
    "ExecuteTime": {
     "end_time": "2019-04-10T22:01:03.724300Z",
     "start_time": "2019-04-10T22:00:40.657785Z"
    }
   },
   "outputs": [
    {
     "name": "stdout",
     "output_type": "stream",
     "text": [
      "1 Cost: 0.01517\n",
      "2 Cost: 0.05689\n",
      "3 Cost: 0.06408\n",
      "4 Cost: 0.03721\n",
      "5 Cost: 0.06125\n",
      "6 Cost: 0.02077\n",
      "7 Cost: 0.03378\n",
      "8 Cost: 0.08479\n",
      "9 Cost: 0.07967\n",
      "10 Cost: 0.01046\n",
      "1 Cost: 0.01517\n",
      "2 Cost: 0.05689\n",
      "3 Cost: 0.06408\n",
      "4 Cost: 0.03721\n",
      "5 Cost: 0.06125\n",
      "6 Cost: 0.02077\n",
      "7 Cost: 0.03378\n",
      "8 Cost: 0.08479\n",
      "9 Cost: 0.07967\n",
      "10 Cost: 0.01046\n",
      "Accuracy: 95.06%\n"
     ]
    }
   ],
   "source": [
    "#!/usr/local/Cellar/python/2.7.6/bin/python\n",
    "# -*- coding: utf-8 -*-\n",
    "\n",
    "import sys\n",
    "\n",
    "import scipy.misc, scipy.optimize, scipy.io, scipy.special\n",
    "from numpy import *\n",
    "\n",
    "def sigmoid( z ):\n",
    "\treturn scipy.special.expit(z)\n",
    "\t# return 1.0 / (1.0 + exp( -z ))\n",
    "\n",
    "def computeCost( theta, X, y, lamda ):\n",
    "\tm = shape( X )[0]\n",
    "\thypo \t   = sigmoid( X.dot( theta ) )\n",
    "\tterm1 \t   = log( hypo ).dot( -y )\n",
    "\tterm2 \t   = log( 1.0 - hypo ).dot( 1 - y )\n",
    "\tleft_hand  = (term1 - term2) / m\n",
    "\tright_hand = theta.T.dot( theta ) * lamda / (2*m)\n",
    "\treturn left_hand + right_hand\n",
    "\n",
    "def gradientCost( theta, X, y, lamda ):\n",
    "\tm = shape( X )[0]\n",
    "\tgrad = X.T.dot( sigmoid( X.dot( theta ) ) - y ) / m\n",
    "\tgrad[1:] = grad[1:] + ( (theta[1:] * lamda ) / m )\n",
    "\treturn grad\n",
    "\n",
    "def oneVsAll( X, y, num_classes, lamda ):\n",
    "\tm,n \t\t= shape( X )\n",
    "\tX \t\t\t= c_[ones((m, 1)), X]\n",
    "\tall_theta \t= zeros((n+1, num_classes))\n",
    "\n",
    "\tfor k in range(0, num_classes):\n",
    "\t\ttheta \t\t\t= zeros(( n+1, 1 )).reshape(-1)\n",
    "\t\ttemp_y \t\t\t= ((y == (k+1)) + 0).reshape(-1)\n",
    "\t\tresult \t\t\t= scipy.optimize.fmin_cg( computeCost, fprime=gradientCost, x0=theta, \\\n",
    "\t\t\t\t\t\t\t\t\t\t\t\t  args=(X, temp_y, lamda), maxiter=50, disp=False, full_output=True )\n",
    "\t\tall_theta[:, k] = result[0]\n",
    "\t\tprint(\"%d Cost: %.5f\" % (k+1, result[1]))\n",
    "\n",
    "\t# save( \"all_theta.txt\", all_theta )\n",
    "\treturn all_theta\n",
    "\n",
    "def predictOneVsAll( theta, X, y ):\n",
    "\tm,n = shape( X )\n",
    "\tX \t= c_[ones((m, 1)), X]\n",
    "\n",
    "\tcorrect = 0\n",
    "\tfor i in range(0, m ):\n",
    "\t\tprediction \t= argmax(theta.T.dot( X[i] )) + 1\n",
    "\t\tactual \t\t= y[i]\n",
    "\t\t# print \"prediction = %d actual = %d\" % (prediction, actual)\n",
    "\t\tif actual == prediction:\n",
    "\t\t\tcorrect += 1\n",
    "\tprint(\"Accuracy: %.2f%%\" % (correct * 100.0 / m ))\n",
    "\n",
    "\t\n",
    "def part1_1():\n",
    "\tmat = scipy.io.loadmat('ex3data1.mat')\n",
    "\tX, y = mat['X'], mat['y']\n",
    "\t\n",
    "def part1_2():\n",
    "\tmat = scipy.io.loadmat('ex3data1.mat')\n",
    "\tX, y = mat['X'], mat['y']\n",
    "\n",
    "def part1_3():\n",
    "\tmat = scipy.io.loadmat('ex3data1.mat')\n",
    "\tX, y = mat['X'], mat['y']\n",
    "\tm, n = shape( X )\n",
    "\tinput_layer_size = 400\n",
    "\tnum_labels \t\t = 10\n",
    "\tlamda \t\t\t = 0.1\n",
    "\n",
    "\ttheta = oneVsAll( X, y, num_labels, lamda )\n",
    "\n",
    "def part1_4():\n",
    "\tmat = scipy.io.loadmat('ex3data1.mat')\n",
    "\tX, y \t\t\t = mat['X'], mat['y']\n",
    "\tm, n \t\t\t = shape( X )\n",
    "\tinput_layer_size = 400\n",
    "\tnum_labels \t\t = 10\n",
    "\tlamda \t\t\t = 0.1\n",
    "\n",
    "\ttheta = oneVsAll( X, y, num_labels, lamda )\n",
    "\tpredictOneVsAll( theta, X, y )\n",
    "\n",
    "\n",
    "\n",
    "def main():\n",
    "\tset_printoptions(precision=6, linewidth=200)\n",
    "\tpart1_1()\n",
    "\tpart1_2()\n",
    "\tpart1_3()\n",
    "\tpart1_4()\n",
    "\t\n",
    "if __name__ == '__main__':\n",
    "\tmain()"
   ]
  },
  {
   "cell_type": "code",
   "execution_count": 45,
   "metadata": {
    "ExecuteTime": {
     "end_time": "2019-04-10T22:01:03.734276Z",
     "start_time": "2019-04-10T22:01:03.726296Z"
    }
   },
   "outputs": [
    {
     "data": {
      "text/plain": [
       "array([[10],\n",
       "       [10],\n",
       "       [10],\n",
       "       ...,\n",
       "       [ 9],\n",
       "       [ 9],\n",
       "       [ 9]], dtype=uint8)"
      ]
     },
     "execution_count": 45,
     "metadata": {},
     "output_type": "execute_result"
    }
   ],
   "source": [
    "y"
   ]
  },
  {
   "cell_type": "code",
   "execution_count": 46,
   "metadata": {
    "ExecuteTime": {
     "end_time": "2019-04-10T22:01:04.145448Z",
     "start_time": "2019-04-10T22:01:03.737267Z"
    }
   },
   "outputs": [],
   "source": [
    "temp_y = ((y == (+1)) + 0).reshape(-1)"
   ]
  },
  {
   "cell_type": "code",
   "execution_count": 47,
   "metadata": {
    "ExecuteTime": {
     "end_time": "2019-04-10T22:01:04.334670Z",
     "start_time": "2019-04-10T22:01:04.153345Z"
    }
   },
   "outputs": [
    {
     "data": {
      "text/plain": [
       "0"
      ]
     },
     "execution_count": 47,
     "metadata": {},
     "output_type": "execute_result"
    }
   ],
   "source": [
    "temp_y[1000]"
   ]
  },
  {
   "cell_type": "code",
   "execution_count": 48,
   "metadata": {
    "ExecuteTime": {
     "end_time": "2019-04-10T22:01:04.653718Z",
     "start_time": "2019-04-10T22:01:04.340654Z"
    }
   },
   "outputs": [
    {
     "data": {
      "text/plain": [
       "(401,)"
      ]
     },
     "execution_count": 48,
     "metadata": {},
     "output_type": "execute_result"
    }
   ],
   "source": [
    "theta = np.zeros((n, 1)).reshape(-1)\n",
    "theta.shape"
   ]
  },
  {
   "cell_type": "code",
   "execution_count": 49,
   "metadata": {
    "ExecuteTime": {
     "end_time": "2019-04-10T22:01:05.073145Z",
     "start_time": "2019-04-10T22:01:04.656711Z"
    }
   },
   "outputs": [
    {
     "data": {
      "text/plain": [
       "(5000,)"
      ]
     },
     "execution_count": 49,
     "metadata": {},
     "output_type": "execute_result"
    }
   ],
   "source": [
    "z = X_train.dot(theta)\n",
    "h = sigmoid(z)\n",
    "h.shape"
   ]
  },
  {
   "cell_type": "markdown",
   "metadata": {},
   "source": [
    "\\begin{equation*}\n",
    "    J(\\theta)=\\frac{1}{m}\\sum_{i=1}^{m}\\left[-y^{(i)}\\log{(h_\\theta(x^{(i)}))} -\n",
    "              (1 - y^{(i)})\\log{(1-h_\\theta(x^{(i)}))}\\right]\n",
    "\\end{equation*}"
   ]
  },
  {
   "cell_type": "code",
   "execution_count": 50,
   "metadata": {
    "ExecuteTime": {
     "end_time": "2019-04-10T22:01:05.656879Z",
     "start_time": "2019-04-10T22:01:05.076150Z"
    }
   },
   "outputs": [
    {
     "data": {
      "text/plain": [
       "array([-868166.843651])"
      ]
     },
     "execution_count": 50,
     "metadata": {},
     "output_type": "execute_result"
    }
   ],
   "source": [
    "t1 = np.log(h).T.dot(-y)\n",
    "t1"
   ]
  },
  {
   "cell_type": "code",
   "execution_count": 51,
   "metadata": {
    "ExecuteTime": {
     "end_time": "2019-04-10T22:01:05.935672Z",
     "start_time": "2019-04-10T22:01:05.663867Z"
    }
   },
   "outputs": [
    {
     "data": {
      "text/plain": [
       "array([-782909.740442])"
      ]
     },
     "execution_count": 51,
     "metadata": {},
     "output_type": "execute_result"
    }
   ],
   "source": [
    "t2 = np.log(1 - h).T.dot(1 - y)\n",
    "t2"
   ]
  },
  {
   "cell_type": "markdown",
   "metadata": {},
   "source": [
    "### Nova Abordagem Binária"
   ]
  },
  {
   "cell_type": "markdown",
   "metadata": {},
   "source": [
    "Definindo função custo regularizada:\n",
    "\n",
    "\\begin{equation*}\n",
    "    J(\\theta)=\\frac{1}{m}\\sum_{i=1}^{m}\\left[-y^{(i)}\\log{(h_\\theta(x^{(i)}))} -\n",
    "              (1 - y^{(i)})\\log{(1-h_\\theta(x^{(i)}))}\\right]\n",
    "              + \\frac{\\lambda}{2m}\\sum_{j=1}^{n}\\theta_j^2\n",
    "\\end{equation*}"
   ]
  },
  {
   "cell_type": "code",
   "execution_count": 52,
   "metadata": {
    "ExecuteTime": {
     "end_time": "2019-04-10T22:01:06.195047Z",
     "start_time": "2019-04-10T22:01:05.941658Z"
    }
   },
   "outputs": [
    {
     "name": "stdout",
     "output_type": "stream",
     "text": [
      "Dimensões de X: (5000, 400)\n",
      "Dimensões de y: (5000, 1)\n"
     ]
    }
   ],
   "source": [
    "# Dados brutos de entrada\n",
    "data = sio.loadmat('ex3data1.mat')\n",
    "\n",
    "X = data['X']\n",
    "y = data['y']\n",
    "\n",
    "print(f'Dimensões de X: {X.shape}')\n",
    "print(f'Dimensões de y: {y.shape}')"
   ]
  },
  {
   "cell_type": "code",
   "execution_count": 53,
   "metadata": {
    "ExecuteTime": {
     "end_time": "2019-04-10T22:01:06.389561Z",
     "start_time": "2019-04-10T22:01:06.200032Z"
    }
   },
   "outputs": [
    {
     "data": {
      "text/plain": [
       "array([[10],\n",
       "       [10],\n",
       "       [10],\n",
       "       ...,\n",
       "       [ 9],\n",
       "       [ 9],\n",
       "       [ 9]], dtype=uint8)"
      ]
     },
     "execution_count": 53,
     "metadata": {},
     "output_type": "execute_result"
    }
   ],
   "source": [
    "# Header de y\n",
    "y"
   ]
  },
  {
   "cell_type": "markdown",
   "metadata": {},
   "source": [
    "Para conseguir resultados efetivos através da métodologia ```One vs All```, vamos treinar um número ```k``` de classificadores de acordo com a quantidade ```K``` de labels possíveis. Neste caso, temos 10 classes diferentes (numerais de 0 a 10) e, portanto, vamos realizar o procedimento de treino para 10 possíveis casos."
   ]
  },
  {
   "cell_type": "code",
   "execution_count": 54,
   "metadata": {
    "ExecuteTime": {
     "end_time": "2019-04-10T22:01:06.633609Z",
     "start_time": "2019-04-10T22:01:06.391556Z"
    }
   },
   "outputs": [
    {
     "data": {
      "text/plain": [
       "array([[0],\n",
       "       [0],\n",
       "       [0],\n",
       "       ...,\n",
       "       [0],\n",
       "       [0],\n",
       "       [0]])"
      ]
     },
     "execution_count": 54,
     "metadata": {},
     "output_type": "execute_result"
    }
   ],
   "source": [
    "# Testando para y = 1\n",
    "y1 = (y == 1) * 1\n",
    "y1"
   ]
  },
  {
   "cell_type": "code",
   "execution_count": 55,
   "metadata": {
    "ExecuteTime": {
     "end_time": "2019-04-10T22:01:06.822239Z",
     "start_time": "2019-04-10T22:01:06.636586Z"
    }
   },
   "outputs": [
    {
     "data": {
      "text/plain": [
       "(5000,)"
      ]
     },
     "execution_count": 55,
     "metadata": {},
     "output_type": "execute_result"
    }
   ],
   "source": [
    "# Aplicando reshape\n",
    "y1 = y1.reshape(-1)\n",
    "y1.shape"
   ]
  },
  {
   "cell_type": "markdown",
   "metadata": {},
   "source": [
    "Agora temos um vetor de 5000 elementos, onde o 1 identifica os index onde o label é igual a classe (1, no caso)"
   ]
  },
  {
   "cell_type": "code",
   "execution_count": 56,
   "metadata": {
    "ExecuteTime": {
     "end_time": "2019-04-10T22:01:07.024699Z",
     "start_time": "2019-04-10T22:01:06.825234Z"
    }
   },
   "outputs": [
    {
     "data": {
      "text/plain": [
       "array([0, 0, 0, 0, 0, 0, 0, 0, 0, 0, 0, 0, 0, 0, 0, 0, 0, 0, 0, 0, 0, 0, 0, 0, 0, 0, 0, 0, 0, 0, 0, 0, 0, 0, 0, 0, 0, 0, 0, 0, 0, 0, 0, 0, 0, 0, 0, 0, 0, 0, 1, 1, 1, 1, 1, 1, 1, 1, 1, 1, 1, 1, 1, 1,\n",
       "       1, 1, 1, 1, 1, 1, 1, 1, 1, 1, 1, 1, 1, 1, 1, 1, 1, 1, 1, 1, 1, 1, 1, 1, 1, 1, 1, 1, 1, 1, 1, 1, 1, 1, 1, 1])"
      ]
     },
     "execution_count": 56,
     "metadata": {},
     "output_type": "execute_result"
    }
   ],
   "source": [
    "# Procurando y = 1\n",
    "y1[450:550]"
   ]
  },
  {
   "cell_type": "markdown",
   "metadata": {},
   "source": [
    "Vamos considerar uma matriz de theta para este classificador binário."
   ]
  },
  {
   "cell_type": "code",
   "execution_count": 57,
   "metadata": {
    "ExecuteTime": {
     "end_time": "2019-04-10T22:01:07.248114Z",
     "start_time": "2019-04-10T22:01:07.028688Z"
    }
   },
   "outputs": [
    {
     "data": {
      "text/plain": [
       "(401,)"
      ]
     },
     "execution_count": 57,
     "metadata": {},
     "output_type": "execute_result"
    }
   ],
   "source": [
    "# Adicionando bias\n",
    "X_train = np.c_[(np.ones((m, 1)), X)]\n",
    "\n",
    "# Matriz de theta\n",
    "[m, n] = X_train.shape\n",
    "theta1 = np.zeros((n, 1))\n",
    "theta1 = theta1.reshape(-1)\n",
    "theta1.shape"
   ]
  },
  {
   "cell_type": "markdown",
   "metadata": {},
   "source": [
    "Agora sim podemos calcular nossa função custo seguindo os meios normais!"
   ]
  },
  {
   "cell_type": "code",
   "execution_count": 58,
   "metadata": {
    "ExecuteTime": {
     "end_time": "2019-04-10T22:01:07.487249Z",
     "start_time": "2019-04-10T22:01:07.250110Z"
    }
   },
   "outputs": [
    {
     "data": {
      "text/plain": [
       "(5000,)"
      ]
     },
     "execution_count": 58,
     "metadata": {},
     "output_type": "execute_result"
    }
   ],
   "source": [
    "# Calculando hypothesis\n",
    "z = X_train.dot(theta)\n",
    "h = sigmoid(z)\n",
    "h.shape"
   ]
  },
  {
   "cell_type": "code",
   "execution_count": 59,
   "metadata": {
    "ExecuteTime": {
     "end_time": "2019-04-10T22:01:07.634812Z",
     "start_time": "2019-04-10T22:01:07.491198Z"
    }
   },
   "outputs": [
    {
     "data": {
      "text/plain": [
       "array([0.5, 0.5, 0.5, 0.5, 0.5])"
      ]
     },
     "execution_count": 59,
     "metadata": {},
     "output_type": "execute_result"
    }
   ],
   "source": [
    "# Verificnado\n",
    "h[:5]"
   ]
  },
  {
   "cell_type": "markdown",
   "metadata": {},
   "source": [
    "\\begin{equation*}\n",
    "    J(\\theta)=\\frac{1}{m}\\sum_{i=1}^{m}\\left[-y^{(i)}\\log{(h_\\theta(x^{(i)}))} -\n",
    "              (1 - y^{(i)})\\log{(1-h_\\theta(x^{(i)}))}\\right]\n",
    "              + \\frac{\\lambda}{2m}\\sum_{j=1}^{n}\\theta_j^2\n",
    "\\end{equation*}"
   ]
  },
  {
   "cell_type": "code",
   "execution_count": 60,
   "metadata": {
    "ExecuteTime": {
     "end_time": "2019-04-10T22:01:07.817933Z",
     "start_time": "2019-04-10T22:01:07.636807Z"
    }
   },
   "outputs": [],
   "source": [
    "# Calculando custo\n",
    "lamda = 0.1\n",
    "termo1 = np.log(h).T.dot(-y)\n",
    "termo2 = np.log(1 - h).T.dot(1 - y)\n",
    "unreg = termo1 - termo2\n",
    "reg = (lamda/(2*m)) * theta.T.dot(theta)\n",
    "\n",
    "J = unreg + reg"
   ]
  },
  {
   "cell_type": "markdown",
   "metadata": {
    "ExecuteTime": {
     "end_time": "2019-04-10T20:43:24.847685Z",
     "start_time": "2019-04-10T20:43:24.842719Z"
    }
   },
   "source": [
    "Para cada uma das classes, devemos:\n",
    "    - Indexar corretamente o vetor y para uma única classe;\n",
    "    - Criar um vetor de parâmetros específico considerando uma única classe;\n",
    "    - Minimizar a função custo para obter os melhores parâmetros;\n",
    "    - Finalizar treinamento do classificador binário;\n",
    "    - Adicionar os parâmetros theta a uma matriz all_theta que irá contemplar todas as classes."
   ]
  },
  {
   "cell_type": "markdown",
   "metadata": {},
   "source": [
    "Para concluir os passos acima e, considerando ```K``` classificadores binários, devemos:\n",
    "    - Definir uma função que compute o Custo;\n",
    "    - Definir uma função que compute o Gradiente;\n",
    "    - Definir uma função para minimizar o Custo e obter os melhores theta;\n",
    "    - Definir uma função que englobe tudo isso."
   ]
  },
  {
   "cell_type": "markdown",
   "metadata": {},
   "source": [
    "#### Função Custo"
   ]
  },
  {
   "cell_type": "markdown",
   "metadata": {},
   "source": [
    "\\begin{equation*}\n",
    "    J(\\theta)=\\frac{1}{m}\\sum_{i=1}^{m}\\left[-y^{(i)}\\log{(h_\\theta(x^{(i)}))} -\n",
    "              (1 - y^{(i)})\\log{(1-h_\\theta(x^{(i)}))}\\right]\n",
    "              + \\frac{\\lambda}{2m}\\sum_{j=1}^{n}\\theta_j^2\n",
    "\\end{equation*}"
   ]
  },
  {
   "cell_type": "code",
   "execution_count": 123,
   "metadata": {
    "ExecuteTime": {
     "end_time": "2019-04-10T23:01:18.444207Z",
     "start_time": "2019-04-10T23:01:18.428250Z"
    }
   },
   "outputs": [],
   "source": [
    "def costFunction(theta, X, y, lamda):\n",
    "    \"\"\" Função responsável por cálcular o custo de um treinamento,\n",
    "    considerando um classificador binário de dígitos (K = 1)\n",
    "    Input:\n",
    "        theta: vetor de parâmetros de dimensões nx1 (classe única já indexada)\n",
    "        X: dataset de dimensões mxn\n",
    "        y: vetor de labels de dimensões mx1 (classe única já indexada)\n",
    "        lamda: fator de regularização\n",
    "    Output:\n",
    "        J: custo do treinamento com os parâmetros indicados\"\"\"\n",
    "    \n",
    "    # Retornando variáveis de dimensão\n",
    "    [m, n] = X.shape\n",
    "    \n",
    "    # Calculando hypothesis\n",
    "    z = X.dot(theta)\n",
    "    h = sigmoid(z)\n",
    "    \n",
    "    # Calculando custo\n",
    "    termo1 = np.log(h).T.dot(y * (-1))\n",
    "    termo2 = np.log(1 - h).T.dot(1 - y)\n",
    "    unreg = termo1 - termo2\n",
    "    reg = theta.T.dot(theta)\n",
    "    \n",
    "    return (unreg + reg) / m"
   ]
  },
  {
   "cell_type": "code",
   "execution_count": 94,
   "metadata": {
    "ExecuteTime": {
     "end_time": "2019-04-10T22:37:34.710214Z",
     "start_time": "2019-04-10T22:37:34.688280Z"
    }
   },
   "outputs": [
    {
     "name": "stdout",
     "output_type": "stream",
     "text": [
      "Dimensões de X_train: (5000, 401)\n",
      "Dimensões de y1: (5000,)\n",
      "Primeiras linhas de y: [0 0 0 0 0 0 0 0 0 0 0 0 0 0 0]\n",
      "Dimensões de theta: (401,)\n"
     ]
    }
   ],
   "source": [
    "# Testando para um classificar binário (digito = 1)\n",
    "m = X.shape[0]\n",
    "X_train = np.c_[(np.ones((m, 1)), X)]\n",
    "n = X_train.shape[1]\n",
    "y1 = ((y == 1) * 1).reshape(-1)\n",
    "theta = np.zeros((n, 1)).reshape(-1)\n",
    "lamda = 0.1\n",
    "\n",
    "print(f'Dimensões de X_train: {X_train.shape}')\n",
    "print(f'Dimensões de y1: {y1.shape}')\n",
    "print(f'Primeiras linhas de y: {y1[:15]}')\n",
    "print(f'Dimensões de theta: {theta.shape}')"
   ]
  },
  {
   "cell_type": "code",
   "execution_count": 95,
   "metadata": {
    "ExecuteTime": {
     "end_time": "2019-04-10T22:37:45.541357Z",
     "start_time": "2019-04-10T22:37:45.534379Z"
    }
   },
   "outputs": [
    {
     "name": "stdout",
     "output_type": "stream",
     "text": [
      "Custo calculado: 0.6931471805599453\n"
     ]
    }
   ],
   "source": [
    "# Chamando função custo\n",
    "J = costFunction(theta, X_train, y1, lamda)\n",
    "print(f'Custo calculado: {J}')"
   ]
  },
  {
   "cell_type": "markdown",
   "metadata": {},
   "source": [
    "Antes de tomar qualquer conclusão, vamos calcular o gradiente e uma função de minimização."
   ]
  },
  {
   "cell_type": "markdown",
   "metadata": {},
   "source": [
    "#### Gradiente"
   ]
  },
  {
   "cell_type": "markdown",
   "metadata": {},
   "source": [
    "\\begin{equation*}\n",
    "    \\frac{\\partial J(\\theta)}{\\partial\\theta_j} = \n",
    "        \\begin{cases} \n",
    "            \\left(\\frac{1}{m}\\sum_{i=1}^m(h_\\theta(x^{(i)})-y^{(i)})x_j^{(i)}\\right)\n",
    "                & \\mbox{para } j\\mbox{ = 0} \\\\\n",
    "            \\left(\\frac{1}{m}\\sum_{i=1}^m(h_\\theta(x^{(i)})-y^{(i)})x_j^{(i)}\\right) +\n",
    "            \\frac{\\lambda}{m}\\theta_j &\\mbox{para } j\\mbox{ >= 1}\n",
    "        \\end{cases}\n",
    "\\end{equation*}  "
   ]
  },
  {
   "cell_type": "code",
   "execution_count": 128,
   "metadata": {
    "ExecuteTime": {
     "end_time": "2019-04-10T23:08:12.705903Z",
     "start_time": "2019-04-10T23:08:12.692939Z"
    }
   },
   "outputs": [],
   "source": [
    "def gradient(theta, X, y, lamda):\n",
    "    \"\"\" Função responsável por cálcular o gradiente (derivadas parciais)\n",
    "    Input:\n",
    "        theta: vetor de parâmetros de dimensão nx1\n",
    "        X: features de dimensões mxn\n",
    "        y: vetor de labels de dimensão mx1\n",
    "        lamda: fator de regularização\n",
    "    Output:\n",
    "        grad: vetor de gradiente com todas as derivadas parciais (nx1)\"\"\"\n",
    "    \n",
    "    # Dimensões\n",
    "    [m, n] = X.shape\n",
    "    \n",
    "    # Calculando gradiente\n",
    "    z = X.dot(theta)\n",
    "    h = sigmoid(z)\n",
    "    grad = X.T.dot(h - y)\n",
    "    grad[1:] = grad[1:] + (lamda/m)*theta[1:]\n",
    "    \n",
    "    return grad"
   ]
  },
  {
   "cell_type": "code",
   "execution_count": 129,
   "metadata": {
    "ExecuteTime": {
     "end_time": "2019-04-10T23:08:14.925967Z",
     "start_time": "2019-04-10T23:08:14.916991Z"
    }
   },
   "outputs": [],
   "source": [
    "# Testando\n",
    "grad = gradient(theta, X_train, y1, lamda)"
   ]
  },
  {
   "cell_type": "code",
   "execution_count": 130,
   "metadata": {
    "ExecuteTime": {
     "end_time": "2019-04-10T23:08:17.494783Z",
     "start_time": "2019-04-10T23:08:17.482814Z"
    }
   },
   "outputs": [
    {
     "data": {
      "text/plain": [
       "array([ 2.000000e+03,  0.000000e+00,  0.000000e+00, -3.872651e-04,  2.458648e-03, -1.164701e-03,  2.984533e-01,  3.009640e-01,  5.768387e-02,  5.077351e-02,  1.090396e-01,  3.525355e-02,\n",
       "       -2.711668e-02, -5.876744e-02, -1.043973e-01, -1.633717e-01, -1.179166e-01, -3.428309e-02, -2.318495e-04,  3.659450e-04,  0.000000e+00,  1.234001e-04, -1.050177e-03,  5.164639e-03,\n",
       "       -9.293038e-02, -1.603880e-01,  4.210963e-01,  1.403214e+00,  2.035603e+00,  1.770619e+00,  6.711758e-01, -2.544750e-01, -5.341581e-01, -6.089224e-01, -7.218186e-01, -2.364683e-01,\n",
       "       -2.408007e-02, -1.275915e-01, -1.350698e-01, -1.947951e-02, -4.429466e-03, -1.058610e-03,  1.148088e-02, -4.547858e-02,  2.353046e-01,  2.030169e+00,  7.085653e+00,  1.210085e+01,\n",
       "        1.362964e+01,  1.014235e+01,  4.919109e+00,  3.149471e+00,  3.054058e+00,  8.242045e+00,  1.977360e+01,  2.523262e+01,  1.528244e+01,  4.861497e+00,  1.349668e+00, -5.223184e-02,\n",
       "        1.578679e-02, -4.422862e-03,  1.585427e-03,  1.061581e-01,  4.384987e+00,  1.453276e+01,  3.518270e+01,  5.299694e+01,  5.722588e+01,  5.393548e+01,  5.318797e+01,  6.518558e+01,\n",
       "        8.452761e+01,  1.153502e+02,  1.480766e+02,  1.546690e+02,  1.067930e+02,  4.265010e+01,  1.012419e+01,  1.657493e+00,  3.633559e-01, -5.158105e-03, -1.305634e-01,  1.237653e+00,\n",
       "        1.449191e+01,  4.640493e+01,  9.241361e+01,  1.373774e+02,  1.583924e+02,  1.744142e+02,  2.092036e+02,  2.553144e+02,  2.914361e+02,  3.201652e+02,  3.627733e+02,  3.878193e+02,\n",
       "        3.080014e+02,  1.472171e+02,  3.798917e+01,  1.019499e+01,  2.294577e+00,  6.680107e-02,  1.261027e-01,  4.415677e+00,  3.854148e+01,  1.183642e+02,  2.237604e+02,  3.253874e+02,\n",
       "        3.864247e+02,  4.441993e+02,  5.190057e+02,  5.592765e+02,  5.510208e+02,  5.297533e+02,  5.462501e+02,  6.025497e+02,  5.584440e+02,  3.278237e+02,  1.120265e+02,  3.676324e+01,\n",
       "        6.430493e+00,  1.342738e-01,  9.114560e-01,  1.276502e+01,  8.699553e+01,  2.447474e+02,  4.479865e+02,  6.043174e+02,  7.060987e+02,  7.759291e+02,  8.293729e+02,  8.243951e+02,\n",
       "        7.609723e+02,  6.614844e+02,  6.143347e+02,  6.794784e+02,  7.124564e+02,  5.174002e+02,  2.188246e+02,  7.020737e+01,  9.958668e+00, -2.657854e-02,  1.529423e+00,  2.929120e+01,\n",
       "        1.750090e+02,  4.449386e+02,  7.357619e+02,  9.227263e+02,  9.867397e+02,  9.678370e+02,  9.484919e+02,  9.259411e+02,  8.544720e+02,  6.843857e+02,  5.865294e+02,  6.739479e+02,\n",
       "        8.263297e+02,  7.312747e+02,  3.446372e+02,  9.551625e+01,  1.296262e+01, -1.134224e-01,  1.696035e+00,  5.279729e+01,  2.883600e+02,  6.576404e+02,  9.789270e+02,  1.098253e+03,\n",
       "        9.873138e+02,  8.580499e+02,  8.460858e+02,  8.899495e+02,  8.268982e+02,  6.006903e+02,  5.087254e+02,  6.925647e+02,  9.504396e+02,  8.936994e+02,  4.272745e+02,  9.642822e+01,\n",
       "        1.426341e+01, -4.507154e-01,  3.933682e+00,  8.394531e+01,  4.041395e+02,  8.368178e+02,  1.105313e+03,  1.021974e+03,  7.222180e+02,  5.726458e+02,  6.343683e+02,  7.810164e+02,\n",
       "        7.485164e+02,  5.622376e+02,  5.700169e+02,  8.312480e+02,  1.056784e+03,  9.125480e+02,  4.257915e+02,  9.370765e+01,  1.511019e+01, -9.938166e-01,  9.287762e+00,  1.214795e+02,\n",
       "        5.091911e+02,  9.638542e+02,  1.091527e+03,  8.001627e+02,  4.326053e+02,  3.616377e+02,  5.723349e+02,  8.341746e+02,  8.649385e+02,  7.944894e+02,  8.347175e+02,  1.007278e+03,\n",
       "        1.069449e+03,  7.990450e+02,  3.568185e+02,  8.716024e+01,  1.397491e+01, -1.396440e+00,  1.706653e+01,  1.512973e+02,  5.524185e+02,  9.781583e+02,  1.040182e+03,  7.274485e+02,\n",
       "        4.735042e+02,  5.491394e+02,  8.705153e+02,  1.138879e+03,  1.138970e+03,  1.051368e+03,  1.029558e+03,  1.084050e+03,  9.751735e+02,  6.330727e+02,  2.632808e+02,  6.886189e+01,\n",
       "        1.034667e+01, -1.906139e+00,  2.035804e+01,  1.405050e+02,  4.830216e+02,  8.603058e+02,  9.936645e+02,  8.605018e+02,  7.722882e+02,  9.000313e+02,  1.128339e+03,  1.236091e+03,\n",
       "        1.166519e+03,  1.060119e+03,  1.036044e+03,  9.954485e+02,  7.632770e+02,  4.326452e+02,  1.625181e+02,  4.308303e+01,  6.189800e+00, -1.455802e+00,  1.468331e+01,  9.175760e+01,\n",
       "        3.308244e+02,  6.687823e+02,  9.099420e+02,  9.567781e+02,  9.372366e+02,  9.573030e+02,  9.601968e+02,  9.292731e+02,  9.012771e+02,  8.730259e+02,  8.423771e+02,  7.290719e+02,\n",
       "        4.907183e+02,  2.475610e+02,  8.641857e+01,  2.098807e+01,  2.207773e+00, -5.328387e-01,  6.752837e+00,  4.444330e+01,  2.009660e+02,  4.724714e+02,  7.360862e+02,  8.404713e+02,\n",
       "        8.050883e+02,  7.140809e+02,  6.331208e+02,  6.092767e+02,  6.248554e+02,  6.257194e+02,  5.632740e+02,  4.464591e+02,  2.696064e+02,  1.213375e+02,  4.469235e+01,  1.227668e+01,\n",
       "        9.314679e-01, -6.313201e-02,  1.589525e+00,  1.464392e+01,  1.032199e+02,  2.799567e+02,  4.561424e+02,  5.233367e+02,  4.672936e+02,  3.847127e+02,  3.533252e+02,  3.590378e+02,\n",
       "        3.683446e+02,  3.578672e+02,  3.065491e+02,  2.178836e+02,  1.178111e+02,  5.100335e+01,  1.915172e+01,  6.127971e+00,  9.160072e-01, -5.947576e-03, -7.645949e-02,  4.439400e+00,\n",
       "        5.116991e+01,  1.468369e+02,  2.312960e+02,  2.400626e+02,  1.958962e+02,  1.684448e+02,  1.743226e+02,  1.824643e+02,  1.809454e+02,  1.656223e+02,  1.342502e+02,  8.930666e+01,\n",
       "        4.590557e+01,  1.835037e+01,  6.331430e+00,  1.852435e+00,  3.144514e-01, -1.339502e-02, -7.111013e-02,  5.112860e-01,  1.725587e+01,  5.828153e+01,  8.724482e+01,  7.150840e+01,\n",
       "        3.963162e+01,  3.728887e+01,  4.901449e+01,  5.258474e+01,  5.362479e+01,  5.265238e+01,  3.807016e+01,  2.498067e+01,  1.349940e+01,  3.719389e+00,  3.338380e-01,  1.690144e-01,\n",
       "       -2.337858e-02,  5.404071e-04, -5.822355e-03, -2.342674e-01,  1.180557e+00,  1.054060e+01,  2.111754e+01,  1.308093e+01,  2.062011e+00,  2.673714e-01,  9.956318e-01,  1.480724e+00,\n",
       "        3.380220e+00,  6.517033e+00,  3.924313e+00,  2.308882e+00,  1.669772e+00,  5.424209e-01, -1.429519e-01, -2.642999e-02, -2.091078e-03,  0.000000e+00,  7.723141e-04, -6.666794e-03,\n",
       "       -7.209444e-02,  7.490712e-01,  1.220572e+00,  2.720783e-01, -4.447667e-02,  2.413700e-01, -1.242675e-01, -1.989374e-01,  5.319837e-02,  1.176239e-01, -6.104257e-01, -6.793103e-02,\n",
       "       -9.043947e-05,  3.883505e-02,  8.666738e-03, -1.030263e-03,  0.000000e+00])"
      ]
     },
     "execution_count": 130,
     "metadata": {},
     "output_type": "execute_result"
    }
   ],
   "source": [
    "# Verificando erro\n",
    "grad"
   ]
  },
  {
   "cell_type": "markdown",
   "metadata": {},
   "source": [
    "Aparentemente funcionou bem. Vamos verificar as dimensões do gradiente."
   ]
  },
  {
   "cell_type": "code",
   "execution_count": 131,
   "metadata": {
    "ExecuteTime": {
     "end_time": "2019-04-10T23:08:39.681703Z",
     "start_time": "2019-04-10T23:08:39.676718Z"
    }
   },
   "outputs": [
    {
     "data": {
      "text/plain": [
       "(401,)"
      ]
     },
     "execution_count": 131,
     "metadata": {},
     "output_type": "execute_result"
    }
   ],
   "source": [
    "# Dimensões\n",
    "grad.shape"
   ]
  },
  {
   "cell_type": "markdown",
   "metadata": {},
   "source": [
    "#### Otimizando Modelo"
   ]
  },
  {
   "cell_type": "markdown",
   "metadata": {},
   "source": [
    "Nos dois últimos problemas realizados até aqui, utilizamos os módulos:\n",
    "    - scipy.optimize.fmin()\n",
    "    - scipy.optimize.minimize()\n",
    "\n",
    "Para este problema, vamos utilizar o módulo\n",
    "    - scipy.optimize.fmin_cg()\n",
    "    \n",
    "Fonte: [fmin_cg()](https://docs.scipy.org/doc/scipy/reference/generated/scipy.optimize.fmin_cg.html)"
   ]
  },
  {
   "cell_type": "code",
   "execution_count": 132,
   "metadata": {
    "ExecuteTime": {
     "end_time": "2019-04-10T23:08:58.789118Z",
     "start_time": "2019-04-10T23:08:58.785130Z"
    }
   },
   "outputs": [],
   "source": [
    "# Importando módulo\n",
    "from scipy import optimize"
   ]
  },
  {
   "cell_type": "code",
   "execution_count": 133,
   "metadata": {
    "ExecuteTime": {
     "end_time": "2019-04-10T23:08:59.068372Z",
     "start_time": "2019-04-10T23:08:59.013517Z"
    }
   },
   "outputs": [
    {
     "name": "stdout",
     "output_type": "stream",
     "text": [
      "Help on function fmin_cg in module scipy.optimize.optimize:\n",
      "\n",
      "fmin_cg(f, x0, fprime=None, args=(), gtol=1e-05, norm=inf, epsilon=1.4901161193847656e-08, maxiter=None, full_output=0, disp=1, retall=0, callback=None)\n",
      "    Minimize a function using a nonlinear conjugate gradient algorithm.\n",
      "    \n",
      "    Parameters\n",
      "    ----------\n",
      "    f : callable, ``f(x, *args)``\n",
      "        Objective function to be minimized.  Here `x` must be a 1-D array of\n",
      "        the variables that are to be changed in the search for a minimum, and\n",
      "        `args` are the other (fixed) parameters of `f`.\n",
      "    x0 : ndarray\n",
      "        A user-supplied initial estimate of `xopt`, the optimal value of `x`.\n",
      "        It must be a 1-D array of values.\n",
      "    fprime : callable, ``fprime(x, *args)``, optional\n",
      "        A function that returns the gradient of `f` at `x`. Here `x` and `args`\n",
      "        are as described above for `f`. The returned value must be a 1-D array.\n",
      "        Defaults to None, in which case the gradient is approximated\n",
      "        numerically (see `epsilon`, below).\n",
      "    args : tuple, optional\n",
      "        Parameter values passed to `f` and `fprime`. Must be supplied whenever\n",
      "        additional fixed parameters are needed to completely specify the\n",
      "        functions `f` and `fprime`.\n",
      "    gtol : float, optional\n",
      "        Stop when the norm of the gradient is less than `gtol`.\n",
      "    norm : float, optional\n",
      "        Order to use for the norm of the gradient\n",
      "        (``-np.Inf`` is min, ``np.Inf`` is max).\n",
      "    epsilon : float or ndarray, optional\n",
      "        Step size(s) to use when `fprime` is approximated numerically. Can be a\n",
      "        scalar or a 1-D array.  Defaults to ``sqrt(eps)``, with eps the\n",
      "        floating point machine precision.  Usually ``sqrt(eps)`` is about\n",
      "        1.5e-8.\n",
      "    maxiter : int, optional\n",
      "        Maximum number of iterations to perform. Default is ``200 * len(x0)``.\n",
      "    full_output : bool, optional\n",
      "        If True, return `fopt`, `func_calls`, `grad_calls`, and `warnflag` in\n",
      "        addition to `xopt`.  See the Returns section below for additional\n",
      "        information on optional return values.\n",
      "    disp : bool, optional\n",
      "        If True, return a convergence message, followed by `xopt`.\n",
      "    retall : bool, optional\n",
      "        If True, add to the returned values the results of each iteration.\n",
      "    callback : callable, optional\n",
      "        An optional user-supplied function, called after each iteration.\n",
      "        Called as ``callback(xk)``, where ``xk`` is the current value of `x0`.\n",
      "    \n",
      "    Returns\n",
      "    -------\n",
      "    xopt : ndarray\n",
      "        Parameters which minimize f, i.e. ``f(xopt) == fopt``.\n",
      "    fopt : float, optional\n",
      "        Minimum value found, f(xopt).  Only returned if `full_output` is True.\n",
      "    func_calls : int, optional\n",
      "        The number of function_calls made.  Only returned if `full_output`\n",
      "        is True.\n",
      "    grad_calls : int, optional\n",
      "        The number of gradient calls made. Only returned if `full_output` is\n",
      "        True.\n",
      "    warnflag : int, optional\n",
      "        Integer value with warning status, only returned if `full_output` is\n",
      "        True.\n",
      "    \n",
      "        0 : Success.\n",
      "    \n",
      "        1 : The maximum number of iterations was exceeded.\n",
      "    \n",
      "        2 : Gradient and/or function calls were not changing.  May indicate\n",
      "            that precision was lost, i.e., the routine did not converge.\n",
      "    \n",
      "    allvecs : list of ndarray, optional\n",
      "        List of arrays, containing the results at each iteration.\n",
      "        Only returned if `retall` is True.\n",
      "    \n",
      "    See Also\n",
      "    --------\n",
      "    minimize : common interface to all `scipy.optimize` algorithms for\n",
      "               unconstrained and constrained minimization of multivariate\n",
      "               functions.  It provides an alternative way to call\n",
      "               ``fmin_cg``, by specifying ``method='CG'``.\n",
      "    \n",
      "    Notes\n",
      "    -----\n",
      "    This conjugate gradient algorithm is based on that of Polak and Ribiere\n",
      "    [1]_.\n",
      "    \n",
      "    Conjugate gradient methods tend to work better when:\n",
      "    \n",
      "    1. `f` has a unique global minimizing point, and no local minima or\n",
      "       other stationary points,\n",
      "    2. `f` is, at least locally, reasonably well approximated by a\n",
      "       quadratic function of the variables,\n",
      "    3. `f` is continuous and has a continuous gradient,\n",
      "    4. `fprime` is not too large, e.g., has a norm less than 1000,\n",
      "    5. The initial guess, `x0`, is reasonably close to `f` 's global\n",
      "       minimizing point, `xopt`.\n",
      "    \n",
      "    References\n",
      "    ----------\n",
      "    .. [1] Wright & Nocedal, \"Numerical Optimization\", 1999, pp. 120-122.\n",
      "    \n",
      "    Examples\n",
      "    --------\n",
      "    Example 1: seek the minimum value of the expression\n",
      "    ``a*u**2 + b*u*v + c*v**2 + d*u + e*v + f`` for given values\n",
      "    of the parameters and an initial guess ``(u, v) = (0, 0)``.\n",
      "    \n",
      "    >>> args = (2, 3, 7, 8, 9, 10)  # parameter values\n",
      "    >>> def f(x, *args):\n",
      "    ...     u, v = x\n",
      "    ...     a, b, c, d, e, f = args\n",
      "    ...     return a*u**2 + b*u*v + c*v**2 + d*u + e*v + f\n",
      "    >>> def gradf(x, *args):\n",
      "    ...     u, v = x\n",
      "    ...     a, b, c, d, e, f = args\n",
      "    ...     gu = 2*a*u + b*v + d     # u-component of the gradient\n",
      "    ...     gv = b*u + 2*c*v + e     # v-component of the gradient\n",
      "    ...     return np.asarray((gu, gv))\n",
      "    >>> x0 = np.asarray((0, 0))  # Initial guess.\n",
      "    >>> from scipy import optimize\n",
      "    >>> res1 = optimize.fmin_cg(f, x0, fprime=gradf, args=args)\n",
      "    Optimization terminated successfully.\n",
      "             Current function value: 1.617021\n",
      "             Iterations: 4\n",
      "             Function evaluations: 8\n",
      "             Gradient evaluations: 8\n",
      "    >>> res1\n",
      "    array([-1.80851064, -0.25531915])\n",
      "    \n",
      "    Example 2: solve the same problem using the `minimize` function.\n",
      "    (This `myopts` dictionary shows all of the available options,\n",
      "    although in practice only non-default values would be needed.\n",
      "    The returned value will be a dictionary.)\n",
      "    \n",
      "    >>> opts = {'maxiter' : None,    # default value.\n",
      "    ...         'disp' : True,    # non-default value.\n",
      "    ...         'gtol' : 1e-5,    # default value.\n",
      "    ...         'norm' : np.inf,  # default value.\n",
      "    ...         'eps' : 1.4901161193847656e-08}  # default value.\n",
      "    >>> res2 = optimize.minimize(f, x0, jac=gradf, args=args,\n",
      "    ...                          method='CG', options=opts)\n",
      "    Optimization terminated successfully.\n",
      "            Current function value: 1.617021\n",
      "            Iterations: 4\n",
      "            Function evaluations: 8\n",
      "            Gradient evaluations: 8\n",
      "    >>> res2.x  # minimum found\n",
      "    array([-1.80851064, -0.25531915])\n",
      "\n"
     ]
    }
   ],
   "source": [
    "# Verificando argumentos\n",
    "help(optimize.fmin_cg)"
   ]
  },
  {
   "cell_type": "code",
   "execution_count": 134,
   "metadata": {
    "ExecuteTime": {
     "end_time": "2019-04-10T23:09:09.158800Z",
     "start_time": "2019-04-10T23:09:04.989948Z"
    }
   },
   "outputs": [],
   "source": [
    "# Vejamos\n",
    "result = scipy.optimize.fmin_cg(computeCost, fprime=gradient, x0=theta,\n",
    "                               args=(X_train, y1, lamda), maxiter=50,\n",
    "                               disp=False, full_output=True)"
   ]
  },
  {
   "cell_type": "code",
   "execution_count": 135,
   "metadata": {
    "ExecuteTime": {
     "end_time": "2019-04-10T23:09:11.565367Z",
     "start_time": "2019-04-10T23:09:11.557389Z"
    }
   },
   "outputs": [
    {
     "data": {
      "text/plain": [
       "(array([-2.976817e+00,  0.000000e+00,  0.000000e+00,  4.743128e-05, -4.374885e-04, -4.836378e-04,  5.123529e-04, -8.032833e-03,  2.064173e-03,  1.647083e-04,  4.781605e-04,  1.060046e-04,\n",
       "         1.049490e-04,  3.733127e-04,  9.436163e-04,  5.024946e-03,  6.838518e-03,  5.758627e-04, -9.716843e-05, -1.284984e-07,  0.000000e+00, -3.290121e-08,  7.424094e-06, -6.178454e-04,\n",
       "         4.899800e-03,  5.713410e-03,  1.233673e-03, -1.062939e-02,  1.946698e-03, -2.805185e-03, -9.091439e-03, -1.308430e-03, -7.696247e-04, -3.184170e-03, -4.638094e-03, -4.796835e-02,\n",
       "        -6.814750e-02,  2.833493e-05,  4.839162e-03,  3.241187e-04,  1.420261e-04,  2.710534e-07, -1.396212e-04,  2.522784e-04,  1.244707e-02,  2.486628e-02,  3.318417e-02,  3.348459e-02,\n",
       "        -4.796570e-02, -6.568554e-02, -2.630016e-02, -2.513165e-02, -2.189829e-03, -1.848592e-02, -1.542909e-01, -2.963157e-01, -2.610054e-01, -7.903695e-02,  2.648305e-02, -6.196077e-05,\n",
       "        -6.713749e-04,  1.257922e-06,  3.835117e-04,  3.572892e-03, -6.451001e-02, -2.451022e-01, -5.030830e-01, -7.482353e-01, -4.475005e-01, -4.044516e-01, -2.133176e-02,  1.518561e-01,\n",
       "        -7.538860e-02, -6.561970e-02, -4.484213e-01, -5.489443e-01, -7.098079e-01, -6.788548e-01, -6.030863e-01, -3.061520e-02, -1.237820e-02,  2.100322e-06,  2.660509e-03, -3.263112e-02,\n",
       "         2.891650e-02,  1.180659e-02, -1.560019e+00, -1.457814e+00, -6.269231e-02,  7.529055e-01,  1.116166e+00,  1.055873e-01, -2.743217e-01, -2.969959e-01, -1.077710e+00, -7.638739e-01,\n",
       "         1.077528e+00,  3.680068e-01, -5.533853e-01, -1.715974e-01, -2.852432e-02, -2.041810e-05, -8.944491e-03, -5.028423e-02,  8.771596e-01,  2.083568e-01, -7.488309e-01, -1.162069e+00,\n",
       "        -3.857267e-01,  1.309585e+00,  8.904601e-01, -8.330088e-01, -6.357577e-01, -5.033367e-01, -1.560513e+00, -1.028579e+00,  2.225627e+00,  7.792074e-01, -1.862073e+00, -5.218793e-01,\n",
       "        -3.137927e-02, -8.261360e-05,  8.037646e-03, -4.147312e-01, -2.591122e-01, -3.912773e-01, -1.229563e+00, -8.291276e-01, -6.988830e-01, -2.442535e-01, -7.503608e-01, -7.500166e-01,\n",
       "        -5.287173e-01, -5.260091e-01, -1.046863e+00, -1.323778e+00, -1.064523e+00, -1.758611e-01, -1.269728e+00, -7.949676e-01, -2.518145e-02, -3.634822e-04,  3.067927e-02, -9.484254e-01,\n",
       "        -1.734694e+00, -9.576276e-01, -1.057409e+00, -1.450176e-01, -5.532945e-01,  1.771555e-01, -1.964265e+00, -1.836553e+00, -8.531716e-01, -1.503934e+00,  4.423922e-01,  1.507785e+00,\n",
       "        -3.634846e-01, -4.136894e-01, -3.233181e-01, -1.559140e+00, -2.422264e-02,  9.386969e-03, -1.076163e-01, -6.938438e-01, -7.445851e-01, -1.468937e+00, -1.082854e+00,  2.709564e-01,\n",
       "         2.697498e-01, -4.214344e-01, -1.891651e+00, -6.891644e-01, -1.773588e-03, -1.026713e+00, -1.023564e+00,  4.578720e-01, -2.697143e-01, -7.970027e-01, -1.166825e+00, -1.951442e+00,\n",
       "        -2.929707e-01,  1.895248e-02, -2.159135e-01, -1.376277e-01, -4.488751e-01, -8.216277e-01, -6.028344e-01, -3.845505e-01,  7.382488e-02,  2.949805e-01,  6.897728e-01,  1.268852e+00,\n",
       "         7.536381e-01,  5.739660e-01,  4.836547e-01, -3.384230e-02, -1.266734e+00, -3.021029e-01, -5.164277e-01, -1.386890e+00, -9.813065e-02,  1.159093e-02, -1.092945e-01,  2.676676e-01,\n",
       "        -7.597633e-01, -1.401578e+00,  8.053844e-02, -1.760818e-01,  6.621336e-01,  2.641696e+00,  2.652915e+00,  1.523385e+00,  1.650008e+00,  3.272660e-01,  8.549473e-01,  2.990961e-01,\n",
       "        -2.041728e-02, -1.286992e-01, -1.423334e+00, -1.066905e+00, -1.024425e-03,  4.507604e-03, -1.066403e-01,  3.664118e-01,  1.428690e+00,  2.150175e-01, -6.896976e-01, -5.955158e-01,\n",
       "         1.334519e+00,  1.230017e+00,  4.581235e-01, -1.792982e-01,  2.257424e-01, -1.582258e+00, -1.062379e+00,  4.360413e-01,  5.453154e-01,  5.072984e-01, -1.790690e+00, -1.111068e+00,\n",
       "        -7.896069e-02,  1.704542e-02, -1.638107e-01, -1.367883e+00, -1.425617e+00, -8.227842e-01, -1.572915e+00, -5.491033e-01, -2.179883e-01,  2.004095e-01,  3.566370e-01,  7.395422e-01,\n",
       "         3.611665e-01, -1.115186e+00, -7.669637e-01, -5.028169e-01, -5.825851e-01,  1.422812e+00,  3.149528e-01, -4.808649e-01, -7.563349e-02,  1.483710e-02, -1.786947e-01, -8.100177e-01,\n",
       "         4.693072e-01,  7.274129e-01,  1.354060e+00, -4.909087e-01, -9.672033e-01,  4.437706e-01, -1.074340e+00, -1.163407e+00, -1.697955e+00, -7.562350e-01,  9.260369e-01,  1.083218e+00,\n",
       "        -6.353652e-01,  7.486236e-01,  3.917674e-01, -2.997707e-01, -1.736386e-02,  2.294230e-03, -2.007635e-02, -3.999850e-01, -2.958188e-01,  1.452232e-01, -1.607364e-01, -1.117981e+00,\n",
       "        -1.044256e+00, -1.685172e+00, -1.517385e+00, -9.476851e-01, -1.289136e+00, -8.331361e-01,  1.136969e+00, -5.011675e-01, -4.827833e-01,  1.027628e+00, -4.395406e-01, -2.494479e-01,\n",
       "        -1.204681e-02, -5.077139e-05,  1.768884e-03, -6.737447e-02, -4.333904e-01, -3.608072e-01,  2.697781e-01, -9.028791e-01, -1.225116e+00, -8.886699e-01, -6.753840e-01, -8.525531e-01,\n",
       "        -1.075975e+00, -1.004121e+00, -7.894766e-01, -5.060206e-01,  2.459394e-01,  1.488230e-01, -5.999031e-01, -9.095583e-03, -3.759575e-03, -2.152436e-05, -1.109635e-02,  7.160837e-02,\n",
       "         5.379775e-01, -2.628280e-01, -7.808729e-01, -1.131518e+00, -7.587272e-01, -3.777750e-01, -2.967061e-01, -2.268393e-01, -3.613890e-01, -6.752278e-01, -6.588457e-03,  3.548071e-01,\n",
       "         2.781269e-01, -1.739207e-01, -1.523188e-01, -1.924954e-02, -1.263681e-03,  2.293793e-05, -4.750606e-03,  3.317492e-02,  2.534182e-01, -4.833257e-01, -9.708758e-01, -7.131109e-01,\n",
       "        -1.616478e-01, -9.153124e-02, -2.185396e-01, -6.850972e-02, -1.312850e-01, -3.191309e-01,  1.567969e-01,  1.240114e+00,  1.350359e+00,  2.939942e-01, -8.366044e-02, -1.257276e-02,\n",
       "         8.415318e-04, -7.982745e-07,  6.698808e-04,  1.412105e-03, -7.887374e-02, -2.291648e-01, -1.928119e-01, -1.988092e-01,  2.604992e-01,  1.877732e-01, -8.101323e-02,  1.312539e-01,\n",
       "         3.722132e-03, -1.070395e-01, -2.718891e-02,  2.674182e-01,  7.948626e-01,  2.007515e-01, -2.164554e-02,  7.679732e-04, -1.655574e-05,  0.000000e+00, -3.970764e-05,  1.019735e-03,\n",
       "        -4.690210e-03, -9.416434e-03, -1.583991e-02,  2.270102e-03, -2.957917e-02, -2.619738e-02,  2.089849e-03,  2.306014e-02,  2.357714e-03,  1.435417e-02,  1.496618e-01, -8.631755e-03,\n",
       "        -7.125640e-02, -1.771147e-02,  2.194368e-03,  2.119161e-07,  0.000000e+00]),\n",
       " 0.01635050622036764,\n",
       " 1124,\n",
       " 1124,\n",
       " 1)"
      ]
     },
     "execution_count": 135,
     "metadata": {},
     "output_type": "execute_result"
    }
   ],
   "source": [
    "# Verificando\n",
    "result"
   ]
  },
  {
   "cell_type": "code",
   "execution_count": 137,
   "metadata": {
    "ExecuteTime": {
     "end_time": "2019-04-10T23:10:14.752240Z",
     "start_time": "2019-04-10T23:10:14.745259Z"
    }
   },
   "outputs": [
    {
     "name": "stdout",
     "output_type": "stream",
     "text": [
      "Cost: 0.01635050622036764\n",
      "Theta shape: (401,)\n"
     ]
    }
   ],
   "source": [
    "# Interpretando resultado\n",
    "theta = result[0]\n",
    "cost = result[1]\n",
    "\n",
    "print(f'Cost: {cost}')\n",
    "print(f'Theta shape: {theta.shape}')"
   ]
  },
  {
   "cell_type": "markdown",
   "metadata": {},
   "source": [
    "### Classificador Multi Classe"
   ]
  },
  {
   "cell_type": "markdown",
   "metadata": {},
   "source": [
    "Após o aparente sucesso na classificação binária, vamos expandir os cálculos para todas as classes."
   ]
  },
  {
   "cell_type": "code",
   "execution_count": 142,
   "metadata": {
    "ExecuteTime": {
     "end_time": "2019-04-10T23:31:59.602672Z",
     "start_time": "2019-04-10T23:31:36.155362Z"
    }
   },
   "outputs": [
    {
     "name": "stdout",
     "output_type": "stream",
     "text": [
      "Custo classe 1: 0.01635050622036764\n",
      "Custo classe 2: 0.05723545648365058\n",
      "Custo classe 3: 0.062027568038251164\n",
      "Custo classe 4: 0.03746326453019381\n",
      "Custo classe 5: 0.06127988762752769\n",
      "Custo classe 6: 0.022219525972190728\n",
      "Custo classe 7: 0.03499951651049976\n",
      "Custo classe 8: 0.08473976821922251\n",
      "Custo classe 9: 0.08085955670177353\n",
      "Custo classe 10: 0.011685368513978143\n"
     ]
    }
   ],
   "source": [
    "# Retornando parâmetros\n",
    "[m, n] = X_train.shape\n",
    "lamda = 0.1\n",
    "num_classes = 10\n",
    "all_theta = np.zeros((n, num_classes))\n",
    "\n",
    "for k in range(1, num_classes+1):\n",
    "    theta = np.zeros((n, 1)).reshape(-1)\n",
    "    y_class = ((y == k) * 1).reshape(-1)\n",
    "    result = scipy.optimize.fmin_cg(computeCost, fprime=gradient, x0=theta,\n",
    "                               args=(X_train, y_class, lamda), maxiter=50,\n",
    "                               disp=False, full_output=True)\n",
    "    all_theta[:, k-1] = result[0]\n",
    "    print(f'Custo classe {k}: {result[1]}')"
   ]
  },
  {
   "cell_type": "code",
   "execution_count": 143,
   "metadata": {
    "ExecuteTime": {
     "end_time": "2019-04-10T23:34:24.662159Z",
     "start_time": "2019-04-10T23:34:24.656174Z"
    }
   },
   "outputs": [
    {
     "data": {
      "text/plain": [
       "(401, 10)"
      ]
     },
     "execution_count": 143,
     "metadata": {},
     "output_type": "execute_result"
    }
   ],
   "source": [
    "# Dimensões da matriz de theta\n",
    "all_theta.shape"
   ]
  },
  {
   "cell_type": "code",
   "execution_count": 144,
   "metadata": {
    "ExecuteTime": {
     "end_time": "2019-04-10T23:41:43.082384Z",
     "start_time": "2019-04-10T23:41:43.049327Z"
    }
   },
   "outputs": [],
   "source": [
    "# Encapsulando em uma função\n",
    "def trainOneVsAll(X, y, num_classes, lamda):\n",
    "    \"\"\"Função responsável por realizar o treinamento utiliando o método One vs All\n",
    "    Input:\n",
    "        X: features de dimensões mxn+1\n",
    "        y: vetor de labels de dimensões mx1\n",
    "        num_classes: quantidade de classes do modelo\n",
    "        lamda: fator de regularização\"\"\"\n",
    "    \n",
    "    # Criando matriz para alocar todos os num_classes vetores theta\n",
    "    all_theta = np.zeros((n, num_classes))\n",
    "\n",
    "    for k in range(1, num_classes+1):\n",
    "        theta = np.zeros((n, 1)).reshape(-1)\n",
    "        y_class = ((y == k) * 1).reshape(-1)\n",
    "        result = scipy.optimize.fmin_cg(computeCost, fprime=gradient, x0=theta,\n",
    "                                   args=(X_train, y_class, lamda), maxiter=50,\n",
    "                                   disp=False, full_output=True)\n",
    "        all_theta[:, k-1] = result[0]\n",
    "        print(f'Custo classe {k}: {result[1]}')\n",
    "    \n",
    "    return all_theta"
   ]
  },
  {
   "cell_type": "code",
   "execution_count": 145,
   "metadata": {
    "ExecuteTime": {
     "end_time": "2019-04-10T23:42:32.558936Z",
     "start_time": "2019-04-10T23:42:09.256240Z"
    }
   },
   "outputs": [
    {
     "name": "stdout",
     "output_type": "stream",
     "text": [
      "Custo classe 1: 0.01635050622036764\n",
      "Custo classe 2: 0.05723545648365058\n",
      "Custo classe 3: 0.062027568038251164\n",
      "Custo classe 4: 0.03746326453019381\n",
      "Custo classe 5: 0.06127988762752769\n",
      "Custo classe 6: 0.022219525972190728\n",
      "Custo classe 7: 0.03499951651049976\n",
      "Custo classe 8: 0.08473976821922251\n",
      "Custo classe 9: 0.08085955670177353\n",
      "Custo classe 10: 0.011685368513978143\n"
     ]
    },
    {
     "data": {
      "text/plain": [
       "(401, 10)"
      ]
     },
     "execution_count": 145,
     "metadata": {},
     "output_type": "execute_result"
    }
   ],
   "source": [
    "# Testando\n",
    "full_theta = trainOneVsAll(X_train, y, 10, 0.1)\n",
    "full_theta.shape"
   ]
  },
  {
   "cell_type": "markdown",
   "metadata": {},
   "source": [
    "### Predizendo e Medindo Performance"
   ]
  },
  {
   "cell_type": "code",
   "execution_count": 147,
   "metadata": {
    "ExecuteTime": {
     "end_time": "2019-04-10T23:43:03.420848Z",
     "start_time": "2019-04-10T23:43:03.414865Z"
    }
   },
   "outputs": [
    {
     "data": {
      "text/plain": [
       "5"
      ]
     },
     "execution_count": 147,
     "metadata": {},
     "output_type": "execute_result"
    }
   ],
   "source": [
    "# Testando predições\n",
    "y[2500]"
   ]
  },
  {
   "cell_type": "code",
   "execution_count": 149,
   "metadata": {
    "ExecuteTime": {
     "end_time": "2019-04-10T23:44:07.655085Z",
     "start_time": "2019-04-10T23:44:07.647107Z"
    }
   },
   "outputs": [
    {
     "data": {
      "text/plain": [
       "array([-16.540549,  -9.767432,  -0.9958  , -17.21325 ,   0.391954, -11.495383,  -8.785016, -10.71215 ,  -8.692925, -12.631682])"
      ]
     },
     "execution_count": 149,
     "metadata": {},
     "output_type": "execute_result"
    }
   ],
   "source": [
    "# Predizendo um único elemento\n",
    "full_theta.T.dot(X_train[2500])"
   ]
  },
  {
   "cell_type": "code",
   "execution_count": 150,
   "metadata": {
    "ExecuteTime": {
     "end_time": "2019-04-10T23:44:20.323987Z",
     "start_time": "2019-04-10T23:44:20.317007Z"
    }
   },
   "outputs": [
    {
     "data": {
      "text/plain": [
       "(10,)"
      ]
     },
     "execution_count": 150,
     "metadata": {},
     "output_type": "execute_result"
    }
   ],
   "source": [
    "# Qual o shape\n",
    "full_theta.T.dot(X_train[2500]).shape"
   ]
  },
  {
   "cell_type": "markdown",
   "metadata": {},
   "source": [
    "O código acima indica que o índice do maior elemento desse vetor equivale a classe predita. Vejamos!"
   ]
  },
  {
   "cell_type": "code",
   "execution_count": 152,
   "metadata": {
    "ExecuteTime": {
     "end_time": "2019-04-10T23:45:20.230090Z",
     "start_time": "2019-04-10T23:45:20.224107Z"
    }
   },
   "outputs": [
    {
     "data": {
      "text/plain": [
       "5"
      ]
     },
     "execution_count": 152,
     "metadata": {},
     "output_type": "execute_result"
    }
   ],
   "source": [
    "# Maior elemento\n",
    "np.argmax(full_theta.T.dot(X_train[2500])) + 1"
   ]
  },
  {
   "cell_type": "markdown",
   "metadata": {},
   "source": [
    "Devemos adicionar mais um, pois em Python a indexação começa por 0"
   ]
  },
  {
   "cell_type": "markdown",
   "metadata": {},
   "source": [
    "Expandindo para todos os dados e contabilizando os acertos."
   ]
  },
  {
   "cell_type": "code",
   "execution_count": 155,
   "metadata": {
    "ExecuteTime": {
     "end_time": "2019-04-10T23:48:23.389550Z",
     "start_time": "2019-04-10T23:48:23.238041Z"
    }
   },
   "outputs": [
    {
     "name": "stdout",
     "output_type": "stream",
     "text": [
      "Acertos: 4752\n"
     ]
    }
   ],
   "source": [
    "acertos = 0\n",
    "for i in range(m):\n",
    "    pred = np.argmax(full_theta.T.dot(X_train[i])) + 1\n",
    "    if pred == y[i]:\n",
    "        acertos += 1\n",
    "print(f'Acertos: {acertos}')"
   ]
  },
  {
   "cell_type": "code",
   "execution_count": 157,
   "metadata": {
    "ExecuteTime": {
     "end_time": "2019-04-10T23:48:50.151164Z",
     "start_time": "2019-04-10T23:48:50.146179Z"
    }
   },
   "outputs": [
    {
     "name": "stdout",
     "output_type": "stream",
     "text": [
      "Acurácia: 95.04%\n"
     ]
    }
   ],
   "source": [
    "# Calculando acurácia\n",
    "print(f'Acurácia: {100 * (acertos / m)}%')"
   ]
  },
  {
   "cell_type": "code",
   "execution_count": 158,
   "metadata": {
    "ExecuteTime": {
     "end_time": "2019-04-10T23:51:13.132167Z",
     "start_time": "2019-04-10T23:51:13.119202Z"
    }
   },
   "outputs": [],
   "source": [
    "# Encapsulando em uma função\n",
    "def predictOneVsAll(X, y, theta):\n",
    "    \"\"\"Função responsável pela predição dos valores e cálculo da acurácia do modelo\n",
    "    Input: \n",
    "        X: features nas dimensões mxn+1\n",
    "        y: vetor de labels nas dimensões mx1\n",
    "        theta: vetor de parâmetros (full_theta) nas dimensões nxnum_classes\"\"\"\n",
    "    \n",
    "    [m, n] = X.shape\n",
    "    acertos = 0\n",
    "    for i in range(m):\n",
    "        pred = np.argmax(theta.T.dot(X_train[i])) + 1\n",
    "        if pred == y[i]:\n",
    "            acertos += 1\n",
    "    acc = acertos / m\n",
    "    return acc"
   ]
  },
  {
   "cell_type": "code",
   "execution_count": 160,
   "metadata": {
    "ExecuteTime": {
     "end_time": "2019-04-10T23:51:44.478654Z",
     "start_time": "2019-04-10T23:51:44.415822Z"
    }
   },
   "outputs": [
    {
     "name": "stdout",
     "output_type": "stream",
     "text": [
      "Acurácia final do modelo: 95.04%\n"
     ]
    }
   ],
   "source": [
    "# Testando\n",
    "acc = predictOneVsAll(X_train, y, full_theta)\n",
    "print(f'Acurácia final do modelo: {(100*acc):.2f}%')"
   ]
  },
  {
   "cell_type": "markdown",
   "metadata": {},
   "source": [
    "### Pipeline Completo (Treino e Teste)"
   ]
  },
  {
   "cell_type": "code",
   "execution_count": 68,
   "metadata": {
    "ExecuteTime": {
     "end_time": "2019-04-11T21:37:43.501551Z",
     "start_time": "2019-04-11T21:37:43.485474Z"
    }
   },
   "outputs": [],
   "source": [
    "# Importando bibliotecas\n",
    "import numpy as np\n",
    "import scipy.io as sio\n",
    "import scipy.misc, scipy.optimize, scipy.io, scipy.special\n",
    "import matplotlib.pyplot as plt\n",
    "%matplotlib inline"
   ]
  },
  {
   "cell_type": "code",
   "execution_count": 80,
   "metadata": {
    "ExecuteTime": {
     "end_time": "2019-04-11T21:46:11.003381Z",
     "start_time": "2019-04-11T21:46:10.315563Z"
    },
    "code_folding": []
   },
   "outputs": [],
   "source": [
    "# Encapsulamento de todas as funções do modelo\n",
    "\n",
    "# Função para separação dos dados\n",
    "def split_data(X, y, test_ratio):\n",
    "    \"\"\"Função responsável por separar randomicamente o conjunto de dados\n",
    "    Input:\n",
    "        X: conjunto de dados (features)\n",
    "        y: vetor de classificações (labels)\n",
    "        test_ratio: porcentagem de separação para os dados de teste\n",
    "    Output:\n",
    "        X_train, y_train, X_test, y_test: conjuntos de dados após separação\"\"\"\n",
    "    \n",
    "    # Criando índices aleatórios (com seed)\n",
    "    m = X.shape[0]\n",
    "    indices = np.random.RandomState(seed=42).permutation(m)\n",
    "    \n",
    "    # Embaralhando os dados\n",
    "    X_shuffled = X[indices]\n",
    "    y_shuffled = y[indices]\n",
    "    \n",
    "    # Separando os dados\n",
    "    test_indices = int(m * test_ratio)\n",
    "    X_train = X_shuffled[test_indices:]\n",
    "    X_test = X_shuffled[:test_indices]\n",
    "    y_train = y_shuffled[test_indices:]\n",
    "    y_test = y_shuffled[:test_indices]\n",
    "    \n",
    "    # Retorno da função\n",
    "    return X_train, y_train, X_test, y_test\n",
    "\n",
    "# Função para leitura dos arquivos e preparção do dataset\n",
    "def load_and_prepare_data(test_ratio):\n",
    "    \"\"\"Função responsável por ler os dados e preparar a separação em Treino e Teste\n",
    "    Output:\n",
    "        X_train, y_train, X_test, y_test: conjuntos de dados\"\"\"\n",
    "    \n",
    "    # Lendo arquivos\n",
    "    data = sio.loadmat('ex3data1.mat')\n",
    "    X = np.c_[(np.ones((data['X'].shape[0], 1)), data['X'])] # Já com colunas bias\n",
    "    y = data['y'].reshape(-1)\n",
    "    \n",
    "    # Retornando dados\n",
    "    return split_data(X, y, test_ratio)\n",
    "\n",
    "# Função para plotagem dos dados\n",
    "def plot_data(X, y):\n",
    "    \"\"\"Função responsável por plotar um grid contendo elementos aleatórios do dataset\n",
    "    Input:\n",
    "        X: features\n",
    "        y: labels\"\"\"\n",
    "\n",
    "    # settings\n",
    "    X = X[:, 1:]\n",
    "    h, w = 10, 10        # for raster image\n",
    "    nrows, ncols = 7, 7  # array of sub-plots\n",
    "    figsize = [12, 12]     # figure size, inches\n",
    "\n",
    "    # prep (x,y) for extra plotting on selected sub-plots\n",
    "    xs = np.linspace(0, 2*np.pi, 60)  # from 0 to 2pi\n",
    "    ys = np.abs(np.sin(xs))           # absolute of sine\n",
    "\n",
    "    # create figure (fig), and array of axes (ax)\n",
    "    fig, ax = plt.subplots(nrows=nrows, ncols=ncols, figsize=figsize)\n",
    "\n",
    "    # plot simple raster image on each sub-plot\n",
    "    for i, axi in enumerate(ax.flat):\n",
    "        # i runs from 0 to (nrows*ncols-1)\n",
    "        # axi is equivalent with ax[rowid][colid]\n",
    "        rnd = np.random.randint(0, X.shape[0])\n",
    "        img = X[rnd].reshape(20, 20).T\n",
    "        axi.imshow(img, alpha=0.9)\n",
    "        # get indices of row/column\n",
    "        rowid = i // ncols\n",
    "        colid = i % ncols\n",
    "        # write row/col indices as axes' title for identification\n",
    "        #axi.set_title(\"Row:\"+str(rowid)+\", Col:\"+str(colid))\n",
    "        label = y[rnd]\n",
    "        axi.set_title(f'Label: {label}')\n",
    "        axi.axis('off')\n",
    "\n",
    "    # one can access the axes by ax[row_id][col_id]\n",
    "    # do additional plotting on ax[row_id][col_id] of your choice\n",
    "    #ax[0][2].plot(xs, 3*ys, color='red', linewidth=3)\n",
    "    #ax[4][3].plot(ys**2, xs, color='green', linewidth=3)\n",
    "    plt.tight_layout(True)\n",
    "    plt.show()\n",
    "\n",
    "# Definindo função sigmoidal\n",
    "def sigmoid(z):\n",
    "    \"\"\"Função sigmoidal para cálculo da função hyothesis\n",
    "    Input: \n",
    "        z: X.dot(theta)\n",
    "    Output:\n",
    "        h = função sigmoidal\"\"\"\n",
    "    return 1 / (1 + np.exp(-z))\n",
    "\n",
    "# Função de Custo\n",
    "def costFunction(theta, X, y, lamda):\n",
    "    \"\"\" Função responsável por cálcular o custo de um treinamento,\n",
    "    considerando um classificador binário de dígitos (K = 1)\n",
    "    Input:\n",
    "        theta: vetor de parâmetros de dimensões nx1 (classe única já indexada)\n",
    "        X: dataset de dimensões mxn\n",
    "        y: vetor de labels de dimensões mx1 (classe única já indexada)\n",
    "        lamda: fator de regularização\n",
    "    Output:\n",
    "        J: custo do treinamento com os parâmetros indicados\"\"\"\n",
    "    \n",
    "    # Retornando variáveis de dimensão\n",
    "    [m, n] = X.shape\n",
    "    \n",
    "    # Calculando hypothesis\n",
    "    z = X.dot(theta)\n",
    "    h = sigmoid(z)\n",
    "    \n",
    "    # Calculando custo\n",
    "    termo1 = np.log(h).T.dot(y * (-1))\n",
    "    termo2 = np.log(1 - h).T.dot(1 - y)\n",
    "    unreg = termo1 - termo2\n",
    "    reg = theta.T.dot(theta)\n",
    "    \n",
    "    return (unreg + reg) / m\n",
    "\n",
    "# Cálculo do gradiente\n",
    "def gradient(theta, X, y, lamda):\n",
    "    \"\"\" Função responsável por cálcular o gradiente (derivadas parciais)\n",
    "    Input:\n",
    "        theta: vetor de parâmetros de dimensão nx1\n",
    "        X: features de dimensões mxn\n",
    "        y: vetor de labels de dimensão mx1\n",
    "        lamda: fator de regularização\n",
    "    Output:\n",
    "        grad: vetor de gradiente com todas as derivadas parciais (nx1)\"\"\"\n",
    "    \n",
    "    # Dimensões\n",
    "    [m, n] = X.shape\n",
    "    \n",
    "    # Calculando gradiente\n",
    "    z = X.dot(theta)\n",
    "    h = sigmoid(z)\n",
    "    grad = X.T.dot(h - y)\n",
    "    grad[1:] = grad[1:] + (lamda/m)*theta[1:]\n",
    "    \n",
    "    return grad\n",
    "\n",
    "# Função para treinamento do classificador multiclasse\n",
    "def trainOneVsAll(X, y, num_classes, lamda):\n",
    "    \"\"\"Função responsável por realizar o treinamento utiliando o método One vs All\n",
    "    Input:\n",
    "        X: features de dimensões mxn+1\n",
    "        y: vetor de labels de dimensões mx1\n",
    "        num_classes: quantidade de classes do modelo\n",
    "        lamda: fator de regularização\"\"\"\n",
    "    \n",
    "    # Criando matriz para alocar todos os num_classes vetores theta\n",
    "    [m, n] = X_train.shape\n",
    "    all_theta = np.zeros((n, num_classes))\n",
    "\n",
    "    for k in range(1, num_classes+1):\n",
    "        theta = np.zeros((n, 1)).reshape(-1)\n",
    "        y_class = ((y == k) * 1).reshape(-1)\n",
    "        result = scipy.optimize.fmin_cg(costFunction, fprime=gradient, x0=theta,\n",
    "                                   args=(X_train, y_class, lamda), maxiter=50,\n",
    "                                   disp=False, full_output=True)\n",
    "        all_theta[:, k-1] = result[0]\n",
    "        print(f'Custo classe {k}: {result[1]}')\n",
    "    \n",
    "    return all_theta\n",
    "\n",
    "# Função para predição dos dados\n",
    "def predictOneVsAll(X, y, theta):\n",
    "    \"\"\"Função responsável pela predição dos valores e cálculo da acurácia do modelo\n",
    "    Input: \n",
    "        X: features nas dimensões mxn+1\n",
    "        y: vetor de labels nas dimensões mx1\n",
    "        theta: vetor de parâmetros (full_theta) nas dimensões nxnum_classes\"\"\"\n",
    "    \n",
    "    [m, n] = X.shape\n",
    "    acertos = 0\n",
    "    for i in range(m):\n",
    "        pred = np.argmax(theta.T.dot(X[i])) + 1\n",
    "        if pred == y[i]:\n",
    "            acertos += 1\n",
    "    acc = acertos / m\n",
    "    return acc"
   ]
  },
  {
   "cell_type": "code",
   "execution_count": 60,
   "metadata": {
    "ExecuteTime": {
     "end_time": "2019-04-11T21:33:35.051772Z",
     "start_time": "2019-04-11T21:33:34.894866Z"
    }
   },
   "outputs": [],
   "source": [
    "# Retornando conjuntos de dados\n",
    "X_train, y_train, X_test, y_test = load_and_prepare_data(.20)"
   ]
  },
  {
   "cell_type": "code",
   "execution_count": 61,
   "metadata": {
    "ExecuteTime": {
     "end_time": "2019-04-11T21:33:35.500966Z",
     "start_time": "2019-04-11T21:33:35.491314Z"
    }
   },
   "outputs": [
    {
     "name": "stdout",
     "output_type": "stream",
     "text": [
      "- - - Treino - - -\n",
      "Dimensões de X_train: (4000, 401)\n",
      "Dimensões de y_train: (4000,)\n",
      "\n",
      "- - - Teste - - -\n",
      "Dimensões de X_test: (1000, 401)\n",
      "Dimensões de y_test: (1000,)\n"
     ]
    }
   ],
   "source": [
    "# Verificando\n",
    "print('- - - Treino - - -')\n",
    "print(f'Dimensões de X_train: {X_train.shape}')\n",
    "print(f'Dimensões de y_train: {y_train.shape}')\n",
    "print('\\n- - - Teste - - -')\n",
    "print(f'Dimensões de X_test: {X_test.shape}')\n",
    "print(f'Dimensões de y_test: {y_test.shape}')"
   ]
  },
  {
   "cell_type": "code",
   "execution_count": 62,
   "metadata": {
    "ExecuteTime": {
     "end_time": "2019-04-11T21:33:40.591487Z",
     "start_time": "2019-04-11T21:33:36.038378Z"
    }
   },
   "outputs": [
    {
     "data": {
      "image/png": "[encoded data removed]",
      "text/plain": [
       "<matplotlib.figure.Figure at 0x1915b526e48>"
      ]
     },
     "metadata": {
      "needs_background": "light"
     },
     "output_type": "display_data"
    }
   ],
   "source": [
    "# PLotando dados\n",
    "plot_data(X_train, y_train)"
   ]
  },
  {
   "cell_type": "code",
   "execution_count": 79,
   "metadata": {
    "ExecuteTime": {
     "end_time": "2019-04-11T21:46:10.313515Z",
     "start_time": "2019-04-11T21:44:54.611741Z"
    }
   },
   "outputs": [
    {
     "name": "stdout",
     "output_type": "stream",
     "text": [
      "Custo classe 1: 0.03414935850977738\n",
      "Custo classe 2: 0.07902325002445935\n",
      "Custo classe 3: 0.0853136937071129\n",
      "Custo classe 4: 0.06449088177561806\n",
      "Custo classe 5: 0.09411897236812583\n",
      "Custo classe 6: 0.045671231196759296\n",
      "Custo classe 7: 0.053261398650833805\n",
      "Custo classe 8: 0.11839487784986064\n",
      "Custo classe 9: 0.10463940132537496\n",
      "Custo classe 10: 0.031974445437754746\n"
     ]
    }
   ],
   "source": [
    "# Treinando modelo\n",
    "lamda = 0.003\n",
    "num_classes = len(np.unique(y))\n",
    "\n",
    "theta = trainOneVsAll(X_train, y_train, num_classes, lamda)"
   ]
  },
  {
   "cell_type": "code",
   "execution_count": 81,
   "metadata": {
    "ExecuteTime": {
     "end_time": "2019-04-11T21:46:12.136960Z",
     "start_time": "2019-04-11T21:46:12.113333Z"
    }
   },
   "outputs": [
    {
     "name": "stdout",
     "output_type": "stream",
     "text": [
      "Acurácia final do modelo nos dados de teste: 89.80%\n"
     ]
    }
   ],
   "source": [
    "# Predizendo com dados de teste\n",
    "acc = predictOneVsAll(X_test, y_test, theta)\n",
    "print(f'Acurácia final do modelo nos dados de teste: {(100*acc):.2f}%')"
   ]
  },
  {
   "cell_type": "code",
   "execution_count": 82,
   "metadata": {
    "ExecuteTime": {
     "end_time": "2019-04-11T21:48:24.462348Z",
     "start_time": "2019-04-11T21:47:08.628213Z"
    }
   },
   "outputs": [
    {
     "name": "stdout",
     "output_type": "stream",
     "text": [
      "Custo classe 1: 0.03414986765513343\n",
      "Custo classe 2: 0.07920263382264771\n",
      "Custo classe 3: 0.08588437072437398\n",
      "Custo classe 4: 0.06387061876910005\n",
      "Custo classe 5: 0.09430656677052834\n",
      "Custo classe 6: 0.04566845641723168\n",
      "Custo classe 7: 0.05345105431901198\n",
      "Custo classe 8: 0.11791706572703942\n",
      "Custo classe 9: 0.10435921021881908\n",
      "Custo classe 10: 0.03195346871192362\n",
      "Acurácia final do modelo nos dados de teste: 89.90%\n"
     ]
    }
   ],
   "source": [
    "# Vejamos como a acurácia nos dados de teste muda conforme lambda\n",
    "lamda = 0.1\n",
    "num_classes = len(np.unique(y))\n",
    "\n",
    "theta = trainOneVsAll(X_train, y_train, num_classes, lamda)\n",
    "acc = predictOneVsAll(X_test, y_test, theta)\n",
    "print(f'Acurácia final do modelo nos dados de teste: {(100*acc):.2f}%')"
   ]
  },
  {
   "cell_type": "code",
   "execution_count": null,
   "metadata": {},
   "outputs": [],
   "source": []
  }
 ],
 "metadata": {
  "kernelspec": {
   "display_name": "Python 3",
   "language": "python",
   "name": "python3"
  },
  "language_info": {
   "codemirror_mode": {
    "name": "ipython",
    "version": 3
   },
   "file_extension": ".py",
   "mimetype": "text/x-python",
   "name": "python",
   "nbconvert_exporter": "python",
   "pygments_lexer": "ipython3",
   "version": "3.6.4"
  },
  "toc": {
   "base_numbering": 1,
   "nav_menu": {},
   "number_sections": true,
   "sideBar": true,
   "skip_h1_title": true,
   "title_cell": "Table of Contents",
   "title_sidebar": "Contents",
   "toc_cell": true,
   "toc_position": {},
   "toc_section_display": true,
   "toc_window_display": true
  }
 },
 "nbformat": 4,
 "nbformat_minor": 2
}
