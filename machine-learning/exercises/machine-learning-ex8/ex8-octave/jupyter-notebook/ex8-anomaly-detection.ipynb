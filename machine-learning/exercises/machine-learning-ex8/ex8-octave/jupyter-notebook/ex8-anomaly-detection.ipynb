{
 "cells": [
  {
   "cell_type": "markdown",
   "metadata": {
    "toc": true
   },
   "source": [
    "<h1>Table of Contents<span class=\"tocSkip\"></span></h1>\n",
    "<div class=\"toc\"><ul class=\"toc-item\"><li><span><a href=\"#Lendo-os-Dados\" data-toc-modified-id=\"Lendo-os-Dados-1\"><span class=\"toc-item-num\">1&nbsp;&nbsp;</span>Lendo os Dados</a></span></li><li><span><a href=\"#Distribuição-Gaussiana\" data-toc-modified-id=\"Distribuição-Gaussiana-2\"><span class=\"toc-item-num\">2&nbsp;&nbsp;</span>Distribuição Gaussiana</a></span><ul class=\"toc-item\"><li><span><a href=\"#Média-e-Variância\" data-toc-modified-id=\"Média-e-Variância-2.1\"><span class=\"toc-item-num\">2.1&nbsp;&nbsp;</span>Média e Variância</a></span></li></ul></li></ul></div>"
   ]
  },
  {
   "cell_type": "markdown",
   "metadata": {},
   "source": [
    "Este notebook tem por objetivo alocar implementações e investigações a respeito da parte A do exercício 8 do curso de Introdução a Machine Learning (Andrew Ng). Nele, serão considerados os devidos testes para a construção do código responsável pela criação de um sistema de detecção de anomalia, assunto referente a semana 9 do curso."
   ]
  },
  {
   "cell_type": "markdown",
   "metadata": {},
   "source": [
    "## Lendo os Dados"
   ]
  },
  {
   "cell_type": "code",
   "execution_count": 1,
   "metadata": {
    "ExecuteTime": {
     "end_time": "2019-03-18T02:43:18.689675Z",
     "start_time": "2019-03-18T02:43:18.538942Z"
    }
   },
   "outputs": [],
   "source": [
    "# Lendo arquivo e inspecionando variáveis\n",
    "load('ex8data1.mat')"
   ]
  },
  {
   "cell_type": "code",
   "execution_count": 3,
   "metadata": {
    "ExecuteTime": {
     "end_time": "2019-03-18T02:43:44.210566Z",
     "start_time": "2019-03-18T02:43:44.158210Z"
    }
   },
   "outputs": [
    {
     "name": "stdout",
     "output_type": "stream",
     "text": [
      "ans =\n",
      "\n",
      "   307     2\n",
      "\n"
     ]
    }
   ],
   "source": [
    "# Dimensões do conjunto de dados\n",
    "size(X)"
   ]
  },
  {
   "cell_type": "markdown",
   "metadata": {},
   "source": [
    "Trata-se de um dataset com 307 linhas e 2 colunas. Tais colunas representam features relacionadas ao comportamento de computadores conectados a um servidor, sendo elas:\n",
    "    - Latency (ms)\n",
    "    - Throughput (mb/s)"
   ]
  },
  {
   "cell_type": "markdown",
   "metadata": {},
   "source": [
    "O objetivo é identificar comportamentos anômalos dentro do servidos através dessas duas features."
   ]
  },
  {
   "cell_type": "code",
   "execution_count": 6,
   "metadata": {
    "ExecuteTime": {
     "end_time": "2019-03-18T02:47:44.726605Z",
     "start_time": "2019-03-18T02:47:42.737900Z"
    }
   },
   "outputs": [
    {
     "data": {
      "image/png": "[encoded data removed]",
      "text/plain": [
       "<IPython.core.display.Image object>"
      ]
     },
     "metadata": {},
     "output_type": "display_data"
    }
   ],
   "source": [
    "# Visualizando os dados\n",
    "plot(X(:, 1), X(:, 2), 'bx')\n",
    "axis([0 30 0 30])\n",
    "xlabel('Latency (ms)')\n",
    "ylabel('Throughput (mb/s)')"
   ]
  },
  {
   "cell_type": "markdown",
   "metadata": {},
   "source": [
    "Visivelmente, através da plotagem, é possível perceber a presença de ```outliers``` no dataset, sejam estes descritos por um aumento anormal na latência, ou na taxa de transferência."
   ]
  },
  {
   "cell_type": "markdown",
   "metadata": {},
   "source": [
    "## Distribuição Gaussiana"
   ]
  },
  {
   "cell_type": "markdown",
   "metadata": {},
   "source": [
    "Neste ponto do exerício, será necessário definir uma função que receba, como argumento, um dataset n-dimensional, tendo como o escopo o cálculo das variáveis necessárias para construção da distribuição gaussiana, ou seja, a média e a variância para cada feature dentro do dataset X"
   ]
  },
  {
   "cell_type": "code",
   "execution_count": 7,
   "metadata": {
    "ExecuteTime": {
     "end_time": "2019-03-18T02:51:14.543068Z",
     "start_time": "2019-03-18T02:51:14.474344Z"
    }
   },
   "outputs": [
    {
     "name": "stdout",
     "output_type": "stream",
     "text": [
      "m =  307\n",
      "n =  2\n"
     ]
    }
   ],
   "source": [
    "% Retornando dimensões do dataset\n",
    "[m n] = size(X)"
   ]
  },
  {
   "cell_type": "code",
   "execution_count": 8,
   "metadata": {
    "ExecuteTime": {
     "end_time": "2019-03-18T02:51:59.602453Z",
     "start_time": "2019-03-18T02:51:59.554580Z"
    }
   },
   "outputs": [
    {
     "name": "stdout",
     "output_type": "stream",
     "text": [
      "ans =\n",
      "\n",
      "   13.047   14.741\n",
      "   13.409   13.763\n",
      "   14.196   15.853\n",
      "   14.915   16.174\n",
      "   13.577   14.043\n",
      "\n"
     ]
    }
   ],
   "source": [
    "% Verificando primeiras linhas do dataset\n",
    "X(1:5, :)"
   ]
  },
  {
   "cell_type": "code",
   "execution_count": 12,
   "metadata": {
    "ExecuteTime": {
     "end_time": "2019-03-18T02:53:32.065759Z",
     "start_time": "2019-03-18T02:53:31.966607Z"
    }
   },
   "outputs": [
    {
     "name": "stdout",
     "output_type": "stream",
     "text": [
      "Head feature 1\n",
      "ans =\n",
      "\n",
      "   13.047\n",
      "   13.409\n",
      "   14.196\n",
      "   14.915\n",
      "   13.577\n",
      "\n",
      "Head feature 2\n",
      "ans =\n",
      "\n",
      "   14.741\n",
      "   13.763\n",
      "   15.853\n",
      "   16.174\n",
      "   14.043\n",
      "\n"
     ]
    }
   ],
   "source": [
    "% Testando laço for\n",
    "for i=1:n\n",
    "    fprintf('Head feature %d\\n', i)\n",
    "    X(1:5, i)\n",
    "endfor"
   ]
  },
  {
   "cell_type": "code",
   "execution_count": 13,
   "metadata": {
    "ExecuteTime": {
     "end_time": "2019-03-18T02:54:10.317561Z",
     "start_time": "2019-03-18T02:54:10.256595Z"
    }
   },
   "outputs": [
    {
     "name": "stdout",
     "output_type": "stream",
     "text": [
      "ans =\n",
      "\n",
      "   13.047\n",
      "   13.409\n",
      "   14.196\n",
      "   14.915\n",
      "   13.577\n",
      "\n"
     ]
    }
   ],
   "source": [
    "% Testando cálculo da média\n",
    "latencia = X(:, 1);\n",
    "latencia(1:5)"
   ]
  },
  {
   "cell_type": "code",
   "execution_count": 15,
   "metadata": {
    "ExecuteTime": {
     "end_time": "2019-03-18T02:54:23.387663Z",
     "start_time": "2019-03-18T02:54:23.333688Z"
    }
   },
   "outputs": [
    {
     "name": "stdout",
     "output_type": "stream",
     "text": [
      "ans =  14.112\n"
     ]
    }
   ],
   "source": [
    "% Média\n",
    "mean(latencia)"
   ]
  },
  {
   "cell_type": "code",
   "execution_count": 23,
   "metadata": {
    "ExecuteTime": {
     "end_time": "2019-03-18T02:56:53.369485Z",
     "start_time": "2019-03-18T02:56:53.317204Z"
    }
   },
   "outputs": [
    {
     "name": "stdout",
     "output_type": "stream",
     "text": [
      "ans =  1.8326\n"
     ]
    }
   ],
   "source": [
    "% Testando Variância\n",
    "sum(((latencia - mean(latencia)).^2))/m"
   ]
  },
  {
   "cell_type": "code",
   "execution_count": 21,
   "metadata": {
    "ExecuteTime": {
     "end_time": "2019-03-18T02:56:22.206842Z",
     "start_time": "2019-03-18T02:56:21.909582Z"
    }
   },
   "outputs": [
    {
     "name": "stdout",
     "output_type": "stream",
     "text": [
      "ans =  1.8386\n"
     ]
    }
   ],
   "source": [
    "% Outro método\n",
    "var(latencia)"
   ]
  },
  {
   "cell_type": "markdown",
   "metadata": {},
   "source": [
    "Vamos repetir este método para a feature de taxa de transferência afim de verificar se implementações futuras estarão corretas."
   ]
  },
  {
   "cell_type": "code",
   "execution_count": 24,
   "metadata": {
    "ExecuteTime": {
     "end_time": "2019-03-18T02:58:15.645508Z",
     "start_time": "2019-03-18T02:58:15.585692Z"
    }
   },
   "outputs": [
    {
     "name": "stdout",
     "output_type": "stream",
     "text": [
      "ans =  14.998\n"
     ]
    }
   ],
   "source": [
    "% Calculando média\n",
    "tx_transf = X(:, 2);\n",
    "mean(tx_transf)"
   ]
  },
  {
   "cell_type": "code",
   "execution_count": 25,
   "metadata": {
    "ExecuteTime": {
     "end_time": "2019-03-18T02:58:52.510540Z",
     "start_time": "2019-03-18T02:58:52.464590Z"
    }
   },
   "outputs": [
    {
     "name": "stdout",
     "output_type": "stream",
     "text": [
      "ans =  1.7097\n"
     ]
    }
   ],
   "source": [
    "% Calculando variância (raça)\n",
    "sum((tx_transf - mean(tx_transf)).^2)/m"
   ]
  },
  {
   "cell_type": "code",
   "execution_count": 26,
   "metadata": {
    "ExecuteTime": {
     "end_time": "2019-03-18T02:59:06.863594Z",
     "start_time": "2019-03-18T02:59:06.819684Z"
    }
   },
   "outputs": [
    {
     "name": "stdout",
     "output_type": "stream",
     "text": [
      "ans =  1.7153\n"
     ]
    }
   ],
   "source": [
    "% Calculando variância (func)\n",
    "var(tx_transf)"
   ]
  },
  {
   "cell_type": "markdown",
   "metadata": {},
   "source": [
    "### Média e Variância"
   ]
  },
  {
   "cell_type": "markdown",
   "metadata": {},
   "source": [
    "Vamos então implementar a função, em um primeiro momento, com cálculos realizados \"na raça\", ou seja, sem o auxílio da função ```var()``` do Octave/MATLAB. Vamos expandir os cálculos para que estes possam ser aplicados a qualquer dataset n-dimensional."
   ]
  },
  {
   "cell_type": "code",
   "execution_count": 31,
   "metadata": {
    "ExecuteTime": {
     "end_time": "2019-03-18T03:03:45.678185Z",
     "start_time": "2019-03-18T03:03:45.533341Z"
    }
   },
   "outputs": [],
   "source": [
    "% Dimensões do dataset\n",
    "[m n] = size(X);\n",
    "\n",
    "% Inicializando vetores\n",
    "mu = zeros(n, 1);\n",
    "sigma2 = zeros(n, 1);\n",
    "\n",
    "% Iterando features e implementando cálculos\n",
    "for i = 1:n\n",
    "    media = mean(X(:, i));\n",
    "    mu(i) = media;\n",
    "    var = sum((X(:, i) - media).^2)/m;\n",
    "    sigma2(i) = var;\n",
    "endfor"
   ]
  },
  {
   "cell_type": "code",
   "execution_count": 33,
   "metadata": {
    "ExecuteTime": {
     "end_time": "2019-03-18T03:03:58.907007Z",
     "start_time": "2019-03-18T03:03:58.838188Z"
    }
   },
   "outputs": [
    {
     "name": "stdout",
     "output_type": "stream",
     "text": [
      "mu =\n",
      "\n",
      "   14.112\n",
      "   14.998\n",
      "\n",
      "sigma2 =\n",
      "\n",
      "   1.8326\n",
      "   1.7097\n",
      "\n"
     ]
    }
   ],
   "source": [
    "% Verificando valores\n",
    "mu\n",
    "sigma2"
   ]
  },
  {
   "cell_type": "markdown",
   "metadata": {},
   "source": [
    "Os valores bateram com os testes realizados. Implementando função"
   ]
  },
  {
   "cell_type": "code",
   "execution_count": 34,
   "metadata": {
    "ExecuteTime": {
     "end_time": "2019-03-18T03:05:28.091207Z",
     "start_time": "2019-03-18T03:05:27.871086Z"
    }
   },
   "outputs": [],
   "source": [
    "function [mu sigma2] = estimateGaussian(X)\n",
    "    %ESTIMATEGAUSSIAN This function estimates the parameters of a \n",
    "    %Gaussian distribution using the data in X\n",
    "    %   [mu sigma2] = estimateGaussian(X), \n",
    "    %   The input X is the dataset with each n-dimensional data point in one row\n",
    "    %   The output is an n-dimensional vector mu, the mean of the data set\n",
    "    %   and the variances sigma^2, an n x 1 vector\n",
    "    \n",
    "    % Dimensões do dataset\n",
    "    [m n] = size(X);\n",
    "\n",
    "    % Inicializando vetores\n",
    "    mu = zeros(n, 1);\n",
    "    sigma2 = zeros(n, 1);\n",
    "\n",
    "    % Iterando features e implementando cálculos\n",
    "    for i = 1:n\n",
    "        media = mean(X(:, i));\n",
    "        mu(i) = media;\n",
    "        var = sum((X(:, i) - media).^2)/m;\n",
    "        sigma2(i) = var;\n",
    "    endfor\n",
    "    \n",
    "endfunction"
   ]
  },
  {
   "cell_type": "code",
   "execution_count": 36,
   "metadata": {
    "ExecuteTime": {
     "end_time": "2019-03-18T03:05:47.652259Z",
     "start_time": "2019-03-18T03:05:47.600399Z"
    }
   },
   "outputs": [
    {
     "name": "stdout",
     "output_type": "stream",
     "text": [
      "mu =\n",
      "\n",
      "   14.112\n",
      "   14.998\n",
      "\n",
      "sigma =\n",
      "\n",
      "   1.8326\n",
      "   1.7097\n",
      "\n"
     ]
    }
   ],
   "source": [
    "% Chamando função\n",
    "[mu sigma] = estimateGaussian(X)"
   ]
  },
  {
   "cell_type": "code",
   "execution_count": null,
   "metadata": {},
   "outputs": [],
   "source": []
  }
 ],
 "metadata": {
  "kernelspec": {
   "display_name": "Octave",
   "language": "octave",
   "name": "octave"
  },
  "language_info": {
   "file_extension": ".m",
   "help_links": [
    {
     "text": "GNU Octave",
     "url": "https://www.gnu.org/software/octave/support.html"
    },
    {
     "text": "Octave Kernel",
     "url": "https://github.com/Calysto/octave_kernel"
    },
    {
     "text": "MetaKernel Magics",
     "url": "https://github.com/calysto/metakernel/blob/master/metakernel/magics/README.md"
    }
   ],
   "mimetype": "text/x-octave",
   "name": "octave",
   "version": "4.4.1"
  },
  "toc": {
   "base_numbering": 1,
   "nav_menu": {},
   "number_sections": true,
   "sideBar": true,
   "skip_h1_title": true,
   "title_cell": "Table of Contents",
   "title_sidebar": "Contents",
   "toc_cell": true,
   "toc_position": {},
   "toc_section_display": true,
   "toc_window_display": true
  }
 },
 "nbformat": 4,
 "nbformat_minor": 2
}
