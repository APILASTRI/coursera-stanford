{
 "cells": [
  {
   "cell_type": "markdown",
   "metadata": {
    "toc": true
   },
   "source": [
    "<h1>Table of Contents<span class=\"tocSkip\"></span></h1>\n",
    "<div class=\"toc\"><ul class=\"toc-item\"><li><span><a href=\"#MNIST\" data-toc-modified-id=\"MNIST-1\"><span class=\"toc-item-num\">1&nbsp;&nbsp;</span>MNIST</a></span></li><li><span><a href=\"#Decision-Trees\" data-toc-modified-id=\"Decision-Trees-2\"><span class=\"toc-item-num\">2&nbsp;&nbsp;</span>Decision Trees</a></span><ul class=\"toc-item\"><li><span><a href=\"#Treinando-Modelo\" data-toc-modified-id=\"Treinando-Modelo-2.1\"><span class=\"toc-item-num\">2.1&nbsp;&nbsp;</span>Treinando Modelo</a></span></li><li><span><a href=\"#Avaliando-Performance\" data-toc-modified-id=\"Avaliando-Performance-2.2\"><span class=\"toc-item-num\">2.2&nbsp;&nbsp;</span>Avaliando Performance</a></span><ul class=\"toc-item\"><li><span><a href=\"#Accuracy\" data-toc-modified-id=\"Accuracy-2.2.1\"><span class=\"toc-item-num\">2.2.1&nbsp;&nbsp;</span>Accuracy</a></span></li><li><span><a href=\"#Confusion-Matrix\" data-toc-modified-id=\"Confusion-Matrix-2.2.2\"><span class=\"toc-item-num\">2.2.2&nbsp;&nbsp;</span>Confusion Matrix</a></span></li></ul></li><li><span><a href=\"#Padronização-dos-Dados\" data-toc-modified-id=\"Padronização-dos-Dados-2.3\"><span class=\"toc-item-num\">2.3&nbsp;&nbsp;</span>Padronização dos Dados</a></span></li><li><span><a href=\"#Tunando-Hiperparâmetros\" data-toc-modified-id=\"Tunando-Hiperparâmetros-2.4\"><span class=\"toc-item-num\">2.4&nbsp;&nbsp;</span>Tunando Hiperparâmetros</a></span><ul class=\"toc-item\"><li><span><a href=\"#max_depth\" data-toc-modified-id=\"max_depth-2.4.1\"><span class=\"toc-item-num\">2.4.1&nbsp;&nbsp;</span>max_depth</a></span></li><li><span><a href=\"#min_samples_split\" data-toc-modified-id=\"min_samples_split-2.4.2\"><span class=\"toc-item-num\">2.4.2&nbsp;&nbsp;</span>min_samples_split</a></span></li><li><span><a href=\"#min_samples_leaf\" data-toc-modified-id=\"min_samples_leaf-2.4.3\"><span class=\"toc-item-num\">2.4.3&nbsp;&nbsp;</span>min_samples_leaf</a></span></li><li><span><a href=\"#max_features\" data-toc-modified-id=\"max_features-2.4.4\"><span class=\"toc-item-num\">2.4.4&nbsp;&nbsp;</span>max_features</a></span></li><li><span><a href=\"#criterion\" data-toc-modified-id=\"criterion-2.4.5\"><span class=\"toc-item-num\">2.4.5&nbsp;&nbsp;</span>criterion</a></span></li><li><span><a href=\"#GridSearchCV\" data-toc-modified-id=\"GridSearchCV-2.4.6\"><span class=\"toc-item-num\">2.4.6&nbsp;&nbsp;</span>GridSearchCV</a></span></li></ul></li><li><span><a href=\"#Avaliando-Resultados\" data-toc-modified-id=\"Avaliando-Resultados-2.5\"><span class=\"toc-item-num\">2.5&nbsp;&nbsp;</span>Avaliando Resultados</a></span></li></ul></li><li><span><a href=\"#SGD-Classifier\" data-toc-modified-id=\"SGD-Classifier-3\"><span class=\"toc-item-num\">3&nbsp;&nbsp;</span>SGD Classifier</a></span></li><li><span><a href=\"#Avaliando-Performance\" data-toc-modified-id=\"Avaliando-Performance-4\"><span class=\"toc-item-num\">4&nbsp;&nbsp;</span>Avaliando Performance</a></span></li></ul></div>"
   ]
  },
  {
   "cell_type": "markdown",
   "metadata": {},
   "source": [
    "Este notebook tem por objetivo realizar treinamentos em diferentes algoritmo de Classificação, comparando suas performances e analisando algumas especificidades. Como o tema deste capítulo gira em torno de ```Redes Neurais```, o foco, neste código, será dado ao algoritmo ```MLPClassifier``` do Scikit-Learn."
   ]
  },
  {
   "cell_type": "markdown",
   "metadata": {},
   "source": [
    "## MNIST"
   ]
  },
  {
   "cell_type": "code",
   "execution_count": 1,
   "metadata": {
    "ExecuteTime": {
     "end_time": "2018-12-30T13:12:24.585160Z",
     "start_time": "2018-12-30T13:12:08.469978Z"
    }
   },
   "outputs": [
    {
     "data": {
      "text/plain": [
       "{'COL_NAMES': ['label', 'data'],\n",
       " 'DESCR': 'mldata.org dataset: mnist-original',\n",
       " 'data': array([[0, 0, 0, ..., 0, 0, 0],\n",
       "        [0, 0, 0, ..., 0, 0, 0],\n",
       "        [0, 0, 0, ..., 0, 0, 0],\n",
       "        ...,\n",
       "        [0, 0, 0, ..., 0, 0, 0],\n",
       "        [0, 0, 0, ..., 0, 0, 0],\n",
       "        [0, 0, 0, ..., 0, 0, 0]], dtype=uint8),\n",
       " 'target': array([0., 0., 0., ..., 9., 9., 9.])}"
      ]
     },
     "execution_count": 1,
     "metadata": {},
     "output_type": "execute_result"
    }
   ],
   "source": [
    "# Importando biblioteca e lendo arquivo\n",
    "from sklearn.datasets import fetch_mldata\n",
    "\n",
    "mnist = fetch_mldata('MNIST original')\n",
    "mnist"
   ]
  },
  {
   "cell_type": "code",
   "execution_count": 2,
   "metadata": {
    "ExecuteTime": {
     "end_time": "2018-12-30T13:12:24.609672Z",
     "start_time": "2018-12-30T13:12:24.590630Z"
    }
   },
   "outputs": [],
   "source": [
    "# Separando features de target\n",
    "X, y = mnist['data'], mnist['target']"
   ]
  },
  {
   "cell_type": "code",
   "execution_count": 3,
   "metadata": {
    "ExecuteTime": {
     "end_time": "2018-12-30T13:12:24.704772Z",
     "start_time": "2018-12-30T13:12:24.619956Z"
    }
   },
   "outputs": [
    {
     "name": "stdout",
     "output_type": "stream",
     "text": [
      "O dataset MNIST possui 70000 registros e 784 features.\n",
      "O conjunto de target do MNIST possui dimensões: (70000,).\n"
     ]
    }
   ],
   "source": [
    "# Entendendo os dados\n",
    "print(f'O dataset MNIST possui {X.shape[0]} registros e {X.shape[1]} features.')\n",
    "print(f'O conjunto de target do MNIST possui dimensões: {y.shape}.')"
   ]
  },
  {
   "cell_type": "code",
   "execution_count": 4,
   "metadata": {
    "ExecuteTime": {
     "end_time": "2018-12-30T13:12:30.071557Z",
     "start_time": "2018-12-30T13:12:24.709262Z"
    }
   },
   "outputs": [
    {
     "data": {
      "text/plain": [
       "<matplotlib.figure.Figure at 0x19ea386dd68>"
      ]
     },
     "metadata": {},
     "output_type": "display_data"
    }
   ],
   "source": [
    "# Visualizando dados\n",
    "import matplotlib\n",
    "import matplotlib.pyplot as plt\n",
    "\n",
    "# Indexando um elemento aleatório\n",
    "some_digit = X[5000]\n",
    "\n",
    "# Aplicando reshape para plotar gráfico (imagens são 28x28 pixel)\n",
    "some_digit_reshaped = some_digit.reshape(28, 28)\n",
    "\n",
    "# Plotando elemento\n",
    "plt.imshow(some_digit_reshaped, cmap='binary', interpolation='nearest')\n",
    "plt.axis('off')\n",
    "plt.show()"
   ]
  },
  {
   "cell_type": "code",
   "execution_count": 5,
   "metadata": {
    "ExecuteTime": {
     "end_time": "2018-12-30T13:12:30.733017Z",
     "start_time": "2018-12-30T13:12:30.076600Z"
    }
   },
   "outputs": [
    {
     "data": {
      "image/png": "[encoded data removed]",
      "text/plain": [
       "<matplotlib.figure.Figure at 0x19ea3ada9e8>"
      ]
     },
     "metadata": {
      "needs_background": "light"
     },
     "output_type": "display_data"
    }
   ],
   "source": [
    "# Plotando outro elemento com formatação diferente\n",
    "from random import randint\n",
    "\n",
    "another_digit = X[randint(1, X.shape[0])]\n",
    "another_digit_reshaped = another_digit.reshape(28, 28)\n",
    "plt.imshow(another_digit_reshaped, cmap='viridis', interpolation='nearest')\n",
    "plt.axis('off')\n",
    "plt.show()"
   ]
  },
  {
   "cell_type": "code",
   "execution_count": 6,
   "metadata": {
    "ExecuteTime": {
     "end_time": "2018-12-30T13:12:30.771253Z",
     "start_time": "2018-12-30T13:12:30.741471Z"
    }
   },
   "outputs": [
    {
     "name": "stdout",
     "output_type": "stream",
     "text": [
      "Dados de treino\n",
      "X_train: (60000, 784)\n",
      "y_train: (60000,)\n",
      "\n",
      "Dados de teste\n",
      "X_test: (10000, 784)\n",
      "y_test: (10000,)\n"
     ]
    }
   ],
   "source": [
    "# Separando dados em teste e treino\n",
    "X_train, y_train, X_test, y_test = X[:60000], y[:60000], X[60000:], y[60000:]\n",
    "\n",
    "# Verificando separação\n",
    "print(f'Dados de treino\\nX_train: {X_train.shape}\\ny_train: {y_train.shape}')\n",
    "print()\n",
    "print(f'Dados de teste\\nX_test: {X_test.shape}\\ny_test: {y_test.shape}')"
   ]
  },
  {
   "cell_type": "code",
   "execution_count": 7,
   "metadata": {
    "ExecuteTime": {
     "end_time": "2018-12-30T13:12:31.399030Z",
     "start_time": "2018-12-30T13:12:30.776420Z"
    }
   },
   "outputs": [],
   "source": [
    "# Embaralhando os dados\n",
    "import numpy as np\n",
    "\n",
    "shuffle_index = np.random.permutation(X_train.shape[0])\n",
    "X_train, y_train = X_train[shuffle_index], y_train[shuffle_index]"
   ]
  },
  {
   "cell_type": "code",
   "execution_count": 8,
   "metadata": {
    "ExecuteTime": {
     "end_time": "2018-12-30T13:12:31.473805Z",
     "start_time": "2018-12-30T13:12:31.403022Z"
    }
   },
   "outputs": [],
   "source": [
    "# Criando função para realizar todo o procedimento\n",
    "def prepare_mnist():\n",
    "    \"\"\"\n",
    "    Função responsável por importar e realizar todos os procedimentos preparatórios\n",
    "    no dataset MNIST.\n",
    "    \n",
    "    Output: X_train, y_train, X_test, y_test\n",
    "    \"\"\"\n",
    "    \n",
    "    # Download das bibliotecas necessárias\n",
    "    from sklearn.datasets import fetch_mldata\n",
    "    import numpy as np\n",
    "    \n",
    "    # Download e separação do dataset\n",
    "    mnist = fetch_mldata('MNIST original')\n",
    "    X, y = mnist['data'], mnist['target']\n",
    "    \n",
    "    # Separando dados de treino e de teste\n",
    "    X_train, y_train, X_test, y_test = X[:60000], y[:60000], X[60000:], y[60000:]\n",
    "    \n",
    "    # Embaralhando dados\n",
    "    shuffle_index = np.random.permutation(X_train.shape[0])\n",
    "    X_train, y_train = X_train[shuffle_index], y_train[shuffle_index]\n",
    "    \n",
    "    # Retornando dados\n",
    "    return X_train, y_train, X_test, y_test"
   ]
  },
  {
   "cell_type": "code",
   "execution_count": 13,
   "metadata": {
    "ExecuteTime": {
     "end_time": "2018-12-30T13:13:35.714579Z",
     "start_time": "2018-12-30T13:13:35.584289Z"
    }
   },
   "outputs": [
    {
     "name": "stdout",
     "output_type": "stream",
     "text": [
      "Dados de treino\n",
      "X_train: (60000, 784)\n",
      "y_train: (60000,)\n",
      "\n",
      "Dados de teste\n",
      "X_test: (10000, 784)\n",
      "y_test: (10000,)\n"
     ]
    }
   ],
   "source": [
    "# Chamando função e verificando viabilidade\n",
    "X_train, y_train, X_test, y_test = prepare_mnist()\n",
    "print(f'Dados de treino\\nX_train: {X_train.shape}\\ny_train: {y_train.shape}')\n",
    "print()\n",
    "print(f'Dados de teste\\nX_test: {X_test.shape}\\ny_test: {y_test.shape}')"
   ]
  },
  {
   "cell_type": "markdown",
   "metadata": {},
   "source": [
    "## Decision Trees"
   ]
  },
  {
   "cell_type": "markdown",
   "metadata": {},
   "source": [
    "O primeiro algoritmo utilizado será o ```DecisionTrees```: [Doc](https://scikit-learn.org/stable/modules/tree.html)"
   ]
  },
  {
   "cell_type": "code",
   "execution_count": 14,
   "metadata": {
    "ExecuteTime": {
     "end_time": "2018-12-30T13:13:46.638828Z",
     "start_time": "2018-12-30T13:13:46.505823Z"
    }
   },
   "outputs": [],
   "source": [
    "# Lendo e preparando dados do MNIST\n",
    "X_train, y_train, X_test, y_test = prepare_mnist()"
   ]
  },
  {
   "cell_type": "markdown",
   "metadata": {},
   "source": [
    "### Treinando Modelo"
   ]
  },
  {
   "cell_type": "code",
   "execution_count": 15,
   "metadata": {
    "ExecuteTime": {
     "end_time": "2018-12-30T13:14:29.587265Z",
     "start_time": "2018-12-30T13:13:48.265906Z"
    }
   },
   "outputs": [
    {
     "data": {
      "text/plain": [
       "DecisionTreeClassifier(class_weight=None, criterion='gini', max_depth=None,\n",
       "            max_features=None, max_leaf_nodes=None,\n",
       "            min_impurity_decrease=0.0, min_impurity_split=None,\n",
       "            min_samples_leaf=1, min_samples_split=2,\n",
       "            min_weight_fraction_leaf=0.0, presort=False, random_state=None,\n",
       "            splitter='best')"
      ]
     },
     "execution_count": 15,
     "metadata": {},
     "output_type": "execute_result"
    }
   ],
   "source": [
    "# Importando biblioteca\n",
    "from sklearn.tree import DecisionTreeClassifier\n",
    "\n",
    "# Criando classificador\n",
    "tree_clf = DecisionTreeClassifier()\n",
    "\n",
    "# Treinando modelo\n",
    "tree_clf.fit(X_train, y_train)"
   ]
  },
  {
   "cell_type": "markdown",
   "metadata": {},
   "source": [
    "### Avaliando Performance"
   ]
  },
  {
   "cell_type": "markdown",
   "metadata": {},
   "source": [
    "#### Accuracy"
   ]
  },
  {
   "cell_type": "code",
   "execution_count": 16,
   "metadata": {
    "ExecuteTime": {
     "end_time": "2018-12-30T13:15:33.122307Z",
     "start_time": "2018-12-30T13:15:32.839888Z"
    }
   },
   "outputs": [
    {
     "name": "stdout",
     "output_type": "stream",
     "text": [
      "Acurácia do modelo Decision Trees: 100.00%\n"
     ]
    }
   ],
   "source": [
    "# Avaliando acurácia com os dados de treino\n",
    "from sklearn.metrics import accuracy_score\n",
    "\n",
    "tree_pred_train = tree_clf.predict(X_train)\n",
    "tree_accuracy_train = accuracy_score(y_train, tree_pred_train)\n",
    "print(f'Acurácia do modelo Decision Trees: {tree_accuracy_train*100:.2f}%')"
   ]
  },
  {
   "cell_type": "markdown",
   "metadata": {},
   "source": [
    "Será um tremendo overfitting? Avaliando performance utilizando validação cruzada."
   ]
  },
  {
   "cell_type": "code",
   "execution_count": 17,
   "metadata": {
    "ExecuteTime": {
     "end_time": "2018-12-30T13:17:07.040274Z",
     "start_time": "2018-12-30T13:15:55.214473Z"
    }
   },
   "outputs": [
    {
     "name": "stdout",
     "output_type": "stream",
     "text": [
      "Scores: [0.86377724 0.85989299 0.86022903]\n",
      "Média: 0.8613\n",
      "Desvio Padrão: 0.0018\n"
     ]
    }
   ],
   "source": [
    "# Aplicando cross validation\n",
    "from sklearn.model_selection import cross_val_score\n",
    "\n",
    "tree_scores = cross_val_score(tree_clf, X_train, y_train, cv=3, scoring='accuracy')\n",
    "print(f'Scores: {tree_scores}')\n",
    "print(f'Média: {tree_scores.mean():.4f}')\n",
    "print(f'Desvio Padrão: {tree_scores.std():.4f}')"
   ]
  },
  {
   "cell_type": "markdown",
   "metadata": {},
   "source": [
    "A diferença dos resultados obtidos com o ```cross validation``` indica que há um pequeno ```overfitting``` nos dados."
   ]
  },
  {
   "cell_type": "code",
   "execution_count": 19,
   "metadata": {
    "ExecuteTime": {
     "end_time": "2018-12-30T13:24:26.872461Z",
     "start_time": "2018-12-30T13:24:26.865074Z"
    }
   },
   "outputs": [],
   "source": [
    "# Criando função para mostrar scores da validação cruzado\n",
    "def display_scores(scores):\n",
    "    print(f'Scores: {scores}')\n",
    "    print(f'Média: {scores.mean():.4f}')\n",
    "    print(f'Desvio Padrão: {scores.std():.4f}')"
   ]
  },
  {
   "cell_type": "markdown",
   "metadata": {},
   "source": [
    "#### Confusion Matrix"
   ]
  },
  {
   "cell_type": "code",
   "execution_count": 20,
   "metadata": {
    "ExecuteTime": {
     "end_time": "2018-12-30T13:27:37.790609Z",
     "start_time": "2018-12-30T13:26:29.638583Z"
    }
   },
   "outputs": [],
   "source": [
    "# Importando matriz de confusão\n",
    "from sklearn.model_selection import cross_val_predict\n",
    "from sklearn.metrics import confusion_matrix\n",
    "\n",
    "tree_cross_pred = cross_val_predict(tree_clf, X_train, y_train, cv=3)\n",
    "\n",
    "conf_mx = confusion_matrix(y_train, tree_cross_pred)"
   ]
  },
  {
   "cell_type": "code",
   "execution_count": 21,
   "metadata": {
    "ExecuteTime": {
     "end_time": "2018-12-30T13:35:06.249547Z",
     "start_time": "2018-12-30T13:35:06.017168Z"
    }
   },
   "outputs": [
    {
     "data": {
      "image/png": "[encoded data removed]",
      "text/plain": [
       "<matplotlib.figure.Figure at 0x19ea548c048>"
      ]
     },
     "metadata": {
      "needs_background": "light"
     },
     "output_type": "display_data"
    }
   ],
   "source": [
    "# Visualizando matriz de confusão\n",
    "row_sums = conf_mx.sum(axis=1, keepdims=True)\n",
    "norm_conf_mx = conf_mx / row_sums\n",
    "\n",
    "np.fill_diagonal(norm_conf_mx, 0)\n",
    "plt.matshow(norm_conf_mx, cmap=plt.cm.gray)\n",
    "plt.show()"
   ]
  },
  {
   "cell_type": "markdown",
   "metadata": {},
   "source": [
    "### Padronização dos Dados"
   ]
  },
  {
   "cell_type": "code",
   "execution_count": 22,
   "metadata": {
    "ExecuteTime": {
     "end_time": "2018-12-30T13:36:49.575502Z",
     "start_time": "2018-12-30T13:35:35.572667Z"
    }
   },
   "outputs": [
    {
     "name": "stdout",
     "output_type": "stream",
     "text": [
      "Scores: [0.86232753 0.86179309 0.8640296 ]\n",
      "Média: 0.8627\n",
      "Desvio Padrão: 0.0010\n"
     ]
    }
   ],
   "source": [
    "# Aplicando padronização dos dados\n",
    "from sklearn.preprocessing import StandardScaler\n",
    "\n",
    "scaler = StandardScaler()\n",
    "X_train_scaled = scaler.fit_transform(X_train.astype(np.float64))\n",
    "\n",
    "# Realizando novo treinamento\n",
    "tree_scores_scaled = cross_val_score(tree_clf, X_train_scaled, y_train, cv=3, scoring='accuracy')\n",
    "display_scores(tree_scores_scaled)"
   ]
  },
  {
   "cell_type": "code",
   "execution_count": 30,
   "metadata": {
    "ExecuteTime": {
     "end_time": "2018-12-30T13:41:28.737996Z",
     "start_time": "2018-12-30T13:41:28.727017Z"
    }
   },
   "outputs": [
    {
     "name": "stdout",
     "output_type": "stream",
     "text": [
      "Scores: [-0.00144971  0.0019001   0.00380057]\n",
      "Média: 0.0014\n",
      "Desvio Padrão: 0.0022\n",
      "\n",
      "Ganho (ou perda) de acurácia com a padronização: 0.1417%\n"
     ]
    }
   ],
   "source": [
    "# Calculando diferença na acurácia\n",
    "tree_diff = tree_scores_scaled - tree_scores\n",
    "display_scores(tree_diff)\n",
    "\n",
    "# Comunicando diferença na média\n",
    "mean_scaled = tree_scores_scaled.mean()\n",
    "mean_normal = tree_scores.mean()\n",
    "mean_diff = mean_scaled - mean_normal\n",
    "print(f'\\nGanho (ou perda) de acurácia com a padronização: {mean_diff*100:.4f}%')"
   ]
  },
  {
   "cell_type": "markdown",
   "metadata": {},
   "source": [
    "Não houve melhora significativa (se é que houve melhora). Dessa forma, é possível concluir que a Padronização dos dados não surtiu efeito dentro do algorítmo ```DecisionTrees```."
   ]
  },
  {
   "cell_type": "markdown",
   "metadata": {},
   "source": [
    "### Tunando Hiperparâmetros"
   ]
  },
  {
   "cell_type": "markdown",
   "metadata": {},
   "source": [
    "Os efeitos de cada um dos hiperparâmetros presentes no ```DecisionTreeClassifier()``` ainda são desconhecidos. Esta sessão (e também as próximas) possui o objetivo de avaliar os efeitos dos hiperparâmetros na acurácia medida, tanto com os dados de treino, como com os dados de teste. Fonte de inspiração: [InDepth-DecisionTreeHyperparameters](https://medium.com/@mohtedibf/indepth-parameter-tuning-for-decision-tree-6753118a03c3)\n",
    "\n",
    "Antes de mais nada, vamos aplicar o ```GridSearchCV``` para verificar qual a melhor combinação."
   ]
  },
  {
   "cell_type": "code",
   "execution_count": 31,
   "metadata": {
    "ExecuteTime": {
     "end_time": "2018-12-30T13:47:30.135111Z",
     "start_time": "2018-12-30T13:42:22.796573Z"
    }
   },
   "outputs": [
    {
     "data": {
      "text/plain": [
       "GridSearchCV(cv=3, error_score='raise',\n",
       "       estimator=DecisionTreeClassifier(class_weight=None, criterion='gini', max_depth=None,\n",
       "            max_features=None, max_leaf_nodes=None,\n",
       "            min_impurity_decrease=0.0, min_impurity_split=None,\n",
       "            min_samples_leaf=1, min_samples_split=2,\n",
       "            min_weight_fraction_leaf=0.0, presort=False, random_state=None,\n",
       "            splitter='best'),\n",
       "       fit_params=None, iid=True, n_jobs=1,\n",
       "       param_grid=[{'criterion': ['gini', 'entropy'], 'max_depth': [5, 10, 15]}],\n",
       "       pre_dispatch='2*n_jobs', refit=True, return_train_score='warn',\n",
       "       scoring='accuracy', verbose=0)"
      ]
     },
     "execution_count": 31,
     "metadata": {},
     "output_type": "execute_result"
    }
   ],
   "source": [
    "# Aplicando GridSearchCV\n",
    "from sklearn.model_selection import GridSearchCV\n",
    "\n",
    "# Definindo parâmetros para Decision Trees\n",
    "param_grid_tree = [\n",
    "    {'criterion': ['gini', 'entropy'],\n",
    "     'max_depth': [5, 10, 15]}\n",
    "]\n",
    "\n",
    "# Criando classificador\n",
    "tree_clf = DecisionTreeClassifier()\n",
    "\n",
    "# Treinando e procurando a melhor combinação\n",
    "grid_search = GridSearchCV(tree_clf, param_grid_tree, cv=3, \n",
    "                           scoring='accuracy')\n",
    "grid_search.fit(X_train_scaled, y_train)"
   ]
  },
  {
   "cell_type": "code",
   "execution_count": 17,
   "metadata": {
    "ExecuteTime": {
     "end_time": "2018-12-29T14:46:02.665004Z",
     "start_time": "2018-12-29T14:46:02.656931Z"
    }
   },
   "outputs": [
    {
     "data": {
      "text/plain": [
       "{'criterion': 'entropy', 'max_depth': 15}"
      ]
     },
     "execution_count": 17,
     "metadata": {},
     "output_type": "execute_result"
    }
   ],
   "source": [
    "# Verificando melhores parâmetros\n",
    "grid_search.best_params_"
   ]
  },
  {
   "cell_type": "code",
   "execution_count": 32,
   "metadata": {
    "ExecuteTime": {
     "end_time": "2018-12-30T13:48:33.922016Z",
     "start_time": "2018-12-30T13:48:33.910554Z"
    }
   },
   "outputs": [
    {
     "name": "stdout",
     "output_type": "stream",
     "text": [
      "Score: 66.6067 - Params: {'criterion': 'gini', 'max_depth': 5}\n",
      "Score: 84.8900 - Params: {'criterion': 'gini', 'max_depth': 10}\n",
      "Score: 86.4917 - Params: {'criterion': 'gini', 'max_depth': 15}\n",
      "Score: 68.7683 - Params: {'criterion': 'entropy', 'max_depth': 5}\n",
      "Score: 86.2533 - Params: {'criterion': 'entropy', 'max_depth': 10}\n",
      "Score: 87.1067 - Params: {'criterion': 'entropy', 'max_depth': 15}\n"
     ]
    }
   ],
   "source": [
    "results = grid_search.cv_results_\n",
    "for mean_score, params in zip(results['mean_test_score'], results['params']):\n",
    "    print(f'Score: {mean_score*100:.4f} - Params: {params}')"
   ]
  },
  {
   "cell_type": "code",
   "execution_count": 37,
   "metadata": {
    "ExecuteTime": {
     "end_time": "2018-12-30T13:51:25.763293Z",
     "start_time": "2018-12-30T13:51:25.755215Z"
    }
   },
   "outputs": [
    {
     "name": "stdout",
     "output_type": "stream",
     "text": [
      "Acurácia inicial: 86.1300%\n",
      "Acurácia com padronização: 86.2717%\n",
      "Acurácia com Grid Search CV(1): 87.1067%\n",
      "\n",
      "Ganho total até o momento: 0.9767%\n"
     ]
    }
   ],
   "source": [
    "# Comunicando melhora\n",
    "print(f'Acurácia inicial: {tree_scores.mean()*100:.4f}%')\n",
    "print(f'Acurácia com padronização: {tree_scores_scaled.mean()*100:.4f}%')\n",
    "print(f'Acurácia com Grid Search CV(1): {grid_search.best_score_*100:.4f}%')\n",
    "\n",
    "print(f'\\nGanho total até o momento: {(grid_search.best_score_ - tree_scores.mean())*100:.4f}%')"
   ]
  },
  {
   "cell_type": "markdown",
   "metadata": {},
   "source": [
    "Aparentemente, é possível melhorar através do aumento do hiperparâmetro ```max_depth```."
   ]
  },
  {
   "cell_type": "code",
   "execution_count": 39,
   "metadata": {
    "ExecuteTime": {
     "end_time": "2018-12-30T14:05:36.421843Z",
     "start_time": "2018-12-30T13:52:57.440702Z"
    }
   },
   "outputs": [
    {
     "data": {
      "text/plain": [
       "GridSearchCV(cv=3, error_score='raise',\n",
       "       estimator=DecisionTreeClassifier(class_weight=None, criterion='gini', max_depth=None,\n",
       "            max_features=None, max_leaf_nodes=None,\n",
       "            min_impurity_decrease=0.0, min_impurity_split=None,\n",
       "            min_samples_leaf=1, min_samples_split=2,\n",
       "            min_weight_fraction_leaf=0.0, presort=False, random_state=None,\n",
       "            splitter='best'),\n",
       "       fit_params=None, iid=True, n_jobs=1,\n",
       "       param_grid=[{'criterion': ['gini', 'entropy'], 'max_depth': [15, 50, 55, 60, 65, 70]}],\n",
       "       pre_dispatch='2*n_jobs', refit=True, return_train_score='warn',\n",
       "       scoring='accuracy', verbose=0)"
      ]
     },
     "execution_count": 39,
     "metadata": {},
     "output_type": "execute_result"
    }
   ],
   "source": [
    "# Definindo parâmetros para Decision Trees\n",
    "param_grid_tree = [\n",
    "    {'criterion': ['gini', 'entropy'],\n",
    "     'max_depth': [15, 50, 55, 60, 65, 70]}\n",
    "]\n",
    "\n",
    "# Criando classificador\n",
    "tree_clf = DecisionTreeClassifier()\n",
    "\n",
    "# Treinando e procurando a melhor combinação\n",
    "grid_search = GridSearchCV(tree_clf, param_grid_tree, cv=3, \n",
    "                           scoring='accuracy')\n",
    "grid_search.fit(X_train_scaled, y_train)"
   ]
  },
  {
   "cell_type": "code",
   "execution_count": 40,
   "metadata": {
    "ExecuteTime": {
     "end_time": "2018-12-30T14:05:48.062539Z",
     "start_time": "2018-12-30T14:05:48.056555Z"
    }
   },
   "outputs": [
    {
     "data": {
      "text/plain": [
       "{'criterion': 'entropy', 'max_depth': 15}"
      ]
     },
     "execution_count": 40,
     "metadata": {},
     "output_type": "execute_result"
    }
   ],
   "source": [
    "# Verificando melhores parâmetros\n",
    "grid_search.best_params_"
   ]
  },
  {
   "cell_type": "code",
   "execution_count": 41,
   "metadata": {
    "ExecuteTime": {
     "end_time": "2018-12-30T14:05:59.824041Z",
     "start_time": "2018-12-30T14:05:59.818059Z"
    }
   },
   "outputs": [
    {
     "name": "stdout",
     "output_type": "stream",
     "text": [
      "Score: 86.6517 - Params: {'criterion': 'gini', 'max_depth': 15}\n",
      "Score: 86.1333 - Params: {'criterion': 'gini', 'max_depth': 50}\n",
      "Score: 86.1983 - Params: {'criterion': 'gini', 'max_depth': 55}\n",
      "Score: 86.1833 - Params: {'criterion': 'gini', 'max_depth': 60}\n",
      "Score: 86.0817 - Params: {'criterion': 'gini', 'max_depth': 65}\n",
      "Score: 86.0433 - Params: {'criterion': 'gini', 'max_depth': 70}\n",
      "Score: 87.3100 - Params: {'criterion': 'entropy', 'max_depth': 15}\n",
      "Score: 87.2600 - Params: {'criterion': 'entropy', 'max_depth': 50}\n",
      "Score: 87.0417 - Params: {'criterion': 'entropy', 'max_depth': 55}\n",
      "Score: 87.1417 - Params: {'criterion': 'entropy', 'max_depth': 60}\n",
      "Score: 87.1733 - Params: {'criterion': 'entropy', 'max_depth': 65}\n",
      "Score: 87.2167 - Params: {'criterion': 'entropy', 'max_depth': 70}\n"
     ]
    }
   ],
   "source": [
    "results = grid_search.cv_results_\n",
    "for mean_score, params in zip(results['mean_test_score'], results['params']):\n",
    "    print(f'Score: {mean_score*100:.4f} - Params: {params}')"
   ]
  },
  {
   "cell_type": "markdown",
   "metadata": {},
   "source": [
    "O ganho obtido com o aumento do hiperparâmetro ```max_depth``` foi irrisório."
   ]
  },
  {
   "cell_type": "markdown",
   "metadata": {},
   "source": [
    "#### max_depth"
   ]
  },
  {
   "cell_type": "markdown",
   "metadata": {},
   "source": [
    "O hiperparâmetro ```max_depth``` indica o quão profunda a árvore de decisão pode ser."
   ]
  },
  {
   "cell_type": "code",
   "execution_count": 50,
   "metadata": {
    "ExecuteTime": {
     "end_time": "2018-12-30T14:12:19.357068Z",
     "start_time": "2018-12-30T14:12:19.350062Z"
    }
   },
   "outputs": [
    {
     "data": {
      "text/plain": [
       "array([ 1.        ,  1.63265306,  2.26530612,  2.89795918,  3.53061224,\n",
       "        4.16326531,  4.79591837,  5.42857143,  6.06122449,  6.69387755,\n",
       "        7.32653061,  7.95918367,  8.59183673,  9.2244898 ,  9.85714286,\n",
       "       10.48979592, 11.12244898, 11.75510204, 12.3877551 , 13.02040816,\n",
       "       13.65306122, 14.28571429, 14.91836735, 15.55102041, 16.18367347,\n",
       "       16.81632653, 17.44897959, 18.08163265, 18.71428571, 19.34693878,\n",
       "       19.97959184, 20.6122449 , 21.24489796, 21.87755102, 22.51020408,\n",
       "       23.14285714, 23.7755102 , 24.40816327, 25.04081633, 25.67346939,\n",
       "       26.30612245, 26.93877551, 27.57142857, 28.20408163, 28.83673469,\n",
       "       29.46938776, 30.10204082, 30.73469388, 31.36734694, 32.        ])"
      ]
     },
     "execution_count": 50,
     "metadata": {},
     "output_type": "execute_result"
    }
   ],
   "source": [
    "# Avaliando a melhor forma de distribuir os valores\n",
    "np.linspace(1, 32)"
   ]
  },
  {
   "cell_type": "code",
   "execution_count": 55,
   "metadata": {
    "ExecuteTime": {
     "end_time": "2018-12-30T14:21:04.843300Z",
     "start_time": "2018-12-30T14:21:04.836317Z"
    }
   },
   "outputs": [
    {
     "data": {
      "text/plain": [
       "array([ 1.,  2.,  3.,  4.,  5.,  6.,  7.,  8.,  9., 10., 11., 12., 13.,\n",
       "       14., 15., 16., 17., 18., 19., 20., 21., 22., 23., 24., 25., 26.,\n",
       "       27., 28., 29., 30., 31., 32.])"
      ]
     },
     "execution_count": 55,
     "metadata": {},
     "output_type": "execute_result"
    }
   ],
   "source": [
    "# Melhorando distribuição\n",
    "np.linspace(1, 32, 32, endpoint=True)"
   ]
  },
  {
   "cell_type": "code",
   "execution_count": 60,
   "metadata": {
    "ExecuteTime": {
     "end_time": "2018-12-30T14:53:31.955227Z",
     "start_time": "2018-12-30T14:29:31.405837Z"
    }
   },
   "outputs": [
    {
     "data": {
      "image/png": "[encoded data removed]",
      "text/plain": [
       "<matplotlib.figure.Figure at 0x19ea54beac8>"
      ]
     },
     "metadata": {
      "needs_background": "light"
     },
     "output_type": "display_data"
    }
   ],
   "source": [
    "# Configurando avaliação\n",
    "max_depths = np.linspace(1, 35, 35, endpoint=True)\n",
    "train_results = []\n",
    "test_results = []\n",
    "\n",
    "for depth in max_depths:\n",
    "    # Treinando classificador com hiperparâmetro estabelecido\n",
    "    tree_clf = DecisionTreeClassifier(max_depth=depth)\n",
    "    tree_clf.fit(X_train, y_train) # Sem utilizar X_train_scaled\n",
    "    \n",
    "    # Realizando predições com dados de treino\n",
    "    tree_train_scores = cross_val_score(tree_clf, X_train, y_train, \n",
    "                                        cv=3, scoring='accuracy')\n",
    "    train_results.append(tree_train_scores.mean())\n",
    "    \n",
    "    # Realizando predições com os dados de teste\n",
    "    tree_test_scores = cross_val_score(tree_clf, X_test, y_test,\n",
    "                                      cv=3, scoring='accuracy')\n",
    "    test_results.append(tree_test_scores.mean())\n",
    "    \n",
    "# Plotando gráfico\n",
    "from matplotlib.legend_handler import HandlerLine2D\n",
    "line1, = plt.plot(max_depths, train_results, 'b', label='Train Accuracy')\n",
    "line2, = plt.plot(max_depths, test_results, 'r', label='Test Accuracy')\n",
    "plt.legend(handler_map={line1: HandlerLine2D(numpoints=2)})\n",
    "plt.ylabel('Accuracy')\n",
    "plt.xlabel('Tree depth')\n",
    "plt.show()"
   ]
  },
  {
   "cell_type": "markdown",
   "metadata": {},
   "source": [
    "Após a análise realizada acima, é possível concluir a existência da proporcionalidade entre o aumento do parâmetro ```max_depth``` com o efeito de ```overfitting``` no treinamento, uma vez que a diferença entre as acurácias obtidas com os dados de treino e teste apresentam uma significativa diferença a partir de uma profundidade de 5.\n",
    "\n",
    "Observando o gráfico, é possível supor o nível 10 de profundidade como sendo ótimo."
   ]
  },
  {
   "cell_type": "code",
   "execution_count": 82,
   "metadata": {
    "ExecuteTime": {
     "end_time": "2018-12-30T16:42:08.694038Z",
     "start_time": "2018-12-30T16:42:08.685525Z"
    }
   },
   "outputs": [
    {
     "name": "stdout",
     "output_type": "stream",
     "text": [
      "Acurácia máxima nos dados de teste: max_depth=28\n",
      "Acurácia nos dados de treino com esse parâmetro: 0.8628\n"
     ]
    }
   ],
   "source": [
    "# Calculando melhor profundidade para os dados de teste\n",
    "train_depth_results = train_results\n",
    "test_depth_results = test_results\n",
    "\n",
    "max_acc_test = test_depth_results.index(max(test_depth_results))+1\n",
    "print(f'Acurácia máxima nos dados de teste: max_depth={max_acc_test}')\n",
    "print(f'Acurácia nos dados de treino com esse parâmetro: {train_depth_results[max_acc_test-1]:.4f}')"
   ]
  },
  {
   "cell_type": "markdown",
   "metadata": {},
   "source": [
    "#### min_samples_split"
   ]
  },
  {
   "cell_type": "markdown",
   "metadata": {},
   "source": [
    "O hiperparâmetro ```min_samples_split``` representa o número mínimo de amostras necessárias para 'splitar' um nó interno da árvore. Ao aumentar este hiperparâmetro, a árvore se torna mais restrira, uma vez que é necessário considerar um número maior de amostras para separar os nós. No teste a seguir, iremos avaliar os resultados entre 10% e 100% de amostras."
   ]
  },
  {
   "cell_type": "code",
   "execution_count": 84,
   "metadata": {
    "ExecuteTime": {
     "end_time": "2018-12-30T16:42:38.705184Z",
     "start_time": "2018-12-30T16:42:38.695420Z"
    }
   },
   "outputs": [
    {
     "data": {
      "text/plain": [
       "array([0.1, 0.2, 0.3, 0.4, 0.5, 0.6, 0.7, 0.8, 0.9, 1. ])"
      ]
     },
     "execution_count": 84,
     "metadata": {},
     "output_type": "execute_result"
    }
   ],
   "source": [
    "# Avaliando melhor distribuição\n",
    "np.linspace(0.1, 1.0, 10, endpoint=True)"
   ]
  },
  {
   "cell_type": "code",
   "execution_count": 89,
   "metadata": {
    "ExecuteTime": {
     "end_time": "2018-12-30T16:55:10.039467Z",
     "start_time": "2018-12-30T16:52:49.548272Z"
    }
   },
   "outputs": [
    {
     "data": {
      "image/png": "[encoded data removed]",
      "text/plain": [
       "<matplotlib.figure.Figure at 0x19e80cb0d68>"
      ]
     },
     "metadata": {
      "needs_background": "light"
     },
     "output_type": "display_data"
    }
   ],
   "source": [
    "# Configurando avaliação\n",
    "min_samples_split = np.linspace(.1, 1.0, 10, endpoint=True)\n",
    "\n",
    "train_results = []\n",
    "test_results = []\n",
    "\n",
    "for min_sample in min_samples_split:\n",
    "    tree_clf = DecisionTreeClassifier(min_samples_split=min_sample)\n",
    "    tree_clf.fit(X_train, y_train)\n",
    "    \n",
    "    # Dados de treino\n",
    "    tree_train_scores = cross_val_score(tree_clf, X_train, y_train,\n",
    "                                       cv=3, scoring='accuracy')\n",
    "    train_results.append(tree_train_scores.mean())\n",
    "    \n",
    "    # dados de teste\n",
    "    tree_test_scores = cross_val_score(tree_clf, X_test, y_test,\n",
    "                                      cv=3, scoring='accuracy')\n",
    "    test_results.append(tree_test_scores.mean())\n",
    "    \n",
    "# Plotando gráfico\n",
    "from matplotlib.legend_handler import HandlerLine2D\n",
    "line1, = plt.plot(min_samples_split, train_results, 'b', label='Train Accuracy')\n",
    "line2, = plt.plot(min_samples_split, test_results, 'r', label='Test Accuracy')\n",
    "plt.legend(handler_map={line1: HandlerLine2D(numpoints=2)})\n",
    "plt.ylabel('Accuracy')\n",
    "plt.xlabel('min samples split')\n",
    "plt.show()"
   ]
  },
  {
   "cell_type": "markdown",
   "metadata": {},
   "source": [
    "Parece que, neste caso, quanto menor o valor de ```min_samples_split```, melhor. Não há relações com overfitting, entretanto um ```underfitting``` pode ser identificado, visto que a acurácia do modelo, mesmo nos dados de treino, cai consideravelmente com o aumento deste hiperparâmetro."
   ]
  },
  {
   "cell_type": "code",
   "execution_count": 90,
   "metadata": {
    "ExecuteTime": {
     "end_time": "2018-12-30T16:57:12.248225Z",
     "start_time": "2018-12-30T16:57:12.242009Z"
    }
   },
   "outputs": [],
   "source": [
    "# Salvando resultados\n",
    "train_min_samples_results = train_results\n",
    "test_min_samples_results = test_results"
   ]
  },
  {
   "cell_type": "markdown",
   "metadata": {},
   "source": [
    "#### min_samples_leaf"
   ]
  },
  {
   "cell_type": "markdown",
   "metadata": {},
   "source": [
    "Este hiperparâmetro indica o número mínimo de amostras que devem estar em um nó (\"folha\"). ```min_samples_leaf``` se assemelha muito com ```min_samples_split```."
   ]
  },
  {
   "cell_type": "code",
   "execution_count": 93,
   "metadata": {
    "ExecuteTime": {
     "end_time": "2018-12-30T17:06:59.571632Z",
     "start_time": "2018-12-30T17:05:59.928191Z"
    }
   },
   "outputs": [
    {
     "data": {
      "image/png": "[encoded data removed]",
      "text/plain": [
       "<matplotlib.figure.Figure at 0x19e811290f0>"
      ]
     },
     "metadata": {
      "needs_background": "light"
     },
     "output_type": "display_data"
    }
   ],
   "source": [
    "# Configurando análise\n",
    "min_samples_leaf = np.linspace(0.1, 0.5, 5, endpoint=True)\n",
    "\n",
    "train_results = []\n",
    "test_results = []\n",
    "\n",
    "for n in min_samples_leaf:\n",
    "    \n",
    "    tree_clf = DecisionTreeClassifier(min_samples_leaf=n)\n",
    "    tree_clf.fit(X_train, y_train)\n",
    "    \n",
    "    # Análise nos dados de treino\n",
    "    tree_train_scores = cross_val_score(tree_clf, X_train, y_train, \n",
    "                                 cv=3, scoring='accuracy')\n",
    "    train_results.append(tree_train_scores.mean())\n",
    "    \n",
    "    # Análise nos dados de teste\n",
    "    tree_test_scores = cross_val_score(tree_clf, X_test, y_test,\n",
    "                                      cv=3, scoring='accuracy')\n",
    "    test_results.append(tree_test_scores.mean())\n",
    "\n",
    "# Plotando gráfico\n",
    "from matplotlib.legend_handler import HandlerLine2D\n",
    "line1, = plt.plot(min_samples_leaf, train_results, 'b', label='Train Accuracy')\n",
    "line2, = plt.plot(min_samples_leaf, test_results, 'r', label='Test Accuracy')\n",
    "plt.legend(handler_map={line1: HandlerLine2D(numpoints=2)})\n",
    "plt.ylabel('Accuracy')\n",
    "plt.xlabel('min samples leaf')\n",
    "plt.show()"
   ]
  },
  {
   "cell_type": "markdown",
   "metadata": {},
   "source": [
    "Assim como a plotagem referente ao hiperparâmetro ```min_samples_split```, neste caso, temos indícios de underfitting, uma vez que a acurácia do modelo cai de acordo com o aumento de ```min_samples_leaf```."
   ]
  },
  {
   "cell_type": "markdown",
   "metadata": {},
   "source": [
    "#### max_features"
   ]
  },
  {
   "cell_type": "markdown",
   "metadata": {},
   "source": [
    "Este hiperparâmetro representa o número de features a serem consideradas durante a procura da melhor configuração."
   ]
  },
  {
   "cell_type": "code",
   "execution_count": 97,
   "metadata": {
    "ExecuteTime": {
     "end_time": "2018-12-30T18:05:32.634610Z",
     "start_time": "2018-12-30T17:46:16.453803Z"
    }
   },
   "outputs": [
    {
     "data": {
      "image/png": "[encoded data removed]",
      "text/plain": [
       "<matplotlib.figure.Figure at 0x19ea4eedb00>"
      ]
     },
     "metadata": {
      "needs_background": "light"
     },
     "output_type": "display_data"
    }
   ],
   "source": [
    "# Configurando análise\n",
    "max_features = list(range(X_train.shape[1]-10, X_train.shape[1]))\n",
    "\n",
    "train_results = []\n",
    "test_results = []\n",
    "\n",
    "for n_features in max_features:\n",
    "    \n",
    "    tree_clf = DecisionTreeClassifier(max_features=n_features)\n",
    "    tree_clf.fit(X_train, y_train)\n",
    "    \n",
    "    # Análise nos dados de treino\n",
    "    tree_train_scores = cross_val_score(tree_clf, X_train, y_train, \n",
    "                                 cv=3, scoring='accuracy')\n",
    "    train_results.append(tree_train_scores.mean())\n",
    "    \n",
    "    # Análise nos dados de teste\n",
    "    tree_test_scores = cross_val_score(tree_clf, X_test, y_test,\n",
    "                                      cv=3, scoring='accuracy')\n",
    "    test_results.append(tree_test_scores.mean())\n",
    "\n",
    "# Plotando gráfico\n",
    "from matplotlib.legend_handler import HandlerLine2D\n",
    "line1, = plt.plot(max_features, train_results, 'b', label='Train Accuracy')\n",
    "line2, = plt.plot(max_features, test_results, 'r', label='Test Accuracy')\n",
    "plt.legend(handler_map={line1: HandlerLine2D(numpoints=2)})\n",
    "plt.ylabel('Accuracy')\n",
    "plt.xlabel('Number of features')\n",
    "plt.show()"
   ]
  },
  {
   "cell_type": "markdown",
   "metadata": {},
   "source": [
    "A análise que se faz, para este hiperparâmetro, dentro deste conceito é que, como temos um problema de classificação de imagens, temos uma grande número de features (784, para sermos exatos). Dado este fato, não há muita lógica em utilizar uma quantidade menor de features para análise.\n",
    "\n",
    "Para fins didáticos, a avaliação do gráfico acima indica, novamente, um overfitting nos dados."
   ]
  },
  {
   "cell_type": "markdown",
   "metadata": {},
   "source": [
    "#### criterion"
   ]
  },
  {
   "cell_type": "markdown",
   "metadata": {},
   "source": [
    "Este hiperparâmetro define a função responsável por medir a qualidade do split. Há duas opções: *\"gini\"* para definir a Impureza Gini e *\"entropy\"* para definir o ganho de informação."
   ]
  },
  {
   "cell_type": "code",
   "execution_count": 136,
   "metadata": {
    "ExecuteTime": {
     "end_time": "2018-12-31T00:17:45.056559Z",
     "start_time": "2018-12-30T23:55:01.550287Z"
    }
   },
   "outputs": [
    {
     "data": {
      "image/png": "[encoded data removed]",
      "text/plain": [
       "<matplotlib.figure.Figure at 0x19ea542e780>"
      ]
     },
     "metadata": {
      "needs_background": "light"
     },
     "output_type": "display_data"
    }
   ],
   "source": [
    "# Avaliando os diferentes critérios de acordo com a máxima profundidade\n",
    "max_depths = list(range(10, 25))\n",
    "\n",
    "gini_train_results = []\n",
    "gini_test_results = []\n",
    "entropy_train_results = []\n",
    "entropy_test_results = []\n",
    "\n",
    "for max_depth in max_depths:\n",
    "    \n",
    "    # Criando classificador com critério 'gini'\n",
    "    tree_gini = DecisionTreeClassifier(max_depth=max_depth, criterion='gini')\n",
    "    \n",
    "    # Avaliando nos dados de treino\n",
    "    gini_train_scores = cross_val_score(tree_gini, X_train, y_train,\n",
    "                                       cv=3, scoring='accuracy')\n",
    "    gini_train_results.append(gini_train_scores.mean())\n",
    "    \n",
    "    # Avaliando nos dados de teste\n",
    "    gini_test_scores = cross_val_score(tree_gini, X_test, y_test,\n",
    "                                      cv=3, scoring='accuracy')\n",
    "    gini_test_results.append(gini_test_scores.mean())\n",
    "    \n",
    "    # Criando classificador com critério 'entropy'\n",
    "    tree_entropy = DecisionTreeClassifier(max_depth=max_depth, criterion='entropy')\n",
    "    \n",
    "    # Avaliando nos dados de treino\n",
    "    entropy_train_scores = cross_val_score(tree_entropy, X_train, y_train,\n",
    "                                           cv=3, scoring='accuracy')\n",
    "    entropy_train_results.append(entropy_train_scores.mean())\n",
    "    \n",
    "    # Avaliando nos dados de teste\n",
    "    entropy_test_scores = cross_val_score(tree_entropy, X_test, y_test,\n",
    "                                          cv=3, scoring='accuracy')\n",
    "    entropy_test_results.append(entropy_test_scores.mean())\n",
    "\n",
    "# Plotando gráfico \n",
    "from matplotlib.legend_handler import HandlerLine2D\n",
    "line1, = plt.plot(max_depths, gini_train_results, 'b', label='Gini Train Accuracy')\n",
    "line2, = plt.plot(max_depths, gini_test_results, 'r', label='Gini Test Accuracy')\n",
    "line3, = plt.plot(max_depths, entropy_train_results, 'y--', label='Entropy Train Accuracy')\n",
    "line4, = plt.plot(max_depths, entropy_test_results, 'k--', label='Entropy Test Accuracy')\n",
    "plt.legend(handler_map={line1: HandlerLine2D(numpoints=2)})\n",
    "plt.ylabel('Accuracy')\n",
    "plt.xlabel('max depths')\n",
    "plt.show()"
   ]
  },
  {
   "cell_type": "markdown",
   "metadata": {},
   "source": [
    "A análise do gráfico acima indica que, entre os critérios ```\"gini\"``` e ```\"entropy\"```, é preferível utilizar o critério ```\"entropy\"```, uma vez que as acurácias, tanto para treino, quanto para teste, apresentaram valores maiores.\n",
    "\n",
    "Adicionalmente, um ```max_depth``` de 13 foi o melhor índice para os dados de teste."
   ]
  },
  {
   "cell_type": "markdown",
   "metadata": {},
   "source": [
    "#### GridSearchCV"
   ]
  },
  {
   "cell_type": "markdown",
   "metadata": {},
   "source": [
    "Após avaliar os efeitos de diferentes hiperparâmetros, a ideia agora é realizar uma busca da melhor combinação de hiperparâmetros utilizando o ```GridSearchCV```."
   ]
  },
  {
   "cell_type": "code",
   "execution_count": 159,
   "metadata": {
    "ExecuteTime": {
     "end_time": "2018-12-31T00:46:06.070790Z",
     "start_time": "2018-12-31T00:46:06.064807Z"
    }
   },
   "outputs": [
    {
     "data": {
      "text/plain": [
       "array([0.1, 0.2, 0.3, 0.4, 0.5])"
      ]
     },
     "execution_count": 159,
     "metadata": {},
     "output_type": "execute_result"
    }
   ],
   "source": [
    "np.linspace(.1, .5, 5)"
   ]
  },
  {
   "cell_type": "code",
   "execution_count": 170,
   "metadata": {
    "ExecuteTime": {
     "end_time": "2018-12-31T02:02:47.593966Z",
     "start_time": "2018-12-31T01:11:59.682609Z"
    }
   },
   "outputs": [
    {
     "name": "stdout",
     "output_type": "stream",
     "text": [
      "Fitting 3 folds for each of 72 candidates, totalling 216 fits\n",
      "[CV] criterion=gini, max_depth=None, min_samples_leaf=1, min_samples_split=2 \n",
      "[CV]  criterion=gini, max_depth=None, min_samples_leaf=1, min_samples_split=2, score=0.8637772445510897, total=  11.3s\n",
      "[CV] criterion=gini, max_depth=None, min_samples_leaf=1, min_samples_split=2 \n"
     ]
    },
    {
     "name": "stderr",
     "output_type": "stream",
     "text": [
      "[Parallel(n_jobs=1)]: Done   1 out of   1 | elapsed:   11.4s remaining:    0.0s\n"
     ]
    },
    {
     "name": "stdout",
     "output_type": "stream",
     "text": [
      "[CV]  criterion=gini, max_depth=None, min_samples_leaf=1, min_samples_split=2, score=0.8572928646432322, total=  11.6s\n",
      "[CV] criterion=gini, max_depth=None, min_samples_leaf=1, min_samples_split=2 \n"
     ]
    },
    {
     "name": "stderr",
     "output_type": "stream",
     "text": [
      "[Parallel(n_jobs=1)]: Done   2 out of   2 | elapsed:   23.3s remaining:    0.0s\n"
     ]
    },
    {
     "name": "stdout",
     "output_type": "stream",
     "text": [
      "[CV]  criterion=gini, max_depth=None, min_samples_leaf=1, min_samples_split=2, score=0.8646296944541682, total=  11.3s\n",
      "[CV] criterion=gini, max_depth=None, min_samples_leaf=1, min_samples_split=10 \n",
      "[CV]  criterion=gini, max_depth=None, min_samples_leaf=1, min_samples_split=10, score=0.860627874425115, total=  11.1s\n",
      "[CV] criterion=gini, max_depth=None, min_samples_leaf=1, min_samples_split=10 \n",
      "[CV]  criterion=gini, max_depth=None, min_samples_leaf=1, min_samples_split=10, score=0.8584929246462323, total=  11.4s\n",
      "[CV] criterion=gini, max_depth=None, min_samples_leaf=1, min_samples_split=10 \n",
      "[CV]  criterion=gini, max_depth=None, min_samples_leaf=1, min_samples_split=10, score=0.8621793268990349, total=  11.2s\n",
      "[CV] criterion=gini, max_depth=None, min_samples_leaf=1, min_samples_split=20 \n",
      "[CV]  criterion=gini, max_depth=None, min_samples_leaf=1, min_samples_split=20, score=0.8582783443311338, total=  11.1s\n",
      "[CV] criterion=gini, max_depth=None, min_samples_leaf=1, min_samples_split=20 \n",
      "[CV]  criterion=gini, max_depth=None, min_samples_leaf=1, min_samples_split=20, score=0.8566428321416071, total=  12.1s\n",
      "[CV] criterion=gini, max_depth=None, min_samples_leaf=1, min_samples_split=20 \n",
      "[CV]  criterion=gini, max_depth=None, min_samples_leaf=1, min_samples_split=20, score=0.8588288243236486, total=  11.5s\n",
      "[CV] criterion=gini, max_depth=None, min_samples_leaf=5, min_samples_split=2 \n",
      "[CV]  criterion=gini, max_depth=None, min_samples_leaf=5, min_samples_split=2, score=0.861127774445111, total=  10.0s\n",
      "[CV] criterion=gini, max_depth=None, min_samples_leaf=5, min_samples_split=2 \n",
      "[CV]  criterion=gini, max_depth=None, min_samples_leaf=5, min_samples_split=2, score=0.8630931546577328, total=   9.9s\n",
      "[CV] criterion=gini, max_depth=None, min_samples_leaf=5, min_samples_split=2 \n",
      "[CV]  criterion=gini, max_depth=None, min_samples_leaf=5, min_samples_split=2, score=0.865179776966545, total=  10.2s\n",
      "[CV] criterion=gini, max_depth=None, min_samples_leaf=5, min_samples_split=10 \n",
      "[CV]  criterion=gini, max_depth=None, min_samples_leaf=5, min_samples_split=10, score=0.860877824435113, total=   9.6s\n",
      "[CV] criterion=gini, max_depth=None, min_samples_leaf=5, min_samples_split=10 \n",
      "[CV]  criterion=gini, max_depth=None, min_samples_leaf=5, min_samples_split=10, score=0.8642432121606081, total=   9.4s\n",
      "[CV] criterion=gini, max_depth=None, min_samples_leaf=5, min_samples_split=10 \n",
      "[CV]  criterion=gini, max_depth=None, min_samples_leaf=5, min_samples_split=10, score=0.8658298744811722, total=  10.0s\n",
      "[CV] criterion=gini, max_depth=None, min_samples_leaf=5, min_samples_split=20 \n",
      "[CV]  criterion=gini, max_depth=None, min_samples_leaf=5, min_samples_split=20, score=0.8569786042791442, total=  10.4s\n",
      "[CV] criterion=gini, max_depth=None, min_samples_leaf=5, min_samples_split=20 \n",
      "[CV]  criterion=gini, max_depth=None, min_samples_leaf=5, min_samples_split=20, score=0.8604430221511076, total=   9.9s\n",
      "[CV] criterion=gini, max_depth=None, min_samples_leaf=5, min_samples_split=20 \n",
      "[CV]  criterion=gini, max_depth=None, min_samples_leaf=5, min_samples_split=20, score=0.8626794019102866, total=  10.2s\n",
      "[CV] criterion=gini, max_depth=None, min_samples_leaf=10, min_samples_split=2 \n",
      "[CV]  criterion=gini, max_depth=None, min_samples_leaf=10, min_samples_split=2, score=0.8544791041791642, total=   9.5s\n",
      "[CV] criterion=gini, max_depth=None, min_samples_leaf=10, min_samples_split=2 \n",
      "[CV]  criterion=gini, max_depth=None, min_samples_leaf=10, min_samples_split=2, score=0.8597429871493575, total=   9.3s\n",
      "[CV] criterion=gini, max_depth=None, min_samples_leaf=10, min_samples_split=2 \n",
      "[CV]  criterion=gini, max_depth=None, min_samples_leaf=10, min_samples_split=2, score=0.8619792968945342, total=  10.1s\n",
      "[CV] criterion=gini, max_depth=None, min_samples_leaf=10, min_samples_split=10 \n",
      "[CV]  criterion=gini, max_depth=None, min_samples_leaf=10, min_samples_split=10, score=0.854129174165167, total=   9.3s\n",
      "[CV] criterion=gini, max_depth=None, min_samples_leaf=10, min_samples_split=10 \n",
      "[CV]  criterion=gini, max_depth=None, min_samples_leaf=10, min_samples_split=10, score=0.8590429521476074, total=   9.5s\n",
      "[CV] criterion=gini, max_depth=None, min_samples_leaf=10, min_samples_split=10 \n",
      "[CV]  criterion=gini, max_depth=None, min_samples_leaf=10, min_samples_split=10, score=0.8618792818922838, total=  10.8s\n",
      "[CV] criterion=gini, max_depth=None, min_samples_leaf=10, min_samples_split=20 \n",
      "[CV]  criterion=gini, max_depth=None, min_samples_leaf=10, min_samples_split=20, score=0.8540791841631674, total=   9.1s\n",
      "[CV] criterion=gini, max_depth=None, min_samples_leaf=10, min_samples_split=20 \n",
      "[CV]  criterion=gini, max_depth=None, min_samples_leaf=10, min_samples_split=20, score=0.8597429871493575, total=   9.5s\n",
      "[CV] criterion=gini, max_depth=None, min_samples_leaf=10, min_samples_split=20 \n",
      "[CV]  criterion=gini, max_depth=None, min_samples_leaf=10, min_samples_split=20, score=0.8625793869080363, total=   9.4s\n",
      "[CV] criterion=gini, max_depth=5, min_samples_leaf=1, min_samples_split=2 \n",
      "[CV]  criterion=gini, max_depth=5, min_samples_leaf=1, min_samples_split=2, score=0.6504199160167966, total=   3.3s\n",
      "[CV] criterion=gini, max_depth=5, min_samples_leaf=1, min_samples_split=2 \n",
      "[CV]  criterion=gini, max_depth=5, min_samples_leaf=1, min_samples_split=2, score=0.6779338966948347, total=   3.4s\n",
      "[CV] criterion=gini, max_depth=5, min_samples_leaf=1, min_samples_split=2 \n",
      "[CV]  criterion=gini, max_depth=5, min_samples_leaf=1, min_samples_split=2, score=0.6698004700705106, total=   3.7s\n",
      "[CV] criterion=gini, max_depth=5, min_samples_leaf=1, min_samples_split=10 \n",
      "[CV]  criterion=gini, max_depth=5, min_samples_leaf=1, min_samples_split=10, score=0.6504199160167966, total=   3.6s\n",
      "[CV] criterion=gini, max_depth=5, min_samples_leaf=1, min_samples_split=10 \n",
      "[CV]  criterion=gini, max_depth=5, min_samples_leaf=1, min_samples_split=10, score=0.6779338966948347, total=   4.3s\n",
      "[CV] criterion=gini, max_depth=5, min_samples_leaf=1, min_samples_split=10 \n",
      "[CV]  criterion=gini, max_depth=5, min_samples_leaf=1, min_samples_split=10, score=0.6698004700705106, total=   3.8s\n",
      "[CV] criterion=gini, max_depth=5, min_samples_leaf=1, min_samples_split=20 \n",
      "[CV]  criterion=gini, max_depth=5, min_samples_leaf=1, min_samples_split=20, score=0.6504199160167966, total=   3.7s\n",
      "[CV] criterion=gini, max_depth=5, min_samples_leaf=1, min_samples_split=20 \n",
      "[CV]  criterion=gini, max_depth=5, min_samples_leaf=1, min_samples_split=20, score=0.6779338966948347, total=   3.6s\n",
      "[CV] criterion=gini, max_depth=5, min_samples_leaf=1, min_samples_split=20 \n",
      "[CV]  criterion=gini, max_depth=5, min_samples_leaf=1, min_samples_split=20, score=0.6698004700705106, total=   3.6s\n",
      "[CV] criterion=gini, max_depth=5, min_samples_leaf=5, min_samples_split=2 \n",
      "[CV]  criterion=gini, max_depth=5, min_samples_leaf=5, min_samples_split=2, score=0.6504199160167966, total=   3.4s\n",
      "[CV] criterion=gini, max_depth=5, min_samples_leaf=5, min_samples_split=2 \n",
      "[CV]  criterion=gini, max_depth=5, min_samples_leaf=5, min_samples_split=2, score=0.6779338966948347, total=   3.8s\n",
      "[CV] criterion=gini, max_depth=5, min_samples_leaf=5, min_samples_split=2 \n",
      "[CV]  criterion=gini, max_depth=5, min_samples_leaf=5, min_samples_split=2, score=0.6698004700705106, total=   3.3s\n",
      "[CV] criterion=gini, max_depth=5, min_samples_leaf=5, min_samples_split=10 \n",
      "[CV]  criterion=gini, max_depth=5, min_samples_leaf=5, min_samples_split=10, score=0.6504199160167966, total=   3.4s\n",
      "[CV] criterion=gini, max_depth=5, min_samples_leaf=5, min_samples_split=10 \n",
      "[CV]  criterion=gini, max_depth=5, min_samples_leaf=5, min_samples_split=10, score=0.6779338966948347, total=   3.5s\n",
      "[CV] criterion=gini, max_depth=5, min_samples_leaf=5, min_samples_split=10 \n",
      "[CV]  criterion=gini, max_depth=5, min_samples_leaf=5, min_samples_split=10, score=0.6698004700705106, total=   3.9s\n",
      "[CV] criterion=gini, max_depth=5, min_samples_leaf=5, min_samples_split=20 \n",
      "[CV]  criterion=gini, max_depth=5, min_samples_leaf=5, min_samples_split=20, score=0.6504199160167966, total=   3.9s\n",
      "[CV] criterion=gini, max_depth=5, min_samples_leaf=5, min_samples_split=20 \n",
      "[CV]  criterion=gini, max_depth=5, min_samples_leaf=5, min_samples_split=20, score=0.6779338966948347, total=   3.5s\n",
      "[CV] criterion=gini, max_depth=5, min_samples_leaf=5, min_samples_split=20 \n"
     ]
    },
    {
     "name": "stdout",
     "output_type": "stream",
     "text": [
      "[CV]  criterion=gini, max_depth=5, min_samples_leaf=5, min_samples_split=20, score=0.6698004700705106, total=   3.3s\n",
      "[CV] criterion=gini, max_depth=5, min_samples_leaf=10, min_samples_split=2 \n",
      "[CV]  criterion=gini, max_depth=5, min_samples_leaf=10, min_samples_split=2, score=0.6504199160167966, total=   9.7s\n",
      "[CV] criterion=gini, max_depth=5, min_samples_leaf=10, min_samples_split=2 \n",
      "[CV]  criterion=gini, max_depth=5, min_samples_leaf=10, min_samples_split=2, score=0.6779338966948347, total=  10.8s\n",
      "[CV] criterion=gini, max_depth=5, min_samples_leaf=10, min_samples_split=2 \n",
      "[CV]  criterion=gini, max_depth=5, min_samples_leaf=10, min_samples_split=2, score=0.6698004700705106, total=   8.3s\n",
      "[CV] criterion=gini, max_depth=5, min_samples_leaf=10, min_samples_split=10 \n",
      "[CV]  criterion=gini, max_depth=5, min_samples_leaf=10, min_samples_split=10, score=0.6504199160167966, total=   8.3s\n",
      "[CV] criterion=gini, max_depth=5, min_samples_leaf=10, min_samples_split=10 \n",
      "[CV]  criterion=gini, max_depth=5, min_samples_leaf=10, min_samples_split=10, score=0.6779338966948347, total=   7.7s\n",
      "[CV] criterion=gini, max_depth=5, min_samples_leaf=10, min_samples_split=10 \n",
      "[CV]  criterion=gini, max_depth=5, min_samples_leaf=10, min_samples_split=10, score=0.6698004700705106, total=   7.2s\n",
      "[CV] criterion=gini, max_depth=5, min_samples_leaf=10, min_samples_split=20 \n",
      "[CV]  criterion=gini, max_depth=5, min_samples_leaf=10, min_samples_split=20, score=0.6504199160167966, total=   7.8s\n",
      "[CV] criterion=gini, max_depth=5, min_samples_leaf=10, min_samples_split=20 \n",
      "[CV]  criterion=gini, max_depth=5, min_samples_leaf=10, min_samples_split=20, score=0.6779338966948347, total=   6.8s\n",
      "[CV] criterion=gini, max_depth=5, min_samples_leaf=10, min_samples_split=20 \n",
      "[CV]  criterion=gini, max_depth=5, min_samples_leaf=10, min_samples_split=20, score=0.6698004700705106, total=   7.2s\n",
      "[CV] criterion=gini, max_depth=10, min_samples_leaf=1, min_samples_split=2 \n",
      "[CV]  criterion=gini, max_depth=10, min_samples_leaf=1, min_samples_split=2, score=0.8484303139372126, total=  13.1s\n",
      "[CV] criterion=gini, max_depth=10, min_samples_leaf=1, min_samples_split=2 \n",
      "[CV]  criterion=gini, max_depth=10, min_samples_leaf=1, min_samples_split=2, score=0.8498924946247313, total=  13.0s\n",
      "[CV] criterion=gini, max_depth=10, min_samples_leaf=1, min_samples_split=2 \n",
      "[CV]  criterion=gini, max_depth=10, min_samples_leaf=1, min_samples_split=2, score=0.8471270690603591, total=  13.4s\n",
      "[CV] criterion=gini, max_depth=10, min_samples_leaf=1, min_samples_split=10 \n",
      "[CV]  criterion=gini, max_depth=10, min_samples_leaf=1, min_samples_split=10, score=0.847880423915217, total=  13.4s\n",
      "[CV] criterion=gini, max_depth=10, min_samples_leaf=1, min_samples_split=10 \n",
      "[CV]  criterion=gini, max_depth=10, min_samples_leaf=1, min_samples_split=10, score=0.8499424971248563, total=  13.1s\n",
      "[CV] criterion=gini, max_depth=10, min_samples_leaf=1, min_samples_split=10 \n",
      "[CV]  criterion=gini, max_depth=10, min_samples_leaf=1, min_samples_split=10, score=0.8466770015502325, total=  13.1s\n",
      "[CV] criterion=gini, max_depth=10, min_samples_leaf=1, min_samples_split=20 \n",
      "[CV]  criterion=gini, max_depth=10, min_samples_leaf=1, min_samples_split=20, score=0.8465806838632274, total=  12.4s\n",
      "[CV] criterion=gini, max_depth=10, min_samples_leaf=1, min_samples_split=20 \n",
      "[CV]  criterion=gini, max_depth=10, min_samples_leaf=1, min_samples_split=20, score=0.8491424571228562, total=  13.0s\n",
      "[CV] criterion=gini, max_depth=10, min_samples_leaf=1, min_samples_split=20 \n",
      "[CV]  criterion=gini, max_depth=10, min_samples_leaf=1, min_samples_split=20, score=0.8447267090063509, total=  13.1s\n",
      "[CV] criterion=gini, max_depth=10, min_samples_leaf=5, min_samples_split=2 \n",
      "[CV]  criterion=gini, max_depth=10, min_samples_leaf=5, min_samples_split=2, score=0.8457808438312338, total=  13.1s\n",
      "[CV] criterion=gini, max_depth=10, min_samples_leaf=5, min_samples_split=2 \n",
      "[CV]  criterion=gini, max_depth=10, min_samples_leaf=5, min_samples_split=2, score=0.8511425571278564, total=  13.4s\n",
      "[CV] criterion=gini, max_depth=10, min_samples_leaf=5, min_samples_split=2 \n",
      "[CV]  criterion=gini, max_depth=10, min_samples_leaf=5, min_samples_split=2, score=0.8459768965344802, total=  13.1s\n",
      "[CV] criterion=gini, max_depth=10, min_samples_leaf=5, min_samples_split=10 \n",
      "[CV]  criterion=gini, max_depth=10, min_samples_leaf=5, min_samples_split=10, score=0.8474305138972206, total=  13.1s\n",
      "[CV] criterion=gini, max_depth=10, min_samples_leaf=5, min_samples_split=10 \n",
      "[CV]  criterion=gini, max_depth=10, min_samples_leaf=5, min_samples_split=10, score=0.8511425571278564, total=  13.0s\n",
      "[CV] criterion=gini, max_depth=10, min_samples_leaf=5, min_samples_split=10 \n",
      "[CV]  criterion=gini, max_depth=10, min_samples_leaf=5, min_samples_split=10, score=0.8454768215232285, total=  13.2s\n",
      "[CV] criterion=gini, max_depth=10, min_samples_leaf=5, min_samples_split=20 \n",
      "[CV]  criterion=gini, max_depth=10, min_samples_leaf=5, min_samples_split=20, score=0.8462307538492302, total=  13.0s\n",
      "[CV] criterion=gini, max_depth=10, min_samples_leaf=5, min_samples_split=20 \n",
      "[CV]  criterion=gini, max_depth=10, min_samples_leaf=5, min_samples_split=20, score=0.8498924946247313, total=  13.0s\n",
      "[CV] criterion=gini, max_depth=10, min_samples_leaf=5, min_samples_split=20 \n",
      "[CV]  criterion=gini, max_depth=10, min_samples_leaf=5, min_samples_split=20, score=0.8447267090063509, total=  12.9s\n",
      "[CV] criterion=gini, max_depth=10, min_samples_leaf=10, min_samples_split=2 \n",
      "[CV]  criterion=gini, max_depth=10, min_samples_leaf=10, min_samples_split=2, score=0.8431813637272545, total=  13.1s\n",
      "[CV] criterion=gini, max_depth=10, min_samples_leaf=10, min_samples_split=2 \n",
      "[CV]  criterion=gini, max_depth=10, min_samples_leaf=10, min_samples_split=2, score=0.8491924596229812, total=  12.9s\n",
      "[CV] criterion=gini, max_depth=10, min_samples_leaf=10, min_samples_split=2 \n",
      "[CV]  criterion=gini, max_depth=10, min_samples_leaf=10, min_samples_split=2, score=0.8428264239635945, total=  13.1s\n",
      "[CV] criterion=gini, max_depth=10, min_samples_leaf=10, min_samples_split=10 \n",
      "[CV]  criterion=gini, max_depth=10, min_samples_leaf=10, min_samples_split=10, score=0.8434313137372526, total=  13.3s\n",
      "[CV] criterion=gini, max_depth=10, min_samples_leaf=10, min_samples_split=10 \n",
      "[CV]  criterion=gini, max_depth=10, min_samples_leaf=10, min_samples_split=10, score=0.8488924446222311, total=  13.0s\n",
      "[CV] criterion=gini, max_depth=10, min_samples_leaf=10, min_samples_split=10 \n",
      "[CV]  criterion=gini, max_depth=10, min_samples_leaf=10, min_samples_split=10, score=0.8426263939590939, total=  12.8s\n",
      "[CV] criterion=gini, max_depth=10, min_samples_leaf=10, min_samples_split=20 \n",
      "[CV]  criterion=gini, max_depth=10, min_samples_leaf=10, min_samples_split=20, score=0.8431813637272545, total=  13.0s\n",
      "[CV] criterion=gini, max_depth=10, min_samples_leaf=10, min_samples_split=20 \n",
      "[CV]  criterion=gini, max_depth=10, min_samples_leaf=10, min_samples_split=20, score=0.8488924446222311, total=  12.9s\n",
      "[CV] criterion=gini, max_depth=10, min_samples_leaf=10, min_samples_split=20 \n",
      "[CV]  criterion=gini, max_depth=10, min_samples_leaf=10, min_samples_split=20, score=0.8430264539680952, total=  12.9s\n",
      "[CV] criterion=gini, max_depth=15, min_samples_leaf=1, min_samples_split=2 \n",
      "[CV]  criterion=gini, max_depth=15, min_samples_leaf=1, min_samples_split=2, score=0.8652769446110777, total=  13.3s\n",
      "[CV] criterion=gini, max_depth=15, min_samples_leaf=1, min_samples_split=2 \n",
      "[CV]  criterion=gini, max_depth=15, min_samples_leaf=1, min_samples_split=2, score=0.8660933046652333, total=   9.7s\n",
      "[CV] criterion=gini, max_depth=15, min_samples_leaf=1, min_samples_split=2 \n",
      "[CV]  criterion=gini, max_depth=15, min_samples_leaf=1, min_samples_split=2, score=0.8644796719507927, total=  17.2s\n",
      "[CV] criterion=gini, max_depth=15, min_samples_leaf=1, min_samples_split=10 \n",
      "[CV]  criterion=gini, max_depth=15, min_samples_leaf=1, min_samples_split=10, score=0.8609278144371125, total=  17.5s\n",
      "[CV] criterion=gini, max_depth=15, min_samples_leaf=1, min_samples_split=10 \n",
      "[CV]  criterion=gini, max_depth=15, min_samples_leaf=1, min_samples_split=10, score=0.8621431071553578, total=  17.4s\n",
      "[CV] criterion=gini, max_depth=15, min_samples_leaf=1, min_samples_split=10 \n",
      "[CV]  criterion=gini, max_depth=15, min_samples_leaf=1, min_samples_split=10, score=0.8662299344901735, total=  17.6s\n",
      "[CV] criterion=gini, max_depth=15, min_samples_leaf=1, min_samples_split=20 \n"
     ]
    },
    {
     "name": "stdout",
     "output_type": "stream",
     "text": [
      "[CV]  criterion=gini, max_depth=15, min_samples_leaf=1, min_samples_split=20, score=0.8594281143771246, total=  17.4s\n",
      "[CV] criterion=gini, max_depth=15, min_samples_leaf=1, min_samples_split=20 \n",
      "[CV]  criterion=gini, max_depth=15, min_samples_leaf=1, min_samples_split=20, score=0.8590429521476074, total=  17.1s\n",
      "[CV] criterion=gini, max_depth=15, min_samples_leaf=1, min_samples_split=20 \n",
      "[CV]  criterion=gini, max_depth=15, min_samples_leaf=1, min_samples_split=20, score=0.8606290943641546, total=  17.3s\n",
      "[CV] criterion=gini, max_depth=15, min_samples_leaf=5, min_samples_split=2 \n",
      "[CV]  criterion=gini, max_depth=15, min_samples_leaf=5, min_samples_split=2, score=0.8625774845030993, total=  17.2s\n",
      "[CV] criterion=gini, max_depth=15, min_samples_leaf=5, min_samples_split=2 \n",
      "[CV]  criterion=gini, max_depth=15, min_samples_leaf=5, min_samples_split=2, score=0.8652932646632332, total=  16.6s\n",
      "[CV] criterion=gini, max_depth=15, min_samples_leaf=5, min_samples_split=2 \n",
      "[CV]  criterion=gini, max_depth=15, min_samples_leaf=5, min_samples_split=2, score=0.8656798519777966, total=  17.7s\n",
      "[CV] criterion=gini, max_depth=15, min_samples_leaf=5, min_samples_split=10 \n",
      "[CV]  criterion=gini, max_depth=15, min_samples_leaf=5, min_samples_split=10, score=0.8609278144371125, total=  18.1s\n",
      "[CV] criterion=gini, max_depth=15, min_samples_leaf=5, min_samples_split=10 \n",
      "[CV]  criterion=gini, max_depth=15, min_samples_leaf=5, min_samples_split=10, score=0.8650932546627331, total=  17.3s\n",
      "[CV] criterion=gini, max_depth=15, min_samples_leaf=5, min_samples_split=10 \n",
      "[CV]  criterion=gini, max_depth=15, min_samples_leaf=5, min_samples_split=10, score=0.8656298444766715, total=  17.0s\n",
      "[CV] criterion=gini, max_depth=15, min_samples_leaf=5, min_samples_split=20 \n",
      "[CV]  criterion=gini, max_depth=15, min_samples_leaf=5, min_samples_split=20, score=0.8574285142971406, total=  16.7s\n",
      "[CV] criterion=gini, max_depth=15, min_samples_leaf=5, min_samples_split=20 \n",
      "[CV]  criterion=gini, max_depth=15, min_samples_leaf=5, min_samples_split=20, score=0.8621931096554828, total=  16.6s\n",
      "[CV] criterion=gini, max_depth=15, min_samples_leaf=5, min_samples_split=20 \n",
      "[CV]  criterion=gini, max_depth=15, min_samples_leaf=5, min_samples_split=20, score=0.863729559433915, total=  16.6s\n",
      "[CV] criterion=gini, max_depth=15, min_samples_leaf=10, min_samples_split=2 \n",
      "[CV]  criterion=gini, max_depth=15, min_samples_leaf=10, min_samples_split=2, score=0.8532293541291741, total=  16.1s\n",
      "[CV] criterion=gini, max_depth=15, min_samples_leaf=10, min_samples_split=2 \n",
      "[CV]  criterion=gini, max_depth=15, min_samples_leaf=10, min_samples_split=2, score=0.8596929846492325, total=  16.1s\n",
      "[CV] criterion=gini, max_depth=15, min_samples_leaf=10, min_samples_split=2 \n",
      "[CV]  criterion=gini, max_depth=15, min_samples_leaf=10, min_samples_split=2, score=0.861629244386658, total=  15.6s\n",
      "[CV] criterion=gini, max_depth=15, min_samples_leaf=10, min_samples_split=10 \n",
      "[CV]  criterion=gini, max_depth=15, min_samples_leaf=10, min_samples_split=10, score=0.8537792441511698, total=  16.3s\n",
      "[CV] criterion=gini, max_depth=15, min_samples_leaf=10, min_samples_split=10 \n",
      "[CV]  criterion=gini, max_depth=15, min_samples_leaf=10, min_samples_split=10, score=0.8596929846492325, total=  16.7s\n",
      "[CV] criterion=gini, max_depth=15, min_samples_leaf=10, min_samples_split=10 \n",
      "[CV]  criterion=gini, max_depth=15, min_samples_leaf=10, min_samples_split=10, score=0.8622793419012852, total=  16.4s\n",
      "[CV] criterion=gini, max_depth=15, min_samples_leaf=10, min_samples_split=20 \n",
      "[CV]  criterion=gini, max_depth=15, min_samples_leaf=10, min_samples_split=20, score=0.8537792441511698, total=  16.2s\n",
      "[CV] criterion=gini, max_depth=15, min_samples_leaf=10, min_samples_split=20 \n",
      "[CV]  criterion=gini, max_depth=15, min_samples_leaf=10, min_samples_split=20, score=0.8599929996499825, total=  16.5s\n",
      "[CV] criterion=gini, max_depth=15, min_samples_leaf=10, min_samples_split=20 \n",
      "[CV]  criterion=gini, max_depth=15, min_samples_leaf=10, min_samples_split=20, score=0.8617292593889083, total=  16.3s\n",
      "[CV] criterion=entropy, max_depth=None, min_samples_leaf=1, min_samples_split=2 \n",
      "[CV]  criterion=entropy, max_depth=None, min_samples_leaf=1, min_samples_split=2, score=0.873625274945011, total=  23.2s\n",
      "[CV] criterion=entropy, max_depth=None, min_samples_leaf=1, min_samples_split=2 \n",
      "[CV]  criterion=entropy, max_depth=None, min_samples_leaf=1, min_samples_split=2, score=0.8711435571778589, total=  23.2s\n",
      "[CV] criterion=entropy, max_depth=None, min_samples_leaf=1, min_samples_split=2 \n",
      "[CV]  criterion=entropy, max_depth=None, min_samples_leaf=1, min_samples_split=2, score=0.8686302945441816, total=  24.3s\n",
      "[CV] criterion=entropy, max_depth=None, min_samples_leaf=1, min_samples_split=10 \n",
      "[CV]  criterion=entropy, max_depth=None, min_samples_leaf=1, min_samples_split=10, score=0.873625274945011, total=  23.2s\n",
      "[CV] criterion=entropy, max_depth=None, min_samples_leaf=1, min_samples_split=10 \n",
      "[CV]  criterion=entropy, max_depth=None, min_samples_leaf=1, min_samples_split=10, score=0.8689934496724836, total=  23.1s\n",
      "[CV] criterion=entropy, max_depth=None, min_samples_leaf=1, min_samples_split=10 \n",
      "[CV]  criterion=entropy, max_depth=None, min_samples_leaf=1, min_samples_split=10, score=0.8674301145171776, total=  23.9s\n",
      "[CV] criterion=entropy, max_depth=None, min_samples_leaf=1, min_samples_split=20 \n",
      "[CV]  criterion=entropy, max_depth=None, min_samples_leaf=1, min_samples_split=20, score=0.8707758448310338, total=  22.9s\n",
      "[CV] criterion=entropy, max_depth=None, min_samples_leaf=1, min_samples_split=20 \n",
      "[CV]  criterion=entropy, max_depth=None, min_samples_leaf=1, min_samples_split=20, score=0.8671933596679834, total=  21.1s\n",
      "[CV] criterion=entropy, max_depth=None, min_samples_leaf=1, min_samples_split=20 \n",
      "[CV]  criterion=entropy, max_depth=None, min_samples_leaf=1, min_samples_split=20, score=0.8649297394609191, total=  22.9s\n",
      "[CV] criterion=entropy, max_depth=None, min_samples_leaf=5, min_samples_split=2 \n",
      "[CV]  criterion=entropy, max_depth=None, min_samples_leaf=5, min_samples_split=2, score=0.8732753449310138, total=  22.6s\n",
      "[CV] criterion=entropy, max_depth=None, min_samples_leaf=5, min_samples_split=2 \n",
      "[CV]  criterion=entropy, max_depth=None, min_samples_leaf=5, min_samples_split=2, score=0.8690934546727337, total=  22.4s\n",
      "[CV] criterion=entropy, max_depth=None, min_samples_leaf=5, min_samples_split=2 \n",
      "[CV]  criterion=entropy, max_depth=None, min_samples_leaf=5, min_samples_split=2, score=0.8694804220633094, total=  20.8s\n",
      "[CV] criterion=entropy, max_depth=None, min_samples_leaf=5, min_samples_split=10 \n",
      "[CV]  criterion=entropy, max_depth=None, min_samples_leaf=5, min_samples_split=10, score=0.8737252549490102, total=  21.9s\n",
      "[CV] criterion=entropy, max_depth=None, min_samples_leaf=5, min_samples_split=10 \n",
      "[CV]  criterion=entropy, max_depth=None, min_samples_leaf=5, min_samples_split=10, score=0.8690434521726086, total=  21.9s\n",
      "[CV] criterion=entropy, max_depth=None, min_samples_leaf=5, min_samples_split=10 \n",
      "[CV]  criterion=entropy, max_depth=None, min_samples_leaf=5, min_samples_split=10, score=0.8682302345351802, total=  23.4s\n",
      "[CV] criterion=entropy, max_depth=None, min_samples_leaf=5, min_samples_split=20 \n",
      "[CV]  criterion=entropy, max_depth=None, min_samples_leaf=5, min_samples_split=20, score=0.8724755048990201, total=  23.3s\n",
      "[CV] criterion=entropy, max_depth=None, min_samples_leaf=5, min_samples_split=20 \n",
      "[CV]  criterion=entropy, max_depth=None, min_samples_leaf=5, min_samples_split=20, score=0.8671433571678584, total=  20.8s\n",
      "[CV] criterion=entropy, max_depth=None, min_samples_leaf=5, min_samples_split=20 \n",
      "[CV]  criterion=entropy, max_depth=None, min_samples_leaf=5, min_samples_split=20, score=0.867580137020553, total=  21.4s\n",
      "[CV] criterion=entropy, max_depth=None, min_samples_leaf=10, min_samples_split=2 \n",
      "[CV]  criterion=entropy, max_depth=None, min_samples_leaf=10, min_samples_split=2, score=0.8707758448310338, total=  19.9s\n",
      "[CV] criterion=entropy, max_depth=None, min_samples_leaf=10, min_samples_split=2 \n",
      "[CV]  criterion=entropy, max_depth=None, min_samples_leaf=10, min_samples_split=2, score=0.864493224661233, total=  18.1s\n",
      "[CV] criterion=entropy, max_depth=None, min_samples_leaf=10, min_samples_split=2 \n",
      "[CV]  criterion=entropy, max_depth=None, min_samples_leaf=10, min_samples_split=2, score=0.8630794619192879, total=  17.4s\n",
      "[CV] criterion=entropy, max_depth=None, min_samples_leaf=10, min_samples_split=10 \n"
     ]
    },
    {
     "name": "stdout",
     "output_type": "stream",
     "text": [
      "[CV]  criterion=entropy, max_depth=None, min_samples_leaf=10, min_samples_split=10, score=0.8708258348330334, total=  17.3s\n",
      "[CV] criterion=entropy, max_depth=None, min_samples_leaf=10, min_samples_split=10 \n",
      "[CV]  criterion=entropy, max_depth=None, min_samples_leaf=10, min_samples_split=10, score=0.8646932346617331, total=  18.0s\n",
      "[CV] criterion=entropy, max_depth=None, min_samples_leaf=10, min_samples_split=10 \n",
      "[CV]  criterion=entropy, max_depth=None, min_samples_leaf=10, min_samples_split=10, score=0.862529379406911, total=  18.4s\n",
      "[CV] criterion=entropy, max_depth=None, min_samples_leaf=10, min_samples_split=20 \n",
      "[CV]  criterion=entropy, max_depth=None, min_samples_leaf=10, min_samples_split=20, score=0.8714257148570286, total=  18.4s\n",
      "[CV] criterion=entropy, max_depth=None, min_samples_leaf=10, min_samples_split=20 \n",
      "[CV]  criterion=entropy, max_depth=None, min_samples_leaf=10, min_samples_split=20, score=0.8653432671633582, total=  18.4s\n",
      "[CV] criterion=entropy, max_depth=None, min_samples_leaf=10, min_samples_split=20 \n",
      "[CV]  criterion=entropy, max_depth=None, min_samples_leaf=10, min_samples_split=20, score=0.863729559433915, total=  18.9s\n",
      "[CV] criterion=entropy, max_depth=5, min_samples_leaf=1, min_samples_split=2 \n",
      "[CV]  criterion=entropy, max_depth=5, min_samples_leaf=1, min_samples_split=2, score=0.6854129174165167, total=   8.1s\n",
      "[CV] criterion=entropy, max_depth=5, min_samples_leaf=1, min_samples_split=2 \n",
      "[CV]  criterion=entropy, max_depth=5, min_samples_leaf=1, min_samples_split=2, score=0.6940347017350867, total=   7.9s\n",
      "[CV] criterion=entropy, max_depth=5, min_samples_leaf=1, min_samples_split=2 \n",
      "[CV]  criterion=entropy, max_depth=5, min_samples_leaf=1, min_samples_split=2, score=0.6836025403810572, total=   7.7s\n",
      "[CV] criterion=entropy, max_depth=5, min_samples_leaf=1, min_samples_split=10 \n",
      "[CV]  criterion=entropy, max_depth=5, min_samples_leaf=1, min_samples_split=10, score=0.6854129174165167, total=   7.9s\n",
      "[CV] criterion=entropy, max_depth=5, min_samples_leaf=1, min_samples_split=10 \n",
      "[CV]  criterion=entropy, max_depth=5, min_samples_leaf=1, min_samples_split=10, score=0.6940347017350867, total=   7.9s\n",
      "[CV] criterion=entropy, max_depth=5, min_samples_leaf=1, min_samples_split=10 \n",
      "[CV]  criterion=entropy, max_depth=5, min_samples_leaf=1, min_samples_split=10, score=0.6836025403810572, total=   7.7s\n",
      "[CV] criterion=entropy, max_depth=5, min_samples_leaf=1, min_samples_split=20 \n",
      "[CV]  criterion=entropy, max_depth=5, min_samples_leaf=1, min_samples_split=20, score=0.6854129174165167, total=   7.7s\n",
      "[CV] criterion=entropy, max_depth=5, min_samples_leaf=1, min_samples_split=20 \n",
      "[CV]  criterion=entropy, max_depth=5, min_samples_leaf=1, min_samples_split=20, score=0.6940347017350867, total=   8.0s\n",
      "[CV] criterion=entropy, max_depth=5, min_samples_leaf=1, min_samples_split=20 \n",
      "[CV]  criterion=entropy, max_depth=5, min_samples_leaf=1, min_samples_split=20, score=0.6836025403810572, total=   7.3s\n",
      "[CV] criterion=entropy, max_depth=5, min_samples_leaf=5, min_samples_split=2 \n",
      "[CV]  criterion=entropy, max_depth=5, min_samples_leaf=5, min_samples_split=2, score=0.6854129174165167, total=   7.9s\n",
      "[CV] criterion=entropy, max_depth=5, min_samples_leaf=5, min_samples_split=2 \n",
      "[CV]  criterion=entropy, max_depth=5, min_samples_leaf=5, min_samples_split=2, score=0.6940347017350867, total=   8.0s\n",
      "[CV] criterion=entropy, max_depth=5, min_samples_leaf=5, min_samples_split=2 \n",
      "[CV]  criterion=entropy, max_depth=5, min_samples_leaf=5, min_samples_split=2, score=0.6836025403810572, total=   7.9s\n",
      "[CV] criterion=entropy, max_depth=5, min_samples_leaf=5, min_samples_split=10 \n",
      "[CV]  criterion=entropy, max_depth=5, min_samples_leaf=5, min_samples_split=10, score=0.6854129174165167, total=   7.9s\n",
      "[CV] criterion=entropy, max_depth=5, min_samples_leaf=5, min_samples_split=10 \n",
      "[CV]  criterion=entropy, max_depth=5, min_samples_leaf=5, min_samples_split=10, score=0.6940347017350867, total=   7.9s\n",
      "[CV] criterion=entropy, max_depth=5, min_samples_leaf=5, min_samples_split=10 \n",
      "[CV]  criterion=entropy, max_depth=5, min_samples_leaf=5, min_samples_split=10, score=0.6836025403810572, total=   7.5s\n",
      "[CV] criterion=entropy, max_depth=5, min_samples_leaf=5, min_samples_split=20 \n",
      "[CV]  criterion=entropy, max_depth=5, min_samples_leaf=5, min_samples_split=20, score=0.6854129174165167, total=   8.1s\n",
      "[CV] criterion=entropy, max_depth=5, min_samples_leaf=5, min_samples_split=20 \n",
      "[CV]  criterion=entropy, max_depth=5, min_samples_leaf=5, min_samples_split=20, score=0.6940347017350867, total=   7.6s\n",
      "[CV] criterion=entropy, max_depth=5, min_samples_leaf=5, min_samples_split=20 \n",
      "[CV]  criterion=entropy, max_depth=5, min_samples_leaf=5, min_samples_split=20, score=0.6836025403810572, total=   7.5s\n",
      "[CV] criterion=entropy, max_depth=5, min_samples_leaf=10, min_samples_split=2 \n",
      "[CV]  criterion=entropy, max_depth=5, min_samples_leaf=10, min_samples_split=2, score=0.6854129174165167, total=   7.0s\n",
      "[CV] criterion=entropy, max_depth=5, min_samples_leaf=10, min_samples_split=2 \n",
      "[CV]  criterion=entropy, max_depth=5, min_samples_leaf=10, min_samples_split=2, score=0.6940347017350867, total=   7.5s\n",
      "[CV] criterion=entropy, max_depth=5, min_samples_leaf=10, min_samples_split=2 \n",
      "[CV]  criterion=entropy, max_depth=5, min_samples_leaf=10, min_samples_split=2, score=0.6836025403810572, total=   8.2s\n",
      "[CV] criterion=entropy, max_depth=5, min_samples_leaf=10, min_samples_split=10 \n",
      "[CV]  criterion=entropy, max_depth=5, min_samples_leaf=10, min_samples_split=10, score=0.6854129174165167, total=   8.0s\n",
      "[CV] criterion=entropy, max_depth=5, min_samples_leaf=10, min_samples_split=10 \n",
      "[CV]  criterion=entropy, max_depth=5, min_samples_leaf=10, min_samples_split=10, score=0.6940347017350867, total=   7.6s\n",
      "[CV] criterion=entropy, max_depth=5, min_samples_leaf=10, min_samples_split=10 \n",
      "[CV]  criterion=entropy, max_depth=5, min_samples_leaf=10, min_samples_split=10, score=0.6836025403810572, total=   7.7s\n",
      "[CV] criterion=entropy, max_depth=5, min_samples_leaf=10, min_samples_split=20 \n",
      "[CV]  criterion=entropy, max_depth=5, min_samples_leaf=10, min_samples_split=20, score=0.6854129174165167, total=   7.9s\n",
      "[CV] criterion=entropy, max_depth=5, min_samples_leaf=10, min_samples_split=20 \n",
      "[CV]  criterion=entropy, max_depth=5, min_samples_leaf=10, min_samples_split=20, score=0.6940347017350867, total=   8.0s\n",
      "[CV] criterion=entropy, max_depth=5, min_samples_leaf=10, min_samples_split=20 \n",
      "[CV]  criterion=entropy, max_depth=5, min_samples_leaf=10, min_samples_split=20, score=0.6836025403810572, total=   7.8s\n",
      "[CV] criterion=entropy, max_depth=10, min_samples_leaf=1, min_samples_split=2 \n",
      "[CV]  criterion=entropy, max_depth=10, min_samples_leaf=1, min_samples_split=2, score=0.8684763047390522, total=  16.9s\n",
      "[CV] criterion=entropy, max_depth=10, min_samples_leaf=1, min_samples_split=2 \n",
      "[CV]  criterion=entropy, max_depth=10, min_samples_leaf=1, min_samples_split=2, score=0.8619930996549827, total=  16.9s\n",
      "[CV] criterion=entropy, max_depth=10, min_samples_leaf=1, min_samples_split=2 \n",
      "[CV]  criterion=entropy, max_depth=10, min_samples_leaf=1, min_samples_split=2, score=0.8577286592988949, total=  16.4s\n",
      "[CV] criterion=entropy, max_depth=10, min_samples_leaf=1, min_samples_split=10 \n",
      "[CV]  criterion=entropy, max_depth=10, min_samples_leaf=1, min_samples_split=10, score=0.867376524695061, total=  16.8s\n",
      "[CV] criterion=entropy, max_depth=10, min_samples_leaf=1, min_samples_split=10 \n",
      "[CV]  criterion=entropy, max_depth=10, min_samples_leaf=1, min_samples_split=10, score=0.8610430521526077, total=  16.4s\n",
      "[CV] criterion=entropy, max_depth=10, min_samples_leaf=1, min_samples_split=10 \n",
      "[CV]  criterion=entropy, max_depth=10, min_samples_leaf=1, min_samples_split=10, score=0.8566284942741411, total=  16.9s\n",
      "[CV] criterion=entropy, max_depth=10, min_samples_leaf=1, min_samples_split=20 \n",
      "[CV]  criterion=entropy, max_depth=10, min_samples_leaf=1, min_samples_split=20, score=0.8670265946810638, total=  17.2s\n",
      "[CV] criterion=entropy, max_depth=10, min_samples_leaf=1, min_samples_split=20 \n",
      "[CV]  criterion=entropy, max_depth=10, min_samples_leaf=1, min_samples_split=20, score=0.8617930896544828, total=  15.7s\n",
      "[CV] criterion=entropy, max_depth=10, min_samples_leaf=1, min_samples_split=20 \n"
     ]
    },
    {
     "name": "stdout",
     "output_type": "stream",
     "text": [
      "[CV]  criterion=entropy, max_depth=10, min_samples_leaf=1, min_samples_split=20, score=0.8544281642246337, total=  16.0s\n",
      "[CV] criterion=entropy, max_depth=10, min_samples_leaf=5, min_samples_split=2 \n",
      "[CV]  criterion=entropy, max_depth=10, min_samples_leaf=5, min_samples_split=2, score=0.8686762647470506, total=  15.6s\n",
      "[CV] criterion=entropy, max_depth=10, min_samples_leaf=5, min_samples_split=2 \n",
      "[CV]  criterion=entropy, max_depth=10, min_samples_leaf=5, min_samples_split=2, score=0.8621931096554828, total=  16.0s\n",
      "[CV] criterion=entropy, max_depth=10, min_samples_leaf=5, min_samples_split=2 \n",
      "[CV]  criterion=entropy, max_depth=10, min_samples_leaf=5, min_samples_split=2, score=0.8567285092763914, total=  16.8s\n",
      "[CV] criterion=entropy, max_depth=10, min_samples_leaf=5, min_samples_split=10 \n",
      "[CV]  criterion=entropy, max_depth=10, min_samples_leaf=5, min_samples_split=10, score=0.8674765046990602, total=  16.2s\n",
      "[CV] criterion=entropy, max_depth=10, min_samples_leaf=5, min_samples_split=10 \n",
      "[CV]  criterion=entropy, max_depth=10, min_samples_leaf=5, min_samples_split=10, score=0.8616930846542327, total=  15.9s\n",
      "[CV] criterion=entropy, max_depth=10, min_samples_leaf=5, min_samples_split=10 \n",
      "[CV]  criterion=entropy, max_depth=10, min_samples_leaf=5, min_samples_split=10, score=0.8563784567685153, total=  16.7s\n",
      "[CV] criterion=entropy, max_depth=10, min_samples_leaf=5, min_samples_split=20 \n",
      "[CV]  criterion=entropy, max_depth=10, min_samples_leaf=5, min_samples_split=20, score=0.867376524695061, total=  16.2s\n",
      "[CV] criterion=entropy, max_depth=10, min_samples_leaf=5, min_samples_split=20 \n",
      "[CV]  criterion=entropy, max_depth=10, min_samples_leaf=5, min_samples_split=20, score=0.8612430621531076, total=  15.8s\n",
      "[CV] criterion=entropy, max_depth=10, min_samples_leaf=5, min_samples_split=20 \n",
      "[CV]  criterion=entropy, max_depth=10, min_samples_leaf=5, min_samples_split=20, score=0.8561284192628894, total=  16.0s\n",
      "[CV] criterion=entropy, max_depth=10, min_samples_leaf=10, min_samples_split=2 \n",
      "[CV]  criterion=entropy, max_depth=10, min_samples_leaf=10, min_samples_split=2, score=0.8650769846030794, total=  16.1s\n",
      "[CV] criterion=entropy, max_depth=10, min_samples_leaf=10, min_samples_split=2 \n",
      "[CV]  criterion=entropy, max_depth=10, min_samples_leaf=10, min_samples_split=2, score=0.8579928996449823, total=  16.2s\n",
      "[CV] criterion=entropy, max_depth=10, min_samples_leaf=10, min_samples_split=2 \n",
      "[CV]  criterion=entropy, max_depth=10, min_samples_leaf=10, min_samples_split=2, score=0.8533780067010052, total=  16.1s\n",
      "[CV] criterion=entropy, max_depth=10, min_samples_leaf=10, min_samples_split=10 \n",
      "[CV]  criterion=entropy, max_depth=10, min_samples_leaf=10, min_samples_split=10, score=0.8655268946210758, total=  16.2s\n",
      "[CV] criterion=entropy, max_depth=10, min_samples_leaf=10, min_samples_split=10 \n",
      "[CV]  criterion=entropy, max_depth=10, min_samples_leaf=10, min_samples_split=10, score=0.8571428571428571, total=  15.8s\n",
      "[CV] criterion=entropy, max_depth=10, min_samples_leaf=10, min_samples_split=10 \n",
      "[CV]  criterion=entropy, max_depth=10, min_samples_leaf=10, min_samples_split=10, score=0.8535280292043806, total=  16.4s\n",
      "[CV] criterion=entropy, max_depth=10, min_samples_leaf=10, min_samples_split=20 \n",
      "[CV]  criterion=entropy, max_depth=10, min_samples_leaf=10, min_samples_split=20, score=0.865126974605079, total=  16.5s\n",
      "[CV] criterion=entropy, max_depth=10, min_samples_leaf=10, min_samples_split=20 \n",
      "[CV]  criterion=entropy, max_depth=10, min_samples_leaf=10, min_samples_split=20, score=0.8572928646432322, total=  13.0s\n",
      "[CV] criterion=entropy, max_depth=10, min_samples_leaf=10, min_samples_split=20 \n",
      "[CV]  criterion=entropy, max_depth=10, min_samples_leaf=10, min_samples_split=20, score=0.8534780217032555, total=  14.6s\n",
      "[CV] criterion=entropy, max_depth=15, min_samples_leaf=1, min_samples_split=2 \n",
      "[CV]  criterion=entropy, max_depth=15, min_samples_leaf=1, min_samples_split=2, score=0.874625074985003, total=  19.5s\n",
      "[CV] criterion=entropy, max_depth=15, min_samples_leaf=1, min_samples_split=2 \n",
      "[CV]  criterion=entropy, max_depth=15, min_samples_leaf=1, min_samples_split=2, score=0.871793589679484, total=  19.6s\n",
      "[CV] criterion=entropy, max_depth=15, min_samples_leaf=1, min_samples_split=2 \n",
      "[CV]  criterion=entropy, max_depth=15, min_samples_leaf=1, min_samples_split=2, score=0.8699804970745612, total=  20.8s\n",
      "[CV] criterion=entropy, max_depth=15, min_samples_leaf=1, min_samples_split=10 \n",
      "[CV]  criterion=entropy, max_depth=15, min_samples_leaf=1, min_samples_split=10, score=0.8737252549490102, total=  19.2s\n",
      "[CV] criterion=entropy, max_depth=15, min_samples_leaf=1, min_samples_split=10 \n",
      "[CV]  criterion=entropy, max_depth=15, min_samples_leaf=1, min_samples_split=10, score=0.8676933846692335, total=  17.8s\n",
      "[CV] criterion=entropy, max_depth=15, min_samples_leaf=1, min_samples_split=10 \n",
      "[CV]  criterion=entropy, max_depth=15, min_samples_leaf=1, min_samples_split=10, score=0.867580137020553, total=  19.6s\n",
      "[CV] criterion=entropy, max_depth=15, min_samples_leaf=1, min_samples_split=20 \n",
      "[CV]  criterion=entropy, max_depth=15, min_samples_leaf=1, min_samples_split=20, score=0.8699760047990401, total=  19.6s\n",
      "[CV] criterion=entropy, max_depth=15, min_samples_leaf=1, min_samples_split=20 \n",
      "[CV]  criterion=entropy, max_depth=15, min_samples_leaf=1, min_samples_split=20, score=0.8662433121656082, total=  18.9s\n",
      "[CV] criterion=entropy, max_depth=15, min_samples_leaf=1, min_samples_split=20 \n",
      "[CV]  criterion=entropy, max_depth=15, min_samples_leaf=1, min_samples_split=20, score=0.8645296794519178, total=  19.7s\n",
      "[CV] criterion=entropy, max_depth=15, min_samples_leaf=5, min_samples_split=2 \n",
      "[CV]  criterion=entropy, max_depth=15, min_samples_leaf=5, min_samples_split=2, score=0.8714257148570286, total=  19.0s\n",
      "[CV] criterion=entropy, max_depth=15, min_samples_leaf=5, min_samples_split=2 \n",
      "[CV]  criterion=entropy, max_depth=15, min_samples_leaf=5, min_samples_split=2, score=0.8703435171758588, total=  19.3s\n",
      "[CV] criterion=entropy, max_depth=15, min_samples_leaf=5, min_samples_split=2 \n",
      "[CV]  criterion=entropy, max_depth=15, min_samples_leaf=5, min_samples_split=2, score=0.8667800170025504, total=  19.2s\n",
      "[CV] criterion=entropy, max_depth=15, min_samples_leaf=5, min_samples_split=10 \n",
      "[CV]  criterion=entropy, max_depth=15, min_samples_leaf=5, min_samples_split=10, score=0.8727254549090182, total=  19.1s\n",
      "[CV] criterion=entropy, max_depth=15, min_samples_leaf=5, min_samples_split=10 \n",
      "[CV]  criterion=entropy, max_depth=15, min_samples_leaf=5, min_samples_split=10, score=0.8702935146757338, total=  18.4s\n",
      "[CV] criterion=entropy, max_depth=15, min_samples_leaf=5, min_samples_split=10 \n",
      "[CV]  criterion=entropy, max_depth=15, min_samples_leaf=5, min_samples_split=10, score=0.8686302945441816, total=  19.1s\n",
      "[CV] criterion=entropy, max_depth=15, min_samples_leaf=5, min_samples_split=20 \n",
      "[CV]  criterion=entropy, max_depth=15, min_samples_leaf=5, min_samples_split=20, score=0.8737752449510098, total=  19.1s\n",
      "[CV] criterion=entropy, max_depth=15, min_samples_leaf=5, min_samples_split=20 \n",
      "[CV]  criterion=entropy, max_depth=15, min_samples_leaf=5, min_samples_split=20, score=0.8680434021701086, total=  18.8s\n",
      "[CV] criterion=entropy, max_depth=15, min_samples_leaf=5, min_samples_split=20 \n",
      "[CV]  criterion=entropy, max_depth=15, min_samples_leaf=5, min_samples_split=20, score=0.8672300845126769, total=  18.9s\n",
      "[CV] criterion=entropy, max_depth=15, min_samples_leaf=10, min_samples_split=2 \n",
      "[CV]  criterion=entropy, max_depth=15, min_samples_leaf=10, min_samples_split=2, score=0.8711757648470306, total=  18.0s\n",
      "[CV] criterion=entropy, max_depth=15, min_samples_leaf=10, min_samples_split=2 \n",
      "[CV]  criterion=entropy, max_depth=15, min_samples_leaf=10, min_samples_split=2, score=0.8650432521626081, total=  18.2s\n",
      "[CV] criterion=entropy, max_depth=15, min_samples_leaf=10, min_samples_split=2 \n",
      "[CV]  criterion=entropy, max_depth=15, min_samples_leaf=10, min_samples_split=2, score=0.8624793719057858, total=  19.0s\n",
      "[CV] criterion=entropy, max_depth=15, min_samples_leaf=10, min_samples_split=10 \n",
      "[CV]  criterion=entropy, max_depth=15, min_samples_leaf=10, min_samples_split=10, score=0.8709758048390321, total=  18.0s\n",
      "[CV] criterion=entropy, max_depth=15, min_samples_leaf=10, min_samples_split=10 \n"
     ]
    },
    {
     "name": "stdout",
     "output_type": "stream",
     "text": [
      "[CV]  criterion=entropy, max_depth=15, min_samples_leaf=10, min_samples_split=10, score=0.8657432871643582, total=  18.1s\n",
      "[CV] criterion=entropy, max_depth=15, min_samples_leaf=10, min_samples_split=10 \n",
      "[CV]  criterion=entropy, max_depth=15, min_samples_leaf=10, min_samples_split=10, score=0.8633294994249138, total=  18.0s\n",
      "[CV] criterion=entropy, max_depth=15, min_samples_leaf=10, min_samples_split=20 \n",
      "[CV]  criterion=entropy, max_depth=15, min_samples_leaf=10, min_samples_split=20, score=0.8710257948410318, total=  21.3s\n",
      "[CV] criterion=entropy, max_depth=15, min_samples_leaf=10, min_samples_split=20 \n",
      "[CV]  criterion=entropy, max_depth=15, min_samples_leaf=10, min_samples_split=20, score=0.8650932546627331, total=  19.9s\n",
      "[CV] criterion=entropy, max_depth=15, min_samples_leaf=10, min_samples_split=20 \n",
      "[CV]  criterion=entropy, max_depth=15, min_samples_leaf=10, min_samples_split=20, score=0.8635295294294144, total=  23.4s\n"
     ]
    },
    {
     "name": "stderr",
     "output_type": "stream",
     "text": [
      "[Parallel(n_jobs=1)]: Done 216 out of 216 | elapsed: 50.2min finished\n"
     ]
    },
    {
     "data": {
      "text/plain": [
       "GridSearchCV(cv=3, error_score='raise',\n",
       "       estimator=DecisionTreeClassifier(class_weight=None, criterion='gini', max_depth=None,\n",
       "            max_features=None, max_leaf_nodes=None,\n",
       "            min_impurity_decrease=0.0, min_impurity_split=None,\n",
       "            min_samples_leaf=1, min_samples_split=2,\n",
       "            min_weight_fraction_leaf=0.0, presort=False, random_state=None,\n",
       "            splitter='best'),\n",
       "       fit_params=None, iid=True, n_jobs=1,\n",
       "       param_grid=[{'criterion': ['gini', 'entropy'], 'min_samples_split': [2, 10, 20], 'max_depth': [None, 5, 10, 15], 'min_samples_leaf': [1, 5, 10]}],\n",
       "       pre_dispatch='2*n_jobs', refit=True, return_train_score='warn',\n",
       "       scoring='accuracy', verbose=3)"
      ]
     },
     "execution_count": 170,
     "metadata": {},
     "output_type": "execute_result"
    }
   ],
   "source": [
    "# Aplicando GridSearchCV\n",
    "from sklearn.model_selection import GridSearchCV\n",
    "\n",
    "# Definindo parâmetros para Decision Trees\n",
    "param_grid_tree = [\n",
    "    {\n",
    "     'criterion': ['gini', 'entropy'],\n",
    "     'min_samples_split': [2, 10, 20],\n",
    "     'max_depth': [None, 5, 10, 15],\n",
    "     'min_samples_leaf': [1, 5, 10]\n",
    "     #'max_leaf_nodes': [None, 5, 10, 20]\n",
    "    }\n",
    "]\n",
    "\n",
    "# Criando classificador\n",
    "tree_clf = DecisionTreeClassifier()\n",
    "\n",
    "# Treinando e procurando a melhor combinação\n",
    "grid_search_2 = GridSearchCV(tree_clf, param_grid_tree, cv=3, \n",
    "                           scoring='accuracy', verbose=3)\n",
    "\n",
    "grid_search_2.fit(X_train, y_train)"
   ]
  },
  {
   "cell_type": "markdown",
   "metadata": {},
   "source": [
    "A procura pelos melhores parâmetros através do ```GridSearchCV``` demorou aproximadamente 50 minutos (216 fits), o que torna este procedimento extremamente custoso com o processamento disponível. Para os demais algoritmos, será discutido se este procedimento será mantido."
   ]
  },
  {
   "cell_type": "markdown",
   "metadata": {},
   "source": [
    "### Avaliando Resultados"
   ]
  },
  {
   "cell_type": "code",
   "execution_count": 172,
   "metadata": {
    "ExecuteTime": {
     "end_time": "2018-12-31T02:04:25.088699Z",
     "start_time": "2018-12-31T02:04:25.080521Z"
    }
   },
   "outputs": [
    {
     "data": {
      "text/plain": [
       "{'criterion': 'entropy',\n",
       " 'max_depth': 15,\n",
       " 'min_samples_leaf': 1,\n",
       " 'min_samples_split': 2}"
      ]
     },
     "execution_count": 172,
     "metadata": {},
     "output_type": "execute_result"
    }
   ],
   "source": [
    "# Analisando melhor modelo\n",
    "grid_search_2.best_params_"
   ]
  },
  {
   "cell_type": "code",
   "execution_count": 175,
   "metadata": {
    "ExecuteTime": {
     "end_time": "2018-12-31T02:06:43.204499Z",
     "start_time": "2018-12-31T02:06:42.968432Z"
    }
   },
   "outputs": [
    {
     "name": "stdout",
     "output_type": "stream",
     "text": [
      "Acurácia final nos dados de treino: 99.5300%\n"
     ]
    }
   ],
   "source": [
    "# Analisando acurácia obtida com os dados de treino\n",
    "final_model = grid_search_2.best_estimator_\n",
    "\n",
    "final_train_pred = final_model.predict(X_train)\n",
    "final_acc_train = accuracy_score(y_train, final_train_pred)\n",
    "print(f'Acurácia final nos dados de treino: {final_acc_train*100:.4f}%')"
   ]
  },
  {
   "cell_type": "code",
   "execution_count": 176,
   "metadata": {
    "ExecuteTime": {
     "end_time": "2018-12-31T02:07:35.597942Z",
     "start_time": "2018-12-31T02:07:35.551762Z"
    }
   },
   "outputs": [
    {
     "name": "stdout",
     "output_type": "stream",
     "text": [
      "Acurácia obtida nos dados de teste: 88.6600%\n"
     ]
    }
   ],
   "source": [
    "# Analisando acurácia obtida com os dados de teste\n",
    "final_test_pred = final_model.predict(X_test)\n",
    "final_acc_test = accuracy_score(y_test, final_test_pred)\n",
    "print(f'Acurácia obtida nos dados de teste: {final_acc_test*100:.4f}%')"
   ]
  },
  {
   "cell_type": "code",
   "execution_count": 179,
   "metadata": {
    "ExecuteTime": {
     "end_time": "2018-12-31T02:10:44.926382Z",
     "start_time": "2018-12-31T02:10:44.914066Z"
    }
   },
   "outputs": [
    {
     "name": "stdout",
     "output_type": "stream",
     "text": [
      "Acurácia inicial: 86.1300%\n",
      "Acurácia com padronização: 86.2717%\n",
      "Acurácia com Grid Search CV(1): 87.3100%\n",
      "Acurácia com Grid Search CV(2): 87.2133%\n",
      "\n",
      "Ganho total até o momento: 1.0834%\n"
     ]
    }
   ],
   "source": [
    "# Comunicando melhora\n",
    "print(f'Acurácia inicial: {tree_scores.mean()*100:.4f}%')\n",
    "print(f'Acurácia com padronização: {tree_scores_scaled.mean()*100:.4f}%')\n",
    "print(f'Acurácia com Grid Search CV(1): {grid_search.best_score_*100:.4f}%')\n",
    "print(f'Acurácia com Grid Search CV(2): {grid_search_2.best_score_*100:.4f}%')\n",
    "\n",
    "print(f'\\nGanho total até o momento: {(grid_search_2.best_score_ - tree_scores.mean())*100:.4f}%')"
   ]
  },
  {
   "cell_type": "markdown",
   "metadata": {},
   "source": [
    "Tanto o primeiro, quanto o segundo grid_search aplicados apresentaram taxas extremamente próximas"
   ]
  },
  {
   "cell_type": "code",
   "execution_count": 182,
   "metadata": {
    "ExecuteTime": {
     "end_time": "2018-12-31T02:12:05.811530Z",
     "start_time": "2018-12-31T02:12:05.785425Z"
    }
   },
   "outputs": [
    {
     "data": {
      "text/plain": [
       "{'criterion': 'entropy', 'max_depth': 15}"
      ]
     },
     "execution_count": 182,
     "metadata": {},
     "output_type": "execute_result"
    }
   ],
   "source": [
    "# Primeiro grid_search\n",
    "grid_search.best_params_"
   ]
  },
  {
   "cell_type": "code",
   "execution_count": 183,
   "metadata": {
    "ExecuteTime": {
     "end_time": "2018-12-31T02:12:16.520992Z",
     "start_time": "2018-12-31T02:12:16.509276Z"
    }
   },
   "outputs": [
    {
     "data": {
      "text/plain": [
       "{'criterion': 'entropy',\n",
       " 'max_depth': 15,\n",
       " 'min_samples_leaf': 1,\n",
       " 'min_samples_split': 2}"
      ]
     },
     "execution_count": 183,
     "metadata": {},
     "output_type": "execute_result"
    }
   ],
   "source": [
    "# Segundo grid_search\n",
    "grid_search_2.best_params_"
   ]
  },
  {
   "cell_type": "markdown",
   "metadata": {},
   "source": [
    "Vamos comparar a capacidade de generalização de cada um deles."
   ]
  },
  {
   "cell_type": "code",
   "execution_count": 188,
   "metadata": {
    "ExecuteTime": {
     "end_time": "2018-12-31T02:17:18.494363Z",
     "start_time": "2018-12-31T02:17:17.588980Z"
    }
   },
   "outputs": [
    {
     "name": "stderr",
     "output_type": "stream",
     "text": [
      "C:\\Users\\thiagoPanini\\Anaconda3\\lib\\site-packages\\sklearn\\utils\\validation.py:475: DataConversionWarning: Data with input dtype uint8 was converted to float64 by StandardScaler.\n",
      "  warnings.warn(msg, DataConversionWarning)\n"
     ]
    },
    {
     "name": "stdout",
     "output_type": "stream",
     "text": [
      "Acurácia nos dados de teste (grid search 1): 83.6000%\n",
      "Acurácia nos dados de teste (grid search 2): 88.6600%\n"
     ]
    }
   ],
   "source": [
    "# Primeiro modelo\n",
    "first_grid = grid_search.best_estimator_\n",
    "scaler = StandardScaler()\n",
    "\n",
    "X_test_scaled = scaler.fit_transform(X_test)\n",
    "first_pred = first_grid.predict(X_test_scaled)\n",
    "first_acc = accuracy_score(y_test, first_pred)\n",
    "print(f'Acurácia nos dados de teste (grid search 1): {first_acc*100:.4f}%')\n",
    "\n",
    "# Segundo modelo\n",
    "print(f'Acurácia nos dados de teste (grid search 2): {final_acc_test*100:.4f}%')"
   ]
  },
  {
   "cell_type": "markdown",
   "metadata": {},
   "source": [
    "Conclusões:\n",
    "    - A padronização nos dados influenciou na performance do modelo nos dados de TREINO\n",
    "    - Com relação aos dados de TESTE, o primeiro grid_search treinado apresentou OVERFITTING\n",
    "    - A vantagem do segundo grid_search se deu na melhor acurácia obtida com os dados de TESTE"
   ]
  },
  {
   "cell_type": "code",
   "execution_count": 189,
   "metadata": {
    "ExecuteTime": {
     "end_time": "2018-12-31T02:21:30.269876Z",
     "start_time": "2018-12-31T02:20:44.668626Z"
    }
   },
   "outputs": [
    {
     "name": "stdout",
     "output_type": "stream",
     "text": [
      "Acurácia nos dados de teste (treino padrão): 87.6900%\n",
      "Acurácia nos dados de teste (grid search 1): 83.6000%\n",
      "Acurácia nos dados de teste (grid search 2): 88.6600%\n"
     ]
    }
   ],
   "source": [
    "# Overview final - Treinando classificador sem configuração alguma\n",
    "tree_final = DecisionTreeClassifier()\n",
    "tree_final.fit(X_train, y_train)\n",
    "\n",
    "final_pred_normal = tree_final.predict(X_test)\n",
    "final_acc_normal = accuracy_score(y_test, final_pred_normal)\n",
    "print(f'Acurácia nos dados de teste (treino padrão): {final_acc_normal*100:.4f}%')\n",
    "print(f'Acurácia nos dados de teste (grid search 1): {first_acc*100:.4f}%')\n",
    "print(f'Acurácia nos dados de teste (grid search 2): {final_acc_test*100:.4f}%')"
   ]
  },
  {
   "cell_type": "markdown",
   "metadata": {},
   "source": [
    "Aplicando o ```GridSearchCV``` adequadamente, é possível obter um ganho de aproximadamente 1% de acurácia com os dados de teste."
   ]
  },
  {
   "cell_type": "markdown",
   "metadata": {},
   "source": [
    "Fontes:\n",
    "\n",
    "https://medium.com/@mohtedibf/indepth-parameter-tuning-for-decision-tree-6753118a03c3\n",
    "\n",
    "http://chrisstrelioff.ws/sandbox/2015/06/25/decision_trees_in_python_again_cross_validation.html\n",
    "\n",
    "https://www.jeremyjordan.me/hyperparameter-tuning/"
   ]
  },
  {
   "cell_type": "markdown",
   "metadata": {},
   "source": [
    "## SGD Classifier"
   ]
  },
  {
   "cell_type": "code",
   "execution_count": 190,
   "metadata": {
    "ExecuteTime": {
     "end_time": "2018-12-31T02:23:09.282832Z",
     "start_time": "2018-12-31T02:23:08.103113Z"
    }
   },
   "outputs": [],
   "source": [
    "# Realizando procedimento para leitura dos dados\n",
    "X_train, y_train, X_test, y_test = prepare_mnist()"
   ]
  },
  {
   "cell_type": "code",
   "execution_count": 33,
   "metadata": {
    "ExecuteTime": {
     "end_time": "2018-12-29T16:07:10.444042Z",
     "start_time": "2018-12-29T16:07:05.812479Z"
    }
   },
   "outputs": [
    {
     "name": "stderr",
     "output_type": "stream",
     "text": [
      "C:\\Users\\thiagoPanini\\Anaconda3\\lib\\site-packages\\sklearn\\linear_model\\stochastic_gradient.py:128: FutureWarning: max_iter and tol parameters have been added in <class 'sklearn.linear_model.stochastic_gradient.SGDClassifier'> in 0.19. If both are left unset, they default to max_iter=5 and tol=None. If tol is not None, max_iter defaults to max_iter=1000. From 0.21, default max_iter will be 1000, and default tol will be 1e-3.\n",
      "  \"and default tol will be 1e-3.\" % type(self), FutureWarning)\n"
     ]
    }
   ],
   "source": [
    "# Importando classificador\n",
    "from sklearn.linear_model import SGDClassifier\n",
    "\n",
    "# Criando classificador e treinando modelo\n",
    "sgd_clf = SGDClassifier(random_state=42)\n",
    "sgd_clf.fit(X_train, y_train)\n",
    "\n",
    "# Realizando predições\n",
    "sgd_pred = sgd_clf.predict(X_train)"
   ]
  },
  {
   "cell_type": "markdown",
   "metadata": {},
   "source": [
    "## Avaliando Performance"
   ]
  },
  {
   "cell_type": "code",
   "execution_count": 35,
   "metadata": {
    "ExecuteTime": {
     "end_time": "2018-12-29T16:07:51.364841Z",
     "start_time": "2018-12-29T16:07:51.353847Z"
    }
   },
   "outputs": [
    {
     "data": {
      "text/plain": [
       "88.02"
      ]
     },
     "execution_count": 35,
     "metadata": {},
     "output_type": "execute_result"
    }
   ],
   "source": [
    "# Testando Acurácia nos dados de treino\n",
    "accuracy_score(sgd_pred, y_train) * 100"
   ]
  },
  {
   "cell_type": "markdown",
   "metadata": {},
   "source": [
    "Para ter certeza de que não se trata de um Overfitting, vamos aplicar validação cruzada com os dados de treino."
   ]
  },
  {
   "cell_type": "code",
   "execution_count": 37,
   "metadata": {
    "ExecuteTime": {
     "end_time": "2018-12-29T16:11:10.886134Z",
     "start_time": "2018-12-29T16:10:53.339079Z"
    }
   },
   "outputs": [
    {
     "name": "stderr",
     "output_type": "stream",
     "text": [
      "C:\\Users\\thiagoPanini\\Anaconda3\\lib\\site-packages\\sklearn\\linear_model\\stochastic_gradient.py:128: FutureWarning: max_iter and tol parameters have been added in <class 'sklearn.linear_model.stochastic_gradient.SGDClassifier'> in 0.19. If both are left unset, they default to max_iter=5 and tol=None. If tol is not None, max_iter defaults to max_iter=1000. From 0.21, default max_iter will be 1000, and default tol will be 1e-3.\n",
      "  \"and default tol will be 1e-3.\" % type(self), FutureWarning)\n",
      "C:\\Users\\thiagoPanini\\Anaconda3\\lib\\site-packages\\sklearn\\linear_model\\stochastic_gradient.py:128: FutureWarning: max_iter and tol parameters have been added in <class 'sklearn.linear_model.stochastic_gradient.SGDClassifier'> in 0.19. If both are left unset, they default to max_iter=5 and tol=None. If tol is not None, max_iter defaults to max_iter=1000. From 0.21, default max_iter will be 1000, and default tol will be 1e-3.\n",
      "  \"and default tol will be 1e-3.\" % type(self), FutureWarning)\n",
      "C:\\Users\\thiagoPanini\\Anaconda3\\lib\\site-packages\\sklearn\\linear_model\\stochastic_gradient.py:128: FutureWarning: max_iter and tol parameters have been added in <class 'sklearn.linear_model.stochastic_gradient.SGDClassifier'> in 0.19. If both are left unset, they default to max_iter=5 and tol=None. If tol is not None, max_iter defaults to max_iter=1000. From 0.21, default max_iter will be 1000, and default tol will be 1e-3.\n",
      "  \"and default tol will be 1e-3.\" % type(self), FutureWarning)\n",
      "C:\\Users\\thiagoPanini\\Anaconda3\\lib\\site-packages\\sklearn\\linear_model\\stochastic_gradient.py:128: FutureWarning: max_iter and tol parameters have been added in <class 'sklearn.linear_model.stochastic_gradient.SGDClassifier'> in 0.19. If both are left unset, they default to max_iter=5 and tol=None. If tol is not None, max_iter defaults to max_iter=1000. From 0.21, default max_iter will be 1000, and default tol will be 1e-3.\n",
      "  \"and default tol will be 1e-3.\" % type(self), FutureWarning)\n",
      "C:\\Users\\thiagoPanini\\Anaconda3\\lib\\site-packages\\sklearn\\linear_model\\stochastic_gradient.py:128: FutureWarning: max_iter and tol parameters have been added in <class 'sklearn.linear_model.stochastic_gradient.SGDClassifier'> in 0.19. If both are left unset, they default to max_iter=5 and tol=None. If tol is not None, max_iter defaults to max_iter=1000. From 0.21, default max_iter will be 1000, and default tol will be 1e-3.\n",
      "  \"and default tol will be 1e-3.\" % type(self), FutureWarning)\n"
     ]
    },
    {
     "name": "stdout",
     "output_type": "stream",
     "text": [
      "Scores: [0.8790504  0.85985669 0.86966667 0.8790531  0.87154051]\n",
      "Média: 0.8718\n",
      "Desvio Padrão: 0.0071\n"
     ]
    }
   ],
   "source": [
    "# Aplicando cross validation\n",
    "sgd_scores_train = cross_val_score(sgd_clf, X_train, y_train, cv=5, scoring='accuracy')\n",
    "\n",
    "# Comunicando resultados\n",
    "display_scores(sgd_scores_train)"
   ]
  },
  {
   "cell_type": "markdown",
   "metadata": {},
   "source": [
    "Muito próximo do modelo ```DecisionTrees```. Talvez aplicando alguma melhoria nos dados de treino, este índice possa melhorar."
   ]
  },
  {
   "cell_type": "markdown",
   "metadata": {},
   "source": [
    "    - Voltar no Decision Trees e aplicar todas as métricas de Acurácia, Matriz de Confusão, Precision, Recall, F1, etc..."
   ]
  },
  {
   "cell_type": "code",
   "execution_count": null,
   "metadata": {},
   "outputs": [],
   "source": []
  }
 ],
 "metadata": {
  "kernelspec": {
   "display_name": "Python 3",
   "language": "python",
   "name": "python3"
  },
  "language_info": {
   "codemirror_mode": {
    "name": "ipython",
    "version": 3
   },
   "file_extension": ".py",
   "mimetype": "text/x-python",
   "name": "python",
   "nbconvert_exporter": "python",
   "pygments_lexer": "ipython3",
   "version": "3.6.4"
  },
  "toc": {
   "base_numbering": 1,
   "nav_menu": {},
   "number_sections": true,
   "sideBar": true,
   "skip_h1_title": true,
   "title_cell": "Table of Contents",
   "title_sidebar": "Contents",
   "toc_cell": true,
   "toc_position": {
    "height": "calc(100% - 180px)",
    "left": "10px",
    "top": "150px",
    "width": "243px"
   },
   "toc_section_display": true,
   "toc_window_display": true
  }
 },
 "nbformat": 4,
 "nbformat_minor": 2
}
